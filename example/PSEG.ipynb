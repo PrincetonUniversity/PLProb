{
 "cells": [
  {
   "cell_type": "code",
   "execution_count": 1,
   "id": "2016b725-2a83-4107-a3c4-32fdbfeee95b",
   "metadata": {},
   "outputs": [],
   "source": [
    "import pandas as pd\n",
    "import numpy as np\n",
    "from plprob.utils import (split_actuals_hist_future, split_forecasts_hist_future)\n",
    "from plprob.predictor import ConPlPredictor\n",
    "import matplotlib.pyplot as plt\n",
    "from math import ceil"
   ]
  },
  {
   "cell_type": "markdown",
   "id": "53826af8-6439-4f36-8c58-804d13449396",
   "metadata": {},
   "source": [
    "### Load data"
   ]
  },
  {
   "cell_type": "code",
   "execution_count": 2,
   "id": "f418d7a7-e067-42f9-8430-31d50f8ac214",
   "metadata": {},
   "outputs": [],
   "source": [
    "seed = 1234\n",
    "midatl_actual_df = pd.read_csv('../data/PJM/MIDATL_ACT.csv', parse_dates=['Time'], index_col='Time')\n",
    "midatl_forecast_df = pd.read_csv('../data/PJM/MIDATL_FCST.csv', parse_dates=['Issue_time', 'Forecast_time'])\n",
    "\n",
    "ps_actual_df = pd.read_csv('../data/PJM/PS_ACT.csv', parse_dates=['Time'], index_col='Time')"
   ]
  },
  {
   "cell_type": "code",
   "execution_count": 3,
   "id": "115662a1-535b-4f7e-8a7b-a210784afa78",
   "metadata": {},
   "outputs": [
    {
     "name": "stdout",
     "output_type": "stream",
     "text": [
      "2023-06-01\n"
     ]
    },
    {
     "name": "stderr",
     "output_type": "stream",
     "text": [
      "/Users/as3993/Amit/PLProb/R/univariate.py:330: RuntimeWarning: invalid value encountered in power\n",
      "  val[lower_tail_x] = p_lower * (1 - (k * (x[lower_tail_x] - b))/a)**(-1/k)\n",
      "/Users/as3993/Amit/PLProb/R/univariate.py:320: RuntimeWarning: invalid value encountered in power\n",
      "  val[upper_tail_x] = 1 - (1 - p_upper) * (1 + (k * (x[upper_tail_x] - b))/a)**(-1/k)\n",
      "/Users/as3993/Amit/PLProb/R/univariate.py:330: RuntimeWarning: invalid value encountered in power\n",
      "  val[lower_tail_x] = p_lower * (1 - (k * (x[lower_tail_x] - b))/a)**(-1/k)\n",
      "/Users/as3993/anaconda3/envs/plprob/lib/python3.12/site-packages/sklearn/covariance/_graph_lasso.py:139: ConvergenceWarning: Objective did not converge. You might want to increase the number of iterations. Duality gap: 0.014601881649802806, tolerance: 0.003797941025849587\n",
      "  coefs, _, _, _ = cd_fast.enet_coordinate_descent_gram(\n",
      "/Users/as3993/anaconda3/envs/plprob/lib/python3.12/site-packages/sklearn/covariance/_graph_lasso.py:139: ConvergenceWarning: Objective did not converge. You might want to increase the number of iterations. Duality gap: 0.007434891376327357, tolerance: 0.003782187891883983\n",
      "  coefs, _, _, _ = cd_fast.enet_coordinate_descent_gram(\n",
      "/Users/as3993/anaconda3/envs/plprob/lib/python3.12/site-packages/sklearn/covariance/_graph_lasso.py:139: ConvergenceWarning: Objective did not converge. You might want to increase the number of iterations. Duality gap: 0.017267813909342067, tolerance: 0.003969352415075346\n",
      "  coefs, _, _, _ = cd_fast.enet_coordinate_descent_gram(\n",
      "/Users/as3993/anaconda3/envs/plprob/lib/python3.12/site-packages/sklearn/covariance/_graph_lasso.py:139: ConvergenceWarning: Objective did not converge. You might want to increase the number of iterations. Duality gap: 0.00930680852818, tolerance: 0.004078578368918842\n",
      "  coefs, _, _, _ = cd_fast.enet_coordinate_descent_gram(\n",
      "/Users/as3993/anaconda3/envs/plprob/lib/python3.12/site-packages/sklearn/covariance/_graph_lasso.py:139: ConvergenceWarning: Objective did not converge. You might want to increase the number of iterations. Duality gap: 0.006900536615212616, tolerance: 0.003802119230132754\n",
      "  coefs, _, _, _ = cd_fast.enet_coordinate_descent_gram(\n",
      "/Users/as3993/anaconda3/envs/plprob/lib/python3.12/site-packages/sklearn/covariance/_graph_lasso.py:139: ConvergenceWarning: Objective did not converge. You might want to increase the number of iterations. Duality gap: 0.004491309854252279, tolerance: 0.0037928972122368864\n",
      "  coefs, _, _, _ = cd_fast.enet_coordinate_descent_gram(\n",
      "/Users/as3993/anaconda3/envs/plprob/lib/python3.12/site-packages/sklearn/covariance/_graph_lasso.py:139: ConvergenceWarning: Objective did not converge. You might want to increase the number of iterations. Duality gap: 0.0038260308771285167, tolerance: 0.0037694746579820583\n",
      "  coefs, _, _, _ = cd_fast.enet_coordinate_descent_gram(\n",
      "/Users/as3993/anaconda3/envs/plprob/lib/python3.12/site-packages/sklearn/covariance/_graph_lasso.py:191: ConvergenceWarning: graphical_lasso: did not converge after 100 iteration: dual gap: 9.449e-03\n",
      "  warnings.warn(\n",
      "/Users/as3993/Amit/PLProb/R/univariate.py:330: RuntimeWarning: invalid value encountered in power\n",
      "  val[lower_tail_x] = p_lower * (1 - (k * (x[lower_tail_x] - b))/a)**(-1/k)\n",
      "/Users/as3993/Amit/PLProb/plprob/predictor.py:548: FutureWarning: The default of observed=False is deprecated and will be changed to True in a future version of pandas. Pass observed=False to retain current behavior or observed=True to adopt the future default and silence this warning.\n",
      "  self.cp_prob = dict(cp_count.groupby(cp_count).count()[::-1].cumsum() / len(cp_count))\n",
      "/Users/as3993/Amit/PLProb/plprob/predictor.py:551: FutureWarning: The behavior of DataFrame.idxmax with all-NA values, or any-NA and skipna=False, is deprecated. In a future version this will raise ValueError\n",
      "  peak_hour = self.cond_scenarios.droplevel(axis=1,level=0).idxmax(axis=1)\n"
     ]
    },
    {
     "name": "stdout",
     "output_type": "stream",
     "text": [
      "2023-06-02\n"
     ]
    },
    {
     "name": "stderr",
     "output_type": "stream",
     "text": [
      "/Users/as3993/Amit/PLProb/R/univariate.py:330: RuntimeWarning: invalid value encountered in power\n",
      "  val[lower_tail_x] = p_lower * (1 - (k * (x[lower_tail_x] - b))/a)**(-1/k)\n",
      "/Users/as3993/Amit/PLProb/R/univariate.py:320: RuntimeWarning: invalid value encountered in power\n",
      "  val[upper_tail_x] = 1 - (1 - p_upper) * (1 + (k * (x[upper_tail_x] - b))/a)**(-1/k)\n",
      "/Users/as3993/Amit/PLProb/R/univariate.py:330: RuntimeWarning: invalid value encountered in power\n",
      "  val[lower_tail_x] = p_lower * (1 - (k * (x[lower_tail_x] - b))/a)**(-1/k)\n",
      "/Users/as3993/anaconda3/envs/plprob/lib/python3.12/site-packages/sklearn/covariance/_graph_lasso.py:139: ConvergenceWarning: Objective did not converge. You might want to increase the number of iterations. Duality gap: 0.014564083306872533, tolerance: 0.0037969304718675767\n",
      "  coefs, _, _, _ = cd_fast.enet_coordinate_descent_gram(\n",
      "/Users/as3993/anaconda3/envs/plprob/lib/python3.12/site-packages/sklearn/covariance/_graph_lasso.py:139: ConvergenceWarning: Objective did not converge. You might want to increase the number of iterations. Duality gap: 0.007432744323040197, tolerance: 0.00378154942514463\n",
      "  coefs, _, _, _ = cd_fast.enet_coordinate_descent_gram(\n",
      "/Users/as3993/anaconda3/envs/plprob/lib/python3.12/site-packages/sklearn/covariance/_graph_lasso.py:139: ConvergenceWarning: Objective did not converge. You might want to increase the number of iterations. Duality gap: 0.01729566750742606, tolerance: 0.00396867970214782\n",
      "  coefs, _, _, _ = cd_fast.enet_coordinate_descent_gram(\n",
      "/Users/as3993/anaconda3/envs/plprob/lib/python3.12/site-packages/sklearn/covariance/_graph_lasso.py:139: ConvergenceWarning: Objective did not converge. You might want to increase the number of iterations. Duality gap: 0.009278622131056125, tolerance: 0.0040779639653959225\n",
      "  coefs, _, _, _ = cd_fast.enet_coordinate_descent_gram(\n",
      "/Users/as3993/anaconda3/envs/plprob/lib/python3.12/site-packages/sklearn/covariance/_graph_lasso.py:139: ConvergenceWarning: Objective did not converge. You might want to increase the number of iterations. Duality gap: 0.006860306982510167, tolerance: 0.0038020883445904303\n",
      "  coefs, _, _, _ = cd_fast.enet_coordinate_descent_gram(\n",
      "/Users/as3993/anaconda3/envs/plprob/lib/python3.12/site-packages/sklearn/covariance/_graph_lasso.py:139: ConvergenceWarning: Objective did not converge. You might want to increase the number of iterations. Duality gap: 0.0044875614394044305, tolerance: 0.003792713836295765\n",
      "  coefs, _, _, _ = cd_fast.enet_coordinate_descent_gram(\n",
      "/Users/as3993/anaconda3/envs/plprob/lib/python3.12/site-packages/sklearn/covariance/_graph_lasso.py:139: ConvergenceWarning: Objective did not converge. You might want to increase the number of iterations. Duality gap: 0.003858195942719078, tolerance: 0.003769318206888365\n",
      "  coefs, _, _, _ = cd_fast.enet_coordinate_descent_gram(\n",
      "/Users/as3993/anaconda3/envs/plprob/lib/python3.12/site-packages/sklearn/covariance/_graph_lasso.py:191: ConvergenceWarning: graphical_lasso: did not converge after 100 iteration: dual gap: -1.006e-01\n",
      "  warnings.warn(\n",
      "/Users/as3993/Amit/PLProb/plprob/predictor.py:548: FutureWarning: The default of observed=False is deprecated and will be changed to True in a future version of pandas. Pass observed=False to retain current behavior or observed=True to adopt the future default and silence this warning.\n",
      "  self.cp_prob = dict(cp_count.groupby(cp_count).count()[::-1].cumsum() / len(cp_count))\n"
     ]
    },
    {
     "name": "stdout",
     "output_type": "stream",
     "text": [
      "2023-06-03\n"
     ]
    },
    {
     "name": "stderr",
     "output_type": "stream",
     "text": [
      "/Users/as3993/Amit/PLProb/R/univariate.py:330: RuntimeWarning: invalid value encountered in power\n",
      "  val[lower_tail_x] = p_lower * (1 - (k * (x[lower_tail_x] - b))/a)**(-1/k)\n",
      "/Users/as3993/Amit/PLProb/R/univariate.py:320: RuntimeWarning: invalid value encountered in power\n",
      "  val[upper_tail_x] = 1 - (1 - p_upper) * (1 + (k * (x[upper_tail_x] - b))/a)**(-1/k)\n",
      "/Users/as3993/Amit/PLProb/R/univariate.py:330: RuntimeWarning: invalid value encountered in power\n",
      "  val[lower_tail_x] = p_lower * (1 - (k * (x[lower_tail_x] - b))/a)**(-1/k)\n",
      "/Users/as3993/anaconda3/envs/plprob/lib/python3.12/site-packages/sklearn/covariance/_graph_lasso.py:139: ConvergenceWarning: Objective did not converge. You might want to increase the number of iterations. Duality gap: 0.014559146554539382, tolerance: 0.0037965004447638347\n",
      "  coefs, _, _, _ = cd_fast.enet_coordinate_descent_gram(\n",
      "/Users/as3993/anaconda3/envs/plprob/lib/python3.12/site-packages/sklearn/covariance/_graph_lasso.py:139: ConvergenceWarning: Objective did not converge. You might want to increase the number of iterations. Duality gap: 0.007430081780981368, tolerance: 0.0037811707613653145\n",
      "  coefs, _, _, _ = cd_fast.enet_coordinate_descent_gram(\n",
      "/Users/as3993/anaconda3/envs/plprob/lib/python3.12/site-packages/sklearn/covariance/_graph_lasso.py:139: ConvergenceWarning: Objective did not converge. You might want to increase the number of iterations. Duality gap: 0.017294626084321862, tolerance: 0.003968441420171581\n",
      "  coefs, _, _, _ = cd_fast.enet_coordinate_descent_gram(\n",
      "/Users/as3993/anaconda3/envs/plprob/lib/python3.12/site-packages/sklearn/covariance/_graph_lasso.py:139: ConvergenceWarning: Objective did not converge. You might want to increase the number of iterations. Duality gap: 0.00930671458083765, tolerance: 0.0040777825757338316\n",
      "  coefs, _, _, _ = cd_fast.enet_coordinate_descent_gram(\n",
      "/Users/as3993/anaconda3/envs/plprob/lib/python3.12/site-packages/sklearn/covariance/_graph_lasso.py:139: ConvergenceWarning: Objective did not converge. You might want to increase the number of iterations. Duality gap: 0.0069098849618782765, tolerance: 0.0038017325486609183\n",
      "  coefs, _, _, _ = cd_fast.enet_coordinate_descent_gram(\n",
      "/Users/as3993/anaconda3/envs/plprob/lib/python3.12/site-packages/sklearn/covariance/_graph_lasso.py:139: ConvergenceWarning: Objective did not converge. You might want to increase the number of iterations. Duality gap: 0.00449501195990365, tolerance: 0.003792248110298376\n",
      "  coefs, _, _, _ = cd_fast.enet_coordinate_descent_gram(\n",
      "/Users/as3993/anaconda3/envs/plprob/lib/python3.12/site-packages/sklearn/covariance/_graph_lasso.py:139: ConvergenceWarning: Objective did not converge. You might want to increase the number of iterations. Duality gap: 0.00385572475939, tolerance: 0.0037693015479303912\n",
      "  coefs, _, _, _ = cd_fast.enet_coordinate_descent_gram(\n",
      "/Users/as3993/anaconda3/envs/plprob/lib/python3.12/site-packages/sklearn/covariance/_graph_lasso.py:191: ConvergenceWarning: graphical_lasso: did not converge after 100 iteration: dual gap: -2.326e-02\n",
      "  warnings.warn(\n",
      "/Users/as3993/Amit/PLProb/R/univariate.py:330: RuntimeWarning: invalid value encountered in power\n",
      "  val[lower_tail_x] = p_lower * (1 - (k * (x[lower_tail_x] - b))/a)**(-1/k)\n",
      "/Users/as3993/Amit/PLProb/plprob/predictor.py:548: FutureWarning: The default of observed=False is deprecated and will be changed to True in a future version of pandas. Pass observed=False to retain current behavior or observed=True to adopt the future default and silence this warning.\n",
      "  self.cp_prob = dict(cp_count.groupby(cp_count).count()[::-1].cumsum() / len(cp_count))\n",
      "/Users/as3993/Amit/PLProb/plprob/predictor.py:551: FutureWarning: The behavior of DataFrame.idxmax with all-NA values, or any-NA and skipna=False, is deprecated. In a future version this will raise ValueError\n",
      "  peak_hour = self.cond_scenarios.droplevel(axis=1,level=0).idxmax(axis=1)\n"
     ]
    },
    {
     "name": "stdout",
     "output_type": "stream",
     "text": [
      "2023-06-04\n"
     ]
    },
    {
     "name": "stderr",
     "output_type": "stream",
     "text": [
      "/Users/as3993/Amit/PLProb/R/univariate.py:330: RuntimeWarning: invalid value encountered in power\n",
      "  val[lower_tail_x] = p_lower * (1 - (k * (x[lower_tail_x] - b))/a)**(-1/k)\n",
      "/Users/as3993/Amit/PLProb/R/univariate.py:320: RuntimeWarning: invalid value encountered in power\n",
      "  val[upper_tail_x] = 1 - (1 - p_upper) * (1 + (k * (x[upper_tail_x] - b))/a)**(-1/k)\n",
      "/Users/as3993/anaconda3/envs/plprob/lib/python3.12/site-packages/sklearn/covariance/_graph_lasso.py:191: ConvergenceWarning: graphical_lasso: did not converge after 100 iteration: dual gap: 1.961e-03\n",
      "  warnings.warn(\n",
      "/Users/as3993/Amit/PLProb/R/univariate.py:330: RuntimeWarning: invalid value encountered in power\n",
      "  val[lower_tail_x] = p_lower * (1 - (k * (x[lower_tail_x] - b))/a)**(-1/k)\n",
      "/Users/as3993/anaconda3/envs/plprob/lib/python3.12/site-packages/sklearn/covariance/_graph_lasso.py:139: ConvergenceWarning: Objective did not converge. You might want to increase the number of iterations. Duality gap: 0.012601964476559147, tolerance: 0.0037987865061442664\n",
      "  coefs, _, _, _ = cd_fast.enet_coordinate_descent_gram(\n",
      "/Users/as3993/anaconda3/envs/plprob/lib/python3.12/site-packages/sklearn/covariance/_graph_lasso.py:139: ConvergenceWarning: Objective did not converge. You might want to increase the number of iterations. Duality gap: 0.007790681796208787, tolerance: 0.0037847479848316925\n",
      "  coefs, _, _, _ = cd_fast.enet_coordinate_descent_gram(\n",
      "/Users/as3993/anaconda3/envs/plprob/lib/python3.12/site-packages/sklearn/covariance/_graph_lasso.py:139: ConvergenceWarning: Objective did not converge. You might want to increase the number of iterations. Duality gap: 0.017229315423584524, tolerance: 0.003971908330629176\n",
      "  coefs, _, _, _ = cd_fast.enet_coordinate_descent_gram(\n",
      "/Users/as3993/anaconda3/envs/plprob/lib/python3.12/site-packages/sklearn/covariance/_graph_lasso.py:139: ConvergenceWarning: Objective did not converge. You might want to increase the number of iterations. Duality gap: 0.008559106032144825, tolerance: 0.004081622599203876\n",
      "  coefs, _, _, _ = cd_fast.enet_coordinate_descent_gram(\n",
      "/Users/as3993/anaconda3/envs/plprob/lib/python3.12/site-packages/sklearn/covariance/_graph_lasso.py:139: ConvergenceWarning: Objective did not converge. You might want to increase the number of iterations. Duality gap: 0.005957662815951892, tolerance: 0.00380068364026738\n",
      "  coefs, _, _, _ = cd_fast.enet_coordinate_descent_gram(\n",
      "/Users/as3993/anaconda3/envs/plprob/lib/python3.12/site-packages/sklearn/covariance/_graph_lasso.py:139: ConvergenceWarning: Objective did not converge. You might want to increase the number of iterations. Duality gap: 0.005903769812078963, tolerance: 0.003791079499277205\n",
      "  coefs, _, _, _ = cd_fast.enet_coordinate_descent_gram(\n",
      "/Users/as3993/anaconda3/envs/plprob/lib/python3.12/site-packages/sklearn/covariance/_graph_lasso.py:191: ConvergenceWarning: graphical_lasso: did not converge after 100 iteration: dual gap: -6.370e-02\n",
      "  warnings.warn(\n",
      "/Users/as3993/Amit/PLProb/R/univariate.py:330: RuntimeWarning: invalid value encountered in power\n",
      "  val[lower_tail_x] = p_lower * (1 - (k * (x[lower_tail_x] - b))/a)**(-1/k)\n",
      "/Users/as3993/Amit/PLProb/plprob/predictor.py:548: FutureWarning: The default of observed=False is deprecated and will be changed to True in a future version of pandas. Pass observed=False to retain current behavior or observed=True to adopt the future default and silence this warning.\n",
      "  self.cp_prob = dict(cp_count.groupby(cp_count).count()[::-1].cumsum() / len(cp_count))\n",
      "/Users/as3993/Amit/PLProb/plprob/predictor.py:551: FutureWarning: The behavior of DataFrame.idxmax with all-NA values, or any-NA and skipna=False, is deprecated. In a future version this will raise ValueError\n",
      "  peak_hour = self.cond_scenarios.droplevel(axis=1,level=0).idxmax(axis=1)\n"
     ]
    },
    {
     "name": "stdout",
     "output_type": "stream",
     "text": [
      "2023-06-05\n"
     ]
    },
    {
     "name": "stderr",
     "output_type": "stream",
     "text": [
      "/Users/as3993/Amit/PLProb/R/univariate.py:330: RuntimeWarning: invalid value encountered in power\n",
      "  val[lower_tail_x] = p_lower * (1 - (k * (x[lower_tail_x] - b))/a)**(-1/k)\n",
      "/Users/as3993/Amit/PLProb/R/univariate.py:320: RuntimeWarning: invalid value encountered in power\n",
      "  val[upper_tail_x] = 1 - (1 - p_upper) * (1 + (k * (x[upper_tail_x] - b))/a)**(-1/k)\n",
      "/Users/as3993/Amit/PLProb/R/univariate.py:330: RuntimeWarning: invalid value encountered in power\n",
      "  val[lower_tail_x] = p_lower * (1 - (k * (x[lower_tail_x] - b))/a)**(-1/k)\n",
      "/Users/as3993/anaconda3/envs/plprob/lib/python3.12/site-packages/sklearn/covariance/_graph_lasso.py:139: ConvergenceWarning: Objective did not converge. You might want to increase the number of iterations. Duality gap: 0.016224006477834507, tolerance: 0.0037990411869400775\n",
      "  coefs, _, _, _ = cd_fast.enet_coordinate_descent_gram(\n",
      "/Users/as3993/anaconda3/envs/plprob/lib/python3.12/site-packages/sklearn/covariance/_graph_lasso.py:139: ConvergenceWarning: Objective did not converge. You might want to increase the number of iterations. Duality gap: 0.006916260540997143, tolerance: 0.003784947863025697\n",
      "  coefs, _, _, _ = cd_fast.enet_coordinate_descent_gram(\n",
      "/Users/as3993/anaconda3/envs/plprob/lib/python3.12/site-packages/sklearn/covariance/_graph_lasso.py:139: ConvergenceWarning: Objective did not converge. You might want to increase the number of iterations. Duality gap: 0.017359490204285066, tolerance: 0.003974105578611192\n",
      "  coefs, _, _, _ = cd_fast.enet_coordinate_descent_gram(\n",
      "/Users/as3993/anaconda3/envs/plprob/lib/python3.12/site-packages/sklearn/covariance/_graph_lasso.py:139: ConvergenceWarning: Objective did not converge. You might want to increase the number of iterations. Duality gap: 0.008168958222711353, tolerance: 0.004082382521186252\n",
      "  coefs, _, _, _ = cd_fast.enet_coordinate_descent_gram(\n",
      "/Users/as3993/anaconda3/envs/plprob/lib/python3.12/site-packages/sklearn/covariance/_graph_lasso.py:139: ConvergenceWarning: Objective did not converge. You might want to increase the number of iterations. Duality gap: 0.010960737642676577, tolerance: 0.0037313159972918713\n",
      "  coefs, _, _, _ = cd_fast.enet_coordinate_descent_gram(\n",
      "/Users/as3993/anaconda3/envs/plprob/lib/python3.12/site-packages/sklearn/covariance/_graph_lasso.py:191: ConvergenceWarning: graphical_lasso: did not converge after 100 iteration: dual gap: -3.201e-02\n",
      "  warnings.warn(\n",
      "/Users/as3993/Amit/PLProb/R/univariate.py:330: RuntimeWarning: invalid value encountered in power\n",
      "  val[lower_tail_x] = p_lower * (1 - (k * (x[lower_tail_x] - b))/a)**(-1/k)\n",
      "/Users/as3993/Amit/PLProb/plprob/predictor.py:548: FutureWarning: The default of observed=False is deprecated and will be changed to True in a future version of pandas. Pass observed=False to retain current behavior or observed=True to adopt the future default and silence this warning.\n",
      "  self.cp_prob = dict(cp_count.groupby(cp_count).count()[::-1].cumsum() / len(cp_count))\n",
      "/Users/as3993/Amit/PLProb/plprob/predictor.py:551: FutureWarning: The behavior of DataFrame.idxmax with all-NA values, or any-NA and skipna=False, is deprecated. In a future version this will raise ValueError\n",
      "  peak_hour = self.cond_scenarios.droplevel(axis=1,level=0).idxmax(axis=1)\n"
     ]
    },
    {
     "name": "stdout",
     "output_type": "stream",
     "text": [
      "2023-06-06\n"
     ]
    },
    {
     "name": "stderr",
     "output_type": "stream",
     "text": [
      "/Users/as3993/Amit/PLProb/R/univariate.py:320: RuntimeWarning: invalid value encountered in power\n",
      "  val[upper_tail_x] = 1 - (1 - p_upper) * (1 + (k * (x[upper_tail_x] - b))/a)**(-1/k)\n",
      "/Users/as3993/Amit/PLProb/R/univariate.py:330: RuntimeWarning: invalid value encountered in power\n",
      "  val[lower_tail_x] = p_lower * (1 - (k * (x[lower_tail_x] - b))/a)**(-1/k)\n",
      "/Users/as3993/Amit/PLProb/R/univariate.py:330: RuntimeWarning: invalid value encountered in power\n",
      "  val[lower_tail_x] = p_lower * (1 - (k * (x[lower_tail_x] - b))/a)**(-1/k)\n",
      "/Users/as3993/anaconda3/envs/plprob/lib/python3.12/site-packages/sklearn/covariance/_graph_lasso.py:139: ConvergenceWarning: Objective did not converge. You might want to increase the number of iterations. Duality gap: 0.016210141606997297, tolerance: 0.0037991976207473787\n",
      "  coefs, _, _, _ = cd_fast.enet_coordinate_descent_gram(\n",
      "/Users/as3993/anaconda3/envs/plprob/lib/python3.12/site-packages/sklearn/covariance/_graph_lasso.py:139: ConvergenceWarning: Objective did not converge. You might want to increase the number of iterations. Duality gap: 0.006945612154325431, tolerance: 0.0037852534437466533\n",
      "  coefs, _, _, _ = cd_fast.enet_coordinate_descent_gram(\n",
      "/Users/as3993/anaconda3/envs/plprob/lib/python3.12/site-packages/sklearn/covariance/_graph_lasso.py:139: ConvergenceWarning: Objective did not converge. You might want to increase the number of iterations. Duality gap: 0.017469996180423664, tolerance: 0.0039744095018890225\n",
      "  coefs, _, _, _ = cd_fast.enet_coordinate_descent_gram(\n",
      "/Users/as3993/anaconda3/envs/plprob/lib/python3.12/site-packages/sklearn/covariance/_graph_lasso.py:139: ConvergenceWarning: Objective did not converge. You might want to increase the number of iterations. Duality gap: 0.008129952952891983, tolerance: 0.004082703122805262\n",
      "  coefs, _, _, _ = cd_fast.enet_coordinate_descent_gram(\n",
      "/Users/as3993/anaconda3/envs/plprob/lib/python3.12/site-packages/sklearn/covariance/_graph_lasso.py:139: ConvergenceWarning: Objective did not converge. You might want to increase the number of iterations. Duality gap: 0.011193084956715893, tolerance: 0.0037317180892012672\n",
      "  coefs, _, _, _ = cd_fast.enet_coordinate_descent_gram(\n",
      "/Users/as3993/anaconda3/envs/plprob/lib/python3.12/site-packages/sklearn/covariance/_graph_lasso.py:191: ConvergenceWarning: graphical_lasso: did not converge after 100 iteration: dual gap: -3.322e-02\n",
      "  warnings.warn(\n",
      "/Users/as3993/Amit/PLProb/R/univariate.py:330: RuntimeWarning: invalid value encountered in power\n",
      "  val[lower_tail_x] = p_lower * (1 - (k * (x[lower_tail_x] - b))/a)**(-1/k)\n",
      "/Users/as3993/Amit/PLProb/plprob/predictor.py:548: FutureWarning: The default of observed=False is deprecated and will be changed to True in a future version of pandas. Pass observed=False to retain current behavior or observed=True to adopt the future default and silence this warning.\n",
      "  self.cp_prob = dict(cp_count.groupby(cp_count).count()[::-1].cumsum() / len(cp_count))\n",
      "/Users/as3993/Amit/PLProb/plprob/predictor.py:551: FutureWarning: The behavior of DataFrame.idxmax with all-NA values, or any-NA and skipna=False, is deprecated. In a future version this will raise ValueError\n",
      "  peak_hour = self.cond_scenarios.droplevel(axis=1,level=0).idxmax(axis=1)\n"
     ]
    },
    {
     "name": "stdout",
     "output_type": "stream",
     "text": [
      "2023-06-07\n"
     ]
    },
    {
     "name": "stderr",
     "output_type": "stream",
     "text": [
      "/Users/as3993/Amit/PLProb/R/univariate.py:320: RuntimeWarning: invalid value encountered in power\n",
      "  val[upper_tail_x] = 1 - (1 - p_upper) * (1 + (k * (x[upper_tail_x] - b))/a)**(-1/k)\n",
      "/Users/as3993/Amit/PLProb/R/univariate.py:330: RuntimeWarning: invalid value encountered in power\n",
      "  val[lower_tail_x] = p_lower * (1 - (k * (x[lower_tail_x] - b))/a)**(-1/k)\n",
      "/Users/as3993/Amit/PLProb/R/univariate.py:330: RuntimeWarning: invalid value encountered in power\n",
      "  val[lower_tail_x] = p_lower * (1 - (k * (x[lower_tail_x] - b))/a)**(-1/k)\n",
      "/Users/as3993/anaconda3/envs/plprob/lib/python3.12/site-packages/sklearn/covariance/_graph_lasso.py:139: ConvergenceWarning: Objective did not converge. You might want to increase the number of iterations. Duality gap: 0.016222460349382573, tolerance: 0.0037994507054931862\n",
      "  coefs, _, _, _ = cd_fast.enet_coordinate_descent_gram(\n",
      "/Users/as3993/anaconda3/envs/plprob/lib/python3.12/site-packages/sklearn/covariance/_graph_lasso.py:139: ConvergenceWarning: Objective did not converge. You might want to increase the number of iterations. Duality gap: 0.006990603649043692, tolerance: 0.003785549551475063\n",
      "  coefs, _, _, _ = cd_fast.enet_coordinate_descent_gram(\n",
      "/Users/as3993/anaconda3/envs/plprob/lib/python3.12/site-packages/sklearn/covariance/_graph_lasso.py:139: ConvergenceWarning: Objective did not converge. You might want to increase the number of iterations. Duality gap: 0.01744676075381335, tolerance: 0.003974327073359258\n",
      "  coefs, _, _, _ = cd_fast.enet_coordinate_descent_gram(\n",
      "/Users/as3993/anaconda3/envs/plprob/lib/python3.12/site-packages/sklearn/covariance/_graph_lasso.py:139: ConvergenceWarning: Objective did not converge. You might want to increase the number of iterations. Duality gap: 0.008113159231541545, tolerance: 0.0040825802908363625\n",
      "  coefs, _, _, _ = cd_fast.enet_coordinate_descent_gram(\n",
      "/Users/as3993/anaconda3/envs/plprob/lib/python3.12/site-packages/sklearn/covariance/_graph_lasso.py:139: ConvergenceWarning: Objective did not converge. You might want to increase the number of iterations. Duality gap: 0.01117165882080684, tolerance: 0.0037321691401856656\n",
      "  coefs, _, _, _ = cd_fast.enet_coordinate_descent_gram(\n",
      "/Users/as3993/anaconda3/envs/plprob/lib/python3.12/site-packages/sklearn/covariance/_graph_lasso.py:191: ConvergenceWarning: graphical_lasso: did not converge after 100 iteration: dual gap: -2.496e-02\n",
      "  warnings.warn(\n",
      "/Users/as3993/Amit/PLProb/R/univariate.py:330: RuntimeWarning: invalid value encountered in power\n",
      "  val[lower_tail_x] = p_lower * (1 - (k * (x[lower_tail_x] - b))/a)**(-1/k)\n",
      "/Users/as3993/Amit/PLProb/plprob/predictor.py:548: FutureWarning: The default of observed=False is deprecated and will be changed to True in a future version of pandas. Pass observed=False to retain current behavior or observed=True to adopt the future default and silence this warning.\n",
      "  self.cp_prob = dict(cp_count.groupby(cp_count).count()[::-1].cumsum() / len(cp_count))\n",
      "/Users/as3993/Amit/PLProb/plprob/predictor.py:551: FutureWarning: The behavior of DataFrame.idxmax with all-NA values, or any-NA and skipna=False, is deprecated. In a future version this will raise ValueError\n",
      "  peak_hour = self.cond_scenarios.droplevel(axis=1,level=0).idxmax(axis=1)\n"
     ]
    },
    {
     "name": "stdout",
     "output_type": "stream",
     "text": [
      "2023-06-08\n"
     ]
    },
    {
     "name": "stderr",
     "output_type": "stream",
     "text": [
      "/Users/as3993/Amit/PLProb/R/univariate.py:320: RuntimeWarning: invalid value encountered in power\n",
      "  val[upper_tail_x] = 1 - (1 - p_upper) * (1 + (k * (x[upper_tail_x] - b))/a)**(-1/k)\n",
      "/Users/as3993/Amit/PLProb/R/univariate.py:330: RuntimeWarning: invalid value encountered in power\n",
      "  val[lower_tail_x] = p_lower * (1 - (k * (x[lower_tail_x] - b))/a)**(-1/k)\n",
      "/Users/as3993/Amit/PLProb/R/univariate.py:330: RuntimeWarning: invalid value encountered in power\n",
      "  val[lower_tail_x] = p_lower * (1 - (k * (x[lower_tail_x] - b))/a)**(-1/k)\n",
      "/Users/as3993/anaconda3/envs/plprob/lib/python3.12/site-packages/sklearn/covariance/_graph_lasso.py:139: ConvergenceWarning: Objective did not converge. You might want to increase the number of iterations. Duality gap: 0.013567784673227834, tolerance: 0.0038069065861756025\n",
      "  coefs, _, _, _ = cd_fast.enet_coordinate_descent_gram(\n",
      "/Users/as3993/anaconda3/envs/plprob/lib/python3.12/site-packages/sklearn/covariance/_graph_lasso.py:139: ConvergenceWarning: Objective did not converge. You might want to increase the number of iterations. Duality gap: 0.009178186177237535, tolerance: 0.003793468353978044\n",
      "  coefs, _, _, _ = cd_fast.enet_coordinate_descent_gram(\n",
      "/Users/as3993/anaconda3/envs/plprob/lib/python3.12/site-packages/sklearn/covariance/_graph_lasso.py:139: ConvergenceWarning: Objective did not converge. You might want to increase the number of iterations. Duality gap: 0.017099437300139186, tolerance: 0.003979162357862832\n",
      "  coefs, _, _, _ = cd_fast.enet_coordinate_descent_gram(\n",
      "/Users/as3993/anaconda3/envs/plprob/lib/python3.12/site-packages/sklearn/covariance/_graph_lasso.py:139: ConvergenceWarning: Objective did not converge. You might want to increase the number of iterations. Duality gap: 0.008030417169365478, tolerance: 0.004088073507512008\n",
      "  coefs, _, _, _ = cd_fast.enet_coordinate_descent_gram(\n",
      "/Users/as3993/anaconda3/envs/plprob/lib/python3.12/site-packages/sklearn/covariance/_graph_lasso.py:139: ConvergenceWarning: Objective did not converge. You might want to increase the number of iterations. Duality gap: 0.01046917173611206, tolerance: 0.0037355009337108214\n",
      "  coefs, _, _, _ = cd_fast.enet_coordinate_descent_gram(\n",
      "/Users/as3993/anaconda3/envs/plprob/lib/python3.12/site-packages/sklearn/covariance/_graph_lasso.py:191: ConvergenceWarning: graphical_lasso: did not converge after 100 iteration: dual gap: -1.547e-02\n",
      "  warnings.warn(\n",
      "/Users/as3993/Amit/PLProb/R/univariate.py:330: RuntimeWarning: invalid value encountered in power\n",
      "  val[lower_tail_x] = p_lower * (1 - (k * (x[lower_tail_x] - b))/a)**(-1/k)\n",
      "/Users/as3993/Amit/PLProb/plprob/predictor.py:548: FutureWarning: The default of observed=False is deprecated and will be changed to True in a future version of pandas. Pass observed=False to retain current behavior or observed=True to adopt the future default and silence this warning.\n",
      "  self.cp_prob = dict(cp_count.groupby(cp_count).count()[::-1].cumsum() / len(cp_count))\n",
      "/Users/as3993/Amit/PLProb/plprob/predictor.py:551: FutureWarning: The behavior of DataFrame.idxmax with all-NA values, or any-NA and skipna=False, is deprecated. In a future version this will raise ValueError\n",
      "  peak_hour = self.cond_scenarios.droplevel(axis=1,level=0).idxmax(axis=1)\n"
     ]
    },
    {
     "name": "stdout",
     "output_type": "stream",
     "text": [
      "2023-06-09\n"
     ]
    },
    {
     "name": "stderr",
     "output_type": "stream",
     "text": [
      "/Users/as3993/Amit/PLProb/R/univariate.py:320: RuntimeWarning: invalid value encountered in power\n",
      "  val[upper_tail_x] = 1 - (1 - p_upper) * (1 + (k * (x[upper_tail_x] - b))/a)**(-1/k)\n",
      "/Users/as3993/Amit/PLProb/R/univariate.py:330: RuntimeWarning: invalid value encountered in power\n",
      "  val[lower_tail_x] = p_lower * (1 - (k * (x[lower_tail_x] - b))/a)**(-1/k)\n",
      "/Users/as3993/Amit/PLProb/R/univariate.py:330: RuntimeWarning: invalid value encountered in power\n",
      "  val[lower_tail_x] = p_lower * (1 - (k * (x[lower_tail_x] - b))/a)**(-1/k)\n",
      "/Users/as3993/anaconda3/envs/plprob/lib/python3.12/site-packages/sklearn/covariance/_graph_lasso.py:139: ConvergenceWarning: Objective did not converge. You might want to increase the number of iterations. Duality gap: 0.013588568676645707, tolerance: 0.0038094242276563565\n",
      "  coefs, _, _, _ = cd_fast.enet_coordinate_descent_gram(\n",
      "/Users/as3993/anaconda3/envs/plprob/lib/python3.12/site-packages/sklearn/covariance/_graph_lasso.py:139: ConvergenceWarning: Objective did not converge. You might want to increase the number of iterations. Duality gap: 0.009195275062111818, tolerance: 0.0037961168464060798\n",
      "  coefs, _, _, _ = cd_fast.enet_coordinate_descent_gram(\n",
      "/Users/as3993/anaconda3/envs/plprob/lib/python3.12/site-packages/sklearn/covariance/_graph_lasso.py:139: ConvergenceWarning: Objective did not converge. You might want to increase the number of iterations. Duality gap: 0.017772350743761933, tolerance: 0.003981385855023844\n",
      "  coefs, _, _, _ = cd_fast.enet_coordinate_descent_gram(\n",
      "/Users/as3993/anaconda3/envs/plprob/lib/python3.12/site-packages/sklearn/covariance/_graph_lasso.py:139: ConvergenceWarning: Objective did not converge. You might want to increase the number of iterations. Duality gap: 0.007999375479130322, tolerance: 0.004090473995633082\n",
      "  coefs, _, _, _ = cd_fast.enet_coordinate_descent_gram(\n",
      "/Users/as3993/anaconda3/envs/plprob/lib/python3.12/site-packages/sklearn/covariance/_graph_lasso.py:139: ConvergenceWarning: Objective did not converge. You might want to increase the number of iterations. Duality gap: 0.010226442907850242, tolerance: 0.003738366457394938\n",
      "  coefs, _, _, _ = cd_fast.enet_coordinate_descent_gram(\n",
      "/Users/as3993/anaconda3/envs/plprob/lib/python3.12/site-packages/sklearn/covariance/_graph_lasso.py:191: ConvergenceWarning: graphical_lasso: did not converge after 100 iteration: dual gap: -6.627e-02\n",
      "  warnings.warn(\n",
      "/Users/as3993/Amit/PLProb/R/univariate.py:330: RuntimeWarning: invalid value encountered in power\n",
      "  val[lower_tail_x] = p_lower * (1 - (k * (x[lower_tail_x] - b))/a)**(-1/k)\n",
      "/Users/as3993/Amit/PLProb/plprob/predictor.py:548: FutureWarning: The default of observed=False is deprecated and will be changed to True in a future version of pandas. Pass observed=False to retain current behavior or observed=True to adopt the future default and silence this warning.\n",
      "  self.cp_prob = dict(cp_count.groupby(cp_count).count()[::-1].cumsum() / len(cp_count))\n",
      "/Users/as3993/Amit/PLProb/plprob/predictor.py:551: FutureWarning: The behavior of DataFrame.idxmax with all-NA values, or any-NA and skipna=False, is deprecated. In a future version this will raise ValueError\n",
      "  peak_hour = self.cond_scenarios.droplevel(axis=1,level=0).idxmax(axis=1)\n"
     ]
    },
    {
     "name": "stdout",
     "output_type": "stream",
     "text": [
      "2023-06-10\n"
     ]
    },
    {
     "name": "stderr",
     "output_type": "stream",
     "text": [
      "/Users/as3993/Amit/PLProb/R/univariate.py:320: RuntimeWarning: invalid value encountered in power\n",
      "  val[upper_tail_x] = 1 - (1 - p_upper) * (1 + (k * (x[upper_tail_x] - b))/a)**(-1/k)\n",
      "/Users/as3993/Amit/PLProb/R/univariate.py:330: RuntimeWarning: invalid value encountered in power\n",
      "  val[lower_tail_x] = p_lower * (1 - (k * (x[lower_tail_x] - b))/a)**(-1/k)\n",
      "/Users/as3993/Amit/PLProb/R/univariate.py:330: RuntimeWarning: invalid value encountered in power\n",
      "  val[lower_tail_x] = p_lower * (1 - (k * (x[lower_tail_x] - b))/a)**(-1/k)\n",
      "/Users/as3993/anaconda3/envs/plprob/lib/python3.12/site-packages/sklearn/covariance/_graph_lasso.py:139: ConvergenceWarning: Objective did not converge. You might want to increase the number of iterations. Duality gap: 0.013652241355011085, tolerance: 0.003814741399131865\n",
      "  coefs, _, _, _ = cd_fast.enet_coordinate_descent_gram(\n",
      "/Users/as3993/anaconda3/envs/plprob/lib/python3.12/site-packages/sklearn/covariance/_graph_lasso.py:139: ConvergenceWarning: Objective did not converge. You might want to increase the number of iterations. Duality gap: 0.010685994805605503, tolerance: 0.003801490986088951\n",
      "  coefs, _, _, _ = cd_fast.enet_coordinate_descent_gram(\n",
      "/Users/as3993/anaconda3/envs/plprob/lib/python3.12/site-packages/sklearn/covariance/_graph_lasso.py:139: ConvergenceWarning: Objective did not converge. You might want to increase the number of iterations. Duality gap: 0.017868919945414063, tolerance: 0.003984777655900393\n",
      "  coefs, _, _, _ = cd_fast.enet_coordinate_descent_gram(\n",
      "/Users/as3993/anaconda3/envs/plprob/lib/python3.12/site-packages/sklearn/covariance/_graph_lasso.py:139: ConvergenceWarning: Objective did not converge. You might want to increase the number of iterations. Duality gap: 0.008246640423557494, tolerance: 0.004094388539701778\n",
      "  coefs, _, _, _ = cd_fast.enet_coordinate_descent_gram(\n",
      "/Users/as3993/anaconda3/envs/plprob/lib/python3.12/site-packages/sklearn/covariance/_graph_lasso.py:139: ConvergenceWarning: Objective did not converge. You might want to increase the number of iterations. Duality gap: 0.009848803888246493, tolerance: 0.00373985401113946\n",
      "  coefs, _, _, _ = cd_fast.enet_coordinate_descent_gram(\n",
      "/Users/as3993/anaconda3/envs/plprob/lib/python3.12/site-packages/sklearn/covariance/_graph_lasso.py:191: ConvergenceWarning: graphical_lasso: did not converge after 100 iteration: dual gap: 3.575e-02\n",
      "  warnings.warn(\n",
      "/Users/as3993/Amit/PLProb/R/univariate.py:330: RuntimeWarning: invalid value encountered in power\n",
      "  val[lower_tail_x] = p_lower * (1 - (k * (x[lower_tail_x] - b))/a)**(-1/k)\n",
      "/Users/as3993/Amit/PLProb/plprob/predictor.py:548: FutureWarning: The default of observed=False is deprecated and will be changed to True in a future version of pandas. Pass observed=False to retain current behavior or observed=True to adopt the future default and silence this warning.\n",
      "  self.cp_prob = dict(cp_count.groupby(cp_count).count()[::-1].cumsum() / len(cp_count))\n",
      "/Users/as3993/Amit/PLProb/plprob/predictor.py:551: FutureWarning: The behavior of DataFrame.idxmax with all-NA values, or any-NA and skipna=False, is deprecated. In a future version this will raise ValueError\n",
      "  peak_hour = self.cond_scenarios.droplevel(axis=1,level=0).idxmax(axis=1)\n"
     ]
    },
    {
     "name": "stdout",
     "output_type": "stream",
     "text": [
      "2023-06-11\n"
     ]
    },
    {
     "name": "stderr",
     "output_type": "stream",
     "text": [
      "/Users/as3993/Amit/PLProb/R/univariate.py:320: RuntimeWarning: invalid value encountered in power\n",
      "  val[upper_tail_x] = 1 - (1 - p_upper) * (1 + (k * (x[upper_tail_x] - b))/a)**(-1/k)\n",
      "/Users/as3993/Amit/PLProb/R/univariate.py:330: RuntimeWarning: invalid value encountered in power\n",
      "  val[lower_tail_x] = p_lower * (1 - (k * (x[lower_tail_x] - b))/a)**(-1/k)\n",
      "/Users/as3993/Amit/PLProb/R/univariate.py:330: RuntimeWarning: invalid value encountered in power\n",
      "  val[lower_tail_x] = p_lower * (1 - (k * (x[lower_tail_x] - b))/a)**(-1/k)\n",
      "/Users/as3993/anaconda3/envs/plprob/lib/python3.12/site-packages/sklearn/covariance/_graph_lasso.py:139: ConvergenceWarning: Objective did not converge. You might want to increase the number of iterations. Duality gap: 0.013656695413786224, tolerance: 0.0038135130261378837\n",
      "  coefs, _, _, _ = cd_fast.enet_coordinate_descent_gram(\n",
      "/Users/as3993/anaconda3/envs/plprob/lib/python3.12/site-packages/sklearn/covariance/_graph_lasso.py:139: ConvergenceWarning: Objective did not converge. You might want to increase the number of iterations. Duality gap: 0.010627818689691537, tolerance: 0.0037997360041618494\n",
      "  coefs, _, _, _ = cd_fast.enet_coordinate_descent_gram(\n",
      "/Users/as3993/anaconda3/envs/plprob/lib/python3.12/site-packages/sklearn/covariance/_graph_lasso.py:139: ConvergenceWarning: Objective did not converge. You might want to increase the number of iterations. Duality gap: 0.01763820433642138, tolerance: 0.003982744672668032\n",
      "  coefs, _, _, _ = cd_fast.enet_coordinate_descent_gram(\n",
      "/Users/as3993/anaconda3/envs/plprob/lib/python3.12/site-packages/sklearn/covariance/_graph_lasso.py:139: ConvergenceWarning: Objective did not converge. You might want to increase the number of iterations. Duality gap: 0.008101041684810184, tolerance: 0.0040922287193413615\n",
      "  coefs, _, _, _ = cd_fast.enet_coordinate_descent_gram(\n",
      "/Users/as3993/anaconda3/envs/plprob/lib/python3.12/site-packages/sklearn/covariance/_graph_lasso.py:139: ConvergenceWarning: Objective did not converge. You might want to increase the number of iterations. Duality gap: 0.0098094066190626, tolerance: 0.0037396186166921115\n",
      "  coefs, _, _, _ = cd_fast.enet_coordinate_descent_gram(\n",
      "/Users/as3993/anaconda3/envs/plprob/lib/python3.12/site-packages/sklearn/covariance/_graph_lasso.py:191: ConvergenceWarning: graphical_lasso: did not converge after 100 iteration: dual gap: 1.062e-02\n",
      "  warnings.warn(\n",
      "/Users/as3993/Amit/PLProb/R/univariate.py:330: RuntimeWarning: invalid value encountered in power\n",
      "  val[lower_tail_x] = p_lower * (1 - (k * (x[lower_tail_x] - b))/a)**(-1/k)\n",
      "/Users/as3993/Amit/PLProb/plprob/predictor.py:548: FutureWarning: The default of observed=False is deprecated and will be changed to True in a future version of pandas. Pass observed=False to retain current behavior or observed=True to adopt the future default and silence this warning.\n",
      "  self.cp_prob = dict(cp_count.groupby(cp_count).count()[::-1].cumsum() / len(cp_count))\n",
      "/Users/as3993/Amit/PLProb/plprob/predictor.py:551: FutureWarning: The behavior of DataFrame.idxmax with all-NA values, or any-NA and skipna=False, is deprecated. In a future version this will raise ValueError\n",
      "  peak_hour = self.cond_scenarios.droplevel(axis=1,level=0).idxmax(axis=1)\n"
     ]
    },
    {
     "name": "stdout",
     "output_type": "stream",
     "text": [
      "2023-06-12\n"
     ]
    },
    {
     "name": "stderr",
     "output_type": "stream",
     "text": [
      "/Users/as3993/Amit/PLProb/R/univariate.py:320: RuntimeWarning: invalid value encountered in power\n",
      "  val[upper_tail_x] = 1 - (1 - p_upper) * (1 + (k * (x[upper_tail_x] - b))/a)**(-1/k)\n",
      "/Users/as3993/Amit/PLProb/R/univariate.py:330: RuntimeWarning: invalid value encountered in power\n",
      "  val[lower_tail_x] = p_lower * (1 - (k * (x[lower_tail_x] - b))/a)**(-1/k)\n",
      "/Users/as3993/Amit/PLProb/R/univariate.py:330: RuntimeWarning: invalid value encountered in power\n",
      "  val[lower_tail_x] = p_lower * (1 - (k * (x[lower_tail_x] - b))/a)**(-1/k)\n",
      "/Users/as3993/anaconda3/envs/plprob/lib/python3.12/site-packages/sklearn/covariance/_graph_lasso.py:139: ConvergenceWarning: Objective did not converge. You might want to increase the number of iterations. Duality gap: 0.01259878445922169, tolerance: 0.003800008968088852\n",
      "  coefs, _, _, _ = cd_fast.enet_coordinate_descent_gram(\n",
      "/Users/as3993/anaconda3/envs/plprob/lib/python3.12/site-packages/sklearn/covariance/_graph_lasso.py:139: ConvergenceWarning: Objective did not converge. You might want to increase the number of iterations. Duality gap: 0.009095733899492586, tolerance: 0.0037848283065575893\n",
      "  coefs, _, _, _ = cd_fast.enet_coordinate_descent_gram(\n",
      "/Users/as3993/anaconda3/envs/plprob/lib/python3.12/site-packages/sklearn/covariance/_graph_lasso.py:139: ConvergenceWarning: Objective did not converge. You might want to increase the number of iterations. Duality gap: 0.016969019548348285, tolerance: 0.003968830061700568\n",
      "  coefs, _, _, _ = cd_fast.enet_coordinate_descent_gram(\n",
      "/Users/as3993/anaconda3/envs/plprob/lib/python3.12/site-packages/sklearn/covariance/_graph_lasso.py:139: ConvergenceWarning: Objective did not converge. You might want to increase the number of iterations. Duality gap: 0.00892077589713125, tolerance: 0.004079026066235607\n",
      "  coefs, _, _, _ = cd_fast.enet_coordinate_descent_gram(\n",
      "/Users/as3993/anaconda3/envs/plprob/lib/python3.12/site-packages/sklearn/covariance/_graph_lasso.py:139: ConvergenceWarning: Objective did not converge. You might want to increase the number of iterations. Duality gap: 0.01004746565394754, tolerance: 0.003734933844438215\n",
      "  coefs, _, _, _ = cd_fast.enet_coordinate_descent_gram(\n",
      "/Users/as3993/anaconda3/envs/plprob/lib/python3.12/site-packages/sklearn/covariance/_graph_lasso.py:139: ConvergenceWarning: Objective did not converge. You might want to increase the number of iterations. Duality gap: 0.003892748227407594, tolerance: 0.0037933178927484707\n",
      "  coefs, _, _, _ = cd_fast.enet_coordinate_descent_gram(\n",
      "/Users/as3993/anaconda3/envs/plprob/lib/python3.12/site-packages/sklearn/covariance/_graph_lasso.py:191: ConvergenceWarning: graphical_lasso: did not converge after 100 iteration: dual gap: 7.151e-03\n",
      "  warnings.warn(\n",
      "/Users/as3993/Amit/PLProb/plprob/predictor.py:548: FutureWarning: The default of observed=False is deprecated and will be changed to True in a future version of pandas. Pass observed=False to retain current behavior or observed=True to adopt the future default and silence this warning.\n",
      "  self.cp_prob = dict(cp_count.groupby(cp_count).count()[::-1].cumsum() / len(cp_count))\n"
     ]
    },
    {
     "name": "stdout",
     "output_type": "stream",
     "text": [
      "2023-06-13\n"
     ]
    },
    {
     "name": "stderr",
     "output_type": "stream",
     "text": [
      "/Users/as3993/Amit/PLProb/R/univariate.py:320: RuntimeWarning: invalid value encountered in power\n",
      "  val[upper_tail_x] = 1 - (1 - p_upper) * (1 + (k * (x[upper_tail_x] - b))/a)**(-1/k)\n",
      "/Users/as3993/Amit/PLProb/R/univariate.py:330: RuntimeWarning: invalid value encountered in power\n",
      "  val[lower_tail_x] = p_lower * (1 - (k * (x[lower_tail_x] - b))/a)**(-1/k)\n",
      "/Users/as3993/Amit/PLProb/R/univariate.py:330: RuntimeWarning: invalid value encountered in power\n",
      "  val[lower_tail_x] = p_lower * (1 - (k * (x[lower_tail_x] - b))/a)**(-1/k)\n",
      "/Users/as3993/anaconda3/envs/plprob/lib/python3.12/site-packages/sklearn/covariance/_graph_lasso.py:139: ConvergenceWarning: Objective did not converge. You might want to increase the number of iterations. Duality gap: 0.012572729025919216, tolerance: 0.0038002635308801483\n",
      "  coefs, _, _, _ = cd_fast.enet_coordinate_descent_gram(\n",
      "/Users/as3993/anaconda3/envs/plprob/lib/python3.12/site-packages/sklearn/covariance/_graph_lasso.py:139: ConvergenceWarning: Objective did not converge. You might want to increase the number of iterations. Duality gap: 0.009058347605915174, tolerance: 0.0037850576018777513\n",
      "  coefs, _, _, _ = cd_fast.enet_coordinate_descent_gram(\n",
      "/Users/as3993/anaconda3/envs/plprob/lib/python3.12/site-packages/sklearn/covariance/_graph_lasso.py:139: ConvergenceWarning: Objective did not converge. You might want to increase the number of iterations. Duality gap: 0.01693270038689576, tolerance: 0.003968783238839136\n",
      "  coefs, _, _, _ = cd_fast.enet_coordinate_descent_gram(\n",
      "/Users/as3993/anaconda3/envs/plprob/lib/python3.12/site-packages/sklearn/covariance/_graph_lasso.py:139: ConvergenceWarning: Objective did not converge. You might want to increase the number of iterations. Duality gap: 0.008888918681101643, tolerance: 0.0040790528427234775\n",
      "  coefs, _, _, _ = cd_fast.enet_coordinate_descent_gram(\n",
      "/Users/as3993/anaconda3/envs/plprob/lib/python3.12/site-packages/sklearn/covariance/_graph_lasso.py:139: ConvergenceWarning: Objective did not converge. You might want to increase the number of iterations. Duality gap: 0.010055700373669652, tolerance: 0.0037353072222370454\n",
      "  coefs, _, _, _ = cd_fast.enet_coordinate_descent_gram(\n",
      "/Users/as3993/anaconda3/envs/plprob/lib/python3.12/site-packages/sklearn/covariance/_graph_lasso.py:139: ConvergenceWarning: Objective did not converge. You might want to increase the number of iterations. Duality gap: 0.0039015208721693284, tolerance: 0.0037935272360324086\n",
      "  coefs, _, _, _ = cd_fast.enet_coordinate_descent_gram(\n",
      "/Users/as3993/Amit/PLProb/plprob/predictor.py:548: FutureWarning: The default of observed=False is deprecated and will be changed to True in a future version of pandas. Pass observed=False to retain current behavior or observed=True to adopt the future default and silence this warning.\n",
      "  self.cp_prob = dict(cp_count.groupby(cp_count).count()[::-1].cumsum() / len(cp_count))\n"
     ]
    },
    {
     "name": "stdout",
     "output_type": "stream",
     "text": [
      "2023-06-14\n"
     ]
    },
    {
     "name": "stderr",
     "output_type": "stream",
     "text": [
      "/Users/as3993/Amit/PLProb/R/univariate.py:320: RuntimeWarning: invalid value encountered in power\n",
      "  val[upper_tail_x] = 1 - (1 - p_upper) * (1 + (k * (x[upper_tail_x] - b))/a)**(-1/k)\n",
      "/Users/as3993/Amit/PLProb/R/univariate.py:330: RuntimeWarning: invalid value encountered in power\n",
      "  val[lower_tail_x] = p_lower * (1 - (k * (x[lower_tail_x] - b))/a)**(-1/k)\n",
      "/Users/as3993/Amit/PLProb/R/univariate.py:330: RuntimeWarning: invalid value encountered in power\n",
      "  val[lower_tail_x] = p_lower * (1 - (k * (x[lower_tail_x] - b))/a)**(-1/k)\n",
      "/Users/as3993/anaconda3/envs/plprob/lib/python3.12/site-packages/sklearn/covariance/_graph_lasso.py:139: ConvergenceWarning: Objective did not converge. You might want to increase the number of iterations. Duality gap: 0.012601029033177724, tolerance: 0.0038006170119902496\n",
      "  coefs, _, _, _ = cd_fast.enet_coordinate_descent_gram(\n",
      "/Users/as3993/anaconda3/envs/plprob/lib/python3.12/site-packages/sklearn/covariance/_graph_lasso.py:139: ConvergenceWarning: Objective did not converge. You might want to increase the number of iterations. Duality gap: 0.009055268407735184, tolerance: 0.003785440113889589\n",
      "  coefs, _, _, _ = cd_fast.enet_coordinate_descent_gram(\n",
      "/Users/as3993/anaconda3/envs/plprob/lib/python3.12/site-packages/sklearn/covariance/_graph_lasso.py:139: ConvergenceWarning: Objective did not converge. You might want to increase the number of iterations. Duality gap: 0.01695613595276768, tolerance: 0.003968826733829326\n",
      "  coefs, _, _, _ = cd_fast.enet_coordinate_descent_gram(\n",
      "/Users/as3993/anaconda3/envs/plprob/lib/python3.12/site-packages/sklearn/covariance/_graph_lasso.py:139: ConvergenceWarning: Objective did not converge. You might want to increase the number of iterations. Duality gap: 0.008872599687926197, tolerance: 0.004079033236171208\n",
      "  coefs, _, _, _ = cd_fast.enet_coordinate_descent_gram(\n",
      "/Users/as3993/anaconda3/envs/plprob/lib/python3.12/site-packages/sklearn/covariance/_graph_lasso.py:139: ConvergenceWarning: Objective did not converge. You might want to increase the number of iterations. Duality gap: 0.01003486393844355, tolerance: 0.003735796450231165\n",
      "  coefs, _, _, _ = cd_fast.enet_coordinate_descent_gram(\n",
      "/Users/as3993/anaconda3/envs/plprob/lib/python3.12/site-packages/sklearn/covariance/_graph_lasso.py:139: ConvergenceWarning: Objective did not converge. You might want to increase the number of iterations. Duality gap: 0.0039068675929030405, tolerance: 0.003794001319208906\n",
      "  coefs, _, _, _ = cd_fast.enet_coordinate_descent_gram(\n",
      "/Users/as3993/anaconda3/envs/plprob/lib/python3.12/site-packages/sklearn/covariance/_graph_lasso.py:191: ConvergenceWarning: graphical_lasso: did not converge after 100 iteration: dual gap: 1.685e-02\n",
      "  warnings.warn(\n",
      "/Users/as3993/Amit/PLProb/plprob/predictor.py:548: FutureWarning: The default of observed=False is deprecated and will be changed to True in a future version of pandas. Pass observed=False to retain current behavior or observed=True to adopt the future default and silence this warning.\n",
      "  self.cp_prob = dict(cp_count.groupby(cp_count).count()[::-1].cumsum() / len(cp_count))\n"
     ]
    },
    {
     "name": "stdout",
     "output_type": "stream",
     "text": [
      "2023-06-15\n"
     ]
    },
    {
     "name": "stderr",
     "output_type": "stream",
     "text": [
      "/Users/as3993/Amit/PLProb/R/univariate.py:320: RuntimeWarning: invalid value encountered in power\n",
      "  val[upper_tail_x] = 1 - (1 - p_upper) * (1 + (k * (x[upper_tail_x] - b))/a)**(-1/k)\n",
      "/Users/as3993/Amit/PLProb/R/univariate.py:330: RuntimeWarning: invalid value encountered in power\n",
      "  val[lower_tail_x] = p_lower * (1 - (k * (x[lower_tail_x] - b))/a)**(-1/k)\n",
      "/Users/as3993/Amit/PLProb/R/univariate.py:330: RuntimeWarning: invalid value encountered in power\n",
      "  val[lower_tail_x] = p_lower * (1 - (k * (x[lower_tail_x] - b))/a)**(-1/k)\n",
      "/Users/as3993/anaconda3/envs/plprob/lib/python3.12/site-packages/sklearn/covariance/_graph_lasso.py:139: ConvergenceWarning: Objective did not converge. You might want to increase the number of iterations. Duality gap: 0.012645665672089024, tolerance: 0.0038008024036544625\n",
      "  coefs, _, _, _ = cd_fast.enet_coordinate_descent_gram(\n",
      "/Users/as3993/anaconda3/envs/plprob/lib/python3.12/site-packages/sklearn/covariance/_graph_lasso.py:139: ConvergenceWarning: Objective did not converge. You might want to increase the number of iterations. Duality gap: 0.00909065275983778, tolerance: 0.003785637864927969\n",
      "  coefs, _, _, _ = cd_fast.enet_coordinate_descent_gram(\n",
      "/Users/as3993/anaconda3/envs/plprob/lib/python3.12/site-packages/sklearn/covariance/_graph_lasso.py:139: ConvergenceWarning: Objective did not converge. You might want to increase the number of iterations. Duality gap: 0.016919469746298432, tolerance: 0.003968834873072526\n",
      "  coefs, _, _, _ = cd_fast.enet_coordinate_descent_gram(\n",
      "/Users/as3993/anaconda3/envs/plprob/lib/python3.12/site-packages/sklearn/covariance/_graph_lasso.py:139: ConvergenceWarning: Objective did not converge. You might want to increase the number of iterations. Duality gap: 0.008922355928362435, tolerance: 0.004079061386449051\n",
      "  coefs, _, _, _ = cd_fast.enet_coordinate_descent_gram(\n",
      "/Users/as3993/anaconda3/envs/plprob/lib/python3.12/site-packages/sklearn/covariance/_graph_lasso.py:139: ConvergenceWarning: Objective did not converge. You might want to increase the number of iterations. Duality gap: 0.01000801833579601, tolerance: 0.003735901891595136\n",
      "  coefs, _, _, _ = cd_fast.enet_coordinate_descent_gram(\n",
      "/Users/as3993/anaconda3/envs/plprob/lib/python3.12/site-packages/sklearn/covariance/_graph_lasso.py:139: ConvergenceWarning: Objective did not converge. You might want to increase the number of iterations. Duality gap: 0.0038931550030625317, tolerance: 0.0037940289824842156\n",
      "  coefs, _, _, _ = cd_fast.enet_coordinate_descent_gram(\n",
      "/Users/as3993/anaconda3/envs/plprob/lib/python3.12/site-packages/sklearn/covariance/_graph_lasso.py:191: ConvergenceWarning: graphical_lasso: did not converge after 100 iteration: dual gap: 5.979e-02\n",
      "  warnings.warn(\n",
      "/Users/as3993/Amit/PLProb/R/univariate.py:330: RuntimeWarning: invalid value encountered in power\n",
      "  val[lower_tail_x] = p_lower * (1 - (k * (x[lower_tail_x] - b))/a)**(-1/k)\n",
      "/Users/as3993/Amit/PLProb/plprob/predictor.py:548: FutureWarning: The default of observed=False is deprecated and will be changed to True in a future version of pandas. Pass observed=False to retain current behavior or observed=True to adopt the future default and silence this warning.\n",
      "  self.cp_prob = dict(cp_count.groupby(cp_count).count()[::-1].cumsum() / len(cp_count))\n",
      "/Users/as3993/Amit/PLProb/plprob/predictor.py:551: FutureWarning: The behavior of DataFrame.idxmax with all-NA values, or any-NA and skipna=False, is deprecated. In a future version this will raise ValueError\n",
      "  peak_hour = self.cond_scenarios.droplevel(axis=1,level=0).idxmax(axis=1)\n"
     ]
    },
    {
     "name": "stdout",
     "output_type": "stream",
     "text": [
      "2023-06-16\n"
     ]
    },
    {
     "name": "stderr",
     "output_type": "stream",
     "text": [
      "/Users/as3993/Amit/PLProb/R/univariate.py:320: RuntimeWarning: invalid value encountered in power\n",
      "  val[upper_tail_x] = 1 - (1 - p_upper) * (1 + (k * (x[upper_tail_x] - b))/a)**(-1/k)\n",
      "/Users/as3993/Amit/PLProb/R/univariate.py:330: RuntimeWarning: invalid value encountered in power\n",
      "  val[lower_tail_x] = p_lower * (1 - (k * (x[lower_tail_x] - b))/a)**(-1/k)\n",
      "/Users/as3993/Amit/PLProb/R/univariate.py:330: RuntimeWarning: invalid value encountered in power\n",
      "  val[lower_tail_x] = p_lower * (1 - (k * (x[lower_tail_x] - b))/a)**(-1/k)\n",
      "/Users/as3993/anaconda3/envs/plprob/lib/python3.12/site-packages/sklearn/covariance/_graph_lasso.py:139: ConvergenceWarning: Objective did not converge. You might want to increase the number of iterations. Duality gap: 0.01267659774865848, tolerance: 0.003800848941611448\n",
      "  coefs, _, _, _ = cd_fast.enet_coordinate_descent_gram(\n",
      "/Users/as3993/anaconda3/envs/plprob/lib/python3.12/site-packages/sklearn/covariance/_graph_lasso.py:139: ConvergenceWarning: Objective did not converge. You might want to increase the number of iterations. Duality gap: 0.009107314258208987, tolerance: 0.003785706415913738\n",
      "  coefs, _, _, _ = cd_fast.enet_coordinate_descent_gram(\n",
      "/Users/as3993/anaconda3/envs/plprob/lib/python3.12/site-packages/sklearn/covariance/_graph_lasso.py:139: ConvergenceWarning: Objective did not converge. You might want to increase the number of iterations. Duality gap: 0.016914309261792937, tolerance: 0.003968651615079202\n",
      "  coefs, _, _, _ = cd_fast.enet_coordinate_descent_gram(\n",
      "/Users/as3993/anaconda3/envs/plprob/lib/python3.12/site-packages/sklearn/covariance/_graph_lasso.py:139: ConvergenceWarning: Objective did not converge. You might want to increase the number of iterations. Duality gap: 0.008900683532694131, tolerance: 0.00407892210699499\n",
      "  coefs, _, _, _ = cd_fast.enet_coordinate_descent_gram(\n",
      "/Users/as3993/anaconda3/envs/plprob/lib/python3.12/site-packages/sklearn/covariance/_graph_lasso.py:139: ConvergenceWarning: Objective did not converge. You might want to increase the number of iterations. Duality gap: 0.009989314789777382, tolerance: 0.0037363591489053905\n",
      "  coefs, _, _, _ = cd_fast.enet_coordinate_descent_gram(\n",
      "/Users/as3993/anaconda3/envs/plprob/lib/python3.12/site-packages/sklearn/covariance/_graph_lasso.py:139: ConvergenceWarning: Objective did not converge. You might want to increase the number of iterations. Duality gap: 0.00388262324668176, tolerance: 0.003794436108042177\n",
      "  coefs, _, _, _ = cd_fast.enet_coordinate_descent_gram(\n",
      "/Users/as3993/anaconda3/envs/plprob/lib/python3.12/site-packages/sklearn/covariance/_graph_lasso.py:191: ConvergenceWarning: graphical_lasso: did not converge after 100 iteration: dual gap: 1.815e-02\n",
      "  warnings.warn(\n",
      "/Users/as3993/Amit/PLProb/R/univariate.py:330: RuntimeWarning: invalid value encountered in power\n",
      "  val[lower_tail_x] = p_lower * (1 - (k * (x[lower_tail_x] - b))/a)**(-1/k)\n",
      "/Users/as3993/Amit/PLProb/plprob/predictor.py:548: FutureWarning: The default of observed=False is deprecated and will be changed to True in a future version of pandas. Pass observed=False to retain current behavior or observed=True to adopt the future default and silence this warning.\n",
      "  self.cp_prob = dict(cp_count.groupby(cp_count).count()[::-1].cumsum() / len(cp_count))\n",
      "/Users/as3993/Amit/PLProb/plprob/predictor.py:551: FutureWarning: The behavior of DataFrame.idxmax with all-NA values, or any-NA and skipna=False, is deprecated. In a future version this will raise ValueError\n",
      "  peak_hour = self.cond_scenarios.droplevel(axis=1,level=0).idxmax(axis=1)\n"
     ]
    },
    {
     "name": "stdout",
     "output_type": "stream",
     "text": [
      "2023-06-17\n"
     ]
    },
    {
     "name": "stderr",
     "output_type": "stream",
     "text": [
      "/Users/as3993/Amit/PLProb/R/univariate.py:320: RuntimeWarning: invalid value encountered in power\n",
      "  val[upper_tail_x] = 1 - (1 - p_upper) * (1 + (k * (x[upper_tail_x] - b))/a)**(-1/k)\n",
      "/Users/as3993/Amit/PLProb/R/univariate.py:330: RuntimeWarning: invalid value encountered in power\n",
      "  val[lower_tail_x] = p_lower * (1 - (k * (x[lower_tail_x] - b))/a)**(-1/k)\n",
      "/Users/as3993/Amit/PLProb/R/univariate.py:330: RuntimeWarning: invalid value encountered in power\n",
      "  val[lower_tail_x] = p_lower * (1 - (k * (x[lower_tail_x] - b))/a)**(-1/k)\n",
      "/Users/as3993/anaconda3/envs/plprob/lib/python3.12/site-packages/sklearn/covariance/_graph_lasso.py:139: ConvergenceWarning: Objective did not converge. You might want to increase the number of iterations. Duality gap: 0.012708187105495483, tolerance: 0.003800948603929573\n",
      "  coefs, _, _, _ = cd_fast.enet_coordinate_descent_gram(\n",
      "/Users/as3993/anaconda3/envs/plprob/lib/python3.12/site-packages/sklearn/covariance/_graph_lasso.py:139: ConvergenceWarning: Objective did not converge. You might want to increase the number of iterations. Duality gap: 0.00914015059162665, tolerance: 0.003785859693404853\n",
      "  coefs, _, _, _ = cd_fast.enet_coordinate_descent_gram(\n",
      "/Users/as3993/anaconda3/envs/plprob/lib/python3.12/site-packages/sklearn/covariance/_graph_lasso.py:139: ConvergenceWarning: Objective did not converge. You might want to increase the number of iterations. Duality gap: 0.01686234519172558, tolerance: 0.003968567911495268\n",
      "  coefs, _, _, _ = cd_fast.enet_coordinate_descent_gram(\n",
      "/Users/as3993/anaconda3/envs/plprob/lib/python3.12/site-packages/sklearn/covariance/_graph_lasso.py:139: ConvergenceWarning: Objective did not converge. You might want to increase the number of iterations. Duality gap: 0.008933293241362605, tolerance: 0.004078828904013361\n",
      "  coefs, _, _, _ = cd_fast.enet_coordinate_descent_gram(\n",
      "/Users/as3993/anaconda3/envs/plprob/lib/python3.12/site-packages/sklearn/covariance/_graph_lasso.py:139: ConvergenceWarning: Objective did not converge. You might want to increase the number of iterations. Duality gap: 0.009955425605795654, tolerance: 0.0037365492309314797\n",
      "  coefs, _, _, _ = cd_fast.enet_coordinate_descent_gram(\n",
      "/Users/as3993/anaconda3/envs/plprob/lib/python3.12/site-packages/sklearn/covariance/_graph_lasso.py:139: ConvergenceWarning: Objective did not converge. You might want to increase the number of iterations. Duality gap: 0.0038610778693239922, tolerance: 0.003794489818839534\n",
      "  coefs, _, _, _ = cd_fast.enet_coordinate_descent_gram(\n",
      "/Users/as3993/anaconda3/envs/plprob/lib/python3.12/site-packages/sklearn/covariance/_graph_lasso.py:191: ConvergenceWarning: graphical_lasso: did not converge after 100 iteration: dual gap: 1.781e-02\n",
      "  warnings.warn(\n",
      "/Users/as3993/Amit/PLProb/R/univariate.py:330: RuntimeWarning: invalid value encountered in power\n",
      "  val[lower_tail_x] = p_lower * (1 - (k * (x[lower_tail_x] - b))/a)**(-1/k)\n",
      "/Users/as3993/Amit/PLProb/plprob/predictor.py:548: FutureWarning: The default of observed=False is deprecated and will be changed to True in a future version of pandas. Pass observed=False to retain current behavior or observed=True to adopt the future default and silence this warning.\n",
      "  self.cp_prob = dict(cp_count.groupby(cp_count).count()[::-1].cumsum() / len(cp_count))\n",
      "/Users/as3993/Amit/PLProb/plprob/predictor.py:551: FutureWarning: The behavior of DataFrame.idxmax with all-NA values, or any-NA and skipna=False, is deprecated. In a future version this will raise ValueError\n",
      "  peak_hour = self.cond_scenarios.droplevel(axis=1,level=0).idxmax(axis=1)\n"
     ]
    },
    {
     "name": "stdout",
     "output_type": "stream",
     "text": [
      "2023-06-18\n"
     ]
    },
    {
     "name": "stderr",
     "output_type": "stream",
     "text": [
      "/Users/as3993/Amit/PLProb/R/univariate.py:320: RuntimeWarning: invalid value encountered in power\n",
      "  val[upper_tail_x] = 1 - (1 - p_upper) * (1 + (k * (x[upper_tail_x] - b))/a)**(-1/k)\n",
      "/Users/as3993/Amit/PLProb/R/univariate.py:330: RuntimeWarning: invalid value encountered in power\n",
      "  val[lower_tail_x] = p_lower * (1 - (k * (x[lower_tail_x] - b))/a)**(-1/k)\n",
      "/Users/as3993/Amit/PLProb/R/univariate.py:330: RuntimeWarning: invalid value encountered in power\n",
      "  val[lower_tail_x] = p_lower * (1 - (k * (x[lower_tail_x] - b))/a)**(-1/k)\n",
      "/Users/as3993/anaconda3/envs/plprob/lib/python3.12/site-packages/sklearn/covariance/_graph_lasso.py:139: ConvergenceWarning: Objective did not converge. You might want to increase the number of iterations. Duality gap: 0.01272386302073869, tolerance: 0.003801368231148314\n",
      "  coefs, _, _, _ = cd_fast.enet_coordinate_descent_gram(\n",
      "/Users/as3993/anaconda3/envs/plprob/lib/python3.12/site-packages/sklearn/covariance/_graph_lasso.py:139: ConvergenceWarning: Objective did not converge. You might want to increase the number of iterations. Duality gap: 0.009155895154705718, tolerance: 0.0037860492912935068\n",
      "  coefs, _, _, _ = cd_fast.enet_coordinate_descent_gram(\n",
      "/Users/as3993/anaconda3/envs/plprob/lib/python3.12/site-packages/sklearn/covariance/_graph_lasso.py:139: ConvergenceWarning: Objective did not converge. You might want to increase the number of iterations. Duality gap: 0.016627528167404648, tolerance: 0.0039677060441192956\n",
      "  coefs, _, _, _ = cd_fast.enet_coordinate_descent_gram(\n",
      "/Users/as3993/anaconda3/envs/plprob/lib/python3.12/site-packages/sklearn/covariance/_graph_lasso.py:139: ConvergenceWarning: Objective did not converge. You might want to increase the number of iterations. Duality gap: 0.00889947859315754, tolerance: 0.004078297104895528\n",
      "  coefs, _, _, _ = cd_fast.enet_coordinate_descent_gram(\n",
      "/Users/as3993/anaconda3/envs/plprob/lib/python3.12/site-packages/sklearn/covariance/_graph_lasso.py:139: ConvergenceWarning: Objective did not converge. You might want to increase the number of iterations. Duality gap: 0.009943773289279534, tolerance: 0.0037370364202962366\n",
      "  coefs, _, _, _ = cd_fast.enet_coordinate_descent_gram(\n",
      "/Users/as3993/anaconda3/envs/plprob/lib/python3.12/site-packages/sklearn/covariance/_graph_lasso.py:139: ConvergenceWarning: Objective did not converge. You might want to increase the number of iterations. Duality gap: 0.0038458814394246588, tolerance: 0.0037948001997234132\n",
      "  coefs, _, _, _ = cd_fast.enet_coordinate_descent_gram(\n",
      "/Users/as3993/anaconda3/envs/plprob/lib/python3.12/site-packages/sklearn/covariance/_graph_lasso.py:191: ConvergenceWarning: graphical_lasso: did not converge after 100 iteration: dual gap: 1.143e-02\n",
      "  warnings.warn(\n",
      "/Users/as3993/Amit/PLProb/R/univariate.py:330: RuntimeWarning: invalid value encountered in power\n",
      "  val[lower_tail_x] = p_lower * (1 - (k * (x[lower_tail_x] - b))/a)**(-1/k)\n",
      "/Users/as3993/Amit/PLProb/plprob/predictor.py:548: FutureWarning: The default of observed=False is deprecated and will be changed to True in a future version of pandas. Pass observed=False to retain current behavior or observed=True to adopt the future default and silence this warning.\n",
      "  self.cp_prob = dict(cp_count.groupby(cp_count).count()[::-1].cumsum() / len(cp_count))\n",
      "/Users/as3993/Amit/PLProb/plprob/predictor.py:551: FutureWarning: The behavior of DataFrame.idxmax with all-NA values, or any-NA and skipna=False, is deprecated. In a future version this will raise ValueError\n",
      "  peak_hour = self.cond_scenarios.droplevel(axis=1,level=0).idxmax(axis=1)\n"
     ]
    },
    {
     "name": "stdout",
     "output_type": "stream",
     "text": [
      "2023-06-19\n"
     ]
    },
    {
     "name": "stderr",
     "output_type": "stream",
     "text": [
      "/Users/as3993/Amit/PLProb/R/univariate.py:320: RuntimeWarning: invalid value encountered in power\n",
      "  val[upper_tail_x] = 1 - (1 - p_upper) * (1 + (k * (x[upper_tail_x] - b))/a)**(-1/k)\n",
      "/Users/as3993/Amit/PLProb/R/univariate.py:330: RuntimeWarning: invalid value encountered in power\n",
      "  val[lower_tail_x] = p_lower * (1 - (k * (x[lower_tail_x] - b))/a)**(-1/k)\n",
      "/Users/as3993/Amit/PLProb/R/univariate.py:330: RuntimeWarning: invalid value encountered in power\n",
      "  val[lower_tail_x] = p_lower * (1 - (k * (x[lower_tail_x] - b))/a)**(-1/k)\n",
      "/Users/as3993/anaconda3/envs/plprob/lib/python3.12/site-packages/sklearn/covariance/_graph_lasso.py:139: ConvergenceWarning: Objective did not converge. You might want to increase the number of iterations. Duality gap: 0.011816304818175638, tolerance: 0.0038006286254883637\n",
      "  coefs, _, _, _ = cd_fast.enet_coordinate_descent_gram(\n",
      "/Users/as3993/anaconda3/envs/plprob/lib/python3.12/site-packages/sklearn/covariance/_graph_lasso.py:139: ConvergenceWarning: Objective did not converge. You might want to increase the number of iterations. Duality gap: 0.007766202836826608, tolerance: 0.003784669846962336\n",
      "  coefs, _, _, _ = cd_fast.enet_coordinate_descent_gram(\n",
      "/Users/as3993/anaconda3/envs/plprob/lib/python3.12/site-packages/sklearn/covariance/_graph_lasso.py:139: ConvergenceWarning: Objective did not converge. You might want to increase the number of iterations. Duality gap: 0.0165116786599242, tolerance: 0.003965509876656683\n",
      "  coefs, _, _, _ = cd_fast.enet_coordinate_descent_gram(\n",
      "/Users/as3993/anaconda3/envs/plprob/lib/python3.12/site-packages/sklearn/covariance/_graph_lasso.py:139: ConvergenceWarning: Objective did not converge. You might want to increase the number of iterations. Duality gap: 0.009265362576165614, tolerance: 0.004077147787652758\n",
      "  coefs, _, _, _ = cd_fast.enet_coordinate_descent_gram(\n",
      "/Users/as3993/anaconda3/envs/plprob/lib/python3.12/site-packages/sklearn/covariance/_graph_lasso.py:139: ConvergenceWarning: Objective did not converge. You might want to increase the number of iterations. Duality gap: 0.00985171474112434, tolerance: 0.003735662645769175\n",
      "  coefs, _, _, _ = cd_fast.enet_coordinate_descent_gram(\n",
      "/Users/as3993/anaconda3/envs/plprob/lib/python3.12/site-packages/sklearn/covariance/_graph_lasso.py:191: ConvergenceWarning: graphical_lasso: did not converge after 100 iteration: dual gap: 7.802e-02\n",
      "  warnings.warn(\n",
      "/Users/as3993/Amit/PLProb/plprob/predictor.py:548: FutureWarning: The default of observed=False is deprecated and will be changed to True in a future version of pandas. Pass observed=False to retain current behavior or observed=True to adopt the future default and silence this warning.\n",
      "  self.cp_prob = dict(cp_count.groupby(cp_count).count()[::-1].cumsum() / len(cp_count))\n"
     ]
    },
    {
     "name": "stdout",
     "output_type": "stream",
     "text": [
      "2023-06-20\n"
     ]
    },
    {
     "name": "stderr",
     "output_type": "stream",
     "text": [
      "/Users/as3993/Amit/PLProb/R/univariate.py:320: RuntimeWarning: invalid value encountered in power\n",
      "  val[upper_tail_x] = 1 - (1 - p_upper) * (1 + (k * (x[upper_tail_x] - b))/a)**(-1/k)\n",
      "/Users/as3993/Amit/PLProb/R/univariate.py:330: RuntimeWarning: invalid value encountered in power\n",
      "  val[lower_tail_x] = p_lower * (1 - (k * (x[lower_tail_x] - b))/a)**(-1/k)\n",
      "/Users/as3993/anaconda3/envs/plprob/lib/python3.12/site-packages/sklearn/covariance/_graph_lasso.py:191: ConvergenceWarning: graphical_lasso: did not converge after 100 iteration: dual gap: 2.570e-03\n",
      "  warnings.warn(\n",
      "/Users/as3993/Amit/PLProb/R/univariate.py:330: RuntimeWarning: invalid value encountered in power\n",
      "  val[lower_tail_x] = p_lower * (1 - (k * (x[lower_tail_x] - b))/a)**(-1/k)\n",
      "/Users/as3993/anaconda3/envs/plprob/lib/python3.12/site-packages/sklearn/covariance/_graph_lasso.py:139: ConvergenceWarning: Objective did not converge. You might want to increase the number of iterations. Duality gap: 0.0118168517778372, tolerance: 0.0038006980247813106\n",
      "  coefs, _, _, _ = cd_fast.enet_coordinate_descent_gram(\n",
      "/Users/as3993/anaconda3/envs/plprob/lib/python3.12/site-packages/sklearn/covariance/_graph_lasso.py:139: ConvergenceWarning: Objective did not converge. You might want to increase the number of iterations. Duality gap: 0.007770527409114436, tolerance: 0.0037848019884919918\n",
      "  coefs, _, _, _ = cd_fast.enet_coordinate_descent_gram(\n",
      "/Users/as3993/anaconda3/envs/plprob/lib/python3.12/site-packages/sklearn/covariance/_graph_lasso.py:139: ConvergenceWarning: Objective did not converge. You might want to increase the number of iterations. Duality gap: 0.01659817946704578, tolerance: 0.0039655673926924945\n",
      "  coefs, _, _, _ = cd_fast.enet_coordinate_descent_gram(\n",
      "/Users/as3993/anaconda3/envs/plprob/lib/python3.12/site-packages/sklearn/covariance/_graph_lasso.py:139: ConvergenceWarning: Objective did not converge. You might want to increase the number of iterations. Duality gap: 0.009273231510924518, tolerance: 0.004077273551314087\n",
      "  coefs, _, _, _ = cd_fast.enet_coordinate_descent_gram(\n",
      "/Users/as3993/anaconda3/envs/plprob/lib/python3.12/site-packages/sklearn/covariance/_graph_lasso.py:139: ConvergenceWarning: Objective did not converge. You might want to increase the number of iterations. Duality gap: 0.009833301496435354, tolerance: 0.0037356946840028443\n",
      "  coefs, _, _, _ = cd_fast.enet_coordinate_descent_gram(\n",
      "/Users/as3993/anaconda3/envs/plprob/lib/python3.12/site-packages/sklearn/covariance/_graph_lasso.py:191: ConvergenceWarning: graphical_lasso: did not converge after 100 iteration: dual gap: 8.310e-02\n",
      "  warnings.warn(\n",
      "/Users/as3993/Amit/PLProb/plprob/predictor.py:548: FutureWarning: The default of observed=False is deprecated and will be changed to True in a future version of pandas. Pass observed=False to retain current behavior or observed=True to adopt the future default and silence this warning.\n",
      "  self.cp_prob = dict(cp_count.groupby(cp_count).count()[::-1].cumsum() / len(cp_count))\n"
     ]
    },
    {
     "name": "stdout",
     "output_type": "stream",
     "text": [
      "2023-06-21\n"
     ]
    },
    {
     "name": "stderr",
     "output_type": "stream",
     "text": [
      "/Users/as3993/Amit/PLProb/R/univariate.py:320: RuntimeWarning: invalid value encountered in power\n",
      "  val[upper_tail_x] = 1 - (1 - p_upper) * (1 + (k * (x[upper_tail_x] - b))/a)**(-1/k)\n",
      "/Users/as3993/Amit/PLProb/R/univariate.py:330: RuntimeWarning: invalid value encountered in power\n",
      "  val[lower_tail_x] = p_lower * (1 - (k * (x[lower_tail_x] - b))/a)**(-1/k)\n",
      "/Users/as3993/Amit/PLProb/R/univariate.py:330: RuntimeWarning: invalid value encountered in power\n",
      "  val[lower_tail_x] = p_lower * (1 - (k * (x[lower_tail_x] - b))/a)**(-1/k)\n",
      "/Users/as3993/anaconda3/envs/plprob/lib/python3.12/site-packages/sklearn/covariance/_graph_lasso.py:139: ConvergenceWarning: Objective did not converge. You might want to increase the number of iterations. Duality gap: 0.011831804964607784, tolerance: 0.003801064594226597\n",
      "  coefs, _, _, _ = cd_fast.enet_coordinate_descent_gram(\n",
      "/Users/as3993/anaconda3/envs/plprob/lib/python3.12/site-packages/sklearn/covariance/_graph_lasso.py:139: ConvergenceWarning: Objective did not converge. You might want to increase the number of iterations. Duality gap: 0.0077865761355369045, tolerance: 0.0037851584792060644\n",
      "  coefs, _, _, _ = cd_fast.enet_coordinate_descent_gram(\n",
      "/Users/as3993/anaconda3/envs/plprob/lib/python3.12/site-packages/sklearn/covariance/_graph_lasso.py:139: ConvergenceWarning: Objective did not converge. You might want to increase the number of iterations. Duality gap: 0.01660670042853951, tolerance: 0.003965890288245919\n",
      "  coefs, _, _, _ = cd_fast.enet_coordinate_descent_gram(\n",
      "/Users/as3993/anaconda3/envs/plprob/lib/python3.12/site-packages/sklearn/covariance/_graph_lasso.py:139: ConvergenceWarning: Objective did not converge. You might want to increase the number of iterations. Duality gap: 0.00928894267823921, tolerance: 0.004077647445791948\n",
      "  coefs, _, _, _ = cd_fast.enet_coordinate_descent_gram(\n",
      "/Users/as3993/anaconda3/envs/plprob/lib/python3.12/site-packages/sklearn/covariance/_graph_lasso.py:139: ConvergenceWarning: Objective did not converge. You might want to increase the number of iterations. Duality gap: 0.009831947749525227, tolerance: 0.0037362589366994074\n",
      "  coefs, _, _, _ = cd_fast.enet_coordinate_descent_gram(\n",
      "/Users/as3993/anaconda3/envs/plprob/lib/python3.12/site-packages/sklearn/covariance/_graph_lasso.py:191: ConvergenceWarning: graphical_lasso: did not converge after 100 iteration: dual gap: -1.285e-02\n",
      "  warnings.warn(\n",
      "/Users/as3993/Amit/PLProb/plprob/predictor.py:548: FutureWarning: The default of observed=False is deprecated and will be changed to True in a future version of pandas. Pass observed=False to retain current behavior or observed=True to adopt the future default and silence this warning.\n",
      "  self.cp_prob = dict(cp_count.groupby(cp_count).count()[::-1].cumsum() / len(cp_count))\n"
     ]
    },
    {
     "name": "stdout",
     "output_type": "stream",
     "text": [
      "2023-06-22\n"
     ]
    },
    {
     "name": "stderr",
     "output_type": "stream",
     "text": [
      "/Users/as3993/Amit/PLProb/R/univariate.py:320: RuntimeWarning: invalid value encountered in power\n",
      "  val[upper_tail_x] = 1 - (1 - p_upper) * (1 + (k * (x[upper_tail_x] - b))/a)**(-1/k)\n",
      "/Users/as3993/Amit/PLProb/R/univariate.py:330: RuntimeWarning: invalid value encountered in power\n",
      "  val[lower_tail_x] = p_lower * (1 - (k * (x[lower_tail_x] - b))/a)**(-1/k)\n",
      "/Users/as3993/Amit/PLProb/R/univariate.py:330: RuntimeWarning: invalid value encountered in power\n",
      "  val[lower_tail_x] = p_lower * (1 - (k * (x[lower_tail_x] - b))/a)**(-1/k)\n",
      "/Users/as3993/anaconda3/envs/plprob/lib/python3.12/site-packages/sklearn/covariance/_graph_lasso.py:139: ConvergenceWarning: Objective did not converge. You might want to increase the number of iterations. Duality gap: 0.011809795461338979, tolerance: 0.003801037781128458\n",
      "  coefs, _, _, _ = cd_fast.enet_coordinate_descent_gram(\n",
      "/Users/as3993/anaconda3/envs/plprob/lib/python3.12/site-packages/sklearn/covariance/_graph_lasso.py:139: ConvergenceWarning: Objective did not converge. You might want to increase the number of iterations. Duality gap: 0.007756726937500957, tolerance: 0.003785191137125553\n",
      "  coefs, _, _, _ = cd_fast.enet_coordinate_descent_gram(\n",
      "/Users/as3993/anaconda3/envs/plprob/lib/python3.12/site-packages/sklearn/covariance/_graph_lasso.py:139: ConvergenceWarning: Objective did not converge. You might want to increase the number of iterations. Duality gap: 0.01665186434542676, tolerance: 0.003965770905860931\n",
      "  coefs, _, _, _ = cd_fast.enet_coordinate_descent_gram(\n",
      "/Users/as3993/anaconda3/envs/plprob/lib/python3.12/site-packages/sklearn/covariance/_graph_lasso.py:139: ConvergenceWarning: Objective did not converge. You might want to increase the number of iterations. Duality gap: 0.00926940993019798, tolerance: 0.004077540445081121\n",
      "  coefs, _, _, _ = cd_fast.enet_coordinate_descent_gram(\n",
      "/Users/as3993/anaconda3/envs/plprob/lib/python3.12/site-packages/sklearn/covariance/_graph_lasso.py:139: ConvergenceWarning: Objective did not converge. You might want to increase the number of iterations. Duality gap: 0.009819817935877495, tolerance: 0.003736330849908585\n",
      "  coefs, _, _, _ = cd_fast.enet_coordinate_descent_gram(\n",
      "/Users/as3993/anaconda3/envs/plprob/lib/python3.12/site-packages/sklearn/covariance/_graph_lasso.py:191: ConvergenceWarning: graphical_lasso: did not converge after 100 iteration: dual gap: -2.654e-03\n",
      "  warnings.warn(\n",
      "/Users/as3993/Amit/PLProb/R/univariate.py:330: RuntimeWarning: invalid value encountered in power\n",
      "  val[lower_tail_x] = p_lower * (1 - (k * (x[lower_tail_x] - b))/a)**(-1/k)\n",
      "/Users/as3993/Amit/PLProb/plprob/predictor.py:548: FutureWarning: The default of observed=False is deprecated and will be changed to True in a future version of pandas. Pass observed=False to retain current behavior or observed=True to adopt the future default and silence this warning.\n",
      "  self.cp_prob = dict(cp_count.groupby(cp_count).count()[::-1].cumsum() / len(cp_count))\n",
      "/Users/as3993/Amit/PLProb/plprob/predictor.py:551: FutureWarning: The behavior of DataFrame.idxmax with all-NA values, or any-NA and skipna=False, is deprecated. In a future version this will raise ValueError\n",
      "  peak_hour = self.cond_scenarios.droplevel(axis=1,level=0).idxmax(axis=1)\n"
     ]
    },
    {
     "name": "stdout",
     "output_type": "stream",
     "text": [
      "2023-06-23\n"
     ]
    },
    {
     "name": "stderr",
     "output_type": "stream",
     "text": [
      "/Users/as3993/Amit/PLProb/R/univariate.py:320: RuntimeWarning: invalid value encountered in power\n",
      "  val[upper_tail_x] = 1 - (1 - p_upper) * (1 + (k * (x[upper_tail_x] - b))/a)**(-1/k)\n",
      "/Users/as3993/Amit/PLProb/R/univariate.py:330: RuntimeWarning: invalid value encountered in power\n",
      "  val[lower_tail_x] = p_lower * (1 - (k * (x[lower_tail_x] - b))/a)**(-1/k)\n",
      "/Users/as3993/Amit/PLProb/R/univariate.py:330: RuntimeWarning: invalid value encountered in power\n",
      "  val[lower_tail_x] = p_lower * (1 - (k * (x[lower_tail_x] - b))/a)**(-1/k)\n",
      "/Users/as3993/anaconda3/envs/plprob/lib/python3.12/site-packages/sklearn/covariance/_graph_lasso.py:139: ConvergenceWarning: Objective did not converge. You might want to increase the number of iterations. Duality gap: 0.011844546927136435, tolerance: 0.0038012107046648063\n",
      "  coefs, _, _, _ = cd_fast.enet_coordinate_descent_gram(\n",
      "/Users/as3993/anaconda3/envs/plprob/lib/python3.12/site-packages/sklearn/covariance/_graph_lasso.py:139: ConvergenceWarning: Objective did not converge. You might want to increase the number of iterations. Duality gap: 0.007723896039983913, tolerance: 0.0037852931681499166\n",
      "  coefs, _, _, _ = cd_fast.enet_coordinate_descent_gram(\n",
      "/Users/as3993/anaconda3/envs/plprob/lib/python3.12/site-packages/sklearn/covariance/_graph_lasso.py:139: ConvergenceWarning: Objective did not converge. You might want to increase the number of iterations. Duality gap: 0.016641595960457778, tolerance: 0.003965568735233901\n",
      "  coefs, _, _, _ = cd_fast.enet_coordinate_descent_gram(\n",
      "/Users/as3993/anaconda3/envs/plprob/lib/python3.12/site-packages/sklearn/covariance/_graph_lasso.py:139: ConvergenceWarning: Objective did not converge. You might want to increase the number of iterations. Duality gap: 0.00924331776845122, tolerance: 0.004077436879536683\n",
      "  coefs, _, _, _ = cd_fast.enet_coordinate_descent_gram(\n",
      "/Users/as3993/anaconda3/envs/plprob/lib/python3.12/site-packages/sklearn/covariance/_graph_lasso.py:139: ConvergenceWarning: Objective did not converge. You might want to increase the number of iterations. Duality gap: 0.009783340657961048, tolerance: 0.0037363675189100707\n",
      "  coefs, _, _, _ = cd_fast.enet_coordinate_descent_gram(\n",
      "/Users/as3993/anaconda3/envs/plprob/lib/python3.12/site-packages/sklearn/covariance/_graph_lasso.py:191: ConvergenceWarning: graphical_lasso: did not converge after 100 iteration: dual gap: 5.760e-02\n",
      "  warnings.warn(\n",
      "/Users/as3993/Amit/PLProb/R/univariate.py:330: RuntimeWarning: invalid value encountered in power\n",
      "  val[lower_tail_x] = p_lower * (1 - (k * (x[lower_tail_x] - b))/a)**(-1/k)\n",
      "/Users/as3993/Amit/PLProb/plprob/predictor.py:548: FutureWarning: The default of observed=False is deprecated and will be changed to True in a future version of pandas. Pass observed=False to retain current behavior or observed=True to adopt the future default and silence this warning.\n",
      "  self.cp_prob = dict(cp_count.groupby(cp_count).count()[::-1].cumsum() / len(cp_count))\n",
      "/Users/as3993/Amit/PLProb/plprob/predictor.py:551: FutureWarning: The behavior of DataFrame.idxmax with all-NA values, or any-NA and skipna=False, is deprecated. In a future version this will raise ValueError\n",
      "  peak_hour = self.cond_scenarios.droplevel(axis=1,level=0).idxmax(axis=1)\n"
     ]
    },
    {
     "name": "stdout",
     "output_type": "stream",
     "text": [
      "2023-06-24\n"
     ]
    },
    {
     "name": "stderr",
     "output_type": "stream",
     "text": [
      "/Users/as3993/Amit/PLProb/R/univariate.py:320: RuntimeWarning: invalid value encountered in power\n",
      "  val[upper_tail_x] = 1 - (1 - p_upper) * (1 + (k * (x[upper_tail_x] - b))/a)**(-1/k)\n",
      "/Users/as3993/Amit/PLProb/R/univariate.py:330: RuntimeWarning: invalid value encountered in power\n",
      "  val[lower_tail_x] = p_lower * (1 - (k * (x[lower_tail_x] - b))/a)**(-1/k)\n",
      "/Users/as3993/Amit/PLProb/R/univariate.py:330: RuntimeWarning: invalid value encountered in power\n",
      "  val[lower_tail_x] = p_lower * (1 - (k * (x[lower_tail_x] - b))/a)**(-1/k)\n",
      "/Users/as3993/anaconda3/envs/plprob/lib/python3.12/site-packages/sklearn/covariance/_graph_lasso.py:139: ConvergenceWarning: Objective did not converge. You might want to increase the number of iterations. Duality gap: 0.011882970946956561, tolerance: 0.0038015201763576933\n",
      "  coefs, _, _, _ = cd_fast.enet_coordinate_descent_gram(\n",
      "/Users/as3993/anaconda3/envs/plprob/lib/python3.12/site-packages/sklearn/covariance/_graph_lasso.py:139: ConvergenceWarning: Objective did not converge. You might want to increase the number of iterations. Duality gap: 0.00774899947889196, tolerance: 0.0037856567576393333\n",
      "  coefs, _, _, _ = cd_fast.enet_coordinate_descent_gram(\n",
      "/Users/as3993/anaconda3/envs/plprob/lib/python3.12/site-packages/sklearn/covariance/_graph_lasso.py:139: ConvergenceWarning: Objective did not converge. You might want to increase the number of iterations. Duality gap: 0.016736093400140817, tolerance: 0.003965569496823142\n",
      "  coefs, _, _, _ = cd_fast.enet_coordinate_descent_gram(\n",
      "/Users/as3993/anaconda3/envs/plprob/lib/python3.12/site-packages/sklearn/covariance/_graph_lasso.py:139: ConvergenceWarning: Objective did not converge. You might want to increase the number of iterations. Duality gap: 0.00923909277842938, tolerance: 0.004077484147535116\n",
      "  coefs, _, _, _ = cd_fast.enet_coordinate_descent_gram(\n",
      "/Users/as3993/anaconda3/envs/plprob/lib/python3.12/site-packages/sklearn/covariance/_graph_lasso.py:139: ConvergenceWarning: Objective did not converge. You might want to increase the number of iterations. Duality gap: 0.009744846337845559, tolerance: 0.0037367484047958954\n",
      "  coefs, _, _, _ = cd_fast.enet_coordinate_descent_gram(\n",
      "/Users/as3993/anaconda3/envs/plprob/lib/python3.12/site-packages/sklearn/covariance/_graph_lasso.py:191: ConvergenceWarning: graphical_lasso: did not converge after 100 iteration: dual gap: 2.440e-02\n",
      "  warnings.warn(\n",
      "/Users/as3993/Amit/PLProb/plprob/predictor.py:548: FutureWarning: The default of observed=False is deprecated and will be changed to True in a future version of pandas. Pass observed=False to retain current behavior or observed=True to adopt the future default and silence this warning.\n",
      "  self.cp_prob = dict(cp_count.groupby(cp_count).count()[::-1].cumsum() / len(cp_count))\n"
     ]
    },
    {
     "name": "stdout",
     "output_type": "stream",
     "text": [
      "2023-06-25\n"
     ]
    },
    {
     "name": "stderr",
     "output_type": "stream",
     "text": [
      "/Users/as3993/Amit/PLProb/R/univariate.py:320: RuntimeWarning: invalid value encountered in power\n",
      "  val[upper_tail_x] = 1 - (1 - p_upper) * (1 + (k * (x[upper_tail_x] - b))/a)**(-1/k)\n",
      "/Users/as3993/Amit/PLProb/R/univariate.py:330: RuntimeWarning: invalid value encountered in power\n",
      "  val[lower_tail_x] = p_lower * (1 - (k * (x[lower_tail_x] - b))/a)**(-1/k)\n",
      "/Users/as3993/Amit/PLProb/R/univariate.py:330: RuntimeWarning: invalid value encountered in power\n",
      "  val[lower_tail_x] = p_lower * (1 - (k * (x[lower_tail_x] - b))/a)**(-1/k)\n",
      "/Users/as3993/anaconda3/envs/plprob/lib/python3.12/site-packages/sklearn/covariance/_graph_lasso.py:139: ConvergenceWarning: Objective did not converge. You might want to increase the number of iterations. Duality gap: 0.015417005085183177, tolerance: 0.00380480791356052\n",
      "  coefs, _, _, _ = cd_fast.enet_coordinate_descent_gram(\n",
      "/Users/as3993/anaconda3/envs/plprob/lib/python3.12/site-packages/sklearn/covariance/_graph_lasso.py:139: ConvergenceWarning: Objective did not converge. You might want to increase the number of iterations. Duality gap: 0.010505292691433965, tolerance: 0.003788710095398149\n",
      "  coefs, _, _, _ = cd_fast.enet_coordinate_descent_gram(\n",
      "/Users/as3993/anaconda3/envs/plprob/lib/python3.12/site-packages/sklearn/covariance/_graph_lasso.py:139: ConvergenceWarning: Objective did not converge. You might want to increase the number of iterations. Duality gap: 0.016741666504699992, tolerance: 0.003967765805757105\n",
      "  coefs, _, _, _ = cd_fast.enet_coordinate_descent_gram(\n",
      "/Users/as3993/anaconda3/envs/plprob/lib/python3.12/site-packages/sklearn/covariance/_graph_lasso.py:139: ConvergenceWarning: Objective did not converge. You might want to increase the number of iterations. Duality gap: 0.008602807477565477, tolerance: 0.00408066073430898\n",
      "  coefs, _, _, _ = cd_fast.enet_coordinate_descent_gram(\n",
      "/Users/as3993/anaconda3/envs/plprob/lib/python3.12/site-packages/sklearn/covariance/_graph_lasso.py:139: ConvergenceWarning: Objective did not converge. You might want to increase the number of iterations. Duality gap: 0.01051698716999283, tolerance: 0.003739423253100031\n",
      "  coefs, _, _, _ = cd_fast.enet_coordinate_descent_gram(\n",
      "/Users/as3993/anaconda3/envs/plprob/lib/python3.12/site-packages/sklearn/covariance/_graph_lasso.py:139: ConvergenceWarning: Objective did not converge. You might want to increase the number of iterations. Duality gap: 0.004265724466264942, tolerance: 0.003799929907213825\n",
      "  coefs, _, _, _ = cd_fast.enet_coordinate_descent_gram(\n",
      "/Users/as3993/anaconda3/envs/plprob/lib/python3.12/site-packages/sklearn/covariance/_graph_lasso.py:191: ConvergenceWarning: graphical_lasso: did not converge after 100 iteration: dual gap: -5.339e-02\n",
      "  warnings.warn(\n",
      "/Users/as3993/Amit/PLProb/plprob/predictor.py:548: FutureWarning: The default of observed=False is deprecated and will be changed to True in a future version of pandas. Pass observed=False to retain current behavior or observed=True to adopt the future default and silence this warning.\n",
      "  self.cp_prob = dict(cp_count.groupby(cp_count).count()[::-1].cumsum() / len(cp_count))\n"
     ]
    },
    {
     "name": "stdout",
     "output_type": "stream",
     "text": [
      "2023-06-26\n"
     ]
    },
    {
     "name": "stderr",
     "output_type": "stream",
     "text": [
      "/Users/as3993/Amit/PLProb/R/univariate.py:320: RuntimeWarning: invalid value encountered in power\n",
      "  val[upper_tail_x] = 1 - (1 - p_upper) * (1 + (k * (x[upper_tail_x] - b))/a)**(-1/k)\n",
      "/Users/as3993/Amit/PLProb/R/univariate.py:330: RuntimeWarning: invalid value encountered in power\n",
      "  val[lower_tail_x] = p_lower * (1 - (k * (x[lower_tail_x] - b))/a)**(-1/k)\n",
      "/Users/as3993/Amit/PLProb/R/univariate.py:330: RuntimeWarning: invalid value encountered in power\n",
      "  val[lower_tail_x] = p_lower * (1 - (k * (x[lower_tail_x] - b))/a)**(-1/k)\n",
      "/Users/as3993/anaconda3/envs/plprob/lib/python3.12/site-packages/sklearn/covariance/_graph_lasso.py:139: ConvergenceWarning: Objective did not converge. You might want to increase the number of iterations. Duality gap: 0.015416988495395856, tolerance: 0.003804877504969691\n",
      "  coefs, _, _, _ = cd_fast.enet_coordinate_descent_gram(\n",
      "/Users/as3993/anaconda3/envs/plprob/lib/python3.12/site-packages/sklearn/covariance/_graph_lasso.py:139: ConvergenceWarning: Objective did not converge. You might want to increase the number of iterations. Duality gap: 0.010512250618745611, tolerance: 0.0037887760298703044\n",
      "  coefs, _, _, _ = cd_fast.enet_coordinate_descent_gram(\n",
      "/Users/as3993/anaconda3/envs/plprob/lib/python3.12/site-packages/sklearn/covariance/_graph_lasso.py:139: ConvergenceWarning: Objective did not converge. You might want to increase the number of iterations. Duality gap: 0.016685032226106955, tolerance: 0.003967592122848129\n",
      "  coefs, _, _, _ = cd_fast.enet_coordinate_descent_gram(\n",
      "/Users/as3993/anaconda3/envs/plprob/lib/python3.12/site-packages/sklearn/covariance/_graph_lasso.py:139: ConvergenceWarning: Objective did not converge. You might want to increase the number of iterations. Duality gap: 0.008660771881956464, tolerance: 0.004080736239602485\n",
      "  coefs, _, _, _ = cd_fast.enet_coordinate_descent_gram(\n",
      "/Users/as3993/anaconda3/envs/plprob/lib/python3.12/site-packages/sklearn/covariance/_graph_lasso.py:139: ConvergenceWarning: Objective did not converge. You might want to increase the number of iterations. Duality gap: 0.010519819216604276, tolerance: 0.0037396912896080522\n",
      "  coefs, _, _, _ = cd_fast.enet_coordinate_descent_gram(\n",
      "/Users/as3993/anaconda3/envs/plprob/lib/python3.12/site-packages/sklearn/covariance/_graph_lasso.py:139: ConvergenceWarning: Objective did not converge. You might want to increase the number of iterations. Duality gap: 0.004277921539824092, tolerance: 0.0038001176009146488\n",
      "  coefs, _, _, _ = cd_fast.enet_coordinate_descent_gram(\n",
      "/Users/as3993/anaconda3/envs/plprob/lib/python3.12/site-packages/sklearn/covariance/_graph_lasso.py:191: ConvergenceWarning: graphical_lasso: did not converge after 100 iteration: dual gap: -2.661e-02\n",
      "  warnings.warn(\n",
      "/Users/as3993/Amit/PLProb/plprob/predictor.py:548: FutureWarning: The default of observed=False is deprecated and will be changed to True in a future version of pandas. Pass observed=False to retain current behavior or observed=True to adopt the future default and silence this warning.\n",
      "  self.cp_prob = dict(cp_count.groupby(cp_count).count()[::-1].cumsum() / len(cp_count))\n"
     ]
    },
    {
     "name": "stdout",
     "output_type": "stream",
     "text": [
      "2023-06-27\n"
     ]
    },
    {
     "name": "stderr",
     "output_type": "stream",
     "text": [
      "/Users/as3993/Amit/PLProb/R/univariate.py:320: RuntimeWarning: invalid value encountered in power\n",
      "  val[upper_tail_x] = 1 - (1 - p_upper) * (1 + (k * (x[upper_tail_x] - b))/a)**(-1/k)\n",
      "/Users/as3993/Amit/PLProb/R/univariate.py:330: RuntimeWarning: invalid value encountered in power\n",
      "  val[lower_tail_x] = p_lower * (1 - (k * (x[lower_tail_x] - b))/a)**(-1/k)\n",
      "/Users/as3993/Amit/PLProb/R/univariate.py:330: RuntimeWarning: invalid value encountered in power\n",
      "  val[lower_tail_x] = p_lower * (1 - (k * (x[lower_tail_x] - b))/a)**(-1/k)\n",
      "/Users/as3993/anaconda3/envs/plprob/lib/python3.12/site-packages/sklearn/covariance/_graph_lasso.py:139: ConvergenceWarning: Objective did not converge. You might want to increase the number of iterations. Duality gap: 0.015420260996712898, tolerance: 0.003804941340795532\n",
      "  coefs, _, _, _ = cd_fast.enet_coordinate_descent_gram(\n",
      "/Users/as3993/anaconda3/envs/plprob/lib/python3.12/site-packages/sklearn/covariance/_graph_lasso.py:139: ConvergenceWarning: Objective did not converge. You might want to increase the number of iterations. Duality gap: 0.01047866994368718, tolerance: 0.003788925566589846\n",
      "  coefs, _, _, _ = cd_fast.enet_coordinate_descent_gram(\n",
      "/Users/as3993/anaconda3/envs/plprob/lib/python3.12/site-packages/sklearn/covariance/_graph_lasso.py:139: ConvergenceWarning: Objective did not converge. You might want to increase the number of iterations. Duality gap: 0.016604070544893546, tolerance: 0.003967630746092766\n",
      "  coefs, _, _, _ = cd_fast.enet_coordinate_descent_gram(\n",
      "/Users/as3993/anaconda3/envs/plprob/lib/python3.12/site-packages/sklearn/covariance/_graph_lasso.py:139: ConvergenceWarning: Objective did not converge. You might want to increase the number of iterations. Duality gap: 0.008671638918812619, tolerance: 0.004080790522527643\n",
      "  coefs, _, _, _ = cd_fast.enet_coordinate_descent_gram(\n",
      "/Users/as3993/anaconda3/envs/plprob/lib/python3.12/site-packages/sklearn/covariance/_graph_lasso.py:139: ConvergenceWarning: Objective did not converge. You might want to increase the number of iterations. Duality gap: 0.011018435657156544, tolerance: 0.0037400013757000906\n",
      "  coefs, _, _, _ = cd_fast.enet_coordinate_descent_gram(\n",
      "/Users/as3993/anaconda3/envs/plprob/lib/python3.12/site-packages/sklearn/covariance/_graph_lasso.py:139: ConvergenceWarning: Objective did not converge. You might want to increase the number of iterations. Duality gap: 0.004327609345835981, tolerance: 0.0038004059680597927\n",
      "  coefs, _, _, _ = cd_fast.enet_coordinate_descent_gram(\n",
      "/Users/as3993/Amit/PLProb/plprob/predictor.py:548: FutureWarning: The default of observed=False is deprecated and will be changed to True in a future version of pandas. Pass observed=False to retain current behavior or observed=True to adopt the future default and silence this warning.\n",
      "  self.cp_prob = dict(cp_count.groupby(cp_count).count()[::-1].cumsum() / len(cp_count))\n"
     ]
    },
    {
     "name": "stdout",
     "output_type": "stream",
     "text": [
      "2023-06-28\n"
     ]
    },
    {
     "name": "stderr",
     "output_type": "stream",
     "text": [
      "/Users/as3993/Amit/PLProb/R/univariate.py:320: RuntimeWarning: invalid value encountered in power\n",
      "  val[upper_tail_x] = 1 - (1 - p_upper) * (1 + (k * (x[upper_tail_x] - b))/a)**(-1/k)\n",
      "/Users/as3993/Amit/PLProb/R/univariate.py:330: RuntimeWarning: invalid value encountered in power\n",
      "  val[lower_tail_x] = p_lower * (1 - (k * (x[lower_tail_x] - b))/a)**(-1/k)\n",
      "/Users/as3993/Amit/PLProb/R/univariate.py:330: RuntimeWarning: invalid value encountered in power\n",
      "  val[lower_tail_x] = p_lower * (1 - (k * (x[lower_tail_x] - b))/a)**(-1/k)\n",
      "/Users/as3993/anaconda3/envs/plprob/lib/python3.12/site-packages/sklearn/covariance/_graph_lasso.py:139: ConvergenceWarning: Objective did not converge. You might want to increase the number of iterations. Duality gap: 0.0037315867767730992, tolerance: 0.0037214451432027243\n",
      "  coefs, _, _, _ = cd_fast.enet_coordinate_descent_gram(\n",
      "/Users/as3993/anaconda3/envs/plprob/lib/python3.12/site-packages/sklearn/covariance/_graph_lasso.py:139: ConvergenceWarning: Objective did not converge. You might want to increase the number of iterations. Duality gap: 0.015482307660185768, tolerance: 0.0038050991408256738\n",
      "  coefs, _, _, _ = cd_fast.enet_coordinate_descent_gram(\n",
      "/Users/as3993/anaconda3/envs/plprob/lib/python3.12/site-packages/sklearn/covariance/_graph_lasso.py:139: ConvergenceWarning: Objective did not converge. You might want to increase the number of iterations. Duality gap: 0.010483432229840162, tolerance: 0.0037891539306661574\n",
      "  coefs, _, _, _ = cd_fast.enet_coordinate_descent_gram(\n",
      "/Users/as3993/anaconda3/envs/plprob/lib/python3.12/site-packages/sklearn/covariance/_graph_lasso.py:139: ConvergenceWarning: Objective did not converge. You might want to increase the number of iterations. Duality gap: 0.016535394136347747, tolerance: 0.0039677468292803695\n",
      "  coefs, _, _, _ = cd_fast.enet_coordinate_descent_gram(\n",
      "/Users/as3993/anaconda3/envs/plprob/lib/python3.12/site-packages/sklearn/covariance/_graph_lasso.py:139: ConvergenceWarning: Objective did not converge. You might want to increase the number of iterations. Duality gap: 0.008660746152031606, tolerance: 0.0040809647496466706\n",
      "  coefs, _, _, _ = cd_fast.enet_coordinate_descent_gram(\n",
      "/Users/as3993/anaconda3/envs/plprob/lib/python3.12/site-packages/sklearn/covariance/_graph_lasso.py:139: ConvergenceWarning: Objective did not converge. You might want to increase the number of iterations. Duality gap: 0.010942685559555798, tolerance: 0.0037404475981832547\n",
      "  coefs, _, _, _ = cd_fast.enet_coordinate_descent_gram(\n",
      "/Users/as3993/anaconda3/envs/plprob/lib/python3.12/site-packages/sklearn/covariance/_graph_lasso.py:139: ConvergenceWarning: Objective did not converge. You might want to increase the number of iterations. Duality gap: 0.00432437741399383, tolerance: 0.003800791582137744\n",
      "  coefs, _, _, _ = cd_fast.enet_coordinate_descent_gram(\n",
      "/Users/as3993/anaconda3/envs/plprob/lib/python3.12/site-packages/sklearn/covariance/_graph_lasso.py:191: ConvergenceWarning: graphical_lasso: did not converge after 100 iteration: dual gap: 1.055e-02\n",
      "  warnings.warn(\n",
      "/Users/as3993/Amit/PLProb/plprob/predictor.py:548: FutureWarning: The default of observed=False is deprecated and will be changed to True in a future version of pandas. Pass observed=False to retain current behavior or observed=True to adopt the future default and silence this warning.\n",
      "  self.cp_prob = dict(cp_count.groupby(cp_count).count()[::-1].cumsum() / len(cp_count))\n"
     ]
    },
    {
     "name": "stdout",
     "output_type": "stream",
     "text": [
      "2023-06-29\n"
     ]
    },
    {
     "name": "stderr",
     "output_type": "stream",
     "text": [
      "/Users/as3993/Amit/PLProb/R/univariate.py:320: RuntimeWarning: invalid value encountered in power\n",
      "  val[upper_tail_x] = 1 - (1 - p_upper) * (1 + (k * (x[upper_tail_x] - b))/a)**(-1/k)\n",
      "/Users/as3993/Amit/PLProb/R/univariate.py:330: RuntimeWarning: invalid value encountered in power\n",
      "  val[lower_tail_x] = p_lower * (1 - (k * (x[lower_tail_x] - b))/a)**(-1/k)\n",
      "/Users/as3993/Amit/PLProb/R/univariate.py:330: RuntimeWarning: invalid value encountered in power\n",
      "  val[lower_tail_x] = p_lower * (1 - (k * (x[lower_tail_x] - b))/a)**(-1/k)\n",
      "/Users/as3993/anaconda3/envs/plprob/lib/python3.12/site-packages/sklearn/covariance/_graph_lasso.py:139: ConvergenceWarning: Objective did not converge. You might want to increase the number of iterations. Duality gap: 0.0037421477328862807, tolerance: 0.003721819648071072\n",
      "  coefs, _, _, _ = cd_fast.enet_coordinate_descent_gram(\n",
      "/Users/as3993/anaconda3/envs/plprob/lib/python3.12/site-packages/sklearn/covariance/_graph_lasso.py:139: ConvergenceWarning: Objective did not converge. You might want to increase the number of iterations. Duality gap: 0.015460842004401343, tolerance: 0.003805349877426558\n",
      "  coefs, _, _, _ = cd_fast.enet_coordinate_descent_gram(\n",
      "/Users/as3993/anaconda3/envs/plprob/lib/python3.12/site-packages/sklearn/covariance/_graph_lasso.py:139: ConvergenceWarning: Objective did not converge. You might want to increase the number of iterations. Duality gap: 0.010450279547683294, tolerance: 0.003789344686413399\n",
      "  coefs, _, _, _ = cd_fast.enet_coordinate_descent_gram(\n",
      "/Users/as3993/anaconda3/envs/plprob/lib/python3.12/site-packages/sklearn/covariance/_graph_lasso.py:139: ConvergenceWarning: Objective did not converge. You might want to increase the number of iterations. Duality gap: 0.016536009654764428, tolerance: 0.00396814786834414\n",
      "  coefs, _, _, _ = cd_fast.enet_coordinate_descent_gram(\n",
      "/Users/as3993/anaconda3/envs/plprob/lib/python3.12/site-packages/sklearn/covariance/_graph_lasso.py:139: ConvergenceWarning: Objective did not converge. You might want to increase the number of iterations. Duality gap: 0.00866437151456978, tolerance: 0.004081334199203083\n",
      "  coefs, _, _, _ = cd_fast.enet_coordinate_descent_gram(\n",
      "/Users/as3993/anaconda3/envs/plprob/lib/python3.12/site-packages/sklearn/covariance/_graph_lasso.py:139: ConvergenceWarning: Objective did not converge. You might want to increase the number of iterations. Duality gap: 0.011064498423067448, tolerance: 0.003740995612395783\n",
      "  coefs, _, _, _ = cd_fast.enet_coordinate_descent_gram(\n",
      "/Users/as3993/anaconda3/envs/plprob/lib/python3.12/site-packages/sklearn/covariance/_graph_lasso.py:139: ConvergenceWarning: Objective did not converge. You might want to increase the number of iterations. Duality gap: 0.004337628890183964, tolerance: 0.0038012560523682975\n",
      "  coefs, _, _, _ = cd_fast.enet_coordinate_descent_gram(\n",
      "/Users/as3993/anaconda3/envs/plprob/lib/python3.12/site-packages/sklearn/covariance/_graph_lasso.py:191: ConvergenceWarning: graphical_lasso: did not converge after 100 iteration: dual gap: -2.087e-02\n",
      "  warnings.warn(\n",
      "/Users/as3993/Amit/PLProb/plprob/predictor.py:548: FutureWarning: The default of observed=False is deprecated and will be changed to True in a future version of pandas. Pass observed=False to retain current behavior or observed=True to adopt the future default and silence this warning.\n",
      "  self.cp_prob = dict(cp_count.groupby(cp_count).count()[::-1].cumsum() / len(cp_count))\n"
     ]
    },
    {
     "name": "stdout",
     "output_type": "stream",
     "text": [
      "2023-06-30\n"
     ]
    },
    {
     "name": "stderr",
     "output_type": "stream",
     "text": [
      "/Users/as3993/Amit/PLProb/R/univariate.py:320: RuntimeWarning: invalid value encountered in power\n",
      "  val[upper_tail_x] = 1 - (1 - p_upper) * (1 + (k * (x[upper_tail_x] - b))/a)**(-1/k)\n",
      "/Users/as3993/Amit/PLProb/R/univariate.py:330: RuntimeWarning: invalid value encountered in power\n",
      "  val[lower_tail_x] = p_lower * (1 - (k * (x[lower_tail_x] - b))/a)**(-1/k)\n",
      "/Users/as3993/Amit/PLProb/R/univariate.py:330: RuntimeWarning: invalid value encountered in power\n",
      "  val[lower_tail_x] = p_lower * (1 - (k * (x[lower_tail_x] - b))/a)**(-1/k)\n",
      "/Users/as3993/anaconda3/envs/plprob/lib/python3.12/site-packages/sklearn/covariance/_graph_lasso.py:139: ConvergenceWarning: Objective did not converge. You might want to increase the number of iterations. Duality gap: 0.003761573569775578, tolerance: 0.003721841171244821\n",
      "  coefs, _, _, _ = cd_fast.enet_coordinate_descent_gram(\n",
      "/Users/as3993/anaconda3/envs/plprob/lib/python3.12/site-packages/sklearn/covariance/_graph_lasso.py:139: ConvergenceWarning: Objective did not converge. You might want to increase the number of iterations. Duality gap: 0.015460039549452631, tolerance: 0.0038053580021317423\n",
      "  coefs, _, _, _ = cd_fast.enet_coordinate_descent_gram(\n",
      "/Users/as3993/anaconda3/envs/plprob/lib/python3.12/site-packages/sklearn/covariance/_graph_lasso.py:139: ConvergenceWarning: Objective did not converge. You might want to increase the number of iterations. Duality gap: 0.010444895441594326, tolerance: 0.003789348879111935\n",
      "  coefs, _, _, _ = cd_fast.enet_coordinate_descent_gram(\n",
      "/Users/as3993/anaconda3/envs/plprob/lib/python3.12/site-packages/sklearn/covariance/_graph_lasso.py:139: ConvergenceWarning: Objective did not converge. You might want to increase the number of iterations. Duality gap: 0.016515017268289967, tolerance: 0.003968327781550888\n",
      "  coefs, _, _, _ = cd_fast.enet_coordinate_descent_gram(\n",
      "/Users/as3993/anaconda3/envs/plprob/lib/python3.12/site-packages/sklearn/covariance/_graph_lasso.py:139: ConvergenceWarning: Objective did not converge. You might want to increase the number of iterations. Duality gap: 0.008666430857431351, tolerance: 0.004081515040361606\n",
      "  coefs, _, _, _ = cd_fast.enet_coordinate_descent_gram(\n",
      "/Users/as3993/anaconda3/envs/plprob/lib/python3.12/site-packages/sklearn/covariance/_graph_lasso.py:139: ConvergenceWarning: Objective did not converge. You might want to increase the number of iterations. Duality gap: 0.011147068029977447, tolerance: 0.0037413679346546026\n",
      "  coefs, _, _, _ = cd_fast.enet_coordinate_descent_gram(\n",
      "/Users/as3993/anaconda3/envs/plprob/lib/python3.12/site-packages/sklearn/covariance/_graph_lasso.py:139: ConvergenceWarning: Objective did not converge. You might want to increase the number of iterations. Duality gap: 0.004346545251969758, tolerance: 0.0038015021198289697\n",
      "  coefs, _, _, _ = cd_fast.enet_coordinate_descent_gram(\n",
      "/Users/as3993/anaconda3/envs/plprob/lib/python3.12/site-packages/sklearn/covariance/_graph_lasso.py:191: ConvergenceWarning: graphical_lasso: did not converge after 100 iteration: dual gap: -9.972e-03\n",
      "  warnings.warn(\n",
      "/Users/as3993/Amit/PLProb/plprob/predictor.py:548: FutureWarning: The default of observed=False is deprecated and will be changed to True in a future version of pandas. Pass observed=False to retain current behavior or observed=True to adopt the future default and silence this warning.\n",
      "  self.cp_prob = dict(cp_count.groupby(cp_count).count()[::-1].cumsum() / len(cp_count))\n"
     ]
    },
    {
     "name": "stdout",
     "output_type": "stream",
     "text": [
      "2023-07-01\n"
     ]
    },
    {
     "name": "stderr",
     "output_type": "stream",
     "text": [
      "/Users/as3993/Amit/PLProb/R/univariate.py:320: RuntimeWarning: invalid value encountered in power\n",
      "  val[upper_tail_x] = 1 - (1 - p_upper) * (1 + (k * (x[upper_tail_x] - b))/a)**(-1/k)\n",
      "/Users/as3993/Amit/PLProb/R/univariate.py:330: RuntimeWarning: invalid value encountered in power\n",
      "  val[lower_tail_x] = p_lower * (1 - (k * (x[lower_tail_x] - b))/a)**(-1/k)\n",
      "/Users/as3993/Amit/PLProb/R/univariate.py:330: RuntimeWarning: invalid value encountered in power\n",
      "  val[lower_tail_x] = p_lower * (1 - (k * (x[lower_tail_x] - b))/a)**(-1/k)\n",
      "/Users/as3993/anaconda3/envs/plprob/lib/python3.12/site-packages/sklearn/covariance/_graph_lasso.py:139: ConvergenceWarning: Objective did not converge. You might want to increase the number of iterations. Duality gap: 0.0037795169017371677, tolerance: 0.0037221376247684192\n",
      "  coefs, _, _, _ = cd_fast.enet_coordinate_descent_gram(\n",
      "/Users/as3993/anaconda3/envs/plprob/lib/python3.12/site-packages/sklearn/covariance/_graph_lasso.py:139: ConvergenceWarning: Objective did not converge. You might want to increase the number of iterations. Duality gap: 0.015445540060106566, tolerance: 0.0038056596641141134\n",
      "  coefs, _, _, _ = cd_fast.enet_coordinate_descent_gram(\n",
      "/Users/as3993/anaconda3/envs/plprob/lib/python3.12/site-packages/sklearn/covariance/_graph_lasso.py:139: ConvergenceWarning: Objective did not converge. You might want to increase the number of iterations. Duality gap: 0.010422794072155739, tolerance: 0.003789626555193762\n",
      "  coefs, _, _, _ = cd_fast.enet_coordinate_descent_gram(\n",
      "/Users/as3993/anaconda3/envs/plprob/lib/python3.12/site-packages/sklearn/covariance/_graph_lasso.py:139: ConvergenceWarning: Objective did not converge. You might want to increase the number of iterations. Duality gap: 0.0164878548877212, tolerance: 0.003968623696279796\n",
      "  coefs, _, _, _ = cd_fast.enet_coordinate_descent_gram(\n",
      "/Users/as3993/anaconda3/envs/plprob/lib/python3.12/site-packages/sklearn/covariance/_graph_lasso.py:139: ConvergenceWarning: Objective did not converge. You might want to increase the number of iterations. Duality gap: 0.008654115084617331, tolerance: 0.00408179819259916\n",
      "  coefs, _, _, _ = cd_fast.enet_coordinate_descent_gram(\n",
      "/Users/as3993/anaconda3/envs/plprob/lib/python3.12/site-packages/sklearn/covariance/_graph_lasso.py:139: ConvergenceWarning: Objective did not converge. You might want to increase the number of iterations. Duality gap: 0.011163813151888746, tolerance: 0.0037417065275696646\n",
      "  coefs, _, _, _ = cd_fast.enet_coordinate_descent_gram(\n",
      "/Users/as3993/anaconda3/envs/plprob/lib/python3.12/site-packages/sklearn/covariance/_graph_lasso.py:139: ConvergenceWarning: Objective did not converge. You might want to increase the number of iterations. Duality gap: 0.00436093758955991, tolerance: 0.003801836379664763\n",
      "  coefs, _, _, _ = cd_fast.enet_coordinate_descent_gram(\n",
      "/Users/as3993/anaconda3/envs/plprob/lib/python3.12/site-packages/sklearn/covariance/_graph_lasso.py:191: ConvergenceWarning: graphical_lasso: did not converge after 100 iteration: dual gap: 4.319e-03\n",
      "  warnings.warn(\n",
      "/Users/as3993/Amit/PLProb/plprob/predictor.py:548: FutureWarning: The default of observed=False is deprecated and will be changed to True in a future version of pandas. Pass observed=False to retain current behavior or observed=True to adopt the future default and silence this warning.\n",
      "  self.cp_prob = dict(cp_count.groupby(cp_count).count()[::-1].cumsum() / len(cp_count))\n"
     ]
    },
    {
     "name": "stdout",
     "output_type": "stream",
     "text": [
      "2023-07-02\n"
     ]
    },
    {
     "name": "stderr",
     "output_type": "stream",
     "text": [
      "/Users/as3993/Amit/PLProb/R/univariate.py:320: RuntimeWarning: invalid value encountered in power\n",
      "  val[upper_tail_x] = 1 - (1 - p_upper) * (1 + (k * (x[upper_tail_x] - b))/a)**(-1/k)\n",
      "/Users/as3993/Amit/PLProb/R/univariate.py:330: RuntimeWarning: invalid value encountered in power\n",
      "  val[lower_tail_x] = p_lower * (1 - (k * (x[lower_tail_x] - b))/a)**(-1/k)\n",
      "/Users/as3993/Amit/PLProb/R/univariate.py:330: RuntimeWarning: invalid value encountered in power\n",
      "  val[lower_tail_x] = p_lower * (1 - (k * (x[lower_tail_x] - b))/a)**(-1/k)\n",
      "/Users/as3993/anaconda3/envs/plprob/lib/python3.12/site-packages/sklearn/covariance/_graph_lasso.py:139: ConvergenceWarning: Objective did not converge. You might want to increase the number of iterations. Duality gap: 0.019768956322010922, tolerance: 0.0038099756238079083\n",
      "  coefs, _, _, _ = cd_fast.enet_coordinate_descent_gram(\n",
      "/Users/as3993/anaconda3/envs/plprob/lib/python3.12/site-packages/sklearn/covariance/_graph_lasso.py:139: ConvergenceWarning: Objective did not converge. You might want to increase the number of iterations. Duality gap: 0.012755442632069958, tolerance: 0.0037933521537468176\n",
      "  coefs, _, _, _ = cd_fast.enet_coordinate_descent_gram(\n",
      "/Users/as3993/anaconda3/envs/plprob/lib/python3.12/site-packages/sklearn/covariance/_graph_lasso.py:139: ConvergenceWarning: Objective did not converge. You might want to increase the number of iterations. Duality gap: 0.016404003310462656, tolerance: 0.003971136430126615\n",
      "  coefs, _, _, _ = cd_fast.enet_coordinate_descent_gram(\n",
      "/Users/as3993/anaconda3/envs/plprob/lib/python3.12/site-packages/sklearn/covariance/_graph_lasso.py:139: ConvergenceWarning: Objective did not converge. You might want to increase the number of iterations. Duality gap: 0.008925742452674967, tolerance: 0.004084835987878012\n",
      "  coefs, _, _, _ = cd_fast.enet_coordinate_descent_gram(\n",
      "/Users/as3993/anaconda3/envs/plprob/lib/python3.12/site-packages/sklearn/covariance/_graph_lasso.py:139: ConvergenceWarning: Objective did not converge. You might want to increase the number of iterations. Duality gap: 0.004148250857795688, tolerance: 0.0038017350438774573\n",
      "  coefs, _, _, _ = cd_fast.enet_coordinate_descent_gram(\n",
      "/Users/as3993/anaconda3/envs/plprob/lib/python3.12/site-packages/sklearn/covariance/_graph_lasso.py:191: ConvergenceWarning: graphical_lasso: did not converge after 100 iteration: dual gap: 4.332e-03\n",
      "  warnings.warn(\n",
      "/Users/as3993/Amit/PLProb/plprob/predictor.py:548: FutureWarning: The default of observed=False is deprecated and will be changed to True in a future version of pandas. Pass observed=False to retain current behavior or observed=True to adopt the future default and silence this warning.\n",
      "  self.cp_prob = dict(cp_count.groupby(cp_count).count()[::-1].cumsum() / len(cp_count))\n"
     ]
    },
    {
     "name": "stdout",
     "output_type": "stream",
     "text": [
      "2023-07-03\n"
     ]
    },
    {
     "name": "stderr",
     "output_type": "stream",
     "text": [
      "/Users/as3993/Amit/PLProb/R/univariate.py:320: RuntimeWarning: invalid value encountered in power\n",
      "  val[upper_tail_x] = 1 - (1 - p_upper) * (1 + (k * (x[upper_tail_x] - b))/a)**(-1/k)\n",
      "/Users/as3993/Amit/PLProb/R/univariate.py:330: RuntimeWarning: invalid value encountered in power\n",
      "  val[lower_tail_x] = p_lower * (1 - (k * (x[lower_tail_x] - b))/a)**(-1/k)\n",
      "/Users/as3993/Amit/PLProb/R/univariate.py:330: RuntimeWarning: invalid value encountered in power\n",
      "  val[lower_tail_x] = p_lower * (1 - (k * (x[lower_tail_x] - b))/a)**(-1/k)\n",
      "/Users/as3993/anaconda3/envs/plprob/lib/python3.12/site-packages/sklearn/covariance/_graph_lasso.py:139: ConvergenceWarning: Objective did not converge. You might want to increase the number of iterations. Duality gap: 0.019624291709476438, tolerance: 0.0038087160835370507\n",
      "  coefs, _, _, _ = cd_fast.enet_coordinate_descent_gram(\n",
      "/Users/as3993/anaconda3/envs/plprob/lib/python3.12/site-packages/sklearn/covariance/_graph_lasso.py:139: ConvergenceWarning: Objective did not converge. You might want to increase the number of iterations. Duality gap: 0.012781512414086649, tolerance: 0.0037918415875431623\n",
      "  coefs, _, _, _ = cd_fast.enet_coordinate_descent_gram(\n",
      "/Users/as3993/anaconda3/envs/plprob/lib/python3.12/site-packages/sklearn/covariance/_graph_lasso.py:139: ConvergenceWarning: Objective did not converge. You might want to increase the number of iterations. Duality gap: 0.016437523926732922, tolerance: 0.003970404561233126\n",
      "  coefs, _, _, _ = cd_fast.enet_coordinate_descent_gram(\n",
      "/Users/as3993/anaconda3/envs/plprob/lib/python3.12/site-packages/sklearn/covariance/_graph_lasso.py:139: ConvergenceWarning: Objective did not converge. You might want to increase the number of iterations. Duality gap: 0.008911506459661211, tolerance: 0.004084262427763288\n",
      "  coefs, _, _, _ = cd_fast.enet_coordinate_descent_gram(\n",
      "/Users/as3993/anaconda3/envs/plprob/lib/python3.12/site-packages/sklearn/covariance/_graph_lasso.py:139: ConvergenceWarning: Objective did not converge. You might want to increase the number of iterations. Duality gap: 0.004140983455165781, tolerance: 0.0038016172800292\n",
      "  coefs, _, _, _ = cd_fast.enet_coordinate_descent_gram(\n",
      "/Users/as3993/anaconda3/envs/plprob/lib/python3.12/site-packages/sklearn/covariance/_graph_lasso.py:191: ConvergenceWarning: graphical_lasso: did not converge after 100 iteration: dual gap: -2.424e-02\n",
      "  warnings.warn(\n",
      "/Users/as3993/Amit/PLProb/plprob/predictor.py:548: FutureWarning: The default of observed=False is deprecated and will be changed to True in a future version of pandas. Pass observed=False to retain current behavior or observed=True to adopt the future default and silence this warning.\n",
      "  self.cp_prob = dict(cp_count.groupby(cp_count).count()[::-1].cumsum() / len(cp_count))\n"
     ]
    },
    {
     "name": "stdout",
     "output_type": "stream",
     "text": [
      "2023-07-04\n"
     ]
    },
    {
     "name": "stderr",
     "output_type": "stream",
     "text": [
      "/Users/as3993/Amit/PLProb/R/univariate.py:320: RuntimeWarning: invalid value encountered in power\n",
      "  val[upper_tail_x] = 1 - (1 - p_upper) * (1 + (k * (x[upper_tail_x] - b))/a)**(-1/k)\n",
      "/Users/as3993/Amit/PLProb/R/univariate.py:330: RuntimeWarning: invalid value encountered in power\n",
      "  val[lower_tail_x] = p_lower * (1 - (k * (x[lower_tail_x] - b))/a)**(-1/k)\n",
      "/Users/as3993/Amit/PLProb/R/univariate.py:330: RuntimeWarning: invalid value encountered in power\n",
      "  val[lower_tail_x] = p_lower * (1 - (k * (x[lower_tail_x] - b))/a)**(-1/k)\n",
      "/Users/as3993/anaconda3/envs/plprob/lib/python3.12/site-packages/sklearn/covariance/_graph_lasso.py:139: ConvergenceWarning: Objective did not converge. You might want to increase the number of iterations. Duality gap: 0.01960944273435672, tolerance: 0.0038093529264039234\n",
      "  coefs, _, _, _ = cd_fast.enet_coordinate_descent_gram(\n",
      "/Users/as3993/anaconda3/envs/plprob/lib/python3.12/site-packages/sklearn/covariance/_graph_lasso.py:139: ConvergenceWarning: Objective did not converge. You might want to increase the number of iterations. Duality gap: 0.012806113029007804, tolerance: 0.0037925904201872294\n",
      "  coefs, _, _, _ = cd_fast.enet_coordinate_descent_gram(\n",
      "/Users/as3993/anaconda3/envs/plprob/lib/python3.12/site-packages/sklearn/covariance/_graph_lasso.py:139: ConvergenceWarning: Objective did not converge. You might want to increase the number of iterations. Duality gap: 0.01644301754523525, tolerance: 0.00397090918877203\n",
      "  coefs, _, _, _ = cd_fast.enet_coordinate_descent_gram(\n",
      "/Users/as3993/anaconda3/envs/plprob/lib/python3.12/site-packages/sklearn/covariance/_graph_lasso.py:139: ConvergenceWarning: Objective did not converge. You might want to increase the number of iterations. Duality gap: 0.008902558544548356, tolerance: 0.004084561053202348\n",
      "  coefs, _, _, _ = cd_fast.enet_coordinate_descent_gram(\n",
      "/Users/as3993/anaconda3/envs/plprob/lib/python3.12/site-packages/sklearn/covariance/_graph_lasso.py:139: ConvergenceWarning: Objective did not converge. You might want to increase the number of iterations. Duality gap: 0.004100542342420965, tolerance: 0.0038021512400717074\n",
      "  coefs, _, _, _ = cd_fast.enet_coordinate_descent_gram(\n",
      "/Users/as3993/anaconda3/envs/plprob/lib/python3.12/site-packages/sklearn/covariance/_graph_lasso.py:191: ConvergenceWarning: graphical_lasso: did not converge after 100 iteration: dual gap: -8.045e-02\n",
      "  warnings.warn(\n",
      "/Users/as3993/Amit/PLProb/plprob/predictor.py:548: FutureWarning: The default of observed=False is deprecated and will be changed to True in a future version of pandas. Pass observed=False to retain current behavior or observed=True to adopt the future default and silence this warning.\n",
      "  self.cp_prob = dict(cp_count.groupby(cp_count).count()[::-1].cumsum() / len(cp_count))\n"
     ]
    },
    {
     "name": "stdout",
     "output_type": "stream",
     "text": [
      "2023-07-05\n"
     ]
    },
    {
     "name": "stderr",
     "output_type": "stream",
     "text": [
      "/Users/as3993/Amit/PLProb/R/univariate.py:320: RuntimeWarning: invalid value encountered in power\n",
      "  val[upper_tail_x] = 1 - (1 - p_upper) * (1 + (k * (x[upper_tail_x] - b))/a)**(-1/k)\n",
      "/Users/as3993/Amit/PLProb/R/univariate.py:330: RuntimeWarning: invalid value encountered in power\n",
      "  val[lower_tail_x] = p_lower * (1 - (k * (x[lower_tail_x] - b))/a)**(-1/k)\n",
      "/Users/as3993/Amit/PLProb/R/univariate.py:330: RuntimeWarning: invalid value encountered in power\n",
      "  val[lower_tail_x] = p_lower * (1 - (k * (x[lower_tail_x] - b))/a)**(-1/k)\n",
      "/Users/as3993/anaconda3/envs/plprob/lib/python3.12/site-packages/sklearn/covariance/_graph_lasso.py:139: ConvergenceWarning: Objective did not converge. You might want to increase the number of iterations. Duality gap: 0.019833926494293053, tolerance: 0.0038089114350811216\n",
      "  coefs, _, _, _ = cd_fast.enet_coordinate_descent_gram(\n",
      "/Users/as3993/anaconda3/envs/plprob/lib/python3.12/site-packages/sklearn/covariance/_graph_lasso.py:139: ConvergenceWarning: Objective did not converge. You might want to increase the number of iterations. Duality gap: 0.012796266782885368, tolerance: 0.0037924156505422355\n",
      "  coefs, _, _, _ = cd_fast.enet_coordinate_descent_gram(\n",
      "/Users/as3993/anaconda3/envs/plprob/lib/python3.12/site-packages/sklearn/covariance/_graph_lasso.py:139: ConvergenceWarning: Objective did not converge. You might want to increase the number of iterations. Duality gap: 0.016452139190882065, tolerance: 0.003970699681373255\n",
      "  coefs, _, _, _ = cd_fast.enet_coordinate_descent_gram(\n",
      "/Users/as3993/anaconda3/envs/plprob/lib/python3.12/site-packages/sklearn/covariance/_graph_lasso.py:139: ConvergenceWarning: Objective did not converge. You might want to increase the number of iterations. Duality gap: 0.008895311581980536, tolerance: 0.004084363266891896\n",
      "  coefs, _, _, _ = cd_fast.enet_coordinate_descent_gram(\n",
      "/Users/as3993/anaconda3/envs/plprob/lib/python3.12/site-packages/sklearn/covariance/_graph_lasso.py:139: ConvergenceWarning: Objective did not converge. You might want to increase the number of iterations. Duality gap: 0.004174899023539069, tolerance: 0.0038021223411384888\n",
      "  coefs, _, _, _ = cd_fast.enet_coordinate_descent_gram(\n",
      "/Users/as3993/anaconda3/envs/plprob/lib/python3.12/site-packages/sklearn/covariance/_graph_lasso.py:191: ConvergenceWarning: graphical_lasso: did not converge after 100 iteration: dual gap: 2.729e-02\n",
      "  warnings.warn(\n",
      "/Users/as3993/Amit/PLProb/plprob/predictor.py:548: FutureWarning: The default of observed=False is deprecated and will be changed to True in a future version of pandas. Pass observed=False to retain current behavior or observed=True to adopt the future default and silence this warning.\n",
      "  self.cp_prob = dict(cp_count.groupby(cp_count).count()[::-1].cumsum() / len(cp_count))\n"
     ]
    },
    {
     "name": "stdout",
     "output_type": "stream",
     "text": [
      "2023-07-06\n"
     ]
    },
    {
     "name": "stderr",
     "output_type": "stream",
     "text": [
      "/Users/as3993/Amit/PLProb/R/univariate.py:320: RuntimeWarning: invalid value encountered in power\n",
      "  val[upper_tail_x] = 1 - (1 - p_upper) * (1 + (k * (x[upper_tail_x] - b))/a)**(-1/k)\n",
      "/Users/as3993/Amit/PLProb/R/univariate.py:330: RuntimeWarning: invalid value encountered in power\n",
      "  val[lower_tail_x] = p_lower * (1 - (k * (x[lower_tail_x] - b))/a)**(-1/k)\n",
      "/Users/as3993/Amit/PLProb/R/univariate.py:330: RuntimeWarning: invalid value encountered in power\n",
      "  val[lower_tail_x] = p_lower * (1 - (k * (x[lower_tail_x] - b))/a)**(-1/k)\n",
      "/Users/as3993/anaconda3/envs/plprob/lib/python3.12/site-packages/sklearn/covariance/_graph_lasso.py:139: ConvergenceWarning: Objective did not converge. You might want to increase the number of iterations. Duality gap: 0.019963525219019118, tolerance: 0.0038085775390435637\n",
      "  coefs, _, _, _ = cd_fast.enet_coordinate_descent_gram(\n",
      "/Users/as3993/anaconda3/envs/plprob/lib/python3.12/site-packages/sklearn/covariance/_graph_lasso.py:139: ConvergenceWarning: Objective did not converge. You might want to increase the number of iterations. Duality gap: 0.01286405692162873, tolerance: 0.0037920742606517344\n",
      "  coefs, _, _, _ = cd_fast.enet_coordinate_descent_gram(\n",
      "/Users/as3993/anaconda3/envs/plprob/lib/python3.12/site-packages/sklearn/covariance/_graph_lasso.py:139: ConvergenceWarning: Objective did not converge. You might want to increase the number of iterations. Duality gap: 0.016416031618888383, tolerance: 0.0039713164519104205\n",
      "  coefs, _, _, _ = cd_fast.enet_coordinate_descent_gram(\n",
      "/Users/as3993/anaconda3/envs/plprob/lib/python3.12/site-packages/sklearn/covariance/_graph_lasso.py:139: ConvergenceWarning: Objective did not converge. You might want to increase the number of iterations. Duality gap: 0.008867779614533333, tolerance: 0.0040847328982040985\n",
      "  coefs, _, _, _ = cd_fast.enet_coordinate_descent_gram(\n",
      "/Users/as3993/anaconda3/envs/plprob/lib/python3.12/site-packages/sklearn/covariance/_graph_lasso.py:139: ConvergenceWarning: Objective did not converge. You might want to increase the number of iterations. Duality gap: 0.004103220850083744, tolerance: 0.003802817384568078\n",
      "  coefs, _, _, _ = cd_fast.enet_coordinate_descent_gram(\n",
      "/Users/as3993/anaconda3/envs/plprob/lib/python3.12/site-packages/sklearn/covariance/_graph_lasso.py:191: ConvergenceWarning: graphical_lasso: did not converge after 100 iteration: dual gap: -1.077e-02\n",
      "  warnings.warn(\n",
      "/Users/as3993/Amit/PLProb/plprob/predictor.py:548: FutureWarning: The default of observed=False is deprecated and will be changed to True in a future version of pandas. Pass observed=False to retain current behavior or observed=True to adopt the future default and silence this warning.\n",
      "  self.cp_prob = dict(cp_count.groupby(cp_count).count()[::-1].cumsum() / len(cp_count))\n"
     ]
    },
    {
     "name": "stdout",
     "output_type": "stream",
     "text": [
      "2023-07-07\n"
     ]
    },
    {
     "name": "stderr",
     "output_type": "stream",
     "text": [
      "/Users/as3993/Amit/PLProb/R/univariate.py:320: RuntimeWarning: invalid value encountered in power\n",
      "  val[upper_tail_x] = 1 - (1 - p_upper) * (1 + (k * (x[upper_tail_x] - b))/a)**(-1/k)\n",
      "/Users/as3993/Amit/PLProb/R/univariate.py:330: RuntimeWarning: invalid value encountered in power\n",
      "  val[lower_tail_x] = p_lower * (1 - (k * (x[lower_tail_x] - b))/a)**(-1/k)\n",
      "/Users/as3993/Amit/PLProb/R/univariate.py:330: RuntimeWarning: invalid value encountered in power\n",
      "  val[lower_tail_x] = p_lower * (1 - (k * (x[lower_tail_x] - b))/a)**(-1/k)\n",
      "/Users/as3993/anaconda3/envs/plprob/lib/python3.12/site-packages/sklearn/covariance/_graph_lasso.py:139: ConvergenceWarning: Objective did not converge. You might want to increase the number of iterations. Duality gap: 0.01998214670438614, tolerance: 0.0038096020718635195\n",
      "  coefs, _, _, _ = cd_fast.enet_coordinate_descent_gram(\n",
      "/Users/as3993/anaconda3/envs/plprob/lib/python3.12/site-packages/sklearn/covariance/_graph_lasso.py:139: ConvergenceWarning: Objective did not converge. You might want to increase the number of iterations. Duality gap: 0.012930260164196739, tolerance: 0.003793312599065739\n",
      "  coefs, _, _, _ = cd_fast.enet_coordinate_descent_gram(\n",
      "/Users/as3993/anaconda3/envs/plprob/lib/python3.12/site-packages/sklearn/covariance/_graph_lasso.py:139: ConvergenceWarning: Objective did not converge. You might want to increase the number of iterations. Duality gap: 0.01633822020746578, tolerance: 0.0039722037777889085\n",
      "  coefs, _, _, _ = cd_fast.enet_coordinate_descent_gram(\n",
      "/Users/as3993/anaconda3/envs/plprob/lib/python3.12/site-packages/sklearn/covariance/_graph_lasso.py:139: ConvergenceWarning: Objective did not converge. You might want to increase the number of iterations. Duality gap: 0.008765434278878104, tolerance: 0.004085102893854046\n",
      "  coefs, _, _, _ = cd_fast.enet_coordinate_descent_gram(\n",
      "/Users/as3993/anaconda3/envs/plprob/lib/python3.12/site-packages/sklearn/covariance/_graph_lasso.py:139: ConvergenceWarning: Objective did not converge. You might want to increase the number of iterations. Duality gap: 0.004088205126954847, tolerance: 0.003803719547095402\n",
      "  coefs, _, _, _ = cd_fast.enet_coordinate_descent_gram(\n",
      "/Users/as3993/anaconda3/envs/plprob/lib/python3.12/site-packages/sklearn/covariance/_graph_lasso.py:191: ConvergenceWarning: graphical_lasso: did not converge after 100 iteration: dual gap: -2.347e-02\n",
      "  warnings.warn(\n",
      "/Users/as3993/Amit/PLProb/plprob/predictor.py:548: FutureWarning: The default of observed=False is deprecated and will be changed to True in a future version of pandas. Pass observed=False to retain current behavior or observed=True to adopt the future default and silence this warning.\n",
      "  self.cp_prob = dict(cp_count.groupby(cp_count).count()[::-1].cumsum() / len(cp_count))\n"
     ]
    },
    {
     "name": "stdout",
     "output_type": "stream",
     "text": [
      "2023-07-08\n"
     ]
    },
    {
     "name": "stderr",
     "output_type": "stream",
     "text": [
      "/Users/as3993/Amit/PLProb/R/univariate.py:320: RuntimeWarning: invalid value encountered in power\n",
      "  val[upper_tail_x] = 1 - (1 - p_upper) * (1 + (k * (x[upper_tail_x] - b))/a)**(-1/k)\n",
      "/Users/as3993/Amit/PLProb/R/univariate.py:330: RuntimeWarning: invalid value encountered in power\n",
      "  val[lower_tail_x] = p_lower * (1 - (k * (x[lower_tail_x] - b))/a)**(-1/k)\n",
      "/Users/as3993/Amit/PLProb/R/univariate.py:330: RuntimeWarning: invalid value encountered in power\n",
      "  val[lower_tail_x] = p_lower * (1 - (k * (x[lower_tail_x] - b))/a)**(-1/k)\n",
      "/Users/as3993/anaconda3/envs/plprob/lib/python3.12/site-packages/sklearn/covariance/_graph_lasso.py:139: ConvergenceWarning: Objective did not converge. You might want to increase the number of iterations. Duality gap: 0.01969739802483872, tolerance: 0.003810575212578417\n",
      "  coefs, _, _, _ = cd_fast.enet_coordinate_descent_gram(\n",
      "/Users/as3993/anaconda3/envs/plprob/lib/python3.12/site-packages/sklearn/covariance/_graph_lasso.py:139: ConvergenceWarning: Objective did not converge. You might want to increase the number of iterations. Duality gap: 0.012900614096253094, tolerance: 0.003794588075063007\n",
      "  coefs, _, _, _ = cd_fast.enet_coordinate_descent_gram(\n",
      "/Users/as3993/anaconda3/envs/plprob/lib/python3.12/site-packages/sklearn/covariance/_graph_lasso.py:139: ConvergenceWarning: Objective did not converge. You might want to increase the number of iterations. Duality gap: 0.016271320149400026, tolerance: 0.0039728042392967585\n",
      "  coefs, _, _, _ = cd_fast.enet_coordinate_descent_gram(\n",
      "/Users/as3993/anaconda3/envs/plprob/lib/python3.12/site-packages/sklearn/covariance/_graph_lasso.py:139: ConvergenceWarning: Objective did not converge. You might want to increase the number of iterations. Duality gap: 0.00877065864344928, tolerance: 0.004085465550441839\n",
      "  coefs, _, _, _ = cd_fast.enet_coordinate_descent_gram(\n",
      "/Users/as3993/anaconda3/envs/plprob/lib/python3.12/site-packages/sklearn/covariance/_graph_lasso.py:139: ConvergenceWarning: Objective did not converge. You might want to increase the number of iterations. Duality gap: 0.004069104817261859, tolerance: 0.0038041241192420345\n",
      "  coefs, _, _, _ = cd_fast.enet_coordinate_descent_gram(\n",
      "/Users/as3993/anaconda3/envs/plprob/lib/python3.12/site-packages/sklearn/covariance/_graph_lasso.py:191: ConvergenceWarning: graphical_lasso: did not converge after 100 iteration: dual gap: -6.821e-02\n",
      "  warnings.warn(\n",
      "/Users/as3993/Amit/PLProb/plprob/predictor.py:548: FutureWarning: The default of observed=False is deprecated and will be changed to True in a future version of pandas. Pass observed=False to retain current behavior or observed=True to adopt the future default and silence this warning.\n",
      "  self.cp_prob = dict(cp_count.groupby(cp_count).count()[::-1].cumsum() / len(cp_count))\n"
     ]
    },
    {
     "name": "stdout",
     "output_type": "stream",
     "text": [
      "2023-07-09\n"
     ]
    },
    {
     "name": "stderr",
     "output_type": "stream",
     "text": [
      "/Users/as3993/Amit/PLProb/R/univariate.py:320: RuntimeWarning: invalid value encountered in power\n",
      "  val[upper_tail_x] = 1 - (1 - p_upper) * (1 + (k * (x[upper_tail_x] - b))/a)**(-1/k)\n",
      "/Users/as3993/Amit/PLProb/R/univariate.py:330: RuntimeWarning: invalid value encountered in power\n",
      "  val[lower_tail_x] = p_lower * (1 - (k * (x[lower_tail_x] - b))/a)**(-1/k)\n",
      "/Users/as3993/Amit/PLProb/R/univariate.py:330: RuntimeWarning: invalid value encountered in power\n",
      "  val[lower_tail_x] = p_lower * (1 - (k * (x[lower_tail_x] - b))/a)**(-1/k)\n",
      "/Users/as3993/anaconda3/envs/plprob/lib/python3.12/site-packages/sklearn/covariance/_graph_lasso.py:139: ConvergenceWarning: Objective did not converge. You might want to increase the number of iterations. Duality gap: 0.01805797170923995, tolerance: 0.0038038335453714823\n",
      "  coefs, _, _, _ = cd_fast.enet_coordinate_descent_gram(\n",
      "/Users/as3993/anaconda3/envs/plprob/lib/python3.12/site-packages/sklearn/covariance/_graph_lasso.py:139: ConvergenceWarning: Objective did not converge. You might want to increase the number of iterations. Duality gap: 0.011161902565348214, tolerance: 0.0037881360315427373\n",
      "  coefs, _, _, _ = cd_fast.enet_coordinate_descent_gram(\n",
      "/Users/as3993/anaconda3/envs/plprob/lib/python3.12/site-packages/sklearn/covariance/_graph_lasso.py:139: ConvergenceWarning: Objective did not converge. You might want to increase the number of iterations. Duality gap: 0.016186090486080218, tolerance: 0.003968259188661985\n",
      "  coefs, _, _, _ = cd_fast.enet_coordinate_descent_gram(\n",
      "/Users/as3993/anaconda3/envs/plprob/lib/python3.12/site-packages/sklearn/covariance/_graph_lasso.py:139: ConvergenceWarning: Objective did not converge. You might want to increase the number of iterations. Duality gap: 0.008874263017354167, tolerance: 0.004080913105015149\n",
      "  coefs, _, _, _ = cd_fast.enet_coordinate_descent_gram(\n",
      "/Users/as3993/anaconda3/envs/plprob/lib/python3.12/site-packages/sklearn/covariance/_graph_lasso.py:139: ConvergenceWarning: Objective did not converge. You might want to increase the number of iterations. Duality gap: 0.004226535601702608, tolerance: 0.004112530302935903\n",
      "  coefs, _, _, _ = cd_fast.enet_coordinate_descent_gram(\n",
      "/Users/as3993/anaconda3/envs/plprob/lib/python3.12/site-packages/sklearn/covariance/_graph_lasso.py:139: ConvergenceWarning: Objective did not converge. You might want to increase the number of iterations. Duality gap: 0.004836559276022001, tolerance: 0.00379431538460899\n",
      "  coefs, _, _, _ = cd_fast.enet_coordinate_descent_gram(\n",
      "/Users/as3993/anaconda3/envs/plprob/lib/python3.12/site-packages/sklearn/covariance/_graph_lasso.py:191: ConvergenceWarning: graphical_lasso: did not converge after 100 iteration: dual gap: -1.586e-01\n",
      "  warnings.warn(\n",
      "/Users/as3993/Amit/PLProb/plprob/predictor.py:548: FutureWarning: The default of observed=False is deprecated and will be changed to True in a future version of pandas. Pass observed=False to retain current behavior or observed=True to adopt the future default and silence this warning.\n",
      "  self.cp_prob = dict(cp_count.groupby(cp_count).count()[::-1].cumsum() / len(cp_count))\n"
     ]
    },
    {
     "name": "stdout",
     "output_type": "stream",
     "text": [
      "2023-07-10\n"
     ]
    },
    {
     "name": "stderr",
     "output_type": "stream",
     "text": [
      "/Users/as3993/Amit/PLProb/R/univariate.py:320: RuntimeWarning: invalid value encountered in power\n",
      "  val[upper_tail_x] = 1 - (1 - p_upper) * (1 + (k * (x[upper_tail_x] - b))/a)**(-1/k)\n",
      "/Users/as3993/Amit/PLProb/R/univariate.py:330: RuntimeWarning: invalid value encountered in power\n",
      "  val[lower_tail_x] = p_lower * (1 - (k * (x[lower_tail_x] - b))/a)**(-1/k)\n",
      "/Users/as3993/Amit/PLProb/R/univariate.py:330: RuntimeWarning: invalid value encountered in power\n",
      "  val[lower_tail_x] = p_lower * (1 - (k * (x[lower_tail_x] - b))/a)**(-1/k)\n",
      "/Users/as3993/anaconda3/envs/plprob/lib/python3.12/site-packages/sklearn/covariance/_graph_lasso.py:139: ConvergenceWarning: Objective did not converge. You might want to increase the number of iterations. Duality gap: 0.017987763133028523, tolerance: 0.0038033871940261438\n",
      "  coefs, _, _, _ = cd_fast.enet_coordinate_descent_gram(\n",
      "/Users/as3993/anaconda3/envs/plprob/lib/python3.12/site-packages/sklearn/covariance/_graph_lasso.py:139: ConvergenceWarning: Objective did not converge. You might want to increase the number of iterations. Duality gap: 0.01107350827227549, tolerance: 0.0037878022536367356\n",
      "  coefs, _, _, _ = cd_fast.enet_coordinate_descent_gram(\n",
      "/Users/as3993/anaconda3/envs/plprob/lib/python3.12/site-packages/sklearn/covariance/_graph_lasso.py:139: ConvergenceWarning: Objective did not converge. You might want to increase the number of iterations. Duality gap: 0.016107236962696447, tolerance: 0.0039680176862934464\n",
      "  coefs, _, _, _ = cd_fast.enet_coordinate_descent_gram(\n",
      "/Users/as3993/anaconda3/envs/plprob/lib/python3.12/site-packages/sklearn/covariance/_graph_lasso.py:139: ConvergenceWarning: Objective did not converge. You might want to increase the number of iterations. Duality gap: 0.008892607855756296, tolerance: 0.004080594536942845\n",
      "  coefs, _, _, _ = cd_fast.enet_coordinate_descent_gram(\n",
      "/Users/as3993/anaconda3/envs/plprob/lib/python3.12/site-packages/sklearn/covariance/_graph_lasso.py:139: ConvergenceWarning: Objective did not converge. You might want to increase the number of iterations. Duality gap: 0.004240412221996337, tolerance: 0.004112194699811065\n",
      "  coefs, _, _, _ = cd_fast.enet_coordinate_descent_gram(\n",
      "/Users/as3993/anaconda3/envs/plprob/lib/python3.12/site-packages/sklearn/covariance/_graph_lasso.py:139: ConvergenceWarning: Objective did not converge. You might want to increase the number of iterations. Duality gap: 0.0048256100926451495, tolerance: 0.003793488269829929\n",
      "  coefs, _, _, _ = cd_fast.enet_coordinate_descent_gram(\n",
      "/Users/as3993/anaconda3/envs/plprob/lib/python3.12/site-packages/sklearn/covariance/_graph_lasso.py:191: ConvergenceWarning: graphical_lasso: did not converge after 100 iteration: dual gap: -3.371e-03\n",
      "  warnings.warn(\n",
      "/Users/as3993/Amit/PLProb/plprob/predictor.py:548: FutureWarning: The default of observed=False is deprecated and will be changed to True in a future version of pandas. Pass observed=False to retain current behavior or observed=True to adopt the future default and silence this warning.\n",
      "  self.cp_prob = dict(cp_count.groupby(cp_count).count()[::-1].cumsum() / len(cp_count))\n"
     ]
    },
    {
     "name": "stdout",
     "output_type": "stream",
     "text": [
      "2023-07-11\n"
     ]
    },
    {
     "name": "stderr",
     "output_type": "stream",
     "text": [
      "/Users/as3993/Amit/PLProb/R/univariate.py:320: RuntimeWarning: invalid value encountered in power\n",
      "  val[upper_tail_x] = 1 - (1 - p_upper) * (1 + (k * (x[upper_tail_x] - b))/a)**(-1/k)\n",
      "/Users/as3993/Amit/PLProb/R/univariate.py:330: RuntimeWarning: invalid value encountered in power\n",
      "  val[lower_tail_x] = p_lower * (1 - (k * (x[lower_tail_x] - b))/a)**(-1/k)\n",
      "/Users/as3993/Amit/PLProb/R/univariate.py:330: RuntimeWarning: invalid value encountered in power\n",
      "  val[lower_tail_x] = p_lower * (1 - (k * (x[lower_tail_x] - b))/a)**(-1/k)\n",
      "/Users/as3993/anaconda3/envs/plprob/lib/python3.12/site-packages/sklearn/covariance/_graph_lasso.py:139: ConvergenceWarning: Objective did not converge. You might want to increase the number of iterations. Duality gap: 0.01797761059151526, tolerance: 0.0038032350189688645\n",
      "  coefs, _, _, _ = cd_fast.enet_coordinate_descent_gram(\n",
      "/Users/as3993/anaconda3/envs/plprob/lib/python3.12/site-packages/sklearn/covariance/_graph_lasso.py:139: ConvergenceWarning: Objective did not converge. You might want to increase the number of iterations. Duality gap: 0.011101368501556408, tolerance: 0.0037878284588784973\n",
      "  coefs, _, _, _ = cd_fast.enet_coordinate_descent_gram(\n",
      "/Users/as3993/anaconda3/envs/plprob/lib/python3.12/site-packages/sklearn/covariance/_graph_lasso.py:139: ConvergenceWarning: Objective did not converge. You might want to increase the number of iterations. Duality gap: 0.016140980444575348, tolerance: 0.003968072407329397\n",
      "  coefs, _, _, _ = cd_fast.enet_coordinate_descent_gram(\n",
      "/Users/as3993/anaconda3/envs/plprob/lib/python3.12/site-packages/sklearn/covariance/_graph_lasso.py:139: ConvergenceWarning: Objective did not converge. You might want to increase the number of iterations. Duality gap: 0.008933274142371772, tolerance: 0.004080391034346053\n",
      "  coefs, _, _, _ = cd_fast.enet_coordinate_descent_gram(\n",
      "/Users/as3993/anaconda3/envs/plprob/lib/python3.12/site-packages/sklearn/covariance/_graph_lasso.py:139: ConvergenceWarning: Objective did not converge. You might want to increase the number of iterations. Duality gap: 0.004222371865445496, tolerance: 0.004111910175375805\n",
      "  coefs, _, _, _ = cd_fast.enet_coordinate_descent_gram(\n",
      "/Users/as3993/anaconda3/envs/plprob/lib/python3.12/site-packages/sklearn/covariance/_graph_lasso.py:139: ConvergenceWarning: Objective did not converge. You might want to increase the number of iterations. Duality gap: 0.004863902789161045, tolerance: 0.003793765726373673\n",
      "  coefs, _, _, _ = cd_fast.enet_coordinate_descent_gram(\n",
      "/Users/as3993/anaconda3/envs/plprob/lib/python3.12/site-packages/sklearn/covariance/_graph_lasso.py:191: ConvergenceWarning: graphical_lasso: did not converge after 100 iteration: dual gap: 1.047e-01\n",
      "  warnings.warn(\n",
      "/Users/as3993/Amit/PLProb/plprob/predictor.py:548: FutureWarning: The default of observed=False is deprecated and will be changed to True in a future version of pandas. Pass observed=False to retain current behavior or observed=True to adopt the future default and silence this warning.\n",
      "  self.cp_prob = dict(cp_count.groupby(cp_count).count()[::-1].cumsum() / len(cp_count))\n"
     ]
    },
    {
     "name": "stdout",
     "output_type": "stream",
     "text": [
      "2023-07-12\n"
     ]
    },
    {
     "name": "stderr",
     "output_type": "stream",
     "text": [
      "/Users/as3993/Amit/PLProb/R/univariate.py:320: RuntimeWarning: invalid value encountered in power\n",
      "  val[upper_tail_x] = 1 - (1 - p_upper) * (1 + (k * (x[upper_tail_x] - b))/a)**(-1/k)\n",
      "/Users/as3993/Amit/PLProb/R/univariate.py:330: RuntimeWarning: invalid value encountered in power\n",
      "  val[lower_tail_x] = p_lower * (1 - (k * (x[lower_tail_x] - b))/a)**(-1/k)\n",
      "/Users/as3993/Amit/PLProb/R/univariate.py:330: RuntimeWarning: invalid value encountered in power\n",
      "  val[lower_tail_x] = p_lower * (1 - (k * (x[lower_tail_x] - b))/a)**(-1/k)\n",
      "/Users/as3993/anaconda3/envs/plprob/lib/python3.12/site-packages/sklearn/covariance/_graph_lasso.py:139: ConvergenceWarning: Objective did not converge. You might want to increase the number of iterations. Duality gap: 0.01801282509409674, tolerance: 0.003802535361181243\n",
      "  coefs, _, _, _ = cd_fast.enet_coordinate_descent_gram(\n",
      "/Users/as3993/anaconda3/envs/plprob/lib/python3.12/site-packages/sklearn/covariance/_graph_lasso.py:139: ConvergenceWarning: Objective did not converge. You might want to increase the number of iterations. Duality gap: 0.011170415284674107, tolerance: 0.0037875864281246034\n",
      "  coefs, _, _, _ = cd_fast.enet_coordinate_descent_gram(\n",
      "/Users/as3993/anaconda3/envs/plprob/lib/python3.12/site-packages/sklearn/covariance/_graph_lasso.py:139: ConvergenceWarning: Objective did not converge. You might want to increase the number of iterations. Duality gap: 0.016131164758419914, tolerance: 0.0039679269754345214\n",
      "  coefs, _, _, _ = cd_fast.enet_coordinate_descent_gram(\n",
      "/Users/as3993/anaconda3/envs/plprob/lib/python3.12/site-packages/sklearn/covariance/_graph_lasso.py:139: ConvergenceWarning: Objective did not converge. You might want to increase the number of iterations. Duality gap: 0.008927387389732644, tolerance: 0.004080224763285194\n",
      "  coefs, _, _, _ = cd_fast.enet_coordinate_descent_gram(\n",
      "/Users/as3993/anaconda3/envs/plprob/lib/python3.12/site-packages/sklearn/covariance/_graph_lasso.py:139: ConvergenceWarning: Objective did not converge. You might want to increase the number of iterations. Duality gap: 0.0042151871538180785, tolerance: 0.004111749452372633\n",
      "  coefs, _, _, _ = cd_fast.enet_coordinate_descent_gram(\n",
      "/Users/as3993/anaconda3/envs/plprob/lib/python3.12/site-packages/sklearn/covariance/_graph_lasso.py:139: ConvergenceWarning: Objective did not converge. You might want to increase the number of iterations. Duality gap: 0.004884127772172064, tolerance: 0.003793719022958715\n",
      "  coefs, _, _, _ = cd_fast.enet_coordinate_descent_gram(\n",
      "/Users/as3993/Amit/PLProb/R/univariate.py:320: RuntimeWarning: invalid value encountered in power\n",
      "  val[upper_tail_x] = 1 - (1 - p_upper) * (1 + (k * (x[upper_tail_x] - b))/a)**(-1/k)\n",
      "/Users/as3993/Amit/PLProb/plprob/predictor.py:548: FutureWarning: The default of observed=False is deprecated and will be changed to True in a future version of pandas. Pass observed=False to retain current behavior or observed=True to adopt the future default and silence this warning.\n",
      "  self.cp_prob = dict(cp_count.groupby(cp_count).count()[::-1].cumsum() / len(cp_count))\n"
     ]
    },
    {
     "name": "stdout",
     "output_type": "stream",
     "text": [
      "2023-07-13\n"
     ]
    },
    {
     "name": "stderr",
     "output_type": "stream",
     "text": [
      "/Users/as3993/Amit/PLProb/R/univariate.py:320: RuntimeWarning: invalid value encountered in power\n",
      "  val[upper_tail_x] = 1 - (1 - p_upper) * (1 + (k * (x[upper_tail_x] - b))/a)**(-1/k)\n",
      "/Users/as3993/Amit/PLProb/R/univariate.py:330: RuntimeWarning: invalid value encountered in power\n",
      "  val[lower_tail_x] = p_lower * (1 - (k * (x[lower_tail_x] - b))/a)**(-1/k)\n",
      "/Users/as3993/anaconda3/envs/plprob/lib/python3.12/site-packages/sklearn/covariance/_graph_lasso.py:191: ConvergenceWarning: graphical_lasso: did not converge after 100 iteration: dual gap: 8.837e-04\n",
      "  warnings.warn(\n",
      "/Users/as3993/Amit/PLProb/R/univariate.py:330: RuntimeWarning: invalid value encountered in power\n",
      "  val[lower_tail_x] = p_lower * (1 - (k * (x[lower_tail_x] - b))/a)**(-1/k)\n",
      "/Users/as3993/anaconda3/envs/plprob/lib/python3.12/site-packages/sklearn/covariance/_graph_lasso.py:139: ConvergenceWarning: Objective did not converge. You might want to increase the number of iterations. Duality gap: 0.018233752357183164, tolerance: 0.0038027064767321103\n",
      "  coefs, _, _, _ = cd_fast.enet_coordinate_descent_gram(\n",
      "/Users/as3993/anaconda3/envs/plprob/lib/python3.12/site-packages/sklearn/covariance/_graph_lasso.py:139: ConvergenceWarning: Objective did not converge. You might want to increase the number of iterations. Duality gap: 0.01126602917886288, tolerance: 0.0037878009075824086\n",
      "  coefs, _, _, _ = cd_fast.enet_coordinate_descent_gram(\n",
      "/Users/as3993/anaconda3/envs/plprob/lib/python3.12/site-packages/sklearn/covariance/_graph_lasso.py:139: ConvergenceWarning: Objective did not converge. You might want to increase the number of iterations. Duality gap: 0.01612916692257471, tolerance: 0.003968515841361792\n",
      "  coefs, _, _, _ = cd_fast.enet_coordinate_descent_gram(\n",
      "/Users/as3993/anaconda3/envs/plprob/lib/python3.12/site-packages/sklearn/covariance/_graph_lasso.py:139: ConvergenceWarning: Objective did not converge. You might want to increase the number of iterations. Duality gap: 0.00891473925661046, tolerance: 0.004080663492614531\n",
      "  coefs, _, _, _ = cd_fast.enet_coordinate_descent_gram(\n",
      "/Users/as3993/anaconda3/envs/plprob/lib/python3.12/site-packages/sklearn/covariance/_graph_lasso.py:139: ConvergenceWarning: Objective did not converge. You might want to increase the number of iterations. Duality gap: 0.004218851361677878, tolerance: 0.004112094476980559\n",
      "  coefs, _, _, _ = cd_fast.enet_coordinate_descent_gram(\n",
      "/Users/as3993/anaconda3/envs/plprob/lib/python3.12/site-packages/sklearn/covariance/_graph_lasso.py:139: ConvergenceWarning: Objective did not converge. You might want to increase the number of iterations. Duality gap: 0.004878637845742162, tolerance: 0.003794302786646268\n",
      "  coefs, _, _, _ = cd_fast.enet_coordinate_descent_gram(\n",
      "/Users/as3993/anaconda3/envs/plprob/lib/python3.12/site-packages/sklearn/covariance/_graph_lasso.py:191: ConvergenceWarning: graphical_lasso: did not converge after 100 iteration: dual gap: 2.487e-02\n",
      "  warnings.warn(\n",
      "/Users/as3993/Amit/PLProb/R/univariate.py:320: RuntimeWarning: invalid value encountered in power\n",
      "  val[upper_tail_x] = 1 - (1 - p_upper) * (1 + (k * (x[upper_tail_x] - b))/a)**(-1/k)\n",
      "/Users/as3993/Amit/PLProb/plprob/predictor.py:548: FutureWarning: The default of observed=False is deprecated and will be changed to True in a future version of pandas. Pass observed=False to retain current behavior or observed=True to adopt the future default and silence this warning.\n",
      "  self.cp_prob = dict(cp_count.groupby(cp_count).count()[::-1].cumsum() / len(cp_count))\n"
     ]
    },
    {
     "name": "stdout",
     "output_type": "stream",
     "text": [
      "2023-07-14\n"
     ]
    },
    {
     "name": "stderr",
     "output_type": "stream",
     "text": [
      "/Users/as3993/Amit/PLProb/R/univariate.py:320: RuntimeWarning: invalid value encountered in power\n",
      "  val[upper_tail_x] = 1 - (1 - p_upper) * (1 + (k * (x[upper_tail_x] - b))/a)**(-1/k)\n",
      "/Users/as3993/Amit/PLProb/R/univariate.py:330: RuntimeWarning: invalid value encountered in power\n",
      "  val[lower_tail_x] = p_lower * (1 - (k * (x[lower_tail_x] - b))/a)**(-1/k)\n",
      "/Users/as3993/Amit/PLProb/R/univariate.py:330: RuntimeWarning: invalid value encountered in power\n",
      "  val[lower_tail_x] = p_lower * (1 - (k * (x[lower_tail_x] - b))/a)**(-1/k)\n",
      "/Users/as3993/anaconda3/envs/plprob/lib/python3.12/site-packages/sklearn/covariance/_graph_lasso.py:139: ConvergenceWarning: Objective did not converge. You might want to increase the number of iterations. Duality gap: 0.018348857665486662, tolerance: 0.003803164041627431\n",
      "  coefs, _, _, _ = cd_fast.enet_coordinate_descent_gram(\n",
      "/Users/as3993/anaconda3/envs/plprob/lib/python3.12/site-packages/sklearn/covariance/_graph_lasso.py:139: ConvergenceWarning: Objective did not converge. You might want to increase the number of iterations. Duality gap: 0.011290315218424496, tolerance: 0.0037881507736221842\n",
      "  coefs, _, _, _ = cd_fast.enet_coordinate_descent_gram(\n",
      "/Users/as3993/anaconda3/envs/plprob/lib/python3.12/site-packages/sklearn/covariance/_graph_lasso.py:139: ConvergenceWarning: Objective did not converge. You might want to increase the number of iterations. Duality gap: 0.016125361751150535, tolerance: 0.0039692508954480695\n",
      "  coefs, _, _, _ = cd_fast.enet_coordinate_descent_gram(\n",
      "/Users/as3993/anaconda3/envs/plprob/lib/python3.12/site-packages/sklearn/covariance/_graph_lasso.py:139: ConvergenceWarning: Objective did not converge. You might want to increase the number of iterations. Duality gap: 0.008845341159450015, tolerance: 0.004081019705519353\n",
      "  coefs, _, _, _ = cd_fast.enet_coordinate_descent_gram(\n",
      "/Users/as3993/anaconda3/envs/plprob/lib/python3.12/site-packages/sklearn/covariance/_graph_lasso.py:139: ConvergenceWarning: Objective did not converge. You might want to increase the number of iterations. Duality gap: 0.004234135318320398, tolerance: 0.0041125125619633236\n",
      "  coefs, _, _, _ = cd_fast.enet_coordinate_descent_gram(\n",
      "/Users/as3993/anaconda3/envs/plprob/lib/python3.12/site-packages/sklearn/covariance/_graph_lasso.py:139: ConvergenceWarning: Objective did not converge. You might want to increase the number of iterations. Duality gap: 0.00481678554010756, tolerance: 0.003794982873651864\n",
      "  coefs, _, _, _ = cd_fast.enet_coordinate_descent_gram(\n",
      "/Users/as3993/Amit/PLProb/plprob/predictor.py:548: FutureWarning: The default of observed=False is deprecated and will be changed to True in a future version of pandas. Pass observed=False to retain current behavior or observed=True to adopt the future default and silence this warning.\n",
      "  self.cp_prob = dict(cp_count.groupby(cp_count).count()[::-1].cumsum() / len(cp_count))\n"
     ]
    },
    {
     "name": "stdout",
     "output_type": "stream",
     "text": [
      "2023-07-15\n"
     ]
    },
    {
     "name": "stderr",
     "output_type": "stream",
     "text": [
      "/Users/as3993/Amit/PLProb/R/univariate.py:320: RuntimeWarning: invalid value encountered in power\n",
      "  val[upper_tail_x] = 1 - (1 - p_upper) * (1 + (k * (x[upper_tail_x] - b))/a)**(-1/k)\n",
      "/Users/as3993/Amit/PLProb/R/univariate.py:330: RuntimeWarning: invalid value encountered in power\n",
      "  val[lower_tail_x] = p_lower * (1 - (k * (x[lower_tail_x] - b))/a)**(-1/k)\n",
      "/Users/as3993/Amit/PLProb/R/univariate.py:330: RuntimeWarning: invalid value encountered in power\n",
      "  val[lower_tail_x] = p_lower * (1 - (k * (x[lower_tail_x] - b))/a)**(-1/k)\n",
      "/Users/as3993/anaconda3/envs/plprob/lib/python3.12/site-packages/sklearn/covariance/_graph_lasso.py:139: ConvergenceWarning: Objective did not converge. You might want to increase the number of iterations. Duality gap: 0.01666012679493889, tolerance: 0.0037977270997601696\n",
      "  coefs, _, _, _ = cd_fast.enet_coordinate_descent_gram(\n",
      "/Users/as3993/anaconda3/envs/plprob/lib/python3.12/site-packages/sklearn/covariance/_graph_lasso.py:139: ConvergenceWarning: Objective did not converge. You might want to increase the number of iterations. Duality gap: 0.014522585935701215, tolerance: 0.0037835192012545416\n",
      "  coefs, _, _, _ = cd_fast.enet_coordinate_descent_gram(\n",
      "/Users/as3993/anaconda3/envs/plprob/lib/python3.12/site-packages/sklearn/covariance/_graph_lasso.py:139: ConvergenceWarning: Objective did not converge. You might want to increase the number of iterations. Duality gap: 0.004176876719419909, tolerance: 0.0037565297034376772\n",
      "  coefs, _, _, _ = cd_fast.enet_coordinate_descent_gram(\n",
      "/Users/as3993/anaconda3/envs/plprob/lib/python3.12/site-packages/sklearn/covariance/_graph_lasso.py:139: ConvergenceWarning: Objective did not converge. You might want to increase the number of iterations. Duality gap: 0.01581731303576106, tolerance: 0.0039638004490739655\n",
      "  coefs, _, _, _ = cd_fast.enet_coordinate_descent_gram(\n",
      "/Users/as3993/anaconda3/envs/plprob/lib/python3.12/site-packages/sklearn/covariance/_graph_lasso.py:139: ConvergenceWarning: Objective did not converge. You might want to increase the number of iterations. Duality gap: 0.008608803465250503, tolerance: 0.004075088781789031\n",
      "  coefs, _, _, _ = cd_fast.enet_coordinate_descent_gram(\n",
      "/Users/as3993/anaconda3/envs/plprob/lib/python3.12/site-packages/sklearn/covariance/_graph_lasso.py:139: ConvergenceWarning: Objective did not converge. You might want to increase the number of iterations. Duality gap: 0.004115849840580665, tolerance: 0.004106385177015322\n",
      "  coefs, _, _, _ = cd_fast.enet_coordinate_descent_gram(\n",
      "/Users/as3993/anaconda3/envs/plprob/lib/python3.12/site-packages/sklearn/covariance/_graph_lasso.py:139: ConvergenceWarning: Objective did not converge. You might want to increase the number of iterations. Duality gap: 0.004088112396367194, tolerance: 0.003852538096785621\n",
      "  coefs, _, _, _ = cd_fast.enet_coordinate_descent_gram(\n",
      "/Users/as3993/anaconda3/envs/plprob/lib/python3.12/site-packages/sklearn/covariance/_graph_lasso.py:139: ConvergenceWarning: Objective did not converge. You might want to increase the number of iterations. Duality gap: 0.004543515786920693, tolerance: 0.003791209085021278\n",
      "  coefs, _, _, _ = cd_fast.enet_coordinate_descent_gram(\n",
      "/Users/as3993/anaconda3/envs/plprob/lib/python3.12/site-packages/sklearn/covariance/_graph_lasso.py:139: ConvergenceWarning: Objective did not converge. You might want to increase the number of iterations. Duality gap: 0.004311934533099304, tolerance: 0.003753940558408438\n",
      "  coefs, _, _, _ = cd_fast.enet_coordinate_descent_gram(\n",
      "/Users/as3993/anaconda3/envs/plprob/lib/python3.12/site-packages/sklearn/covariance/_graph_lasso.py:191: ConvergenceWarning: graphical_lasso: did not converge after 100 iteration: dual gap: 9.453e-02\n",
      "  warnings.warn(\n",
      "/Users/as3993/Amit/PLProb/plprob/predictor.py:548: FutureWarning: The default of observed=False is deprecated and will be changed to True in a future version of pandas. Pass observed=False to retain current behavior or observed=True to adopt the future default and silence this warning.\n",
      "  self.cp_prob = dict(cp_count.groupby(cp_count).count()[::-1].cumsum() / len(cp_count))\n"
     ]
    },
    {
     "name": "stdout",
     "output_type": "stream",
     "text": [
      "2023-07-16\n"
     ]
    },
    {
     "name": "stderr",
     "output_type": "stream",
     "text": [
      "/Users/as3993/Amit/PLProb/R/univariate.py:320: RuntimeWarning: invalid value encountered in power\n",
      "  val[upper_tail_x] = 1 - (1 - p_upper) * (1 + (k * (x[upper_tail_x] - b))/a)**(-1/k)\n",
      "/Users/as3993/Amit/PLProb/R/univariate.py:330: RuntimeWarning: invalid value encountered in power\n",
      "  val[lower_tail_x] = p_lower * (1 - (k * (x[lower_tail_x] - b))/a)**(-1/k)\n",
      "/Users/as3993/Amit/PLProb/R/univariate.py:330: RuntimeWarning: invalid value encountered in power\n",
      "  val[lower_tail_x] = p_lower * (1 - (k * (x[lower_tail_x] - b))/a)**(-1/k)\n",
      "/Users/as3993/anaconda3/envs/plprob/lib/python3.12/site-packages/sklearn/covariance/_graph_lasso.py:139: ConvergenceWarning: Objective did not converge. You might want to increase the number of iterations. Duality gap: 0.016626824137034646, tolerance: 0.00379781112958937\n",
      "  coefs, _, _, _ = cd_fast.enet_coordinate_descent_gram(\n",
      "/Users/as3993/anaconda3/envs/plprob/lib/python3.12/site-packages/sklearn/covariance/_graph_lasso.py:139: ConvergenceWarning: Objective did not converge. You might want to increase the number of iterations. Duality gap: 0.014502677148705345, tolerance: 0.0037838295583646083\n",
      "  coefs, _, _, _ = cd_fast.enet_coordinate_descent_gram(\n",
      "/Users/as3993/anaconda3/envs/plprob/lib/python3.12/site-packages/sklearn/covariance/_graph_lasso.py:139: ConvergenceWarning: Objective did not converge. You might want to increase the number of iterations. Duality gap: 0.004098259180821628, tolerance: 0.0037567839645969592\n",
      "  coefs, _, _, _ = cd_fast.enet_coordinate_descent_gram(\n",
      "/Users/as3993/anaconda3/envs/plprob/lib/python3.12/site-packages/sklearn/covariance/_graph_lasso.py:139: ConvergenceWarning: Objective did not converge. You might want to increase the number of iterations. Duality gap: 0.015879809209266682, tolerance: 0.003964094804442936\n",
      "  coefs, _, _, _ = cd_fast.enet_coordinate_descent_gram(\n",
      "/Users/as3993/anaconda3/envs/plprob/lib/python3.12/site-packages/sklearn/covariance/_graph_lasso.py:139: ConvergenceWarning: Objective did not converge. You might want to increase the number of iterations. Duality gap: 0.008621643723564887, tolerance: 0.00407533112039975\n",
      "  coefs, _, _, _ = cd_fast.enet_coordinate_descent_gram(\n",
      "/Users/as3993/anaconda3/envs/plprob/lib/python3.12/site-packages/sklearn/covariance/_graph_lasso.py:139: ConvergenceWarning: Objective did not converge. You might want to increase the number of iterations. Duality gap: 0.004092967173114914, tolerance: 0.003852900673868944\n",
      "  coefs, _, _, _ = cd_fast.enet_coordinate_descent_gram(\n",
      "/Users/as3993/anaconda3/envs/plprob/lib/python3.12/site-packages/sklearn/covariance/_graph_lasso.py:139: ConvergenceWarning: Objective did not converge. You might want to increase the number of iterations. Duality gap: 0.004536582049951221, tolerance: 0.0037915392417164117\n",
      "  coefs, _, _, _ = cd_fast.enet_coordinate_descent_gram(\n",
      "/Users/as3993/anaconda3/envs/plprob/lib/python3.12/site-packages/sklearn/covariance/_graph_lasso.py:139: ConvergenceWarning: Objective did not converge. You might want to increase the number of iterations. Duality gap: 0.004237827709374642, tolerance: 0.003753784122448471\n",
      "  coefs, _, _, _ = cd_fast.enet_coordinate_descent_gram(\n",
      "/Users/as3993/anaconda3/envs/plprob/lib/python3.12/site-packages/sklearn/covariance/_graph_lasso.py:191: ConvergenceWarning: graphical_lasso: did not converge after 100 iteration: dual gap: 1.227e-02\n",
      "  warnings.warn(\n",
      "/Users/as3993/Amit/PLProb/plprob/predictor.py:548: FutureWarning: The default of observed=False is deprecated and will be changed to True in a future version of pandas. Pass observed=False to retain current behavior or observed=True to adopt the future default and silence this warning.\n",
      "  self.cp_prob = dict(cp_count.groupby(cp_count).count()[::-1].cumsum() / len(cp_count))\n"
     ]
    },
    {
     "name": "stdout",
     "output_type": "stream",
     "text": [
      "2023-07-17\n"
     ]
    },
    {
     "name": "stderr",
     "output_type": "stream",
     "text": [
      "/Users/as3993/Amit/PLProb/R/univariate.py:320: RuntimeWarning: invalid value encountered in power\n",
      "  val[upper_tail_x] = 1 - (1 - p_upper) * (1 + (k * (x[upper_tail_x] - b))/a)**(-1/k)\n",
      "/Users/as3993/Amit/PLProb/R/univariate.py:330: RuntimeWarning: invalid value encountered in power\n",
      "  val[lower_tail_x] = p_lower * (1 - (k * (x[lower_tail_x] - b))/a)**(-1/k)\n",
      "/Users/as3993/Amit/PLProb/R/univariate.py:330: RuntimeWarning: invalid value encountered in power\n",
      "  val[lower_tail_x] = p_lower * (1 - (k * (x[lower_tail_x] - b))/a)**(-1/k)\n",
      "/Users/as3993/anaconda3/envs/plprob/lib/python3.12/site-packages/sklearn/covariance/_graph_lasso.py:139: ConvergenceWarning: Objective did not converge. You might want to increase the number of iterations. Duality gap: 0.01661357741873104, tolerance: 0.003796863639427657\n",
      "  coefs, _, _, _ = cd_fast.enet_coordinate_descent_gram(\n",
      "/Users/as3993/anaconda3/envs/plprob/lib/python3.12/site-packages/sklearn/covariance/_graph_lasso.py:139: ConvergenceWarning: Objective did not converge. You might want to increase the number of iterations. Duality gap: 0.014496609835759955, tolerance: 0.003782945334265805\n",
      "  coefs, _, _, _ = cd_fast.enet_coordinate_descent_gram(\n",
      "/Users/as3993/anaconda3/envs/plprob/lib/python3.12/site-packages/sklearn/covariance/_graph_lasso.py:139: ConvergenceWarning: Objective did not converge. You might want to increase the number of iterations. Duality gap: 0.004031609401749847, tolerance: 0.003756054369588155\n",
      "  coefs, _, _, _ = cd_fast.enet_coordinate_descent_gram(\n",
      "/Users/as3993/anaconda3/envs/plprob/lib/python3.12/site-packages/sklearn/covariance/_graph_lasso.py:139: ConvergenceWarning: Objective did not converge. You might want to increase the number of iterations. Duality gap: 0.01585161316871364, tolerance: 0.003962856467163116\n",
      "  coefs, _, _, _ = cd_fast.enet_coordinate_descent_gram(\n",
      "/Users/as3993/anaconda3/envs/plprob/lib/python3.12/site-packages/sklearn/covariance/_graph_lasso.py:139: ConvergenceWarning: Objective did not converge. You might want to increase the number of iterations. Duality gap: 0.008616235008346962, tolerance: 0.0040739039248012705\n",
      "  coefs, _, _, _ = cd_fast.enet_coordinate_descent_gram(\n",
      "/Users/as3993/anaconda3/envs/plprob/lib/python3.12/site-packages/sklearn/covariance/_graph_lasso.py:139: ConvergenceWarning: Objective did not converge. You might want to increase the number of iterations. Duality gap: 0.004142920697347563, tolerance: 0.0041049882548924764\n",
      "  coefs, _, _, _ = cd_fast.enet_coordinate_descent_gram(\n",
      "/Users/as3993/anaconda3/envs/plprob/lib/python3.12/site-packages/sklearn/covariance/_graph_lasso.py:139: ConvergenceWarning: Objective did not converge. You might want to increase the number of iterations. Duality gap: 0.004085636453055486, tolerance: 0.003850638172736575\n",
      "  coefs, _, _, _ = cd_fast.enet_coordinate_descent_gram(\n",
      "/Users/as3993/anaconda3/envs/plprob/lib/python3.12/site-packages/sklearn/covariance/_graph_lasso.py:139: ConvergenceWarning: Objective did not converge. You might want to increase the number of iterations. Duality gap: 0.0045294187546431885, tolerance: 0.003789394706366452\n",
      "  coefs, _, _, _ = cd_fast.enet_coordinate_descent_gram(\n",
      "/Users/as3993/anaconda3/envs/plprob/lib/python3.12/site-packages/sklearn/covariance/_graph_lasso.py:139: ConvergenceWarning: Objective did not converge. You might want to increase the number of iterations. Duality gap: 0.004233035363384374, tolerance: 0.0037530303928017122\n",
      "  coefs, _, _, _ = cd_fast.enet_coordinate_descent_gram(\n",
      "/Users/as3993/anaconda3/envs/plprob/lib/python3.12/site-packages/sklearn/covariance/_graph_lasso.py:191: ConvergenceWarning: graphical_lasso: did not converge after 100 iteration: dual gap: 8.113e-02\n",
      "  warnings.warn(\n",
      "/Users/as3993/Amit/PLProb/R/univariate.py:320: RuntimeWarning: invalid value encountered in power\n",
      "  val[upper_tail_x] = 1 - (1 - p_upper) * (1 + (k * (x[upper_tail_x] - b))/a)**(-1/k)\n",
      "/Users/as3993/Amit/PLProb/plprob/predictor.py:548: FutureWarning: The default of observed=False is deprecated and will be changed to True in a future version of pandas. Pass observed=False to retain current behavior or observed=True to adopt the future default and silence this warning.\n",
      "  self.cp_prob = dict(cp_count.groupby(cp_count).count()[::-1].cumsum() / len(cp_count))\n"
     ]
    },
    {
     "name": "stdout",
     "output_type": "stream",
     "text": [
      "2023-07-18\n"
     ]
    },
    {
     "name": "stderr",
     "output_type": "stream",
     "text": [
      "/Users/as3993/Amit/PLProb/R/univariate.py:320: RuntimeWarning: invalid value encountered in power\n",
      "  val[upper_tail_x] = 1 - (1 - p_upper) * (1 + (k * (x[upper_tail_x] - b))/a)**(-1/k)\n",
      "/Users/as3993/Amit/PLProb/R/univariate.py:330: RuntimeWarning: invalid value encountered in power\n",
      "  val[lower_tail_x] = p_lower * (1 - (k * (x[lower_tail_x] - b))/a)**(-1/k)\n",
      "/Users/as3993/Amit/PLProb/R/univariate.py:330: RuntimeWarning: invalid value encountered in power\n",
      "  val[lower_tail_x] = p_lower * (1 - (k * (x[lower_tail_x] - b))/a)**(-1/k)\n",
      "/Users/as3993/anaconda3/envs/plprob/lib/python3.12/site-packages/sklearn/covariance/_graph_lasso.py:139: ConvergenceWarning: Objective did not converge. You might want to increase the number of iterations. Duality gap: 0.01669387510047926, tolerance: 0.0037971470837436048\n",
      "  coefs, _, _, _ = cd_fast.enet_coordinate_descent_gram(\n",
      "/Users/as3993/anaconda3/envs/plprob/lib/python3.12/site-packages/sklearn/covariance/_graph_lasso.py:139: ConvergenceWarning: Objective did not converge. You might want to increase the number of iterations. Duality gap: 0.0145563760103542, tolerance: 0.0037831755162584177\n",
      "  coefs, _, _, _ = cd_fast.enet_coordinate_descent_gram(\n",
      "/Users/as3993/anaconda3/envs/plprob/lib/python3.12/site-packages/sklearn/covariance/_graph_lasso.py:139: ConvergenceWarning: Objective did not converge. You might want to increase the number of iterations. Duality gap: 0.004095839725870576, tolerance: 0.003756493200086449\n",
      "  coefs, _, _, _ = cd_fast.enet_coordinate_descent_gram(\n",
      "/Users/as3993/anaconda3/envs/plprob/lib/python3.12/site-packages/sklearn/covariance/_graph_lasso.py:139: ConvergenceWarning: Objective did not converge. You might want to increase the number of iterations. Duality gap: 0.015813103139407758, tolerance: 0.0039634989407391075\n",
      "  coefs, _, _, _ = cd_fast.enet_coordinate_descent_gram(\n",
      "/Users/as3993/anaconda3/envs/plprob/lib/python3.12/site-packages/sklearn/covariance/_graph_lasso.py:139: ConvergenceWarning: Objective did not converge. You might want to increase the number of iterations. Duality gap: 0.008597368278408624, tolerance: 0.004074382062967487\n",
      "  coefs, _, _, _ = cd_fast.enet_coordinate_descent_gram(\n",
      "/Users/as3993/anaconda3/envs/plprob/lib/python3.12/site-packages/sklearn/covariance/_graph_lasso.py:139: ConvergenceWarning: Objective did not converge. You might want to increase the number of iterations. Duality gap: 0.004131588377418893, tolerance: 0.004105366234935514\n",
      "  coefs, _, _, _ = cd_fast.enet_coordinate_descent_gram(\n",
      "/Users/as3993/anaconda3/envs/plprob/lib/python3.12/site-packages/sklearn/covariance/_graph_lasso.py:139: ConvergenceWarning: Objective did not converge. You might want to increase the number of iterations. Duality gap: 0.004099092392920056, tolerance: 0.0038518362957188773\n",
      "  coefs, _, _, _ = cd_fast.enet_coordinate_descent_gram(\n",
      "/Users/as3993/anaconda3/envs/plprob/lib/python3.12/site-packages/sklearn/covariance/_graph_lasso.py:139: ConvergenceWarning: Objective did not converge. You might want to increase the number of iterations. Duality gap: 0.004501663865880801, tolerance: 0.003790145310626966\n",
      "  coefs, _, _, _ = cd_fast.enet_coordinate_descent_gram(\n",
      "/Users/as3993/anaconda3/envs/plprob/lib/python3.12/site-packages/sklearn/covariance/_graph_lasso.py:139: ConvergenceWarning: Objective did not converge. You might want to increase the number of iterations. Duality gap: 0.004248950211248825, tolerance: 0.0037536082755599354\n",
      "  coefs, _, _, _ = cd_fast.enet_coordinate_descent_gram(\n",
      "/Users/as3993/anaconda3/envs/plprob/lib/python3.12/site-packages/sklearn/covariance/_graph_lasso.py:191: ConvergenceWarning: graphical_lasso: did not converge after 100 iteration: dual gap: 7.988e-02\n",
      "  warnings.warn(\n",
      "/Users/as3993/Amit/PLProb/plprob/predictor.py:548: FutureWarning: The default of observed=False is deprecated and will be changed to True in a future version of pandas. Pass observed=False to retain current behavior or observed=True to adopt the future default and silence this warning.\n",
      "  self.cp_prob = dict(cp_count.groupby(cp_count).count()[::-1].cumsum() / len(cp_count))\n"
     ]
    },
    {
     "name": "stdout",
     "output_type": "stream",
     "text": [
      "2023-07-19\n"
     ]
    },
    {
     "name": "stderr",
     "output_type": "stream",
     "text": [
      "/Users/as3993/Amit/PLProb/R/univariate.py:320: RuntimeWarning: invalid value encountered in power\n",
      "  val[upper_tail_x] = 1 - (1 - p_upper) * (1 + (k * (x[upper_tail_x] - b))/a)**(-1/k)\n",
      "/Users/as3993/Amit/PLProb/R/univariate.py:330: RuntimeWarning: invalid value encountered in power\n",
      "  val[lower_tail_x] = p_lower * (1 - (k * (x[lower_tail_x] - b))/a)**(-1/k)\n",
      "/Users/as3993/anaconda3/envs/plprob/lib/python3.12/site-packages/sklearn/covariance/_graph_lasso.py:191: ConvergenceWarning: graphical_lasso: did not converge after 100 iteration: dual gap: 2.225e-03\n",
      "  warnings.warn(\n",
      "/Users/as3993/Amit/PLProb/R/univariate.py:330: RuntimeWarning: invalid value encountered in power\n",
      "  val[lower_tail_x] = p_lower * (1 - (k * (x[lower_tail_x] - b))/a)**(-1/k)\n",
      "/Users/as3993/anaconda3/envs/plprob/lib/python3.12/site-packages/sklearn/covariance/_graph_lasso.py:139: ConvergenceWarning: Objective did not converge. You might want to increase the number of iterations. Duality gap: 0.016706834286146943, tolerance: 0.0037979769238636538\n",
      "  coefs, _, _, _ = cd_fast.enet_coordinate_descent_gram(\n",
      "/Users/as3993/anaconda3/envs/plprob/lib/python3.12/site-packages/sklearn/covariance/_graph_lasso.py:139: ConvergenceWarning: Objective did not converge. You might want to increase the number of iterations. Duality gap: 0.014561616902234675, tolerance: 0.0037839421385588313\n",
      "  coefs, _, _, _ = cd_fast.enet_coordinate_descent_gram(\n",
      "/Users/as3993/anaconda3/envs/plprob/lib/python3.12/site-packages/sklearn/covariance/_graph_lasso.py:139: ConvergenceWarning: Objective did not converge. You might want to increase the number of iterations. Duality gap: 0.004095891666366924, tolerance: 0.0037571709207764935\n",
      "  coefs, _, _, _ = cd_fast.enet_coordinate_descent_gram(\n",
      "/Users/as3993/anaconda3/envs/plprob/lib/python3.12/site-packages/sklearn/covariance/_graph_lasso.py:139: ConvergenceWarning: Objective did not converge. You might want to increase the number of iterations. Duality gap: 0.01595746755506866, tolerance: 0.003964385304824416\n",
      "  coefs, _, _, _ = cd_fast.enet_coordinate_descent_gram(\n",
      "/Users/as3993/anaconda3/envs/plprob/lib/python3.12/site-packages/sklearn/covariance/_graph_lasso.py:139: ConvergenceWarning: Objective did not converge. You might want to increase the number of iterations. Duality gap: 0.008584747524402303, tolerance: 0.0040750476823447224\n",
      "  coefs, _, _, _ = cd_fast.enet_coordinate_descent_gram(\n",
      "/Users/as3993/anaconda3/envs/plprob/lib/python3.12/site-packages/sklearn/covariance/_graph_lasso.py:139: ConvergenceWarning: Objective did not converge. You might want to increase the number of iterations. Duality gap: 0.004124240353831965, tolerance: 0.00410580135957676\n",
      "  coefs, _, _, _ = cd_fast.enet_coordinate_descent_gram(\n",
      "/Users/as3993/anaconda3/envs/plprob/lib/python3.12/site-packages/sklearn/covariance/_graph_lasso.py:139: ConvergenceWarning: Objective did not converge. You might want to increase the number of iterations. Duality gap: 0.004106869232892052, tolerance: 0.003852409963728205\n",
      "  coefs, _, _, _ = cd_fast.enet_coordinate_descent_gram(\n",
      "/Users/as3993/anaconda3/envs/plprob/lib/python3.12/site-packages/sklearn/covariance/_graph_lasso.py:139: ConvergenceWarning: Objective did not converge. You might want to increase the number of iterations. Duality gap: 0.004496761815786954, tolerance: 0.0037907417018681402\n",
      "  coefs, _, _, _ = cd_fast.enet_coordinate_descent_gram(\n",
      "/Users/as3993/anaconda3/envs/plprob/lib/python3.12/site-packages/sklearn/covariance/_graph_lasso.py:139: ConvergenceWarning: Objective did not converge. You might want to increase the number of iterations. Duality gap: 0.004247434970729103, tolerance: 0.0037541744309573808\n",
      "  coefs, _, _, _ = cd_fast.enet_coordinate_descent_gram(\n",
      "/Users/as3993/anaconda3/envs/plprob/lib/python3.12/site-packages/sklearn/covariance/_graph_lasso.py:191: ConvergenceWarning: graphical_lasso: did not converge after 100 iteration: dual gap: 1.178e-02\n",
      "  warnings.warn(\n",
      "/Users/as3993/Amit/PLProb/plprob/predictor.py:548: FutureWarning: The default of observed=False is deprecated and will be changed to True in a future version of pandas. Pass observed=False to retain current behavior or observed=True to adopt the future default and silence this warning.\n",
      "  self.cp_prob = dict(cp_count.groupby(cp_count).count()[::-1].cumsum() / len(cp_count))\n"
     ]
    },
    {
     "name": "stdout",
     "output_type": "stream",
     "text": [
      "2023-07-20\n"
     ]
    },
    {
     "name": "stderr",
     "output_type": "stream",
     "text": [
      "/Users/as3993/Amit/PLProb/R/univariate.py:320: RuntimeWarning: invalid value encountered in power\n",
      "  val[upper_tail_x] = 1 - (1 - p_upper) * (1 + (k * (x[upper_tail_x] - b))/a)**(-1/k)\n",
      "/Users/as3993/Amit/PLProb/R/univariate.py:330: RuntimeWarning: invalid value encountered in power\n",
      "  val[lower_tail_x] = p_lower * (1 - (k * (x[lower_tail_x] - b))/a)**(-1/k)\n",
      "/Users/as3993/Amit/PLProb/R/univariate.py:330: RuntimeWarning: invalid value encountered in power\n",
      "  val[lower_tail_x] = p_lower * (1 - (k * (x[lower_tail_x] - b))/a)**(-1/k)\n",
      "/Users/as3993/anaconda3/envs/plprob/lib/python3.12/site-packages/sklearn/covariance/_graph_lasso.py:139: ConvergenceWarning: Objective did not converge. You might want to increase the number of iterations. Duality gap: 0.01667080926308273, tolerance: 0.0037979682571412567\n",
      "  coefs, _, _, _ = cd_fast.enet_coordinate_descent_gram(\n",
      "/Users/as3993/anaconda3/envs/plprob/lib/python3.12/site-packages/sklearn/covariance/_graph_lasso.py:139: ConvergenceWarning: Objective did not converge. You might want to increase the number of iterations. Duality gap: 0.014521904763377336, tolerance: 0.003784041609810416\n",
      "  coefs, _, _, _ = cd_fast.enet_coordinate_descent_gram(\n",
      "/Users/as3993/anaconda3/envs/plprob/lib/python3.12/site-packages/sklearn/covariance/_graph_lasso.py:139: ConvergenceWarning: Objective did not converge. You might want to increase the number of iterations. Duality gap: 0.004115538920245854, tolerance: 0.0037572563269931154\n",
      "  coefs, _, _, _ = cd_fast.enet_coordinate_descent_gram(\n",
      "/Users/as3993/anaconda3/envs/plprob/lib/python3.12/site-packages/sklearn/covariance/_graph_lasso.py:139: ConvergenceWarning: Objective did not converge. You might want to increase the number of iterations. Duality gap: 0.015920915213776254, tolerance: 0.003964478887380147\n",
      "  coefs, _, _, _ = cd_fast.enet_coordinate_descent_gram(\n",
      "/Users/as3993/anaconda3/envs/plprob/lib/python3.12/site-packages/sklearn/covariance/_graph_lasso.py:139: ConvergenceWarning: Objective did not converge. You might want to increase the number of iterations. Duality gap: 0.008574089906403515, tolerance: 0.004074882483129361\n",
      "  coefs, _, _, _ = cd_fast.enet_coordinate_descent_gram(\n",
      "/Users/as3993/anaconda3/envs/plprob/lib/python3.12/site-packages/sklearn/covariance/_graph_lasso.py:139: ConvergenceWarning: Objective did not converge. You might want to increase the number of iterations. Duality gap: 0.004107829256646767, tolerance: 0.0038522016533314757\n",
      "  coefs, _, _, _ = cd_fast.enet_coordinate_descent_gram(\n",
      "/Users/as3993/anaconda3/envs/plprob/lib/python3.12/site-packages/sklearn/covariance/_graph_lasso.py:139: ConvergenceWarning: Objective did not converge. You might want to increase the number of iterations. Duality gap: 0.004527759442460422, tolerance: 0.0037907767956342113\n",
      "  coefs, _, _, _ = cd_fast.enet_coordinate_descent_gram(\n",
      "/Users/as3993/anaconda3/envs/plprob/lib/python3.12/site-packages/sklearn/covariance/_graph_lasso.py:139: ConvergenceWarning: Objective did not converge. You might want to increase the number of iterations. Duality gap: 0.004213483381221295, tolerance: 0.0037541764656205483\n",
      "  coefs, _, _, _ = cd_fast.enet_coordinate_descent_gram(\n",
      "/Users/as3993/anaconda3/envs/plprob/lib/python3.12/site-packages/sklearn/covariance/_graph_lasso.py:191: ConvergenceWarning: graphical_lasso: did not converge after 100 iteration: dual gap: 7.443e-02\n",
      "  warnings.warn(\n",
      "/Users/as3993/Amit/PLProb/plprob/predictor.py:548: FutureWarning: The default of observed=False is deprecated and will be changed to True in a future version of pandas. Pass observed=False to retain current behavior or observed=True to adopt the future default and silence this warning.\n",
      "  self.cp_prob = dict(cp_count.groupby(cp_count).count()[::-1].cumsum() / len(cp_count))\n"
     ]
    },
    {
     "name": "stdout",
     "output_type": "stream",
     "text": [
      "2023-07-21\n"
     ]
    },
    {
     "name": "stderr",
     "output_type": "stream",
     "text": [
      "/Users/as3993/Amit/PLProb/R/univariate.py:320: RuntimeWarning: invalid value encountered in power\n",
      "  val[upper_tail_x] = 1 - (1 - p_upper) * (1 + (k * (x[upper_tail_x] - b))/a)**(-1/k)\n",
      "/Users/as3993/Amit/PLProb/R/univariate.py:330: RuntimeWarning: invalid value encountered in power\n",
      "  val[lower_tail_x] = p_lower * (1 - (k * (x[lower_tail_x] - b))/a)**(-1/k)\n",
      "/Users/as3993/Amit/PLProb/R/univariate.py:330: RuntimeWarning: invalid value encountered in power\n",
      "  val[lower_tail_x] = p_lower * (1 - (k * (x[lower_tail_x] - b))/a)**(-1/k)\n",
      "/Users/as3993/anaconda3/envs/plprob/lib/python3.12/site-packages/sklearn/covariance/_graph_lasso.py:139: ConvergenceWarning: Objective did not converge. You might want to increase the number of iterations. Duality gap: 0.016690629435046844, tolerance: 0.003798206089646432\n",
      "  coefs, _, _, _ = cd_fast.enet_coordinate_descent_gram(\n",
      "/Users/as3993/anaconda3/envs/plprob/lib/python3.12/site-packages/sklearn/covariance/_graph_lasso.py:139: ConvergenceWarning: Objective did not converge. You might want to increase the number of iterations. Duality gap: 0.014525175509206179, tolerance: 0.003784345944669021\n",
      "  coefs, _, _, _ = cd_fast.enet_coordinate_descent_gram(\n",
      "/Users/as3993/anaconda3/envs/plprob/lib/python3.12/site-packages/sklearn/covariance/_graph_lasso.py:139: ConvergenceWarning: Objective did not converge. You might want to increase the number of iterations. Duality gap: 0.004124068574860473, tolerance: 0.003757607945892263\n",
      "  coefs, _, _, _ = cd_fast.enet_coordinate_descent_gram(\n",
      "/Users/as3993/anaconda3/envs/plprob/lib/python3.12/site-packages/sklearn/covariance/_graph_lasso.py:139: ConvergenceWarning: Objective did not converge. You might want to increase the number of iterations. Duality gap: 0.015883054646899097, tolerance: 0.003964986231002569\n",
      "  coefs, _, _, _ = cd_fast.enet_coordinate_descent_gram(\n",
      "/Users/as3993/anaconda3/envs/plprob/lib/python3.12/site-packages/sklearn/covariance/_graph_lasso.py:139: ConvergenceWarning: Objective did not converge. You might want to increase the number of iterations. Duality gap: 0.008570835535707033, tolerance: 0.004075236791546046\n",
      "  coefs, _, _, _ = cd_fast.enet_coordinate_descent_gram(\n",
      "/Users/as3993/anaconda3/envs/plprob/lib/python3.12/site-packages/sklearn/covariance/_graph_lasso.py:139: ConvergenceWarning: Objective did not converge. You might want to increase the number of iterations. Duality gap: 0.00411108771322688, tolerance: 0.0038526575222807367\n",
      "  coefs, _, _, _ = cd_fast.enet_coordinate_descent_gram(\n",
      "/Users/as3993/anaconda3/envs/plprob/lib/python3.12/site-packages/sklearn/covariance/_graph_lasso.py:139: ConvergenceWarning: Objective did not converge. You might want to increase the number of iterations. Duality gap: 0.00451284427086307, tolerance: 0.0037912656525238876\n",
      "  coefs, _, _, _ = cd_fast.enet_coordinate_descent_gram(\n",
      "/Users/as3993/anaconda3/envs/plprob/lib/python3.12/site-packages/sklearn/covariance/_graph_lasso.py:139: ConvergenceWarning: Objective did not converge. You might want to increase the number of iterations. Duality gap: 0.004213083630432379, tolerance: 0.003754551431800914\n",
      "  coefs, _, _, _ = cd_fast.enet_coordinate_descent_gram(\n",
      "/Users/as3993/anaconda3/envs/plprob/lib/python3.12/site-packages/sklearn/covariance/_graph_lasso.py:191: ConvergenceWarning: graphical_lasso: did not converge after 100 iteration: dual gap: 9.856e-02\n",
      "  warnings.warn(\n",
      "/Users/as3993/Amit/PLProb/plprob/predictor.py:548: FutureWarning: The default of observed=False is deprecated and will be changed to True in a future version of pandas. Pass observed=False to retain current behavior or observed=True to adopt the future default and silence this warning.\n",
      "  self.cp_prob = dict(cp_count.groupby(cp_count).count()[::-1].cumsum() / len(cp_count))\n"
     ]
    },
    {
     "name": "stdout",
     "output_type": "stream",
     "text": [
      "2023-07-22\n"
     ]
    },
    {
     "name": "stderr",
     "output_type": "stream",
     "text": [
      "/Users/as3993/Amit/PLProb/R/univariate.py:320: RuntimeWarning: invalid value encountered in power\n",
      "  val[upper_tail_x] = 1 - (1 - p_upper) * (1 + (k * (x[upper_tail_x] - b))/a)**(-1/k)\n",
      "/Users/as3993/Amit/PLProb/R/univariate.py:330: RuntimeWarning: invalid value encountered in power\n",
      "  val[lower_tail_x] = p_lower * (1 - (k * (x[lower_tail_x] - b))/a)**(-1/k)\n",
      "/Users/as3993/Amit/PLProb/R/univariate.py:330: RuntimeWarning: invalid value encountered in power\n",
      "  val[lower_tail_x] = p_lower * (1 - (k * (x[lower_tail_x] - b))/a)**(-1/k)\n",
      "/Users/as3993/anaconda3/envs/plprob/lib/python3.12/site-packages/sklearn/covariance/_graph_lasso.py:139: ConvergenceWarning: Objective did not converge. You might want to increase the number of iterations. Duality gap: 0.016756341543825215, tolerance: 0.00380067185560696\n",
      "  coefs, _, _, _ = cd_fast.enet_coordinate_descent_gram(\n",
      "/Users/as3993/anaconda3/envs/plprob/lib/python3.12/site-packages/sklearn/covariance/_graph_lasso.py:139: ConvergenceWarning: Objective did not converge. You might want to increase the number of iterations. Duality gap: 0.014455586091045802, tolerance: 0.0037868097799646535\n",
      "  coefs, _, _, _ = cd_fast.enet_coordinate_descent_gram(\n",
      "/Users/as3993/anaconda3/envs/plprob/lib/python3.12/site-packages/sklearn/covariance/_graph_lasso.py:139: ConvergenceWarning: Objective did not converge. You might want to increase the number of iterations. Duality gap: 0.004292463096525978, tolerance: 0.0037596117007550555\n",
      "  coefs, _, _, _ = cd_fast.enet_coordinate_descent_gram(\n",
      "/Users/as3993/anaconda3/envs/plprob/lib/python3.12/site-packages/sklearn/covariance/_graph_lasso.py:139: ConvergenceWarning: Objective did not converge. You might want to increase the number of iterations. Duality gap: 0.017199107796379565, tolerance: 0.003967386492425163\n",
      "  coefs, _, _, _ = cd_fast.enet_coordinate_descent_gram(\n",
      "/Users/as3993/anaconda3/envs/plprob/lib/python3.12/site-packages/sklearn/covariance/_graph_lasso.py:139: ConvergenceWarning: Objective did not converge. You might want to increase the number of iterations. Duality gap: 0.008071727868816936, tolerance: 0.004077025799099106\n",
      "  coefs, _, _, _ = cd_fast.enet_coordinate_descent_gram(\n",
      "/Users/as3993/anaconda3/envs/plprob/lib/python3.12/site-packages/sklearn/covariance/_graph_lasso.py:139: ConvergenceWarning: Objective did not converge. You might want to increase the number of iterations. Duality gap: 0.004159618020352696, tolerance: 0.0038528340410385995\n",
      "  coefs, _, _, _ = cd_fast.enet_coordinate_descent_gram(\n",
      "/Users/as3993/anaconda3/envs/plprob/lib/python3.12/site-packages/sklearn/covariance/_graph_lasso.py:139: ConvergenceWarning: Objective did not converge. You might want to increase the number of iterations. Duality gap: 0.004527594494845744, tolerance: 0.003793759508143791\n",
      "  coefs, _, _, _ = cd_fast.enet_coordinate_descent_gram(\n",
      "/Users/as3993/anaconda3/envs/plprob/lib/python3.12/site-packages/sklearn/covariance/_graph_lasso.py:191: ConvergenceWarning: graphical_lasso: did not converge after 100 iteration: dual gap: 1.668e-02\n",
      "  warnings.warn(\n",
      "/Users/as3993/Amit/PLProb/plprob/predictor.py:548: FutureWarning: The default of observed=False is deprecated and will be changed to True in a future version of pandas. Pass observed=False to retain current behavior or observed=True to adopt the future default and silence this warning.\n",
      "  self.cp_prob = dict(cp_count.groupby(cp_count).count()[::-1].cumsum() / len(cp_count))\n"
     ]
    },
    {
     "name": "stdout",
     "output_type": "stream",
     "text": [
      "2023-07-23\n"
     ]
    },
    {
     "name": "stderr",
     "output_type": "stream",
     "text": [
      "/Users/as3993/Amit/PLProb/R/univariate.py:320: RuntimeWarning: invalid value encountered in power\n",
      "  val[upper_tail_x] = 1 - (1 - p_upper) * (1 + (k * (x[upper_tail_x] - b))/a)**(-1/k)\n",
      "/Users/as3993/Amit/PLProb/R/univariate.py:330: RuntimeWarning: invalid value encountered in power\n",
      "  val[lower_tail_x] = p_lower * (1 - (k * (x[lower_tail_x] - b))/a)**(-1/k)\n",
      "/Users/as3993/Amit/PLProb/R/univariate.py:330: RuntimeWarning: invalid value encountered in power\n",
      "  val[lower_tail_x] = p_lower * (1 - (k * (x[lower_tail_x] - b))/a)**(-1/k)\n",
      "/Users/as3993/anaconda3/envs/plprob/lib/python3.12/site-packages/sklearn/covariance/_graph_lasso.py:139: ConvergenceWarning: Objective did not converge. You might want to increase the number of iterations. Duality gap: 0.01678077023441915, tolerance: 0.0038007320983711843\n",
      "  coefs, _, _, _ = cd_fast.enet_coordinate_descent_gram(\n",
      "/Users/as3993/anaconda3/envs/plprob/lib/python3.12/site-packages/sklearn/covariance/_graph_lasso.py:139: ConvergenceWarning: Objective did not converge. You might want to increase the number of iterations. Duality gap: 0.014459968572417381, tolerance: 0.0037868577067785548\n",
      "  coefs, _, _, _ = cd_fast.enet_coordinate_descent_gram(\n",
      "/Users/as3993/anaconda3/envs/plprob/lib/python3.12/site-packages/sklearn/covariance/_graph_lasso.py:139: ConvergenceWarning: Objective did not converge. You might want to increase the number of iterations. Duality gap: 0.0042921910266713326, tolerance: 0.003759613972568056\n",
      "  coefs, _, _, _ = cd_fast.enet_coordinate_descent_gram(\n",
      "/Users/as3993/anaconda3/envs/plprob/lib/python3.12/site-packages/sklearn/covariance/_graph_lasso.py:139: ConvergenceWarning: Objective did not converge. You might want to increase the number of iterations. Duality gap: 0.01723970037931366, tolerance: 0.00396701298606109\n",
      "  coefs, _, _, _ = cd_fast.enet_coordinate_descent_gram(\n",
      "/Users/as3993/anaconda3/envs/plprob/lib/python3.12/site-packages/sklearn/covariance/_graph_lasso.py:139: ConvergenceWarning: Objective did not converge. You might want to increase the number of iterations. Duality gap: 0.008057242025223843, tolerance: 0.004076778537902212\n",
      "  coefs, _, _, _ = cd_fast.enet_coordinate_descent_gram(\n",
      "/Users/as3993/anaconda3/envs/plprob/lib/python3.12/site-packages/sklearn/covariance/_graph_lasso.py:139: ConvergenceWarning: Objective did not converge. You might want to increase the number of iterations. Duality gap: 0.004160432475103448, tolerance: 0.003852912171203291\n",
      "  coefs, _, _, _ = cd_fast.enet_coordinate_descent_gram(\n",
      "/Users/as3993/anaconda3/envs/plprob/lib/python3.12/site-packages/sklearn/covariance/_graph_lasso.py:139: ConvergenceWarning: Objective did not converge. You might want to increase the number of iterations. Duality gap: 0.004527650176690656, tolerance: 0.003793823993210883\n",
      "  coefs, _, _, _ = cd_fast.enet_coordinate_descent_gram(\n",
      "/Users/as3993/anaconda3/envs/plprob/lib/python3.12/site-packages/sklearn/covariance/_graph_lasso.py:191: ConvergenceWarning: graphical_lasso: did not converge after 100 iteration: dual gap: -1.140e-02\n",
      "  warnings.warn(\n",
      "/Users/as3993/Amit/PLProb/plprob/predictor.py:548: FutureWarning: The default of observed=False is deprecated and will be changed to True in a future version of pandas. Pass observed=False to retain current behavior or observed=True to adopt the future default and silence this warning.\n",
      "  self.cp_prob = dict(cp_count.groupby(cp_count).count()[::-1].cumsum() / len(cp_count))\n"
     ]
    },
    {
     "name": "stdout",
     "output_type": "stream",
     "text": [
      "2023-07-24\n"
     ]
    },
    {
     "name": "stderr",
     "output_type": "stream",
     "text": [
      "/Users/as3993/Amit/PLProb/R/univariate.py:320: RuntimeWarning: invalid value encountered in power\n",
      "  val[upper_tail_x] = 1 - (1 - p_upper) * (1 + (k * (x[upper_tail_x] - b))/a)**(-1/k)\n",
      "/Users/as3993/Amit/PLProb/R/univariate.py:330: RuntimeWarning: invalid value encountered in power\n",
      "  val[lower_tail_x] = p_lower * (1 - (k * (x[lower_tail_x] - b))/a)**(-1/k)\n",
      "/Users/as3993/Amit/PLProb/R/univariate.py:330: RuntimeWarning: invalid value encountered in power\n",
      "  val[lower_tail_x] = p_lower * (1 - (k * (x[lower_tail_x] - b))/a)**(-1/k)\n",
      "/Users/as3993/anaconda3/envs/plprob/lib/python3.12/site-packages/sklearn/covariance/_graph_lasso.py:139: ConvergenceWarning: Objective did not converge. You might want to increase the number of iterations. Duality gap: 0.016733560247331525, tolerance: 0.0037986876886966755\n",
      "  coefs, _, _, _ = cd_fast.enet_coordinate_descent_gram(\n",
      "/Users/as3993/anaconda3/envs/plprob/lib/python3.12/site-packages/sklearn/covariance/_graph_lasso.py:139: ConvergenceWarning: Objective did not converge. You might want to increase the number of iterations. Duality gap: 0.014432376376433353, tolerance: 0.003784750457459473\n",
      "  coefs, _, _, _ = cd_fast.enet_coordinate_descent_gram(\n",
      "/Users/as3993/anaconda3/envs/plprob/lib/python3.12/site-packages/sklearn/covariance/_graph_lasso.py:139: ConvergenceWarning: Objective did not converge. You might want to increase the number of iterations. Duality gap: 0.004333461658504234, tolerance: 0.003757669650257706\n",
      "  coefs, _, _, _ = cd_fast.enet_coordinate_descent_gram(\n",
      "/Users/as3993/anaconda3/envs/plprob/lib/python3.12/site-packages/sklearn/covariance/_graph_lasso.py:139: ConvergenceWarning: Objective did not converge. You might want to increase the number of iterations. Duality gap: 0.01736681408455354, tolerance: 0.0039655976498748245\n",
      "  coefs, _, _, _ = cd_fast.enet_coordinate_descent_gram(\n",
      "/Users/as3993/anaconda3/envs/plprob/lib/python3.12/site-packages/sklearn/covariance/_graph_lasso.py:139: ConvergenceWarning: Objective did not converge. You might want to increase the number of iterations. Duality gap: 0.008058919313810975, tolerance: 0.004075927191916603\n",
      "  coefs, _, _, _ = cd_fast.enet_coordinate_descent_gram(\n",
      "/Users/as3993/anaconda3/envs/plprob/lib/python3.12/site-packages/sklearn/covariance/_graph_lasso.py:139: ConvergenceWarning: Objective did not converge. You might want to increase the number of iterations. Duality gap: 0.0041530294961305, tolerance: 0.003852290624021814\n",
      "  coefs, _, _, _ = cd_fast.enet_coordinate_descent_gram(\n",
      "/Users/as3993/anaconda3/envs/plprob/lib/python3.12/site-packages/sklearn/covariance/_graph_lasso.py:139: ConvergenceWarning: Objective did not converge. You might want to increase the number of iterations. Duality gap: 0.004539696687203332, tolerance: 0.0037931695978906613\n",
      "  coefs, _, _, _ = cd_fast.enet_coordinate_descent_gram(\n",
      "/Users/as3993/anaconda3/envs/plprob/lib/python3.12/site-packages/sklearn/covariance/_graph_lasso.py:191: ConvergenceWarning: graphical_lasso: did not converge after 100 iteration: dual gap: 2.183e-03\n",
      "  warnings.warn(\n",
      "/Users/as3993/Amit/PLProb/plprob/predictor.py:548: FutureWarning: The default of observed=False is deprecated and will be changed to True in a future version of pandas. Pass observed=False to retain current behavior or observed=True to adopt the future default and silence this warning.\n",
      "  self.cp_prob = dict(cp_count.groupby(cp_count).count()[::-1].cumsum() / len(cp_count))\n"
     ]
    },
    {
     "name": "stdout",
     "output_type": "stream",
     "text": [
      "2023-07-25\n"
     ]
    },
    {
     "name": "stderr",
     "output_type": "stream",
     "text": [
      "/Users/as3993/Amit/PLProb/R/univariate.py:320: RuntimeWarning: invalid value encountered in power\n",
      "  val[upper_tail_x] = 1 - (1 - p_upper) * (1 + (k * (x[upper_tail_x] - b))/a)**(-1/k)\n",
      "/Users/as3993/Amit/PLProb/R/univariate.py:330: RuntimeWarning: invalid value encountered in power\n",
      "  val[lower_tail_x] = p_lower * (1 - (k * (x[lower_tail_x] - b))/a)**(-1/k)\n",
      "/Users/as3993/Amit/PLProb/R/univariate.py:330: RuntimeWarning: invalid value encountered in power\n",
      "  val[lower_tail_x] = p_lower * (1 - (k * (x[lower_tail_x] - b))/a)**(-1/k)\n",
      "/Users/as3993/anaconda3/envs/plprob/lib/python3.12/site-packages/sklearn/covariance/_graph_lasso.py:139: ConvergenceWarning: Objective did not converge. You might want to increase the number of iterations. Duality gap: 0.016751962983036606, tolerance: 0.003798534600701756\n",
      "  coefs, _, _, _ = cd_fast.enet_coordinate_descent_gram(\n",
      "/Users/as3993/anaconda3/envs/plprob/lib/python3.12/site-packages/sklearn/covariance/_graph_lasso.py:139: ConvergenceWarning: Objective did not converge. You might want to increase the number of iterations. Duality gap: 0.014441604031809163, tolerance: 0.003784560754245392\n",
      "  coefs, _, _, _ = cd_fast.enet_coordinate_descent_gram(\n",
      "/Users/as3993/anaconda3/envs/plprob/lib/python3.12/site-packages/sklearn/covariance/_graph_lasso.py:139: ConvergenceWarning: Objective did not converge. You might want to increase the number of iterations. Duality gap: 0.0043290332032484, tolerance: 0.003757491920297981\n",
      "  coefs, _, _, _ = cd_fast.enet_coordinate_descent_gram(\n",
      "/Users/as3993/anaconda3/envs/plprob/lib/python3.12/site-packages/sklearn/covariance/_graph_lasso.py:139: ConvergenceWarning: Objective did not converge. You might want to increase the number of iterations. Duality gap: 0.017355592578198298, tolerance: 0.003965628565232251\n",
      "  coefs, _, _, _ = cd_fast.enet_coordinate_descent_gram(\n",
      "/Users/as3993/anaconda3/envs/plprob/lib/python3.12/site-packages/sklearn/covariance/_graph_lasso.py:139: ConvergenceWarning: Objective did not converge. You might want to increase the number of iterations. Duality gap: 0.008051072327127429, tolerance: 0.004075757730893011\n",
      "  coefs, _, _, _ = cd_fast.enet_coordinate_descent_gram(\n",
      "/Users/as3993/anaconda3/envs/plprob/lib/python3.12/site-packages/sklearn/covariance/_graph_lasso.py:139: ConvergenceWarning: Objective did not converge. You might want to increase the number of iterations. Duality gap: 0.004145478034239147, tolerance: 0.0038525552214049457\n",
      "  coefs, _, _, _ = cd_fast.enet_coordinate_descent_gram(\n",
      "/Users/as3993/anaconda3/envs/plprob/lib/python3.12/site-packages/sklearn/covariance/_graph_lasso.py:139: ConvergenceWarning: Objective did not converge. You might want to increase the number of iterations. Duality gap: 0.004539591384414621, tolerance: 0.0037934416914024356\n",
      "  coefs, _, _, _ = cd_fast.enet_coordinate_descent_gram(\n",
      "/Users/as3993/Amit/PLProb/plprob/predictor.py:548: FutureWarning: The default of observed=False is deprecated and will be changed to True in a future version of pandas. Pass observed=False to retain current behavior or observed=True to adopt the future default and silence this warning.\n",
      "  self.cp_prob = dict(cp_count.groupby(cp_count).count()[::-1].cumsum() / len(cp_count))\n"
     ]
    },
    {
     "name": "stdout",
     "output_type": "stream",
     "text": [
      "2023-07-26\n"
     ]
    },
    {
     "name": "stderr",
     "output_type": "stream",
     "text": [
      "/Users/as3993/Amit/PLProb/R/univariate.py:320: RuntimeWarning: invalid value encountered in power\n",
      "  val[upper_tail_x] = 1 - (1 - p_upper) * (1 + (k * (x[upper_tail_x] - b))/a)**(-1/k)\n",
      "/Users/as3993/Amit/PLProb/R/univariate.py:330: RuntimeWarning: invalid value encountered in power\n",
      "  val[lower_tail_x] = p_lower * (1 - (k * (x[lower_tail_x] - b))/a)**(-1/k)\n",
      "/Users/as3993/anaconda3/envs/plprob/lib/python3.12/site-packages/sklearn/covariance/_graph_lasso.py:191: ConvergenceWarning: graphical_lasso: did not converge after 100 iteration: dual gap: -2.339e-03\n",
      "  warnings.warn(\n",
      "/Users/as3993/Amit/PLProb/R/univariate.py:330: RuntimeWarning: invalid value encountered in power\n",
      "  val[lower_tail_x] = p_lower * (1 - (k * (x[lower_tail_x] - b))/a)**(-1/k)\n",
      "/Users/as3993/anaconda3/envs/plprob/lib/python3.12/site-packages/sklearn/covariance/_graph_lasso.py:139: ConvergenceWarning: Objective did not converge. You might want to increase the number of iterations. Duality gap: 0.016675263110613514, tolerance: 0.0037973173678330866\n",
      "  coefs, _, _, _ = cd_fast.enet_coordinate_descent_gram(\n",
      "/Users/as3993/anaconda3/envs/plprob/lib/python3.12/site-packages/sklearn/covariance/_graph_lasso.py:139: ConvergenceWarning: Objective did not converge. You might want to increase the number of iterations. Duality gap: 0.014368112692260127, tolerance: 0.0037834188445127347\n",
      "  coefs, _, _, _ = cd_fast.enet_coordinate_descent_gram(\n",
      "/Users/as3993/anaconda3/envs/plprob/lib/python3.12/site-packages/sklearn/covariance/_graph_lasso.py:139: ConvergenceWarning: Objective did not converge. You might want to increase the number of iterations. Duality gap: 0.004328020816849687, tolerance: 0.0037564649416164508\n",
      "  coefs, _, _, _ = cd_fast.enet_coordinate_descent_gram(\n",
      "/Users/as3993/anaconda3/envs/plprob/lib/python3.12/site-packages/sklearn/covariance/_graph_lasso.py:139: ConvergenceWarning: Objective did not converge. You might want to increase the number of iterations. Duality gap: 0.01728177834744571, tolerance: 0.00396533241701696\n",
      "  coefs, _, _, _ = cd_fast.enet_coordinate_descent_gram(\n",
      "/Users/as3993/anaconda3/envs/plprob/lib/python3.12/site-packages/sklearn/covariance/_graph_lasso.py:139: ConvergenceWarning: Objective did not converge. You might want to increase the number of iterations. Duality gap: 0.008073590388200103, tolerance: 0.00407529413776818\n",
      "  coefs, _, _, _ = cd_fast.enet_coordinate_descent_gram(\n",
      "/Users/as3993/anaconda3/envs/plprob/lib/python3.12/site-packages/sklearn/covariance/_graph_lasso.py:139: ConvergenceWarning: Objective did not converge. You might want to increase the number of iterations. Duality gap: 0.004153109771465324, tolerance: 0.0038522748908634214\n",
      "  coefs, _, _, _ = cd_fast.enet_coordinate_descent_gram(\n",
      "/Users/as3993/anaconda3/envs/plprob/lib/python3.12/site-packages/sklearn/covariance/_graph_lasso.py:139: ConvergenceWarning: Objective did not converge. You might want to increase the number of iterations. Duality gap: 0.004573174809451075, tolerance: 0.003792574152953327\n",
      "  coefs, _, _, _ = cd_fast.enet_coordinate_descent_gram(\n",
      "/Users/as3993/anaconda3/envs/plprob/lib/python3.12/site-packages/sklearn/covariance/_graph_lasso.py:191: ConvergenceWarning: graphical_lasso: did not converge after 100 iteration: dual gap: 2.581e-02\n",
      "  warnings.warn(\n",
      "/Users/as3993/Amit/PLProb/plprob/predictor.py:548: FutureWarning: The default of observed=False is deprecated and will be changed to True in a future version of pandas. Pass observed=False to retain current behavior or observed=True to adopt the future default and silence this warning.\n",
      "  self.cp_prob = dict(cp_count.groupby(cp_count).count()[::-1].cumsum() / len(cp_count))\n"
     ]
    },
    {
     "name": "stdout",
     "output_type": "stream",
     "text": [
      "2023-07-27\n"
     ]
    },
    {
     "name": "stderr",
     "output_type": "stream",
     "text": [
      "/Users/as3993/Amit/PLProb/R/univariate.py:320: RuntimeWarning: invalid value encountered in power\n",
      "  val[upper_tail_x] = 1 - (1 - p_upper) * (1 + (k * (x[upper_tail_x] - b))/a)**(-1/k)\n",
      "/Users/as3993/Amit/PLProb/R/univariate.py:330: RuntimeWarning: invalid value encountered in power\n",
      "  val[lower_tail_x] = p_lower * (1 - (k * (x[lower_tail_x] - b))/a)**(-1/k)\n",
      "/Users/as3993/Amit/PLProb/R/univariate.py:330: RuntimeWarning: invalid value encountered in power\n",
      "  val[lower_tail_x] = p_lower * (1 - (k * (x[lower_tail_x] - b))/a)**(-1/k)\n",
      "/Users/as3993/anaconda3/envs/plprob/lib/python3.12/site-packages/sklearn/covariance/_graph_lasso.py:139: ConvergenceWarning: Objective did not converge. You might want to increase the number of iterations. Duality gap: 0.016746338975742958, tolerance: 0.0037966023000514056\n",
      "  coefs, _, _, _ = cd_fast.enet_coordinate_descent_gram(\n",
      "/Users/as3993/anaconda3/envs/plprob/lib/python3.12/site-packages/sklearn/covariance/_graph_lasso.py:139: ConvergenceWarning: Objective did not converge. You might want to increase the number of iterations. Duality gap: 0.014409729743924515, tolerance: 0.0037828819545589975\n",
      "  coefs, _, _, _ = cd_fast.enet_coordinate_descent_gram(\n",
      "/Users/as3993/anaconda3/envs/plprob/lib/python3.12/site-packages/sklearn/covariance/_graph_lasso.py:139: ConvergenceWarning: Objective did not converge. You might want to increase the number of iterations. Duality gap: 0.00442507483201382, tolerance: 0.0037562310728567823\n",
      "  coefs, _, _, _ = cd_fast.enet_coordinate_descent_gram(\n",
      "/Users/as3993/anaconda3/envs/plprob/lib/python3.12/site-packages/sklearn/covariance/_graph_lasso.py:139: ConvergenceWarning: Objective did not converge. You might want to increase the number of iterations. Duality gap: 0.017241274499539827, tolerance: 0.003965110208625598\n",
      "  coefs, _, _, _ = cd_fast.enet_coordinate_descent_gram(\n",
      "/Users/as3993/anaconda3/envs/plprob/lib/python3.12/site-packages/sklearn/covariance/_graph_lasso.py:139: ConvergenceWarning: Objective did not converge. You might want to increase the number of iterations. Duality gap: 0.008070926500636233, tolerance: 0.004075119013977338\n",
      "  coefs, _, _, _ = cd_fast.enet_coordinate_descent_gram(\n",
      "/Users/as3993/anaconda3/envs/plprob/lib/python3.12/site-packages/sklearn/covariance/_graph_lasso.py:139: ConvergenceWarning: Objective did not converge. You might want to increase the number of iterations. Duality gap: 0.0041460912297637265, tolerance: 0.0038521021202402787\n",
      "  coefs, _, _, _ = cd_fast.enet_coordinate_descent_gram(\n",
      "/Users/as3993/anaconda3/envs/plprob/lib/python3.12/site-packages/sklearn/covariance/_graph_lasso.py:139: ConvergenceWarning: Objective did not converge. You might want to increase the number of iterations. Duality gap: 0.004552253895269587, tolerance: 0.0037922288381424295\n",
      "  coefs, _, _, _ = cd_fast.enet_coordinate_descent_gram(\n",
      "/Users/as3993/anaconda3/envs/plprob/lib/python3.12/site-packages/sklearn/covariance/_graph_lasso.py:191: ConvergenceWarning: graphical_lasso: did not converge after 100 iteration: dual gap: 9.275e-02\n",
      "  warnings.warn(\n",
      "/Users/as3993/Amit/PLProb/R/univariate.py:320: RuntimeWarning: invalid value encountered in power\n",
      "  val[upper_tail_x] = 1 - (1 - p_upper) * (1 + (k * (x[upper_tail_x] - b))/a)**(-1/k)\n",
      "/Users/as3993/Amit/PLProb/plprob/predictor.py:548: FutureWarning: The default of observed=False is deprecated and will be changed to True in a future version of pandas. Pass observed=False to retain current behavior or observed=True to adopt the future default and silence this warning.\n",
      "  self.cp_prob = dict(cp_count.groupby(cp_count).count()[::-1].cumsum() / len(cp_count))\n"
     ]
    },
    {
     "name": "stdout",
     "output_type": "stream",
     "text": [
      "2023-07-28\n"
     ]
    },
    {
     "name": "stderr",
     "output_type": "stream",
     "text": [
      "/Users/as3993/Amit/PLProb/R/univariate.py:320: RuntimeWarning: invalid value encountered in power\n",
      "  val[upper_tail_x] = 1 - (1 - p_upper) * (1 + (k * (x[upper_tail_x] - b))/a)**(-1/k)\n",
      "/Users/as3993/Amit/PLProb/R/univariate.py:330: RuntimeWarning: invalid value encountered in power\n",
      "  val[lower_tail_x] = p_lower * (1 - (k * (x[lower_tail_x] - b))/a)**(-1/k)\n",
      "/Users/as3993/Amit/PLProb/R/univariate.py:330: RuntimeWarning: invalid value encountered in power\n",
      "  val[lower_tail_x] = p_lower * (1 - (k * (x[lower_tail_x] - b))/a)**(-1/k)\n",
      "/Users/as3993/anaconda3/envs/plprob/lib/python3.12/site-packages/sklearn/covariance/_graph_lasso.py:139: ConvergenceWarning: Objective did not converge. You might want to increase the number of iterations. Duality gap: 0.01672737349675657, tolerance: 0.0037973945712510026\n",
      "  coefs, _, _, _ = cd_fast.enet_coordinate_descent_gram(\n",
      "/Users/as3993/anaconda3/envs/plprob/lib/python3.12/site-packages/sklearn/covariance/_graph_lasso.py:139: ConvergenceWarning: Objective did not converge. You might want to increase the number of iterations. Duality gap: 0.014409061431528869, tolerance: 0.003783893779537802\n",
      "  coefs, _, _, _ = cd_fast.enet_coordinate_descent_gram(\n",
      "/Users/as3993/anaconda3/envs/plprob/lib/python3.12/site-packages/sklearn/covariance/_graph_lasso.py:139: ConvergenceWarning: Objective did not converge. You might want to increase the number of iterations. Duality gap: 0.004326221728817359, tolerance: 0.0037571867979908124\n",
      "  coefs, _, _, _ = cd_fast.enet_coordinate_descent_gram(\n",
      "/Users/as3993/anaconda3/envs/plprob/lib/python3.12/site-packages/sklearn/covariance/_graph_lasso.py:139: ConvergenceWarning: Objective did not converge. You might want to increase the number of iterations. Duality gap: 0.017205413639757694, tolerance: 0.003965902832864454\n",
      "  coefs, _, _, _ = cd_fast.enet_coordinate_descent_gram(\n",
      "/Users/as3993/anaconda3/envs/plprob/lib/python3.12/site-packages/sklearn/covariance/_graph_lasso.py:139: ConvergenceWarning: Objective did not converge. You might want to increase the number of iterations. Duality gap: 0.00800596355217209, tolerance: 0.004075498981219323\n",
      "  coefs, _, _, _ = cd_fast.enet_coordinate_descent_gram(\n",
      "/Users/as3993/anaconda3/envs/plprob/lib/python3.12/site-packages/sklearn/covariance/_graph_lasso.py:139: ConvergenceWarning: Objective did not converge. You might want to increase the number of iterations. Duality gap: 0.004135672934758361, tolerance: 0.0038531687943867553\n",
      "  coefs, _, _, _ = cd_fast.enet_coordinate_descent_gram(\n",
      "/Users/as3993/anaconda3/envs/plprob/lib/python3.12/site-packages/sklearn/covariance/_graph_lasso.py:139: ConvergenceWarning: Objective did not converge. You might want to increase the number of iterations. Duality gap: 0.0045443759230536784, tolerance: 0.0037928645462628314\n",
      "  coefs, _, _, _ = cd_fast.enet_coordinate_descent_gram(\n",
      "/Users/as3993/anaconda3/envs/plprob/lib/python3.12/site-packages/sklearn/covariance/_graph_lasso.py:191: ConvergenceWarning: graphical_lasso: did not converge after 100 iteration: dual gap: 1.402e-01\n",
      "  warnings.warn(\n",
      "/Users/as3993/Amit/PLProb/R/univariate.py:320: RuntimeWarning: invalid value encountered in power\n",
      "  val[upper_tail_x] = 1 - (1 - p_upper) * (1 + (k * (x[upper_tail_x] - b))/a)**(-1/k)\n",
      "/Users/as3993/Amit/PLProb/plprob/predictor.py:548: FutureWarning: The default of observed=False is deprecated and will be changed to True in a future version of pandas. Pass observed=False to retain current behavior or observed=True to adopt the future default and silence this warning.\n",
      "  self.cp_prob = dict(cp_count.groupby(cp_count).count()[::-1].cumsum() / len(cp_count))\n"
     ]
    },
    {
     "name": "stdout",
     "output_type": "stream",
     "text": [
      "2023-07-29\n"
     ]
    },
    {
     "name": "stderr",
     "output_type": "stream",
     "text": [
      "/Users/as3993/Amit/PLProb/R/univariate.py:320: RuntimeWarning: invalid value encountered in power\n",
      "  val[upper_tail_x] = 1 - (1 - p_upper) * (1 + (k * (x[upper_tail_x] - b))/a)**(-1/k)\n",
      "/Users/as3993/Amit/PLProb/R/univariate.py:330: RuntimeWarning: invalid value encountered in power\n",
      "  val[lower_tail_x] = p_lower * (1 - (k * (x[lower_tail_x] - b))/a)**(-1/k)\n",
      "/Users/as3993/Amit/PLProb/R/univariate.py:330: RuntimeWarning: invalid value encountered in power\n",
      "  val[lower_tail_x] = p_lower * (1 - (k * (x[lower_tail_x] - b))/a)**(-1/k)\n",
      "/Users/as3993/anaconda3/envs/plprob/lib/python3.12/site-packages/sklearn/covariance/_graph_lasso.py:139: ConvergenceWarning: Objective did not converge. You might want to increase the number of iterations. Duality gap: 0.022949409123569353, tolerance: 0.003797514778608251\n",
      "  coefs, _, _, _ = cd_fast.enet_coordinate_descent_gram(\n",
      "/Users/as3993/anaconda3/envs/plprob/lib/python3.12/site-packages/sklearn/covariance/_graph_lasso.py:139: ConvergenceWarning: Objective did not converge. You might want to increase the number of iterations. Duality gap: 0.01702907393782027, tolerance: 0.0037837750401641347\n",
      "  coefs, _, _, _ = cd_fast.enet_coordinate_descent_gram(\n",
      "/Users/as3993/anaconda3/envs/plprob/lib/python3.12/site-packages/sklearn/covariance/_graph_lasso.py:139: ConvergenceWarning: Objective did not converge. You might want to increase the number of iterations. Duality gap: 0.016393630101958934, tolerance: 0.003964831421182586\n",
      "  coefs, _, _, _ = cd_fast.enet_coordinate_descent_gram(\n",
      "/Users/as3993/anaconda3/envs/plprob/lib/python3.12/site-packages/sklearn/covariance/_graph_lasso.py:139: ConvergenceWarning: Objective did not converge. You might want to increase the number of iterations. Duality gap: 0.00842285625863326, tolerance: 0.004074655747820043\n",
      "  coefs, _, _, _ = cd_fast.enet_coordinate_descent_gram(\n",
      "/Users/as3993/anaconda3/envs/plprob/lib/python3.12/site-packages/sklearn/covariance/_graph_lasso.py:139: ConvergenceWarning: Objective did not converge. You might want to increase the number of iterations. Duality gap: 0.0045625122491799175, tolerance: 0.004105478077127486\n",
      "  coefs, _, _, _ = cd_fast.enet_coordinate_descent_gram(\n",
      "/Users/as3993/anaconda3/envs/plprob/lib/python3.12/site-packages/sklearn/covariance/_graph_lasso.py:139: ConvergenceWarning: Objective did not converge. You might want to increase the number of iterations. Duality gap: 0.006096762601437433, tolerance: 0.0038492435150305087\n",
      "  coefs, _, _, _ = cd_fast.enet_coordinate_descent_gram(\n",
      "/Users/as3993/anaconda3/envs/plprob/lib/python3.12/site-packages/sklearn/covariance/_graph_lasso.py:191: ConvergenceWarning: graphical_lasso: did not converge after 100 iteration: dual gap: -1.030e-01\n",
      "  warnings.warn(\n",
      "/Users/as3993/Amit/PLProb/plprob/predictor.py:548: FutureWarning: The default of observed=False is deprecated and will be changed to True in a future version of pandas. Pass observed=False to retain current behavior or observed=True to adopt the future default and silence this warning.\n",
      "  self.cp_prob = dict(cp_count.groupby(cp_count).count()[::-1].cumsum() / len(cp_count))\n"
     ]
    },
    {
     "name": "stdout",
     "output_type": "stream",
     "text": [
      "2023-07-30\n"
     ]
    },
    {
     "name": "stderr",
     "output_type": "stream",
     "text": [
      "/Users/as3993/Amit/PLProb/R/univariate.py:320: RuntimeWarning: invalid value encountered in power\n",
      "  val[upper_tail_x] = 1 - (1 - p_upper) * (1 + (k * (x[upper_tail_x] - b))/a)**(-1/k)\n",
      "/Users/as3993/Amit/PLProb/R/univariate.py:330: RuntimeWarning: invalid value encountered in power\n",
      "  val[lower_tail_x] = p_lower * (1 - (k * (x[lower_tail_x] - b))/a)**(-1/k)\n",
      "/Users/as3993/Amit/PLProb/R/univariate.py:330: RuntimeWarning: invalid value encountered in power\n",
      "  val[lower_tail_x] = p_lower * (1 - (k * (x[lower_tail_x] - b))/a)**(-1/k)\n",
      "/Users/as3993/anaconda3/envs/plprob/lib/python3.12/site-packages/sklearn/covariance/_graph_lasso.py:139: ConvergenceWarning: Objective did not converge. You might want to increase the number of iterations. Duality gap: 0.022888904955379985, tolerance: 0.0037979096864929392\n",
      "  coefs, _, _, _ = cd_fast.enet_coordinate_descent_gram(\n",
      "/Users/as3993/anaconda3/envs/plprob/lib/python3.12/site-packages/sklearn/covariance/_graph_lasso.py:139: ConvergenceWarning: Objective did not converge. You might want to increase the number of iterations. Duality gap: 0.017000150698784466, tolerance: 0.003784334546219388\n",
      "  coefs, _, _, _ = cd_fast.enet_coordinate_descent_gram(\n",
      "/Users/as3993/anaconda3/envs/plprob/lib/python3.12/site-packages/sklearn/covariance/_graph_lasso.py:139: ConvergenceWarning: Objective did not converge. You might want to increase the number of iterations. Duality gap: 0.01633579875539226, tolerance: 0.00396428893386957\n",
      "  coefs, _, _, _ = cd_fast.enet_coordinate_descent_gram(\n",
      "/Users/as3993/anaconda3/envs/plprob/lib/python3.12/site-packages/sklearn/covariance/_graph_lasso.py:139: ConvergenceWarning: Objective did not converge. You might want to increase the number of iterations. Duality gap: 0.008441545625188951, tolerance: 0.004074256315644749\n",
      "  coefs, _, _, _ = cd_fast.enet_coordinate_descent_gram(\n",
      "/Users/as3993/anaconda3/envs/plprob/lib/python3.12/site-packages/sklearn/covariance/_graph_lasso.py:139: ConvergenceWarning: Objective did not converge. You might want to increase the number of iterations. Duality gap: 0.004538712860743033, tolerance: 0.004105152845236594\n",
      "  coefs, _, _, _ = cd_fast.enet_coordinate_descent_gram(\n",
      "/Users/as3993/anaconda3/envs/plprob/lib/python3.12/site-packages/sklearn/covariance/_graph_lasso.py:139: ConvergenceWarning: Objective did not converge. You might want to increase the number of iterations. Duality gap: 0.006112559299509712, tolerance: 0.0038501631537860557\n",
      "  coefs, _, _, _ = cd_fast.enet_coordinate_descent_gram(\n",
      "/Users/as3993/anaconda3/envs/plprob/lib/python3.12/site-packages/sklearn/covariance/_graph_lasso.py:191: ConvergenceWarning: graphical_lasso: did not converge after 100 iteration: dual gap: 6.743e-03\n",
      "  warnings.warn(\n",
      "/Users/as3993/Amit/PLProb/plprob/predictor.py:548: FutureWarning: The default of observed=False is deprecated and will be changed to True in a future version of pandas. Pass observed=False to retain current behavior or observed=True to adopt the future default and silence this warning.\n",
      "  self.cp_prob = dict(cp_count.groupby(cp_count).count()[::-1].cumsum() / len(cp_count))\n"
     ]
    },
    {
     "name": "stdout",
     "output_type": "stream",
     "text": [
      "2023-07-31\n"
     ]
    },
    {
     "name": "stderr",
     "output_type": "stream",
     "text": [
      "/Users/as3993/Amit/PLProb/R/univariate.py:320: RuntimeWarning: invalid value encountered in power\n",
      "  val[upper_tail_x] = 1 - (1 - p_upper) * (1 + (k * (x[upper_tail_x] - b))/a)**(-1/k)\n",
      "/Users/as3993/Amit/PLProb/R/univariate.py:330: RuntimeWarning: invalid value encountered in power\n",
      "  val[lower_tail_x] = p_lower * (1 - (k * (x[lower_tail_x] - b))/a)**(-1/k)\n",
      "/Users/as3993/Amit/PLProb/R/univariate.py:330: RuntimeWarning: invalid value encountered in power\n",
      "  val[lower_tail_x] = p_lower * (1 - (k * (x[lower_tail_x] - b))/a)**(-1/k)\n",
      "/Users/as3993/anaconda3/envs/plprob/lib/python3.12/site-packages/sklearn/covariance/_graph_lasso.py:139: ConvergenceWarning: Objective did not converge. You might want to increase the number of iterations. Duality gap: 0.022892818236819323, tolerance: 0.0037973719165077208\n",
      "  coefs, _, _, _ = cd_fast.enet_coordinate_descent_gram(\n",
      "/Users/as3993/anaconda3/envs/plprob/lib/python3.12/site-packages/sklearn/covariance/_graph_lasso.py:139: ConvergenceWarning: Objective did not converge. You might want to increase the number of iterations. Duality gap: 0.017020816631394098, tolerance: 0.0037838434781595383\n",
      "  coefs, _, _, _ = cd_fast.enet_coordinate_descent_gram(\n",
      "/Users/as3993/anaconda3/envs/plprob/lib/python3.12/site-packages/sklearn/covariance/_graph_lasso.py:139: ConvergenceWarning: Objective did not converge. You might want to increase the number of iterations. Duality gap: 0.016555855100435224, tolerance: 0.0039629501066273855\n",
      "  coefs, _, _, _ = cd_fast.enet_coordinate_descent_gram(\n",
      "/Users/as3993/anaconda3/envs/plprob/lib/python3.12/site-packages/sklearn/covariance/_graph_lasso.py:139: ConvergenceWarning: Objective did not converge. You might want to increase the number of iterations. Duality gap: 0.008442119036402573, tolerance: 0.004073044810409672\n",
      "  coefs, _, _, _ = cd_fast.enet_coordinate_descent_gram(\n",
      "/Users/as3993/anaconda3/envs/plprob/lib/python3.12/site-packages/sklearn/covariance/_graph_lasso.py:139: ConvergenceWarning: Objective did not converge. You might want to increase the number of iterations. Duality gap: 0.004545246763861144, tolerance: 0.004104135762233424\n",
      "  coefs, _, _, _ = cd_fast.enet_coordinate_descent_gram(\n",
      "/Users/as3993/anaconda3/envs/plprob/lib/python3.12/site-packages/sklearn/covariance/_graph_lasso.py:139: ConvergenceWarning: Objective did not converge. You might want to increase the number of iterations. Duality gap: 0.006092851840200808, tolerance: 0.003849618781957257\n",
      "  coefs, _, _, _ = cd_fast.enet_coordinate_descent_gram(\n",
      "/Users/as3993/anaconda3/envs/plprob/lib/python3.12/site-packages/sklearn/covariance/_graph_lasso.py:191: ConvergenceWarning: graphical_lasso: did not converge after 100 iteration: dual gap: -2.701e-02\n",
      "  warnings.warn(\n",
      "/Users/as3993/Amit/PLProb/plprob/predictor.py:548: FutureWarning: The default of observed=False is deprecated and will be changed to True in a future version of pandas. Pass observed=False to retain current behavior or observed=True to adopt the future default and silence this warning.\n",
      "  self.cp_prob = dict(cp_count.groupby(cp_count).count()[::-1].cumsum() / len(cp_count))\n"
     ]
    },
    {
     "name": "stdout",
     "output_type": "stream",
     "text": [
      "2023-08-01\n"
     ]
    },
    {
     "name": "stderr",
     "output_type": "stream",
     "text": [
      "/Users/as3993/Amit/PLProb/R/univariate.py:320: RuntimeWarning: invalid value encountered in power\n",
      "  val[upper_tail_x] = 1 - (1 - p_upper) * (1 + (k * (x[upper_tail_x] - b))/a)**(-1/k)\n",
      "/Users/as3993/Amit/PLProb/R/univariate.py:330: RuntimeWarning: invalid value encountered in power\n",
      "  val[lower_tail_x] = p_lower * (1 - (k * (x[lower_tail_x] - b))/a)**(-1/k)\n",
      "/Users/as3993/Amit/PLProb/R/univariate.py:330: RuntimeWarning: invalid value encountered in power\n",
      "  val[lower_tail_x] = p_lower * (1 - (k * (x[lower_tail_x] - b))/a)**(-1/k)\n",
      "/Users/as3993/anaconda3/envs/plprob/lib/python3.12/site-packages/sklearn/covariance/_graph_lasso.py:139: ConvergenceWarning: Objective did not converge. You might want to increase the number of iterations. Duality gap: 0.02289171925004041, tolerance: 0.003797363691033129\n",
      "  coefs, _, _, _ = cd_fast.enet_coordinate_descent_gram(\n",
      "/Users/as3993/anaconda3/envs/plprob/lib/python3.12/site-packages/sklearn/covariance/_graph_lasso.py:139: ConvergenceWarning: Objective did not converge. You might want to increase the number of iterations. Duality gap: 0.017017391071334487, tolerance: 0.0037839593762628073\n",
      "  coefs, _, _, _ = cd_fast.enet_coordinate_descent_gram(\n",
      "/Users/as3993/anaconda3/envs/plprob/lib/python3.12/site-packages/sklearn/covariance/_graph_lasso.py:139: ConvergenceWarning: Objective did not converge. You might want to increase the number of iterations. Duality gap: 0.016532001218045878, tolerance: 0.0039631775469251285\n",
      "  coefs, _, _, _ = cd_fast.enet_coordinate_descent_gram(\n",
      "/Users/as3993/anaconda3/envs/plprob/lib/python3.12/site-packages/sklearn/covariance/_graph_lasso.py:139: ConvergenceWarning: Objective did not converge. You might want to increase the number of iterations. Duality gap: 0.008442058100634142, tolerance: 0.004073240723460468\n",
      "  coefs, _, _, _ = cd_fast.enet_coordinate_descent_gram(\n",
      "/Users/as3993/anaconda3/envs/plprob/lib/python3.12/site-packages/sklearn/covariance/_graph_lasso.py:139: ConvergenceWarning: Objective did not converge. You might want to increase the number of iterations. Duality gap: 0.004546915972213128, tolerance: 0.004104321013719091\n",
      "  coefs, _, _, _ = cd_fast.enet_coordinate_descent_gram(\n",
      "/Users/as3993/anaconda3/envs/plprob/lib/python3.12/site-packages/sklearn/covariance/_graph_lasso.py:139: ConvergenceWarning: Objective did not converge. You might want to increase the number of iterations. Duality gap: 0.006090690292872125, tolerance: 0.003849789453590047\n",
      "  coefs, _, _, _ = cd_fast.enet_coordinate_descent_gram(\n",
      "/Users/as3993/anaconda3/envs/plprob/lib/python3.12/site-packages/sklearn/covariance/_graph_lasso.py:191: ConvergenceWarning: graphical_lasso: did not converge after 100 iteration: dual gap: -1.343e-02\n",
      "  warnings.warn(\n",
      "/Users/as3993/Amit/PLProb/plprob/predictor.py:548: FutureWarning: The default of observed=False is deprecated and will be changed to True in a future version of pandas. Pass observed=False to retain current behavior or observed=True to adopt the future default and silence this warning.\n",
      "  self.cp_prob = dict(cp_count.groupby(cp_count).count()[::-1].cumsum() / len(cp_count))\n"
     ]
    },
    {
     "name": "stdout",
     "output_type": "stream",
     "text": [
      "2023-08-02\n"
     ]
    },
    {
     "name": "stderr",
     "output_type": "stream",
     "text": [
      "/Users/as3993/Amit/PLProb/R/univariate.py:320: RuntimeWarning: invalid value encountered in power\n",
      "  val[upper_tail_x] = 1 - (1 - p_upper) * (1 + (k * (x[upper_tail_x] - b))/a)**(-1/k)\n",
      "/Users/as3993/Amit/PLProb/R/univariate.py:330: RuntimeWarning: invalid value encountered in power\n",
      "  val[lower_tail_x] = p_lower * (1 - (k * (x[lower_tail_x] - b))/a)**(-1/k)\n",
      "/Users/as3993/Amit/PLProb/R/univariate.py:330: RuntimeWarning: invalid value encountered in power\n",
      "  val[lower_tail_x] = p_lower * (1 - (k * (x[lower_tail_x] - b))/a)**(-1/k)\n",
      "/Users/as3993/anaconda3/envs/plprob/lib/python3.12/site-packages/sklearn/covariance/_graph_lasso.py:139: ConvergenceWarning: Objective did not converge. You might want to increase the number of iterations. Duality gap: 0.022909658593292193, tolerance: 0.0037977408100814767\n",
      "  coefs, _, _, _ = cd_fast.enet_coordinate_descent_gram(\n",
      "/Users/as3993/anaconda3/envs/plprob/lib/python3.12/site-packages/sklearn/covariance/_graph_lasso.py:139: ConvergenceWarning: Objective did not converge. You might want to increase the number of iterations. Duality gap: 0.017023861772599957, tolerance: 0.0037843409619836353\n",
      "  coefs, _, _, _ = cd_fast.enet_coordinate_descent_gram(\n",
      "/Users/as3993/anaconda3/envs/plprob/lib/python3.12/site-packages/sklearn/covariance/_graph_lasso.py:139: ConvergenceWarning: Objective did not converge. You might want to increase the number of iterations. Duality gap: 0.01651217891392065, tolerance: 0.0039634983363680725\n",
      "  coefs, _, _, _ = cd_fast.enet_coordinate_descent_gram(\n",
      "/Users/as3993/anaconda3/envs/plprob/lib/python3.12/site-packages/sklearn/covariance/_graph_lasso.py:139: ConvergenceWarning: Objective did not converge. You might want to increase the number of iterations. Duality gap: 0.008436566268287038, tolerance: 0.004073497581182597\n",
      "  coefs, _, _, _ = cd_fast.enet_coordinate_descent_gram(\n",
      "/Users/as3993/anaconda3/envs/plprob/lib/python3.12/site-packages/sklearn/covariance/_graph_lasso.py:139: ConvergenceWarning: Objective did not converge. You might want to increase the number of iterations. Duality gap: 0.004539981103583557, tolerance: 0.0041045215672971865\n",
      "  coefs, _, _, _ = cd_fast.enet_coordinate_descent_gram(\n",
      "/Users/as3993/anaconda3/envs/plprob/lib/python3.12/site-packages/sklearn/covariance/_graph_lasso.py:139: ConvergenceWarning: Objective did not converge. You might want to increase the number of iterations. Duality gap: 0.006109507461324881, tolerance: 0.0038501245324530724\n",
      "  coefs, _, _, _ = cd_fast.enet_coordinate_descent_gram(\n",
      "/Users/as3993/anaconda3/envs/plprob/lib/python3.12/site-packages/sklearn/covariance/_graph_lasso.py:191: ConvergenceWarning: graphical_lasso: did not converge after 100 iteration: dual gap: 5.919e-02\n",
      "  warnings.warn(\n",
      "/Users/as3993/Amit/PLProb/plprob/predictor.py:548: FutureWarning: The default of observed=False is deprecated and will be changed to True in a future version of pandas. Pass observed=False to retain current behavior or observed=True to adopt the future default and silence this warning.\n",
      "  self.cp_prob = dict(cp_count.groupby(cp_count).count()[::-1].cumsum() / len(cp_count))\n"
     ]
    },
    {
     "name": "stdout",
     "output_type": "stream",
     "text": [
      "2023-08-03\n"
     ]
    },
    {
     "name": "stderr",
     "output_type": "stream",
     "text": [
      "/Users/as3993/Amit/PLProb/R/univariate.py:320: RuntimeWarning: invalid value encountered in power\n",
      "  val[upper_tail_x] = 1 - (1 - p_upper) * (1 + (k * (x[upper_tail_x] - b))/a)**(-1/k)\n",
      "/Users/as3993/Amit/PLProb/R/univariate.py:330: RuntimeWarning: invalid value encountered in power\n",
      "  val[lower_tail_x] = p_lower * (1 - (k * (x[lower_tail_x] - b))/a)**(-1/k)\n",
      "/Users/as3993/Amit/PLProb/R/univariate.py:330: RuntimeWarning: invalid value encountered in power\n",
      "  val[lower_tail_x] = p_lower * (1 - (k * (x[lower_tail_x] - b))/a)**(-1/k)\n",
      "/Users/as3993/anaconda3/envs/plprob/lib/python3.12/site-packages/sklearn/covariance/_graph_lasso.py:139: ConvergenceWarning: Objective did not converge. You might want to increase the number of iterations. Duality gap: 0.022921881836246882, tolerance: 0.0037981323664975884\n",
      "  coefs, _, _, _ = cd_fast.enet_coordinate_descent_gram(\n",
      "/Users/as3993/anaconda3/envs/plprob/lib/python3.12/site-packages/sklearn/covariance/_graph_lasso.py:139: ConvergenceWarning: Objective did not converge. You might want to increase the number of iterations. Duality gap: 0.01705800821101633, tolerance: 0.0037846544527247307\n",
      "  coefs, _, _, _ = cd_fast.enet_coordinate_descent_gram(\n",
      "/Users/as3993/anaconda3/envs/plprob/lib/python3.12/site-packages/sklearn/covariance/_graph_lasso.py:139: ConvergenceWarning: Objective did not converge. You might want to increase the number of iterations. Duality gap: 0.016523021242775826, tolerance: 0.0039637402358507256\n",
      "  coefs, _, _, _ = cd_fast.enet_coordinate_descent_gram(\n",
      "/Users/as3993/anaconda3/envs/plprob/lib/python3.12/site-packages/sklearn/covariance/_graph_lasso.py:139: ConvergenceWarning: Objective did not converge. You might want to increase the number of iterations. Duality gap: 0.008419220328633514, tolerance: 0.004073786429267722\n",
      "  coefs, _, _, _ = cd_fast.enet_coordinate_descent_gram(\n",
      "/Users/as3993/anaconda3/envs/plprob/lib/python3.12/site-packages/sklearn/covariance/_graph_lasso.py:139: ConvergenceWarning: Objective did not converge. You might want to increase the number of iterations. Duality gap: 0.004535650845618022, tolerance: 0.004104830518129939\n",
      "  coefs, _, _, _ = cd_fast.enet_coordinate_descent_gram(\n",
      "/Users/as3993/anaconda3/envs/plprob/lib/python3.12/site-packages/sklearn/covariance/_graph_lasso.py:139: ConvergenceWarning: Objective did not converge. You might want to increase the number of iterations. Duality gap: 0.0061272260923246336, tolerance: 0.0038505870167256486\n",
      "  coefs, _, _, _ = cd_fast.enet_coordinate_descent_gram(\n",
      "/Users/as3993/anaconda3/envs/plprob/lib/python3.12/site-packages/sklearn/covariance/_graph_lasso.py:191: ConvergenceWarning: graphical_lasso: did not converge after 100 iteration: dual gap: -3.544e-02\n",
      "  warnings.warn(\n",
      "/Users/as3993/Amit/PLProb/plprob/predictor.py:548: FutureWarning: The default of observed=False is deprecated and will be changed to True in a future version of pandas. Pass observed=False to retain current behavior or observed=True to adopt the future default and silence this warning.\n",
      "  self.cp_prob = dict(cp_count.groupby(cp_count).count()[::-1].cumsum() / len(cp_count))\n"
     ]
    },
    {
     "name": "stdout",
     "output_type": "stream",
     "text": [
      "2023-08-04\n"
     ]
    },
    {
     "name": "stderr",
     "output_type": "stream",
     "text": [
      "/Users/as3993/Amit/PLProb/R/univariate.py:320: RuntimeWarning: invalid value encountered in power\n",
      "  val[upper_tail_x] = 1 - (1 - p_upper) * (1 + (k * (x[upper_tail_x] - b))/a)**(-1/k)\n",
      "/Users/as3993/Amit/PLProb/R/univariate.py:330: RuntimeWarning: invalid value encountered in power\n",
      "  val[lower_tail_x] = p_lower * (1 - (k * (x[lower_tail_x] - b))/a)**(-1/k)\n",
      "/Users/as3993/Amit/PLProb/R/univariate.py:330: RuntimeWarning: invalid value encountered in power\n",
      "  val[lower_tail_x] = p_lower * (1 - (k * (x[lower_tail_x] - b))/a)**(-1/k)\n",
      "/Users/as3993/anaconda3/envs/plprob/lib/python3.12/site-packages/sklearn/covariance/_graph_lasso.py:139: ConvergenceWarning: Objective did not converge. You might want to increase the number of iterations. Duality gap: 0.017084964051043983, tolerance: 0.003794246146582696\n",
      "  coefs, _, _, _ = cd_fast.enet_coordinate_descent_gram(\n",
      "/Users/as3993/anaconda3/envs/plprob/lib/python3.12/site-packages/sklearn/covariance/_graph_lasso.py:139: ConvergenceWarning: Objective did not converge. You might want to increase the number of iterations. Duality gap: 0.01080948967620543, tolerance: 0.0037801425542211293\n",
      "  coefs, _, _, _ = cd_fast.enet_coordinate_descent_gram(\n",
      "/Users/as3993/anaconda3/envs/plprob/lib/python3.12/site-packages/sklearn/covariance/_graph_lasso.py:139: ConvergenceWarning: Objective did not converge. You might want to increase the number of iterations. Duality gap: 0.01684078224135277, tolerance: 0.003962446527486401\n",
      "  coefs, _, _, _ = cd_fast.enet_coordinate_descent_gram(\n",
      "/Users/as3993/anaconda3/envs/plprob/lib/python3.12/site-packages/sklearn/covariance/_graph_lasso.py:139: ConvergenceWarning: Objective did not converge. You might want to increase the number of iterations. Duality gap: 0.00866990640162868, tolerance: 0.004071855202199862\n",
      "  coefs, _, _, _ = cd_fast.enet_coordinate_descent_gram(\n",
      "/Users/as3993/anaconda3/envs/plprob/lib/python3.12/site-packages/sklearn/covariance/_graph_lasso.py:139: ConvergenceWarning: Objective did not converge. You might want to increase the number of iterations. Duality gap: 0.004713048313874424, tolerance: 0.004102383790722956\n",
      "  coefs, _, _, _ = cd_fast.enet_coordinate_descent_gram(\n",
      "/Users/as3993/anaconda3/envs/plprob/lib/python3.12/site-packages/sklearn/covariance/_graph_lasso.py:139: ConvergenceWarning: Objective did not converge. You might want to increase the number of iterations. Duality gap: 0.008470509712708463, tolerance: 0.0038500425594601086\n",
      "  coefs, _, _, _ = cd_fast.enet_coordinate_descent_gram(\n",
      "/Users/as3993/anaconda3/envs/plprob/lib/python3.12/site-packages/sklearn/covariance/_graph_lasso.py:139: ConvergenceWarning: Objective did not converge. You might want to increase the number of iterations. Duality gap: 0.00528668147849487, tolerance: 0.003792418631128782\n",
      "  coefs, _, _, _ = cd_fast.enet_coordinate_descent_gram(\n",
      "/Users/as3993/anaconda3/envs/plprob/lib/python3.12/site-packages/sklearn/covariance/_graph_lasso.py:191: ConvergenceWarning: graphical_lasso: did not converge after 100 iteration: dual gap: 7.646e-02\n",
      "  warnings.warn(\n",
      "/Users/as3993/Amit/PLProb/plprob/predictor.py:548: FutureWarning: The default of observed=False is deprecated and will be changed to True in a future version of pandas. Pass observed=False to retain current behavior or observed=True to adopt the future default and silence this warning.\n",
      "  self.cp_prob = dict(cp_count.groupby(cp_count).count()[::-1].cumsum() / len(cp_count))\n"
     ]
    },
    {
     "name": "stdout",
     "output_type": "stream",
     "text": [
      "2023-08-05\n"
     ]
    },
    {
     "name": "stderr",
     "output_type": "stream",
     "text": [
      "/Users/as3993/Amit/PLProb/R/univariate.py:320: RuntimeWarning: invalid value encountered in power\n",
      "  val[upper_tail_x] = 1 - (1 - p_upper) * (1 + (k * (x[upper_tail_x] - b))/a)**(-1/k)\n",
      "/Users/as3993/Amit/PLProb/R/univariate.py:330: RuntimeWarning: invalid value encountered in power\n",
      "  val[lower_tail_x] = p_lower * (1 - (k * (x[lower_tail_x] - b))/a)**(-1/k)\n",
      "/Users/as3993/Amit/PLProb/R/univariate.py:330: RuntimeWarning: invalid value encountered in power\n",
      "  val[lower_tail_x] = p_lower * (1 - (k * (x[lower_tail_x] - b))/a)**(-1/k)\n",
      "/Users/as3993/anaconda3/envs/plprob/lib/python3.12/site-packages/sklearn/covariance/_graph_lasso.py:139: ConvergenceWarning: Objective did not converge. You might want to increase the number of iterations. Duality gap: 0.01710690522452296, tolerance: 0.0037944925137520253\n",
      "  coefs, _, _, _ = cd_fast.enet_coordinate_descent_gram(\n",
      "/Users/as3993/anaconda3/envs/plprob/lib/python3.12/site-packages/sklearn/covariance/_graph_lasso.py:139: ConvergenceWarning: Objective did not converge. You might want to increase the number of iterations. Duality gap: 0.010848394995157662, tolerance: 0.00378042277334312\n",
      "  coefs, _, _, _ = cd_fast.enet_coordinate_descent_gram(\n",
      "/Users/as3993/anaconda3/envs/plprob/lib/python3.12/site-packages/sklearn/covariance/_graph_lasso.py:139: ConvergenceWarning: Objective did not converge. You might want to increase the number of iterations. Duality gap: 0.016852756645931777, tolerance: 0.003962616525099355\n",
      "  coefs, _, _, _ = cd_fast.enet_coordinate_descent_gram(\n",
      "/Users/as3993/anaconda3/envs/plprob/lib/python3.12/site-packages/sklearn/covariance/_graph_lasso.py:139: ConvergenceWarning: Objective did not converge. You might want to increase the number of iterations. Duality gap: 0.0086783604934908, tolerance: 0.0040720167153503566\n",
      "  coefs, _, _, _ = cd_fast.enet_coordinate_descent_gram(\n",
      "/Users/as3993/anaconda3/envs/plprob/lib/python3.12/site-packages/sklearn/covariance/_graph_lasso.py:139: ConvergenceWarning: Objective did not converge. You might want to increase the number of iterations. Duality gap: 0.004717131827199239, tolerance: 0.0041025331851481505\n",
      "  coefs, _, _, _ = cd_fast.enet_coordinate_descent_gram(\n",
      "/Users/as3993/anaconda3/envs/plprob/lib/python3.12/site-packages/sklearn/covariance/_graph_lasso.py:139: ConvergenceWarning: Objective did not converge. You might want to increase the number of iterations. Duality gap: 0.008446577718238757, tolerance: 0.0038501538522569094\n",
      "  coefs, _, _, _ = cd_fast.enet_coordinate_descent_gram(\n",
      "/Users/as3993/anaconda3/envs/plprob/lib/python3.12/site-packages/sklearn/covariance/_graph_lasso.py:139: ConvergenceWarning: Objective did not converge. You might want to increase the number of iterations. Duality gap: 0.005273875808647688, tolerance: 0.003792517860250026\n",
      "  coefs, _, _, _ = cd_fast.enet_coordinate_descent_gram(\n",
      "/Users/as3993/anaconda3/envs/plprob/lib/python3.12/site-packages/sklearn/covariance/_graph_lasso.py:191: ConvergenceWarning: graphical_lasso: did not converge after 100 iteration: dual gap: 1.509e-01\n",
      "  warnings.warn(\n",
      "/Users/as3993/Amit/PLProb/plprob/predictor.py:548: FutureWarning: The default of observed=False is deprecated and will be changed to True in a future version of pandas. Pass observed=False to retain current behavior or observed=True to adopt the future default and silence this warning.\n",
      "  self.cp_prob = dict(cp_count.groupby(cp_count).count()[::-1].cumsum() / len(cp_count))\n"
     ]
    },
    {
     "name": "stdout",
     "output_type": "stream",
     "text": [
      "2023-08-06\n"
     ]
    },
    {
     "name": "stderr",
     "output_type": "stream",
     "text": [
      "/Users/as3993/Amit/PLProb/R/univariate.py:320: RuntimeWarning: invalid value encountered in power\n",
      "  val[upper_tail_x] = 1 - (1 - p_upper) * (1 + (k * (x[upper_tail_x] - b))/a)**(-1/k)\n",
      "/Users/as3993/Amit/PLProb/R/univariate.py:330: RuntimeWarning: invalid value encountered in power\n",
      "  val[lower_tail_x] = p_lower * (1 - (k * (x[lower_tail_x] - b))/a)**(-1/k)\n",
      "/Users/as3993/Amit/PLProb/R/univariate.py:330: RuntimeWarning: invalid value encountered in power\n",
      "  val[lower_tail_x] = p_lower * (1 - (k * (x[lower_tail_x] - b))/a)**(-1/k)\n",
      "/Users/as3993/anaconda3/envs/plprob/lib/python3.12/site-packages/sklearn/covariance/_graph_lasso.py:139: ConvergenceWarning: Objective did not converge. You might want to increase the number of iterations. Duality gap: 0.017075173366535523, tolerance: 0.003794535509272379\n",
      "  coefs, _, _, _ = cd_fast.enet_coordinate_descent_gram(\n",
      "/Users/as3993/anaconda3/envs/plprob/lib/python3.12/site-packages/sklearn/covariance/_graph_lasso.py:139: ConvergenceWarning: Objective did not converge. You might want to increase the number of iterations. Duality gap: 0.010828935111042881, tolerance: 0.003780420750001949\n",
      "  coefs, _, _, _ = cd_fast.enet_coordinate_descent_gram(\n",
      "/Users/as3993/anaconda3/envs/plprob/lib/python3.12/site-packages/sklearn/covariance/_graph_lasso.py:139: ConvergenceWarning: Objective did not converge. You might want to increase the number of iterations. Duality gap: 0.016830042267969247, tolerance: 0.0039624151482213765\n",
      "  coefs, _, _, _ = cd_fast.enet_coordinate_descent_gram(\n",
      "/Users/as3993/anaconda3/envs/plprob/lib/python3.12/site-packages/sklearn/covariance/_graph_lasso.py:139: ConvergenceWarning: Objective did not converge. You might want to increase the number of iterations. Duality gap: 0.0087327721344721, tolerance: 0.004071953325196134\n",
      "  coefs, _, _, _ = cd_fast.enet_coordinate_descent_gram(\n",
      "/Users/as3993/anaconda3/envs/plprob/lib/python3.12/site-packages/sklearn/covariance/_graph_lasso.py:139: ConvergenceWarning: Objective did not converge. You might want to increase the number of iterations. Duality gap: 0.004741915782709327, tolerance: 0.004102497774561447\n",
      "  coefs, _, _, _ = cd_fast.enet_coordinate_descent_gram(\n",
      "/Users/as3993/anaconda3/envs/plprob/lib/python3.12/site-packages/sklearn/covariance/_graph_lasso.py:139: ConvergenceWarning: Objective did not converge. You might want to increase the number of iterations. Duality gap: 0.008450403425108277, tolerance: 0.0038503077107122324\n",
      "  coefs, _, _, _ = cd_fast.enet_coordinate_descent_gram(\n",
      "/Users/as3993/anaconda3/envs/plprob/lib/python3.12/site-packages/sklearn/covariance/_graph_lasso.py:139: ConvergenceWarning: Objective did not converge. You might want to increase the number of iterations. Duality gap: 0.005286381665001727, tolerance: 0.003792704781573897\n",
      "  coefs, _, _, _ = cd_fast.enet_coordinate_descent_gram(\n",
      "/Users/as3993/anaconda3/envs/plprob/lib/python3.12/site-packages/sklearn/covariance/_graph_lasso.py:191: ConvergenceWarning: graphical_lasso: did not converge after 100 iteration: dual gap: 1.030e-01\n",
      "  warnings.warn(\n",
      "/Users/as3993/Amit/PLProb/plprob/predictor.py:548: FutureWarning: The default of observed=False is deprecated and will be changed to True in a future version of pandas. Pass observed=False to retain current behavior or observed=True to adopt the future default and silence this warning.\n",
      "  self.cp_prob = dict(cp_count.groupby(cp_count).count()[::-1].cumsum() / len(cp_count))\n"
     ]
    },
    {
     "name": "stdout",
     "output_type": "stream",
     "text": [
      "2023-08-07\n"
     ]
    },
    {
     "name": "stderr",
     "output_type": "stream",
     "text": [
      "/Users/as3993/Amit/PLProb/R/univariate.py:320: RuntimeWarning: invalid value encountered in power\n",
      "  val[upper_tail_x] = 1 - (1 - p_upper) * (1 + (k * (x[upper_tail_x] - b))/a)**(-1/k)\n",
      "/Users/as3993/Amit/PLProb/R/univariate.py:330: RuntimeWarning: invalid value encountered in power\n",
      "  val[lower_tail_x] = p_lower * (1 - (k * (x[lower_tail_x] - b))/a)**(-1/k)\n",
      "/Users/as3993/Amit/PLProb/R/univariate.py:330: RuntimeWarning: invalid value encountered in power\n",
      "  val[lower_tail_x] = p_lower * (1 - (k * (x[lower_tail_x] - b))/a)**(-1/k)\n",
      "/Users/as3993/anaconda3/envs/plprob/lib/python3.12/site-packages/sklearn/covariance/_graph_lasso.py:139: ConvergenceWarning: Objective did not converge. You might want to increase the number of iterations. Duality gap: 0.017050107554901217, tolerance: 0.0037936015324059754\n",
      "  coefs, _, _, _ = cd_fast.enet_coordinate_descent_gram(\n",
      "/Users/as3993/anaconda3/envs/plprob/lib/python3.12/site-packages/sklearn/covariance/_graph_lasso.py:139: ConvergenceWarning: Objective did not converge. You might want to increase the number of iterations. Duality gap: 0.010820388980306461, tolerance: 0.0037793462431969446\n",
      "  coefs, _, _, _ = cd_fast.enet_coordinate_descent_gram(\n",
      "/Users/as3993/anaconda3/envs/plprob/lib/python3.12/site-packages/sklearn/covariance/_graph_lasso.py:139: ConvergenceWarning: Objective did not converge. You might want to increase the number of iterations. Duality gap: 0.01697068250874878, tolerance: 0.00396138219540853\n",
      "  coefs, _, _, _ = cd_fast.enet_coordinate_descent_gram(\n",
      "/Users/as3993/anaconda3/envs/plprob/lib/python3.12/site-packages/sklearn/covariance/_graph_lasso.py:139: ConvergenceWarning: Objective did not converge. You might want to increase the number of iterations. Duality gap: 0.008751053992298807, tolerance: 0.004071412275573578\n",
      "  coefs, _, _, _ = cd_fast.enet_coordinate_descent_gram(\n",
      "/Users/as3993/anaconda3/envs/plprob/lib/python3.12/site-packages/sklearn/covariance/_graph_lasso.py:139: ConvergenceWarning: Objective did not converge. You might want to increase the number of iterations. Duality gap: 0.0047593711571281005, tolerance: 0.004102019885135051\n",
      "  coefs, _, _, _ = cd_fast.enet_coordinate_descent_gram(\n",
      "/Users/as3993/anaconda3/envs/plprob/lib/python3.12/site-packages/sklearn/covariance/_graph_lasso.py:139: ConvergenceWarning: Objective did not converge. You might want to increase the number of iterations. Duality gap: 0.008432452404434798, tolerance: 0.003849731376479195\n",
      "  coefs, _, _, _ = cd_fast.enet_coordinate_descent_gram(\n",
      "/Users/as3993/anaconda3/envs/plprob/lib/python3.12/site-packages/sklearn/covariance/_graph_lasso.py:139: ConvergenceWarning: Objective did not converge. You might want to increase the number of iterations. Duality gap: 0.00529951247133198, tolerance: 0.003792078061203718\n",
      "  coefs, _, _, _ = cd_fast.enet_coordinate_descent_gram(\n",
      "/Users/as3993/anaconda3/envs/plprob/lib/python3.12/site-packages/sklearn/covariance/_graph_lasso.py:191: ConvergenceWarning: graphical_lasso: did not converge after 100 iteration: dual gap: 5.112e-02\n",
      "  warnings.warn(\n",
      "/Users/as3993/Amit/PLProb/plprob/predictor.py:548: FutureWarning: The default of observed=False is deprecated and will be changed to True in a future version of pandas. Pass observed=False to retain current behavior or observed=True to adopt the future default and silence this warning.\n",
      "  self.cp_prob = dict(cp_count.groupby(cp_count).count()[::-1].cumsum() / len(cp_count))\n"
     ]
    },
    {
     "name": "stdout",
     "output_type": "stream",
     "text": [
      "2023-08-08\n"
     ]
    },
    {
     "name": "stderr",
     "output_type": "stream",
     "text": [
      "/Users/as3993/Amit/PLProb/R/univariate.py:320: RuntimeWarning: invalid value encountered in power\n",
      "  val[upper_tail_x] = 1 - (1 - p_upper) * (1 + (k * (x[upper_tail_x] - b))/a)**(-1/k)\n",
      "/Users/as3993/Amit/PLProb/R/univariate.py:330: RuntimeWarning: invalid value encountered in power\n",
      "  val[lower_tail_x] = p_lower * (1 - (k * (x[lower_tail_x] - b))/a)**(-1/k)\n",
      "/Users/as3993/Amit/PLProb/R/univariate.py:330: RuntimeWarning: invalid value encountered in power\n",
      "  val[lower_tail_x] = p_lower * (1 - (k * (x[lower_tail_x] - b))/a)**(-1/k)\n",
      "/Users/as3993/anaconda3/envs/plprob/lib/python3.12/site-packages/sklearn/covariance/_graph_lasso.py:139: ConvergenceWarning: Objective did not converge. You might want to increase the number of iterations. Duality gap: 0.016977727162512224, tolerance: 0.003793456909205535\n",
      "  coefs, _, _, _ = cd_fast.enet_coordinate_descent_gram(\n",
      "/Users/as3993/anaconda3/envs/plprob/lib/python3.12/site-packages/sklearn/covariance/_graph_lasso.py:139: ConvergenceWarning: Objective did not converge. You might want to increase the number of iterations. Duality gap: 0.010862647878099096, tolerance: 0.0037790911258428843\n",
      "  coefs, _, _, _ = cd_fast.enet_coordinate_descent_gram(\n",
      "/Users/as3993/anaconda3/envs/plprob/lib/python3.12/site-packages/sklearn/covariance/_graph_lasso.py:139: ConvergenceWarning: Objective did not converge. You might want to increase the number of iterations. Duality gap: 0.016966830082864703, tolerance: 0.003961564275071627\n",
      "  coefs, _, _, _ = cd_fast.enet_coordinate_descent_gram(\n",
      "/Users/as3993/anaconda3/envs/plprob/lib/python3.12/site-packages/sklearn/covariance/_graph_lasso.py:139: ConvergenceWarning: Objective did not converge. You might want to increase the number of iterations. Duality gap: 0.008749156981608053, tolerance: 0.004071503543582261\n",
      "  coefs, _, _, _ = cd_fast.enet_coordinate_descent_gram(\n",
      "/Users/as3993/anaconda3/envs/plprob/lib/python3.12/site-packages/sklearn/covariance/_graph_lasso.py:139: ConvergenceWarning: Objective did not converge. You might want to increase the number of iterations. Duality gap: 0.00472766532251967, tolerance: 0.004102046197237932\n",
      "  coefs, _, _, _ = cd_fast.enet_coordinate_descent_gram(\n",
      "/Users/as3993/anaconda3/envs/plprob/lib/python3.12/site-packages/sklearn/covariance/_graph_lasso.py:139: ConvergenceWarning: Objective did not converge. You might want to increase the number of iterations. Duality gap: 0.008479563573466464, tolerance: 0.003849857557150462\n",
      "  coefs, _, _, _ = cd_fast.enet_coordinate_descent_gram(\n",
      "/Users/as3993/anaconda3/envs/plprob/lib/python3.12/site-packages/sklearn/covariance/_graph_lasso.py:139: ConvergenceWarning: Objective did not converge. You might want to increase the number of iterations. Duality gap: 0.00522629373504202, tolerance: 0.003792158930098179\n",
      "  coefs, _, _, _ = cd_fast.enet_coordinate_descent_gram(\n",
      "/Users/as3993/anaconda3/envs/plprob/lib/python3.12/site-packages/sklearn/covariance/_graph_lasso.py:191: ConvergenceWarning: graphical_lasso: did not converge after 100 iteration: dual gap: -1.965e-02\n",
      "  warnings.warn(\n",
      "/Users/as3993/Amit/PLProb/plprob/predictor.py:548: FutureWarning: The default of observed=False is deprecated and will be changed to True in a future version of pandas. Pass observed=False to retain current behavior or observed=True to adopt the future default and silence this warning.\n",
      "  self.cp_prob = dict(cp_count.groupby(cp_count).count()[::-1].cumsum() / len(cp_count))\n"
     ]
    },
    {
     "name": "stdout",
     "output_type": "stream",
     "text": [
      "2023-08-09\n"
     ]
    },
    {
     "name": "stderr",
     "output_type": "stream",
     "text": [
      "/Users/as3993/Amit/PLProb/R/univariate.py:320: RuntimeWarning: invalid value encountered in power\n",
      "  val[upper_tail_x] = 1 - (1 - p_upper) * (1 + (k * (x[upper_tail_x] - b))/a)**(-1/k)\n",
      "/Users/as3993/Amit/PLProb/R/univariate.py:330: RuntimeWarning: invalid value encountered in power\n",
      "  val[lower_tail_x] = p_lower * (1 - (k * (x[lower_tail_x] - b))/a)**(-1/k)\n",
      "/Users/as3993/Amit/PLProb/R/univariate.py:330: RuntimeWarning: invalid value encountered in power\n",
      "  val[lower_tail_x] = p_lower * (1 - (k * (x[lower_tail_x] - b))/a)**(-1/k)\n",
      "/Users/as3993/anaconda3/envs/plprob/lib/python3.12/site-packages/sklearn/covariance/_graph_lasso.py:139: ConvergenceWarning: Objective did not converge. You might want to increase the number of iterations. Duality gap: 0.016982941619758662, tolerance: 0.0037934353115802867\n",
      "  coefs, _, _, _ = cd_fast.enet_coordinate_descent_gram(\n",
      "/Users/as3993/anaconda3/envs/plprob/lib/python3.12/site-packages/sklearn/covariance/_graph_lasso.py:139: ConvergenceWarning: Objective did not converge. You might want to increase the number of iterations. Duality gap: 0.010856491796488399, tolerance: 0.0037791539974693735\n",
      "  coefs, _, _, _ = cd_fast.enet_coordinate_descent_gram(\n",
      "/Users/as3993/anaconda3/envs/plprob/lib/python3.12/site-packages/sklearn/covariance/_graph_lasso.py:139: ConvergenceWarning: Objective did not converge. You might want to increase the number of iterations. Duality gap: 0.016999222512986023, tolerance: 0.003961573467525524\n",
      "  coefs, _, _, _ = cd_fast.enet_coordinate_descent_gram(\n",
      "/Users/as3993/anaconda3/envs/plprob/lib/python3.12/site-packages/sklearn/covariance/_graph_lasso.py:139: ConvergenceWarning: Objective did not converge. You might want to increase the number of iterations. Duality gap: 0.008741154115838867, tolerance: 0.0040715073452136765\n",
      "  coefs, _, _, _ = cd_fast.enet_coordinate_descent_gram(\n",
      "/Users/as3993/anaconda3/envs/plprob/lib/python3.12/site-packages/sklearn/covariance/_graph_lasso.py:139: ConvergenceWarning: Objective did not converge. You might want to increase the number of iterations. Duality gap: 0.004729861857050821, tolerance: 0.0041019956108955796\n",
      "  coefs, _, _, _ = cd_fast.enet_coordinate_descent_gram(\n",
      "/Users/as3993/anaconda3/envs/plprob/lib/python3.12/site-packages/sklearn/covariance/_graph_lasso.py:139: ConvergenceWarning: Objective did not converge. You might want to increase the number of iterations. Duality gap: 0.0084222847062847, tolerance: 0.0038495541535525195\n",
      "  coefs, _, _, _ = cd_fast.enet_coordinate_descent_gram(\n",
      "/Users/as3993/anaconda3/envs/plprob/lib/python3.12/site-packages/sklearn/covariance/_graph_lasso.py:139: ConvergenceWarning: Objective did not converge. You might want to increase the number of iterations. Duality gap: 0.005228792788408043, tolerance: 0.0037919439320058864\n",
      "  coefs, _, _, _ = cd_fast.enet_coordinate_descent_gram(\n",
      "/Users/as3993/anaconda3/envs/plprob/lib/python3.12/site-packages/sklearn/covariance/_graph_lasso.py:191: ConvergenceWarning: graphical_lasso: did not converge after 100 iteration: dual gap: 1.032e-01\n",
      "  warnings.warn(\n",
      "/Users/as3993/Amit/PLProb/plprob/predictor.py:548: FutureWarning: The default of observed=False is deprecated and will be changed to True in a future version of pandas. Pass observed=False to retain current behavior or observed=True to adopt the future default and silence this warning.\n",
      "  self.cp_prob = dict(cp_count.groupby(cp_count).count()[::-1].cumsum() / len(cp_count))\n"
     ]
    },
    {
     "name": "stdout",
     "output_type": "stream",
     "text": [
      "2023-08-10\n"
     ]
    },
    {
     "name": "stderr",
     "output_type": "stream",
     "text": [
      "/Users/as3993/Amit/PLProb/R/univariate.py:320: RuntimeWarning: invalid value encountered in power\n",
      "  val[upper_tail_x] = 1 - (1 - p_upper) * (1 + (k * (x[upper_tail_x] - b))/a)**(-1/k)\n",
      "/Users/as3993/Amit/PLProb/R/univariate.py:330: RuntimeWarning: invalid value encountered in power\n",
      "  val[lower_tail_x] = p_lower * (1 - (k * (x[lower_tail_x] - b))/a)**(-1/k)\n",
      "/Users/as3993/Amit/PLProb/R/univariate.py:330: RuntimeWarning: invalid value encountered in power\n",
      "  val[lower_tail_x] = p_lower * (1 - (k * (x[lower_tail_x] - b))/a)**(-1/k)\n",
      "/Users/as3993/anaconda3/envs/plprob/lib/python3.12/site-packages/sklearn/covariance/_graph_lasso.py:139: ConvergenceWarning: Objective did not converge. You might want to increase the number of iterations. Duality gap: 0.016984773427971334, tolerance: 0.0037934149299321484\n",
      "  coefs, _, _, _ = cd_fast.enet_coordinate_descent_gram(\n",
      "/Users/as3993/anaconda3/envs/plprob/lib/python3.12/site-packages/sklearn/covariance/_graph_lasso.py:139: ConvergenceWarning: Objective did not converge. You might want to increase the number of iterations. Duality gap: 0.010872001234972117, tolerance: 0.003779211987941693\n",
      "  coefs, _, _, _ = cd_fast.enet_coordinate_descent_gram(\n",
      "/Users/as3993/anaconda3/envs/plprob/lib/python3.12/site-packages/sklearn/covariance/_graph_lasso.py:139: ConvergenceWarning: Objective did not converge. You might want to increase the number of iterations. Duality gap: 0.01696340165062793, tolerance: 0.003961682244698263\n",
      "  coefs, _, _, _ = cd_fast.enet_coordinate_descent_gram(\n",
      "/Users/as3993/anaconda3/envs/plprob/lib/python3.12/site-packages/sklearn/covariance/_graph_lasso.py:139: ConvergenceWarning: Objective did not converge. You might want to increase the number of iterations. Duality gap: 0.008738039744990544, tolerance: 0.004071573669104727\n",
      "  coefs, _, _, _ = cd_fast.enet_coordinate_descent_gram(\n",
      "/Users/as3993/anaconda3/envs/plprob/lib/python3.12/site-packages/sklearn/covariance/_graph_lasso.py:139: ConvergenceWarning: Objective did not converge. You might want to increase the number of iterations. Duality gap: 0.004740238570434485, tolerance: 0.004102085601417075\n",
      "  coefs, _, _, _ = cd_fast.enet_coordinate_descent_gram(\n",
      "/Users/as3993/anaconda3/envs/plprob/lib/python3.12/site-packages/sklearn/covariance/_graph_lasso.py:139: ConvergenceWarning: Objective did not converge. You might want to increase the number of iterations. Duality gap: 0.008420068555587079, tolerance: 0.0038497459955540315\n",
      "  coefs, _, _, _ = cd_fast.enet_coordinate_descent_gram(\n",
      "/Users/as3993/anaconda3/envs/plprob/lib/python3.12/site-packages/sklearn/covariance/_graph_lasso.py:139: ConvergenceWarning: Objective did not converge. You might want to increase the number of iterations. Duality gap: 0.005218997157506067, tolerance: 0.0037920647019326873\n",
      "  coefs, _, _, _ = cd_fast.enet_coordinate_descent_gram(\n",
      "/Users/as3993/anaconda3/envs/plprob/lib/python3.12/site-packages/sklearn/covariance/_graph_lasso.py:191: ConvergenceWarning: graphical_lasso: did not converge after 100 iteration: dual gap: -1.210e-02\n",
      "  warnings.warn(\n",
      "/Users/as3993/Amit/PLProb/plprob/predictor.py:548: FutureWarning: The default of observed=False is deprecated and will be changed to True in a future version of pandas. Pass observed=False to retain current behavior or observed=True to adopt the future default and silence this warning.\n",
      "  self.cp_prob = dict(cp_count.groupby(cp_count).count()[::-1].cumsum() / len(cp_count))\n"
     ]
    },
    {
     "name": "stdout",
     "output_type": "stream",
     "text": [
      "2023-08-11\n"
     ]
    },
    {
     "name": "stderr",
     "output_type": "stream",
     "text": [
      "/Users/as3993/Amit/PLProb/R/univariate.py:320: RuntimeWarning: invalid value encountered in power\n",
      "  val[upper_tail_x] = 1 - (1 - p_upper) * (1 + (k * (x[upper_tail_x] - b))/a)**(-1/k)\n",
      "/Users/as3993/Amit/PLProb/R/univariate.py:330: RuntimeWarning: invalid value encountered in power\n",
      "  val[lower_tail_x] = p_lower * (1 - (k * (x[lower_tail_x] - b))/a)**(-1/k)\n",
      "/Users/as3993/Amit/PLProb/R/univariate.py:330: RuntimeWarning: invalid value encountered in power\n",
      "  val[lower_tail_x] = p_lower * (1 - (k * (x[lower_tail_x] - b))/a)**(-1/k)\n",
      "/Users/as3993/anaconda3/envs/plprob/lib/python3.12/site-packages/sklearn/covariance/_graph_lasso.py:139: ConvergenceWarning: Objective did not converge. You might want to increase the number of iterations. Duality gap: 0.015020795258877229, tolerance: 0.0037948582794016888\n",
      "  coefs, _, _, _ = cd_fast.enet_coordinate_descent_gram(\n",
      "/Users/as3993/anaconda3/envs/plprob/lib/python3.12/site-packages/sklearn/covariance/_graph_lasso.py:139: ConvergenceWarning: Objective did not converge. You might want to increase the number of iterations. Duality gap: 0.01048983995075048, tolerance: 0.003780176211067514\n",
      "  coefs, _, _, _ = cd_fast.enet_coordinate_descent_gram(\n",
      "/Users/as3993/anaconda3/envs/plprob/lib/python3.12/site-packages/sklearn/covariance/_graph_lasso.py:139: ConvergenceWarning: Objective did not converge. You might want to increase the number of iterations. Duality gap: 0.0172814913076067, tolerance: 0.003965991825006383\n",
      "  coefs, _, _, _ = cd_fast.enet_coordinate_descent_gram(\n",
      "/Users/as3993/anaconda3/envs/plprob/lib/python3.12/site-packages/sklearn/covariance/_graph_lasso.py:139: ConvergenceWarning: Objective did not converge. You might want to increase the number of iterations. Duality gap: 0.008188291170000639, tolerance: 0.004074810807884831\n",
      "  coefs, _, _, _ = cd_fast.enet_coordinate_descent_gram(\n",
      "/Users/as3993/anaconda3/envs/plprob/lib/python3.12/site-packages/sklearn/covariance/_graph_lasso.py:139: ConvergenceWarning: Objective did not converge. You might want to increase the number of iterations. Duality gap: 0.004564945148992194, tolerance: 0.004104804310321816\n",
      "  coefs, _, _, _ = cd_fast.enet_coordinate_descent_gram(\n",
      "/Users/as3993/anaconda3/envs/plprob/lib/python3.12/site-packages/sklearn/covariance/_graph_lasso.py:139: ConvergenceWarning: Objective did not converge. You might want to increase the number of iterations. Duality gap: 0.00642581398800246, tolerance: 0.003851456111985327\n",
      "  coefs, _, _, _ = cd_fast.enet_coordinate_descent_gram(\n",
      "/Users/as3993/anaconda3/envs/plprob/lib/python3.12/site-packages/sklearn/covariance/_graph_lasso.py:139: ConvergenceWarning: Objective did not converge. You might want to increase the number of iterations. Duality gap: 0.005479589901248971, tolerance: 0.0037940773647041405\n",
      "  coefs, _, _, _ = cd_fast.enet_coordinate_descent_gram(\n",
      "/Users/as3993/anaconda3/envs/plprob/lib/python3.12/site-packages/sklearn/covariance/_graph_lasso.py:191: ConvergenceWarning: graphical_lasso: did not converge after 100 iteration: dual gap: -2.052e-02\n",
      "  warnings.warn(\n",
      "/Users/as3993/Amit/PLProb/plprob/predictor.py:548: FutureWarning: The default of observed=False is deprecated and will be changed to True in a future version of pandas. Pass observed=False to retain current behavior or observed=True to adopt the future default and silence this warning.\n",
      "  self.cp_prob = dict(cp_count.groupby(cp_count).count()[::-1].cumsum() / len(cp_count))\n"
     ]
    },
    {
     "name": "stdout",
     "output_type": "stream",
     "text": [
      "2023-08-12\n"
     ]
    },
    {
     "name": "stderr",
     "output_type": "stream",
     "text": [
      "/Users/as3993/Amit/PLProb/R/univariate.py:320: RuntimeWarning: invalid value encountered in power\n",
      "  val[upper_tail_x] = 1 - (1 - p_upper) * (1 + (k * (x[upper_tail_x] - b))/a)**(-1/k)\n",
      "/Users/as3993/Amit/PLProb/R/univariate.py:330: RuntimeWarning: invalid value encountered in power\n",
      "  val[lower_tail_x] = p_lower * (1 - (k * (x[lower_tail_x] - b))/a)**(-1/k)\n",
      "/Users/as3993/Amit/PLProb/R/univariate.py:330: RuntimeWarning: invalid value encountered in power\n",
      "  val[lower_tail_x] = p_lower * (1 - (k * (x[lower_tail_x] - b))/a)**(-1/k)\n",
      "/Users/as3993/anaconda3/envs/plprob/lib/python3.12/site-packages/sklearn/covariance/_graph_lasso.py:139: ConvergenceWarning: Objective did not converge. You might want to increase the number of iterations. Duality gap: 0.015041470829267212, tolerance: 0.0037950241044162948\n",
      "  coefs, _, _, _ = cd_fast.enet_coordinate_descent_gram(\n",
      "/Users/as3993/anaconda3/envs/plprob/lib/python3.12/site-packages/sklearn/covariance/_graph_lasso.py:139: ConvergenceWarning: Objective did not converge. You might want to increase the number of iterations. Duality gap: 0.010490829010919356, tolerance: 0.0037803893940020275\n",
      "  coefs, _, _, _ = cd_fast.enet_coordinate_descent_gram(\n",
      "/Users/as3993/anaconda3/envs/plprob/lib/python3.12/site-packages/sklearn/covariance/_graph_lasso.py:139: ConvergenceWarning: Objective did not converge. You might want to increase the number of iterations. Duality gap: 0.01729305381493873, tolerance: 0.003966243207055062\n",
      "  coefs, _, _, _ = cd_fast.enet_coordinate_descent_gram(\n",
      "/Users/as3993/anaconda3/envs/plprob/lib/python3.12/site-packages/sklearn/covariance/_graph_lasso.py:139: ConvergenceWarning: Objective did not converge. You might want to increase the number of iterations. Duality gap: 0.008186501954462244, tolerance: 0.004075025167705374\n",
      "  coefs, _, _, _ = cd_fast.enet_coordinate_descent_gram(\n",
      "/Users/as3993/anaconda3/envs/plprob/lib/python3.12/site-packages/sklearn/covariance/_graph_lasso.py:139: ConvergenceWarning: Objective did not converge. You might want to increase the number of iterations. Duality gap: 0.0045663920449854345, tolerance: 0.004104977533859749\n",
      "  coefs, _, _, _ = cd_fast.enet_coordinate_descent_gram(\n",
      "/Users/as3993/anaconda3/envs/plprob/lib/python3.12/site-packages/sklearn/covariance/_graph_lasso.py:139: ConvergenceWarning: Objective did not converge. You might want to increase the number of iterations. Duality gap: 0.006427495241389636, tolerance: 0.0038516708014799963\n",
      "  coefs, _, _, _ = cd_fast.enet_coordinate_descent_gram(\n",
      "/Users/as3993/anaconda3/envs/plprob/lib/python3.12/site-packages/sklearn/covariance/_graph_lasso.py:139: ConvergenceWarning: Objective did not converge. You might want to increase the number of iterations. Duality gap: 0.005468315317095573, tolerance: 0.0037942891566325344\n",
      "  coefs, _, _, _ = cd_fast.enet_coordinate_descent_gram(\n",
      "/Users/as3993/anaconda3/envs/plprob/lib/python3.12/site-packages/sklearn/covariance/_graph_lasso.py:191: ConvergenceWarning: graphical_lasso: did not converge after 100 iteration: dual gap: -5.027e-02\n",
      "  warnings.warn(\n",
      "/Users/as3993/Amit/PLProb/plprob/predictor.py:548: FutureWarning: The default of observed=False is deprecated and will be changed to True in a future version of pandas. Pass observed=False to retain current behavior or observed=True to adopt the future default and silence this warning.\n",
      "  self.cp_prob = dict(cp_count.groupby(cp_count).count()[::-1].cumsum() / len(cp_count))\n"
     ]
    },
    {
     "name": "stdout",
     "output_type": "stream",
     "text": [
      "2023-08-13\n"
     ]
    },
    {
     "name": "stderr",
     "output_type": "stream",
     "text": [
      "/Users/as3993/Amit/PLProb/R/univariate.py:320: RuntimeWarning: invalid value encountered in power\n",
      "  val[upper_tail_x] = 1 - (1 - p_upper) * (1 + (k * (x[upper_tail_x] - b))/a)**(-1/k)\n",
      "/Users/as3993/Amit/PLProb/R/univariate.py:330: RuntimeWarning: invalid value encountered in power\n",
      "  val[lower_tail_x] = p_lower * (1 - (k * (x[lower_tail_x] - b))/a)**(-1/k)\n",
      "/Users/as3993/anaconda3/envs/plprob/lib/python3.12/site-packages/sklearn/covariance/_graph_lasso.py:191: ConvergenceWarning: graphical_lasso: did not converge after 100 iteration: dual gap: 2.911e-03\n",
      "  warnings.warn(\n",
      "/Users/as3993/Amit/PLProb/R/univariate.py:330: RuntimeWarning: invalid value encountered in power\n",
      "  val[lower_tail_x] = p_lower * (1 - (k * (x[lower_tail_x] - b))/a)**(-1/k)\n",
      "/Users/as3993/anaconda3/envs/plprob/lib/python3.12/site-packages/sklearn/covariance/_graph_lasso.py:139: ConvergenceWarning: Objective did not converge. You might want to increase the number of iterations. Duality gap: 0.015035143055463607, tolerance: 0.0037945746223983514\n",
      "  coefs, _, _, _ = cd_fast.enet_coordinate_descent_gram(\n",
      "/Users/as3993/anaconda3/envs/plprob/lib/python3.12/site-packages/sklearn/covariance/_graph_lasso.py:139: ConvergenceWarning: Objective did not converge. You might want to increase the number of iterations. Duality gap: 0.010489458026476939, tolerance: 0.003779828097696123\n",
      "  coefs, _, _, _ = cd_fast.enet_coordinate_descent_gram(\n",
      "/Users/as3993/anaconda3/envs/plprob/lib/python3.12/site-packages/sklearn/covariance/_graph_lasso.py:139: ConvergenceWarning: Objective did not converge. You might want to increase the number of iterations. Duality gap: 0.01735396088756147, tolerance: 0.003965861687684827\n",
      "  coefs, _, _, _ = cd_fast.enet_coordinate_descent_gram(\n",
      "/Users/as3993/anaconda3/envs/plprob/lib/python3.12/site-packages/sklearn/covariance/_graph_lasso.py:139: ConvergenceWarning: Objective did not converge. You might want to increase the number of iterations. Duality gap: 0.008180362785445539, tolerance: 0.004074803126999268\n",
      "  coefs, _, _, _ = cd_fast.enet_coordinate_descent_gram(\n",
      "/Users/as3993/anaconda3/envs/plprob/lib/python3.12/site-packages/sklearn/covariance/_graph_lasso.py:139: ConvergenceWarning: Objective did not converge. You might want to increase the number of iterations. Duality gap: 0.004591849088320998, tolerance: 0.004104831192882597\n",
      "  coefs, _, _, _ = cd_fast.enet_coordinate_descent_gram(\n",
      "/Users/as3993/anaconda3/envs/plprob/lib/python3.12/site-packages/sklearn/covariance/_graph_lasso.py:139: ConvergenceWarning: Objective did not converge. You might want to increase the number of iterations. Duality gap: 0.006445669655278152, tolerance: 0.003851531274913924\n",
      "  coefs, _, _, _ = cd_fast.enet_coordinate_descent_gram(\n",
      "/Users/as3993/anaconda3/envs/plprob/lib/python3.12/site-packages/sklearn/covariance/_graph_lasso.py:139: ConvergenceWarning: Objective did not converge. You might want to increase the number of iterations. Duality gap: 0.005492465400038782, tolerance: 0.0037940922493829585\n",
      "  coefs, _, _, _ = cd_fast.enet_coordinate_descent_gram(\n",
      "/Users/as3993/anaconda3/envs/plprob/lib/python3.12/site-packages/sklearn/covariance/_graph_lasso.py:191: ConvergenceWarning: graphical_lasso: did not converge after 100 iteration: dual gap: 6.978e-02\n",
      "  warnings.warn(\n",
      "/Users/as3993/Amit/PLProb/plprob/predictor.py:548: FutureWarning: The default of observed=False is deprecated and will be changed to True in a future version of pandas. Pass observed=False to retain current behavior or observed=True to adopt the future default and silence this warning.\n",
      "  self.cp_prob = dict(cp_count.groupby(cp_count).count()[::-1].cumsum() / len(cp_count))\n"
     ]
    },
    {
     "name": "stdout",
     "output_type": "stream",
     "text": [
      "2023-08-14\n"
     ]
    },
    {
     "name": "stderr",
     "output_type": "stream",
     "text": [
      "/Users/as3993/Amit/PLProb/R/univariate.py:320: RuntimeWarning: invalid value encountered in power\n",
      "  val[upper_tail_x] = 1 - (1 - p_upper) * (1 + (k * (x[upper_tail_x] - b))/a)**(-1/k)\n",
      "/Users/as3993/Amit/PLProb/R/univariate.py:330: RuntimeWarning: invalid value encountered in power\n",
      "  val[lower_tail_x] = p_lower * (1 - (k * (x[lower_tail_x] - b))/a)**(-1/k)\n",
      "/Users/as3993/Amit/PLProb/R/univariate.py:330: RuntimeWarning: invalid value encountered in power\n",
      "  val[lower_tail_x] = p_lower * (1 - (k * (x[lower_tail_x] - b))/a)**(-1/k)\n",
      "/Users/as3993/anaconda3/envs/plprob/lib/python3.12/site-packages/sklearn/covariance/_graph_lasso.py:139: ConvergenceWarning: Objective did not converge. You might want to increase the number of iterations. Duality gap: 0.014974926006324552, tolerance: 0.0037943436076880847\n",
      "  coefs, _, _, _ = cd_fast.enet_coordinate_descent_gram(\n",
      "/Users/as3993/anaconda3/envs/plprob/lib/python3.12/site-packages/sklearn/covariance/_graph_lasso.py:139: ConvergenceWarning: Objective did not converge. You might want to increase the number of iterations. Duality gap: 0.01046054392367779, tolerance: 0.003779663683889791\n",
      "  coefs, _, _, _ = cd_fast.enet_coordinate_descent_gram(\n",
      "/Users/as3993/anaconda3/envs/plprob/lib/python3.12/site-packages/sklearn/covariance/_graph_lasso.py:139: ConvergenceWarning: Objective did not converge. You might want to increase the number of iterations. Duality gap: 0.01742963074339343, tolerance: 0.003965710534734518\n",
      "  coefs, _, _, _ = cd_fast.enet_coordinate_descent_gram(\n",
      "/Users/as3993/anaconda3/envs/plprob/lib/python3.12/site-packages/sklearn/covariance/_graph_lasso.py:139: ConvergenceWarning: Objective did not converge. You might want to increase the number of iterations. Duality gap: 0.008199116823988106, tolerance: 0.0040746579456402456\n",
      "  coefs, _, _, _ = cd_fast.enet_coordinate_descent_gram(\n",
      "/Users/as3993/anaconda3/envs/plprob/lib/python3.12/site-packages/sklearn/covariance/_graph_lasso.py:139: ConvergenceWarning: Objective did not converge. You might want to increase the number of iterations. Duality gap: 0.004611433027584155, tolerance: 0.004104732718905877\n",
      "  coefs, _, _, _ = cd_fast.enet_coordinate_descent_gram(\n",
      "/Users/as3993/anaconda3/envs/plprob/lib/python3.12/site-packages/sklearn/covariance/_graph_lasso.py:139: ConvergenceWarning: Objective did not converge. You might want to increase the number of iterations. Duality gap: 0.0064375911082805715, tolerance: 0.003851595380044046\n",
      "  coefs, _, _, _ = cd_fast.enet_coordinate_descent_gram(\n",
      "/Users/as3993/anaconda3/envs/plprob/lib/python3.12/site-packages/sklearn/covariance/_graph_lasso.py:139: ConvergenceWarning: Objective did not converge. You might want to increase the number of iterations. Duality gap: 0.005503150139531954, tolerance: 0.0037941701342433442\n",
      "  coefs, _, _, _ = cd_fast.enet_coordinate_descent_gram(\n",
      "/Users/as3993/anaconda3/envs/plprob/lib/python3.12/site-packages/sklearn/covariance/_graph_lasso.py:191: ConvergenceWarning: graphical_lasso: did not converge after 100 iteration: dual gap: 6.802e-02\n",
      "  warnings.warn(\n",
      "/Users/as3993/Amit/PLProb/plprob/predictor.py:548: FutureWarning: The default of observed=False is deprecated and will be changed to True in a future version of pandas. Pass observed=False to retain current behavior or observed=True to adopt the future default and silence this warning.\n",
      "  self.cp_prob = dict(cp_count.groupby(cp_count).count()[::-1].cumsum() / len(cp_count))\n"
     ]
    },
    {
     "name": "stdout",
     "output_type": "stream",
     "text": [
      "2023-08-15\n"
     ]
    },
    {
     "name": "stderr",
     "output_type": "stream",
     "text": [
      "/Users/as3993/Amit/PLProb/R/univariate.py:320: RuntimeWarning: invalid value encountered in power\n",
      "  val[upper_tail_x] = 1 - (1 - p_upper) * (1 + (k * (x[upper_tail_x] - b))/a)**(-1/k)\n",
      "/Users/as3993/Amit/PLProb/R/univariate.py:330: RuntimeWarning: invalid value encountered in power\n",
      "  val[lower_tail_x] = p_lower * (1 - (k * (x[lower_tail_x] - b))/a)**(-1/k)\n",
      "/Users/as3993/Amit/PLProb/R/univariate.py:330: RuntimeWarning: invalid value encountered in power\n",
      "  val[lower_tail_x] = p_lower * (1 - (k * (x[lower_tail_x] - b))/a)**(-1/k)\n",
      "/Users/as3993/anaconda3/envs/plprob/lib/python3.12/site-packages/sklearn/covariance/_graph_lasso.py:139: ConvergenceWarning: Objective did not converge. You might want to increase the number of iterations. Duality gap: 0.01498040188892702, tolerance: 0.0037944330825196134\n",
      "  coefs, _, _, _ = cd_fast.enet_coordinate_descent_gram(\n",
      "/Users/as3993/anaconda3/envs/plprob/lib/python3.12/site-packages/sklearn/covariance/_graph_lasso.py:139: ConvergenceWarning: Objective did not converge. You might want to increase the number of iterations. Duality gap: 0.010431514180204715, tolerance: 0.0037797084384320174\n",
      "  coefs, _, _, _ = cd_fast.enet_coordinate_descent_gram(\n",
      "/Users/as3993/anaconda3/envs/plprob/lib/python3.12/site-packages/sklearn/covariance/_graph_lasso.py:139: ConvergenceWarning: Objective did not converge. You might want to increase the number of iterations. Duality gap: 0.01736122366251891, tolerance: 0.003965996416732577\n",
      "  coefs, _, _, _ = cd_fast.enet_coordinate_descent_gram(\n",
      "/Users/as3993/anaconda3/envs/plprob/lib/python3.12/site-packages/sklearn/covariance/_graph_lasso.py:139: ConvergenceWarning: Objective did not converge. You might want to increase the number of iterations. Duality gap: 0.00821456622762895, tolerance: 0.0040748534239896375\n",
      "  coefs, _, _, _ = cd_fast.enet_coordinate_descent_gram(\n",
      "/Users/as3993/anaconda3/envs/plprob/lib/python3.12/site-packages/sklearn/covariance/_graph_lasso.py:139: ConvergenceWarning: Objective did not converge. You might want to increase the number of iterations. Duality gap: 0.004614517352990788, tolerance: 0.004104856501993375\n",
      "  coefs, _, _, _ = cd_fast.enet_coordinate_descent_gram(\n",
      "/Users/as3993/anaconda3/envs/plprob/lib/python3.12/site-packages/sklearn/covariance/_graph_lasso.py:139: ConvergenceWarning: Objective did not converge. You might want to increase the number of iterations. Duality gap: 0.006446151940529887, tolerance: 0.003851757395921392\n",
      "  coefs, _, _, _ = cd_fast.enet_coordinate_descent_gram(\n",
      "/Users/as3993/anaconda3/envs/plprob/lib/python3.12/site-packages/sklearn/covariance/_graph_lasso.py:139: ConvergenceWarning: Objective did not converge. You might want to increase the number of iterations. Duality gap: 0.005483669930427482, tolerance: 0.0037942310290352745\n",
      "  coefs, _, _, _ = cd_fast.enet_coordinate_descent_gram(\n",
      "/Users/as3993/anaconda3/envs/plprob/lib/python3.12/site-packages/sklearn/covariance/_graph_lasso.py:191: ConvergenceWarning: graphical_lasso: did not converge after 100 iteration: dual gap: 9.165e-02\n",
      "  warnings.warn(\n",
      "/Users/as3993/Amit/PLProb/plprob/predictor.py:548: FutureWarning: The default of observed=False is deprecated and will be changed to True in a future version of pandas. Pass observed=False to retain current behavior or observed=True to adopt the future default and silence this warning.\n",
      "  self.cp_prob = dict(cp_count.groupby(cp_count).count()[::-1].cumsum() / len(cp_count))\n"
     ]
    },
    {
     "name": "stdout",
     "output_type": "stream",
     "text": [
      "2023-08-16\n"
     ]
    },
    {
     "name": "stderr",
     "output_type": "stream",
     "text": [
      "/Users/as3993/Amit/PLProb/R/univariate.py:320: RuntimeWarning: invalid value encountered in power\n",
      "  val[upper_tail_x] = 1 - (1 - p_upper) * (1 + (k * (x[upper_tail_x] - b))/a)**(-1/k)\n",
      "/Users/as3993/Amit/PLProb/R/univariate.py:330: RuntimeWarning: invalid value encountered in power\n",
      "  val[lower_tail_x] = p_lower * (1 - (k * (x[lower_tail_x] - b))/a)**(-1/k)\n",
      "/Users/as3993/Amit/PLProb/R/univariate.py:330: RuntimeWarning: invalid value encountered in power\n",
      "  val[lower_tail_x] = p_lower * (1 - (k * (x[lower_tail_x] - b))/a)**(-1/k)\n",
      "/Users/as3993/anaconda3/envs/plprob/lib/python3.12/site-packages/sklearn/covariance/_graph_lasso.py:139: ConvergenceWarning: Objective did not converge. You might want to increase the number of iterations. Duality gap: 0.014974912268115759, tolerance: 0.0037943475956959305\n",
      "  coefs, _, _, _ = cd_fast.enet_coordinate_descent_gram(\n",
      "/Users/as3993/anaconda3/envs/plprob/lib/python3.12/site-packages/sklearn/covariance/_graph_lasso.py:139: ConvergenceWarning: Objective did not converge. You might want to increase the number of iterations. Duality gap: 0.010362211644959984, tolerance: 0.003779809851108128\n",
      "  coefs, _, _, _ = cd_fast.enet_coordinate_descent_gram(\n",
      "/Users/as3993/anaconda3/envs/plprob/lib/python3.12/site-packages/sklearn/covariance/_graph_lasso.py:139: ConvergenceWarning: Objective did not converge. You might want to increase the number of iterations. Duality gap: 0.01715179085537244, tolerance: 0.003966163360138302\n",
      "  coefs, _, _, _ = cd_fast.enet_coordinate_descent_gram(\n",
      "/Users/as3993/anaconda3/envs/plprob/lib/python3.12/site-packages/sklearn/covariance/_graph_lasso.py:139: ConvergenceWarning: Objective did not converge. You might want to increase the number of iterations. Duality gap: 0.008332510606130938, tolerance: 0.004075088605157392\n",
      "  coefs, _, _, _ = cd_fast.enet_coordinate_descent_gram(\n",
      "/Users/as3993/anaconda3/envs/plprob/lib/python3.12/site-packages/sklearn/covariance/_graph_lasso.py:139: ConvergenceWarning: Objective did not converge. You might want to increase the number of iterations. Duality gap: 0.004662341110858392, tolerance: 0.004105028249015709\n",
      "  coefs, _, _, _ = cd_fast.enet_coordinate_descent_gram(\n",
      "/Users/as3993/anaconda3/envs/plprob/lib/python3.12/site-packages/sklearn/covariance/_graph_lasso.py:139: ConvergenceWarning: Objective did not converge. You might want to increase the number of iterations. Duality gap: 0.006510188303025188, tolerance: 0.00385220849011289\n",
      "  coefs, _, _, _ = cd_fast.enet_coordinate_descent_gram(\n",
      "/Users/as3993/anaconda3/envs/plprob/lib/python3.12/site-packages/sklearn/covariance/_graph_lasso.py:139: ConvergenceWarning: Objective did not converge. You might want to increase the number of iterations. Duality gap: 0.00553316696329631, tolerance: 0.0037946659301971736\n",
      "  coefs, _, _, _ = cd_fast.enet_coordinate_descent_gram(\n",
      "/Users/as3993/anaconda3/envs/plprob/lib/python3.12/site-packages/sklearn/covariance/_graph_lasso.py:191: ConvergenceWarning: graphical_lasso: did not converge after 100 iteration: dual gap: 3.049e-02\n",
      "  warnings.warn(\n",
      "/Users/as3993/Amit/PLProb/plprob/predictor.py:548: FutureWarning: The default of observed=False is deprecated and will be changed to True in a future version of pandas. Pass observed=False to retain current behavior or observed=True to adopt the future default and silence this warning.\n",
      "  self.cp_prob = dict(cp_count.groupby(cp_count).count()[::-1].cumsum() / len(cp_count))\n"
     ]
    },
    {
     "name": "stdout",
     "output_type": "stream",
     "text": [
      "2023-08-17\n"
     ]
    },
    {
     "name": "stderr",
     "output_type": "stream",
     "text": [
      "/Users/as3993/Amit/PLProb/R/univariate.py:320: RuntimeWarning: invalid value encountered in power\n",
      "  val[upper_tail_x] = 1 - (1 - p_upper) * (1 + (k * (x[upper_tail_x] - b))/a)**(-1/k)\n",
      "/Users/as3993/Amit/PLProb/R/univariate.py:330: RuntimeWarning: invalid value encountered in power\n",
      "  val[lower_tail_x] = p_lower * (1 - (k * (x[lower_tail_x] - b))/a)**(-1/k)\n",
      "/Users/as3993/Amit/PLProb/R/univariate.py:330: RuntimeWarning: invalid value encountered in power\n",
      "  val[lower_tail_x] = p_lower * (1 - (k * (x[lower_tail_x] - b))/a)**(-1/k)\n",
      "/Users/as3993/anaconda3/envs/plprob/lib/python3.12/site-packages/sklearn/covariance/_graph_lasso.py:139: ConvergenceWarning: Objective did not converge. You might want to increase the number of iterations. Duality gap: 0.014987355277426673, tolerance: 0.00379445471415472\n",
      "  coefs, _, _, _ = cd_fast.enet_coordinate_descent_gram(\n",
      "/Users/as3993/anaconda3/envs/plprob/lib/python3.12/site-packages/sklearn/covariance/_graph_lasso.py:139: ConvergenceWarning: Objective did not converge. You might want to increase the number of iterations. Duality gap: 0.010344677556588522, tolerance: 0.0037799609544974526\n",
      "  coefs, _, _, _ = cd_fast.enet_coordinate_descent_gram(\n",
      "/Users/as3993/anaconda3/envs/plprob/lib/python3.12/site-packages/sklearn/covariance/_graph_lasso.py:139: ConvergenceWarning: Objective did not converge. You might want to increase the number of iterations. Duality gap: 0.01713702903079195, tolerance: 0.003966472953961922\n",
      "  coefs, _, _, _ = cd_fast.enet_coordinate_descent_gram(\n",
      "/Users/as3993/anaconda3/envs/plprob/lib/python3.12/site-packages/sklearn/covariance/_graph_lasso.py:139: ConvergenceWarning: Objective did not converge. You might want to increase the number of iterations. Duality gap: 0.008336759216483358, tolerance: 0.004075247744920813\n",
      "  coefs, _, _, _ = cd_fast.enet_coordinate_descent_gram(\n",
      "/Users/as3993/anaconda3/envs/plprob/lib/python3.12/site-packages/sklearn/covariance/_graph_lasso.py:139: ConvergenceWarning: Objective did not converge. You might want to increase the number of iterations. Duality gap: 0.004638560015955306, tolerance: 0.004105082376272392\n",
      "  coefs, _, _, _ = cd_fast.enet_coordinate_descent_gram(\n",
      "/Users/as3993/anaconda3/envs/plprob/lib/python3.12/site-packages/sklearn/covariance/_graph_lasso.py:139: ConvergenceWarning: Objective did not converge. You might want to increase the number of iterations. Duality gap: 0.006497983665951779, tolerance: 0.00385253865902277\n",
      "  coefs, _, _, _ = cd_fast.enet_coordinate_descent_gram(\n",
      "/Users/as3993/anaconda3/envs/plprob/lib/python3.12/site-packages/sklearn/covariance/_graph_lasso.py:139: ConvergenceWarning: Objective did not converge. You might want to increase the number of iterations. Duality gap: 0.0055189678679781196, tolerance: 0.003795020488620859\n",
      "  coefs, _, _, _ = cd_fast.enet_coordinate_descent_gram(\n",
      "/Users/as3993/anaconda3/envs/plprob/lib/python3.12/site-packages/sklearn/covariance/_graph_lasso.py:191: ConvergenceWarning: graphical_lasso: did not converge after 100 iteration: dual gap: 5.327e-02\n",
      "  warnings.warn(\n",
      "/Users/as3993/Amit/PLProb/plprob/predictor.py:548: FutureWarning: The default of observed=False is deprecated and will be changed to True in a future version of pandas. Pass observed=False to retain current behavior or observed=True to adopt the future default and silence this warning.\n",
      "  self.cp_prob = dict(cp_count.groupby(cp_count).count()[::-1].cumsum() / len(cp_count))\n"
     ]
    },
    {
     "name": "stdout",
     "output_type": "stream",
     "text": [
      "2023-08-18\n"
     ]
    },
    {
     "name": "stderr",
     "output_type": "stream",
     "text": [
      "/Users/as3993/Amit/PLProb/R/univariate.py:330: RuntimeWarning: invalid value encountered in power\n",
      "  val[lower_tail_x] = p_lower * (1 - (k * (x[lower_tail_x] - b))/a)**(-1/k)\n",
      "/Users/as3993/Amit/PLProb/R/univariate.py:320: RuntimeWarning: invalid value encountered in power\n",
      "  val[upper_tail_x] = 1 - (1 - p_upper) * (1 + (k * (x[upper_tail_x] - b))/a)**(-1/k)\n",
      "/Users/as3993/Amit/PLProb/R/univariate.py:330: RuntimeWarning: invalid value encountered in power\n",
      "  val[lower_tail_x] = p_lower * (1 - (k * (x[lower_tail_x] - b))/a)**(-1/k)\n",
      "/Users/as3993/anaconda3/envs/plprob/lib/python3.12/site-packages/sklearn/covariance/_graph_lasso.py:139: ConvergenceWarning: Objective did not converge. You might want to increase the number of iterations. Duality gap: 0.004695315498068453, tolerance: 0.0038198991990424256\n",
      "  coefs, _, _, _ = cd_fast.enet_coordinate_descent_gram(\n",
      "/Users/as3993/anaconda3/envs/plprob/lib/python3.12/site-packages/sklearn/covariance/_graph_lasso.py:139: ConvergenceWarning: Objective did not converge. You might want to increase the number of iterations. Duality gap: 0.013621384025974237, tolerance: 0.003802667780046297\n",
      "  coefs, _, _, _ = cd_fast.enet_coordinate_descent_gram(\n",
      "/Users/as3993/anaconda3/envs/plprob/lib/python3.12/site-packages/sklearn/covariance/_graph_lasso.py:139: ConvergenceWarning: Objective did not converge. You might want to increase the number of iterations. Duality gap: 0.009486780769435654, tolerance: 0.0037881739176330786\n",
      "  coefs, _, _, _ = cd_fast.enet_coordinate_descent_gram(\n",
      "/Users/as3993/anaconda3/envs/plprob/lib/python3.12/site-packages/sklearn/covariance/_graph_lasso.py:139: ConvergenceWarning: Objective did not converge. You might want to increase the number of iterations. Duality gap: 0.016882806945432094, tolerance: 0.0039741663909484614\n",
      "  coefs, _, _, _ = cd_fast.enet_coordinate_descent_gram(\n",
      "/Users/as3993/anaconda3/envs/plprob/lib/python3.12/site-packages/sklearn/covariance/_graph_lasso.py:139: ConvergenceWarning: Objective did not converge. You might want to increase the number of iterations. Duality gap: 0.008018932058831751, tolerance: 0.00408302445408522\n",
      "  coefs, _, _, _ = cd_fast.enet_coordinate_descent_gram(\n",
      "/Users/as3993/anaconda3/envs/plprob/lib/python3.12/site-packages/sklearn/covariance/_graph_lasso.py:139: ConvergenceWarning: Objective did not converge. You might want to increase the number of iterations. Duality gap: 0.004448517907938765, tolerance: 0.004112935551947245\n",
      "  coefs, _, _, _ = cd_fast.enet_coordinate_descent_gram(\n",
      "/Users/as3993/anaconda3/envs/plprob/lib/python3.12/site-packages/sklearn/covariance/_graph_lasso.py:139: ConvergenceWarning: Objective did not converge. You might want to increase the number of iterations. Duality gap: 0.008727235471987171, tolerance: 0.003798606106361922\n",
      "  coefs, _, _, _ = cd_fast.enet_coordinate_descent_gram(\n",
      "/Users/as3993/anaconda3/envs/plprob/lib/python3.12/site-packages/sklearn/covariance/_graph_lasso.py:191: ConvergenceWarning: graphical_lasso: did not converge after 100 iteration: dual gap: 2.934e-02\n",
      "  warnings.warn(\n",
      "/Users/as3993/Amit/PLProb/plprob/predictor.py:548: FutureWarning: The default of observed=False is deprecated and will be changed to True in a future version of pandas. Pass observed=False to retain current behavior or observed=True to adopt the future default and silence this warning.\n",
      "  self.cp_prob = dict(cp_count.groupby(cp_count).count()[::-1].cumsum() / len(cp_count))\n"
     ]
    },
    {
     "name": "stdout",
     "output_type": "stream",
     "text": [
      "2023-08-19\n"
     ]
    },
    {
     "name": "stderr",
     "output_type": "stream",
     "text": [
      "/Users/as3993/Amit/PLProb/R/univariate.py:330: RuntimeWarning: invalid value encountered in power\n",
      "  val[lower_tail_x] = p_lower * (1 - (k * (x[lower_tail_x] - b))/a)**(-1/k)\n",
      "/Users/as3993/Amit/PLProb/R/univariate.py:320: RuntimeWarning: invalid value encountered in power\n",
      "  val[upper_tail_x] = 1 - (1 - p_upper) * (1 + (k * (x[upper_tail_x] - b))/a)**(-1/k)\n",
      "/Users/as3993/anaconda3/envs/plprob/lib/python3.12/site-packages/sklearn/covariance/_graph_lasso.py:191: ConvergenceWarning: graphical_lasso: did not converge after 100 iteration: dual gap: 1.015e-03\n",
      "  warnings.warn(\n",
      "/Users/as3993/Amit/PLProb/R/univariate.py:330: RuntimeWarning: invalid value encountered in power\n",
      "  val[lower_tail_x] = p_lower * (1 - (k * (x[lower_tail_x] - b))/a)**(-1/k)\n",
      "/Users/as3993/anaconda3/envs/plprob/lib/python3.12/site-packages/sklearn/covariance/_graph_lasso.py:139: ConvergenceWarning: Objective did not converge. You might want to increase the number of iterations. Duality gap: 0.004719780533420703, tolerance: 0.0038179990789784274\n",
      "  coefs, _, _, _ = cd_fast.enet_coordinate_descent_gram(\n",
      "/Users/as3993/anaconda3/envs/plprob/lib/python3.12/site-packages/sklearn/covariance/_graph_lasso.py:139: ConvergenceWarning: Objective did not converge. You might want to increase the number of iterations. Duality gap: 0.013601801642153077, tolerance: 0.003800519663079853\n",
      "  coefs, _, _, _ = cd_fast.enet_coordinate_descent_gram(\n",
      "/Users/as3993/anaconda3/envs/plprob/lib/python3.12/site-packages/sklearn/covariance/_graph_lasso.py:139: ConvergenceWarning: Objective did not converge. You might want to increase the number of iterations. Duality gap: 0.0094768852973246, tolerance: 0.003785900486800297\n",
      "  coefs, _, _, _ = cd_fast.enet_coordinate_descent_gram(\n",
      "/Users/as3993/anaconda3/envs/plprob/lib/python3.12/site-packages/sklearn/covariance/_graph_lasso.py:139: ConvergenceWarning: Objective did not converge. You might want to increase the number of iterations. Duality gap: 0.017081015672182787, tolerance: 0.003973210711283636\n",
      "  coefs, _, _, _ = cd_fast.enet_coordinate_descent_gram(\n",
      "/Users/as3993/anaconda3/envs/plprob/lib/python3.12/site-packages/sklearn/covariance/_graph_lasso.py:139: ConvergenceWarning: Objective did not converge. You might want to increase the number of iterations. Duality gap: 0.008069926523646131, tolerance: 0.004081987388877978\n",
      "  coefs, _, _, _ = cd_fast.enet_coordinate_descent_gram(\n",
      "/Users/as3993/anaconda3/envs/plprob/lib/python3.12/site-packages/sklearn/covariance/_graph_lasso.py:139: ConvergenceWarning: Objective did not converge. You might want to increase the number of iterations. Duality gap: 0.004480120915928865, tolerance: 0.004111842982504636\n",
      "  coefs, _, _, _ = cd_fast.enet_coordinate_descent_gram(\n",
      "/Users/as3993/anaconda3/envs/plprob/lib/python3.12/site-packages/sklearn/covariance/_graph_lasso.py:139: ConvergenceWarning: Objective did not converge. You might want to increase the number of iterations. Duality gap: 0.008733987753728911, tolerance: 0.003797449558082638\n",
      "  coefs, _, _, _ = cd_fast.enet_coordinate_descent_gram(\n",
      "/Users/as3993/anaconda3/envs/plprob/lib/python3.12/site-packages/sklearn/covariance/_graph_lasso.py:191: ConvergenceWarning: graphical_lasso: did not converge after 100 iteration: dual gap: 6.843e-02\n",
      "  warnings.warn(\n",
      "/Users/as3993/Amit/PLProb/plprob/predictor.py:548: FutureWarning: The default of observed=False is deprecated and will be changed to True in a future version of pandas. Pass observed=False to retain current behavior or observed=True to adopt the future default and silence this warning.\n",
      "  self.cp_prob = dict(cp_count.groupby(cp_count).count()[::-1].cumsum() / len(cp_count))\n"
     ]
    },
    {
     "name": "stdout",
     "output_type": "stream",
     "text": [
      "2023-08-20\n"
     ]
    },
    {
     "name": "stderr",
     "output_type": "stream",
     "text": [
      "/Users/as3993/Amit/PLProb/R/univariate.py:330: RuntimeWarning: invalid value encountered in power\n",
      "  val[lower_tail_x] = p_lower * (1 - (k * (x[lower_tail_x] - b))/a)**(-1/k)\n",
      "/Users/as3993/Amit/PLProb/R/univariate.py:320: RuntimeWarning: invalid value encountered in power\n",
      "  val[upper_tail_x] = 1 - (1 - p_upper) * (1 + (k * (x[upper_tail_x] - b))/a)**(-1/k)\n",
      "/Users/as3993/Amit/PLProb/R/univariate.py:330: RuntimeWarning: invalid value encountered in power\n",
      "  val[lower_tail_x] = p_lower * (1 - (k * (x[lower_tail_x] - b))/a)**(-1/k)\n",
      "/Users/as3993/anaconda3/envs/plprob/lib/python3.12/site-packages/sklearn/covariance/_graph_lasso.py:139: ConvergenceWarning: Objective did not converge. You might want to increase the number of iterations. Duality gap: 0.0047558025903313705, tolerance: 0.0038179383846071255\n",
      "  coefs, _, _, _ = cd_fast.enet_coordinate_descent_gram(\n",
      "/Users/as3993/anaconda3/envs/plprob/lib/python3.12/site-packages/sklearn/covariance/_graph_lasso.py:139: ConvergenceWarning: Objective did not converge. You might want to increase the number of iterations. Duality gap: 0.01363421394795239, tolerance: 0.003800495537050192\n",
      "  coefs, _, _, _ = cd_fast.enet_coordinate_descent_gram(\n",
      "/Users/as3993/anaconda3/envs/plprob/lib/python3.12/site-packages/sklearn/covariance/_graph_lasso.py:139: ConvergenceWarning: Objective did not converge. You might want to increase the number of iterations. Duality gap: 0.009494023892258951, tolerance: 0.003785833694749578\n",
      "  coefs, _, _, _ = cd_fast.enet_coordinate_descent_gram(\n",
      "/Users/as3993/anaconda3/envs/plprob/lib/python3.12/site-packages/sklearn/covariance/_graph_lasso.py:139: ConvergenceWarning: Objective did not converge. You might want to increase the number of iterations. Duality gap: 0.017104699161130554, tolerance: 0.003971685977116938\n",
      "  coefs, _, _, _ = cd_fast.enet_coordinate_descent_gram(\n",
      "/Users/as3993/anaconda3/envs/plprob/lib/python3.12/site-packages/sklearn/covariance/_graph_lasso.py:139: ConvergenceWarning: Objective did not converge. You might want to increase the number of iterations. Duality gap: 0.008052114814319111, tolerance: 0.00408102942278435\n",
      "  coefs, _, _, _ = cd_fast.enet_coordinate_descent_gram(\n",
      "/Users/as3993/anaconda3/envs/plprob/lib/python3.12/site-packages/sklearn/covariance/_graph_lasso.py:139: ConvergenceWarning: Objective did not converge. You might want to increase the number of iterations. Duality gap: 0.004480066961036755, tolerance: 0.004111181105079958\n",
      "  coefs, _, _, _ = cd_fast.enet_coordinate_descent_gram(\n",
      "/Users/as3993/anaconda3/envs/plprob/lib/python3.12/site-packages/sklearn/covariance/_graph_lasso.py:139: ConvergenceWarning: Objective did not converge. You might want to increase the number of iterations. Duality gap: 0.00872794527806775, tolerance: 0.003797497220119874\n",
      "  coefs, _, _, _ = cd_fast.enet_coordinate_descent_gram(\n",
      "/Users/as3993/anaconda3/envs/plprob/lib/python3.12/site-packages/sklearn/covariance/_graph_lasso.py:191: ConvergenceWarning: graphical_lasso: did not converge after 100 iteration: dual gap: 3.553e-02\n",
      "  warnings.warn(\n",
      "/Users/as3993/Amit/PLProb/plprob/predictor.py:548: FutureWarning: The default of observed=False is deprecated and will be changed to True in a future version of pandas. Pass observed=False to retain current behavior or observed=True to adopt the future default and silence this warning.\n",
      "  self.cp_prob = dict(cp_count.groupby(cp_count).count()[::-1].cumsum() / len(cp_count))\n"
     ]
    },
    {
     "name": "stdout",
     "output_type": "stream",
     "text": [
      "2023-08-21\n"
     ]
    },
    {
     "name": "stderr",
     "output_type": "stream",
     "text": [
      "/Users/as3993/Amit/PLProb/R/univariate.py:330: RuntimeWarning: invalid value encountered in power\n",
      "  val[lower_tail_x] = p_lower * (1 - (k * (x[lower_tail_x] - b))/a)**(-1/k)\n",
      "/Users/as3993/Amit/PLProb/R/univariate.py:320: RuntimeWarning: invalid value encountered in power\n",
      "  val[upper_tail_x] = 1 - (1 - p_upper) * (1 + (k * (x[upper_tail_x] - b))/a)**(-1/k)\n",
      "/Users/as3993/Amit/PLProb/R/univariate.py:330: RuntimeWarning: invalid value encountered in power\n",
      "  val[lower_tail_x] = p_lower * (1 - (k * (x[lower_tail_x] - b))/a)**(-1/k)\n",
      "/Users/as3993/anaconda3/envs/plprob/lib/python3.12/site-packages/sklearn/covariance/_graph_lasso.py:139: ConvergenceWarning: Objective did not converge. You might want to increase the number of iterations. Duality gap: 0.004907124818487318, tolerance: 0.0038125465531840676\n",
      "  coefs, _, _, _ = cd_fast.enet_coordinate_descent_gram(\n",
      "/Users/as3993/anaconda3/envs/plprob/lib/python3.12/site-packages/sklearn/covariance/_graph_lasso.py:139: ConvergenceWarning: Objective did not converge. You might want to increase the number of iterations. Duality gap: 0.013788280017266175, tolerance: 0.003795401460069678\n",
      "  coefs, _, _, _ = cd_fast.enet_coordinate_descent_gram(\n",
      "/Users/as3993/anaconda3/envs/plprob/lib/python3.12/site-packages/sklearn/covariance/_graph_lasso.py:139: ConvergenceWarning: Objective did not converge. You might want to increase the number of iterations. Duality gap: 0.009519073665103406, tolerance: 0.003780951139241988\n",
      "  coefs, _, _, _ = cd_fast.enet_coordinate_descent_gram(\n",
      "/Users/as3993/anaconda3/envs/plprob/lib/python3.12/site-packages/sklearn/covariance/_graph_lasso.py:139: ConvergenceWarning: Objective did not converge. You might want to increase the number of iterations. Duality gap: 0.016784753418690457, tolerance: 0.003963970408573804\n",
      "  coefs, _, _, _ = cd_fast.enet_coordinate_descent_gram(\n",
      "/Users/as3993/anaconda3/envs/plprob/lib/python3.12/site-packages/sklearn/covariance/_graph_lasso.py:139: ConvergenceWarning: Objective did not converge. You might want to increase the number of iterations. Duality gap: 0.008539769131878927, tolerance: 0.004075371940257481\n",
      "  coefs, _, _, _ = cd_fast.enet_coordinate_descent_gram(\n",
      "/Users/as3993/anaconda3/envs/plprob/lib/python3.12/site-packages/sklearn/covariance/_graph_lasso.py:139: ConvergenceWarning: Objective did not converge. You might want to increase the number of iterations. Duality gap: 0.0045354054693618195, tolerance: 0.004106566295409716\n",
      "  coefs, _, _, _ = cd_fast.enet_coordinate_descent_gram(\n",
      "/Users/as3993/anaconda3/envs/plprob/lib/python3.12/site-packages/sklearn/covariance/_graph_lasso.py:139: ConvergenceWarning: Objective did not converge. You might want to increase the number of iterations. Duality gap: 0.008665667315632675, tolerance: 0.003792365183725675\n",
      "  coefs, _, _, _ = cd_fast.enet_coordinate_descent_gram(\n",
      "/Users/as3993/anaconda3/envs/plprob/lib/python3.12/site-packages/sklearn/covariance/_graph_lasso.py:191: ConvergenceWarning: graphical_lasso: did not converge after 100 iteration: dual gap: 1.114e-01\n",
      "  warnings.warn(\n",
      "/Users/as3993/Amit/PLProb/plprob/predictor.py:548: FutureWarning: The default of observed=False is deprecated and will be changed to True in a future version of pandas. Pass observed=False to retain current behavior or observed=True to adopt the future default and silence this warning.\n",
      "  self.cp_prob = dict(cp_count.groupby(cp_count).count()[::-1].cumsum() / len(cp_count))\n"
     ]
    },
    {
     "name": "stdout",
     "output_type": "stream",
     "text": [
      "2023-08-22\n"
     ]
    },
    {
     "name": "stderr",
     "output_type": "stream",
     "text": [
      "/Users/as3993/Amit/PLProb/R/univariate.py:320: RuntimeWarning: invalid value encountered in power\n",
      "  val[upper_tail_x] = 1 - (1 - p_upper) * (1 + (k * (x[upper_tail_x] - b))/a)**(-1/k)\n",
      "/Users/as3993/Amit/PLProb/R/univariate.py:330: RuntimeWarning: invalid value encountered in power\n",
      "  val[lower_tail_x] = p_lower * (1 - (k * (x[lower_tail_x] - b))/a)**(-1/k)\n",
      "/Users/as3993/anaconda3/envs/plprob/lib/python3.12/site-packages/sklearn/covariance/_graph_lasso.py:191: ConvergenceWarning: graphical_lasso: did not converge after 100 iteration: dual gap: 2.530e-03\n",
      "  warnings.warn(\n",
      "/Users/as3993/Amit/PLProb/R/univariate.py:330: RuntimeWarning: invalid value encountered in power\n",
      "  val[lower_tail_x] = p_lower * (1 - (k * (x[lower_tail_x] - b))/a)**(-1/k)\n",
      "/Users/as3993/anaconda3/envs/plprob/lib/python3.12/site-packages/sklearn/covariance/_graph_lasso.py:139: ConvergenceWarning: Objective did not converge. You might want to increase the number of iterations. Duality gap: 0.005039199820423335, tolerance: 0.003812253612699961\n",
      "  coefs, _, _, _ = cd_fast.enet_coordinate_descent_gram(\n",
      "/Users/as3993/anaconda3/envs/plprob/lib/python3.12/site-packages/sklearn/covariance/_graph_lasso.py:139: ConvergenceWarning: Objective did not converge. You might want to increase the number of iterations. Duality gap: 0.013821279625965133, tolerance: 0.0037951685618827107\n",
      "  coefs, _, _, _ = cd_fast.enet_coordinate_descent_gram(\n",
      "/Users/as3993/anaconda3/envs/plprob/lib/python3.12/site-packages/sklearn/covariance/_graph_lasso.py:139: ConvergenceWarning: Objective did not converge. You might want to increase the number of iterations. Duality gap: 0.009559004688163952, tolerance: 0.00378082411185205\n",
      "  coefs, _, _, _ = cd_fast.enet_coordinate_descent_gram(\n",
      "/Users/as3993/anaconda3/envs/plprob/lib/python3.12/site-packages/sklearn/covariance/_graph_lasso.py:139: ConvergenceWarning: Objective did not converge. You might want to increase the number of iterations. Duality gap: 0.016722301224056935, tolerance: 0.003963866599388887\n",
      "  coefs, _, _, _ = cd_fast.enet_coordinate_descent_gram(\n",
      "/Users/as3993/anaconda3/envs/plprob/lib/python3.12/site-packages/sklearn/covariance/_graph_lasso.py:139: ConvergenceWarning: Objective did not converge. You might want to increase the number of iterations. Duality gap: 0.008529283838512924, tolerance: 0.004075260678173895\n",
      "  coefs, _, _, _ = cd_fast.enet_coordinate_descent_gram(\n",
      "/Users/as3993/anaconda3/envs/plprob/lib/python3.12/site-packages/sklearn/covariance/_graph_lasso.py:139: ConvergenceWarning: Objective did not converge. You might want to increase the number of iterations. Duality gap: 0.00453494109235919, tolerance: 0.004106460385397811\n",
      "  coefs, _, _, _ = cd_fast.enet_coordinate_descent_gram(\n",
      "/Users/as3993/anaconda3/envs/plprob/lib/python3.12/site-packages/sklearn/covariance/_graph_lasso.py:139: ConvergenceWarning: Objective did not converge. You might want to increase the number of iterations. Duality gap: 0.008619587518460037, tolerance: 0.003792192453213479\n",
      "  coefs, _, _, _ = cd_fast.enet_coordinate_descent_gram(\n",
      "/Users/as3993/anaconda3/envs/plprob/lib/python3.12/site-packages/sklearn/covariance/_graph_lasso.py:191: ConvergenceWarning: graphical_lasso: did not converge after 100 iteration: dual gap: 8.129e-02\n",
      "  warnings.warn(\n",
      "/Users/as3993/Amit/PLProb/plprob/predictor.py:548: FutureWarning: The default of observed=False is deprecated and will be changed to True in a future version of pandas. Pass observed=False to retain current behavior or observed=True to adopt the future default and silence this warning.\n",
      "  self.cp_prob = dict(cp_count.groupby(cp_count).count()[::-1].cumsum() / len(cp_count))\n"
     ]
    },
    {
     "name": "stdout",
     "output_type": "stream",
     "text": [
      "2023-08-23\n"
     ]
    },
    {
     "name": "stderr",
     "output_type": "stream",
     "text": [
      "/Users/as3993/Amit/PLProb/R/univariate.py:320: RuntimeWarning: invalid value encountered in power\n",
      "  val[upper_tail_x] = 1 - (1 - p_upper) * (1 + (k * (x[upper_tail_x] - b))/a)**(-1/k)\n",
      "/Users/as3993/Amit/PLProb/R/univariate.py:330: RuntimeWarning: invalid value encountered in power\n",
      "  val[lower_tail_x] = p_lower * (1 - (k * (x[lower_tail_x] - b))/a)**(-1/k)\n",
      "/Users/as3993/anaconda3/envs/plprob/lib/python3.12/site-packages/sklearn/covariance/_graph_lasso.py:191: ConvergenceWarning: graphical_lasso: did not converge after 100 iteration: dual gap: -1.158e-03\n",
      "  warnings.warn(\n",
      "/Users/as3993/Amit/PLProb/R/univariate.py:330: RuntimeWarning: invalid value encountered in power\n",
      "  val[lower_tail_x] = p_lower * (1 - (k * (x[lower_tail_x] - b))/a)**(-1/k)\n",
      "/Users/as3993/anaconda3/envs/plprob/lib/python3.12/site-packages/sklearn/covariance/_graph_lasso.py:139: ConvergenceWarning: Objective did not converge. You might want to increase the number of iterations. Duality gap: 0.005036958803636082, tolerance: 0.0038114479034567716\n",
      "  coefs, _, _, _ = cd_fast.enet_coordinate_descent_gram(\n",
      "/Users/as3993/anaconda3/envs/plprob/lib/python3.12/site-packages/sklearn/covariance/_graph_lasso.py:139: ConvergenceWarning: Objective did not converge. You might want to increase the number of iterations. Duality gap: 0.013800384684515166, tolerance: 0.0037942226932882123\n",
      "  coefs, _, _, _ = cd_fast.enet_coordinate_descent_gram(\n",
      "/Users/as3993/anaconda3/envs/plprob/lib/python3.12/site-packages/sklearn/covariance/_graph_lasso.py:139: ConvergenceWarning: Objective did not converge. You might want to increase the number of iterations. Duality gap: 0.009582560669137763, tolerance: 0.0037796810085684684\n",
      "  coefs, _, _, _ = cd_fast.enet_coordinate_descent_gram(\n",
      "/Users/as3993/anaconda3/envs/plprob/lib/python3.12/site-packages/sklearn/covariance/_graph_lasso.py:139: ConvergenceWarning: Objective did not converge. You might want to increase the number of iterations. Duality gap: 0.016792598951468563, tolerance: 0.003963204421507834\n",
      "  coefs, _, _, _ = cd_fast.enet_coordinate_descent_gram(\n",
      "/Users/as3993/anaconda3/envs/plprob/lib/python3.12/site-packages/sklearn/covariance/_graph_lasso.py:139: ConvergenceWarning: Objective did not converge. You might want to increase the number of iterations. Duality gap: 0.008578686171865968, tolerance: 0.004074331599979832\n",
      "  coefs, _, _, _ = cd_fast.enet_coordinate_descent_gram(\n",
      "/Users/as3993/anaconda3/envs/plprob/lib/python3.12/site-packages/sklearn/covariance/_graph_lasso.py:139: ConvergenceWarning: Objective did not converge. You might want to increase the number of iterations. Duality gap: 0.004521230230437823, tolerance: 0.004105354590402354\n",
      "  coefs, _, _, _ = cd_fast.enet_coordinate_descent_gram(\n",
      "/Users/as3993/anaconda3/envs/plprob/lib/python3.12/site-packages/sklearn/covariance/_graph_lasso.py:139: ConvergenceWarning: Objective did not converge. You might want to increase the number of iterations. Duality gap: 0.00859441295872898, tolerance: 0.00379141199620106\n",
      "  coefs, _, _, _ = cd_fast.enet_coordinate_descent_gram(\n",
      "/Users/as3993/anaconda3/envs/plprob/lib/python3.12/site-packages/sklearn/covariance/_graph_lasso.py:191: ConvergenceWarning: graphical_lasso: did not converge after 100 iteration: dual gap: 1.116e-01\n",
      "  warnings.warn(\n",
      "/Users/as3993/Amit/PLProb/plprob/predictor.py:548: FutureWarning: The default of observed=False is deprecated and will be changed to True in a future version of pandas. Pass observed=False to retain current behavior or observed=True to adopt the future default and silence this warning.\n",
      "  self.cp_prob = dict(cp_count.groupby(cp_count).count()[::-1].cumsum() / len(cp_count))\n"
     ]
    },
    {
     "name": "stdout",
     "output_type": "stream",
     "text": [
      "2023-08-24\n"
     ]
    },
    {
     "name": "stderr",
     "output_type": "stream",
     "text": [
      "/Users/as3993/Amit/PLProb/R/univariate.py:320: RuntimeWarning: invalid value encountered in power\n",
      "  val[upper_tail_x] = 1 - (1 - p_upper) * (1 + (k * (x[upper_tail_x] - b))/a)**(-1/k)\n",
      "/Users/as3993/Amit/PLProb/R/univariate.py:330: RuntimeWarning: invalid value encountered in power\n",
      "  val[lower_tail_x] = p_lower * (1 - (k * (x[lower_tail_x] - b))/a)**(-1/k)\n",
      "/Users/as3993/Amit/PLProb/R/univariate.py:330: RuntimeWarning: invalid value encountered in power\n",
      "  val[lower_tail_x] = p_lower * (1 - (k * (x[lower_tail_x] - b))/a)**(-1/k)\n",
      "/Users/as3993/anaconda3/envs/plprob/lib/python3.12/site-packages/sklearn/covariance/_graph_lasso.py:139: ConvergenceWarning: Objective did not converge. You might want to increase the number of iterations. Duality gap: 0.005061575330913115, tolerance: 0.0038133331753440964\n",
      "  coefs, _, _, _ = cd_fast.enet_coordinate_descent_gram(\n",
      "/Users/as3993/anaconda3/envs/plprob/lib/python3.12/site-packages/sklearn/covariance/_graph_lasso.py:139: ConvergenceWarning: Objective did not converge. You might want to increase the number of iterations. Duality gap: 0.013502035690422076, tolerance: 0.003796076196293904\n",
      "  coefs, _, _, _ = cd_fast.enet_coordinate_descent_gram(\n",
      "/Users/as3993/anaconda3/envs/plprob/lib/python3.12/site-packages/sklearn/covariance/_graph_lasso.py:139: ConvergenceWarning: Objective did not converge. You might want to increase the number of iterations. Duality gap: 0.009471007935694331, tolerance: 0.003780866923662058\n",
      "  coefs, _, _, _ = cd_fast.enet_coordinate_descent_gram(\n",
      "/Users/as3993/anaconda3/envs/plprob/lib/python3.12/site-packages/sklearn/covariance/_graph_lasso.py:139: ConvergenceWarning: Objective did not converge. You might want to increase the number of iterations. Duality gap: 0.017339262813777623, tolerance: 0.0039658721126364874\n",
      "  coefs, _, _, _ = cd_fast.enet_coordinate_descent_gram(\n",
      "/Users/as3993/anaconda3/envs/plprob/lib/python3.12/site-packages/sklearn/covariance/_graph_lasso.py:139: ConvergenceWarning: Objective did not converge. You might want to increase the number of iterations. Duality gap: 0.008204110759059802, tolerance: 0.00407681946629771\n",
      "  coefs, _, _, _ = cd_fast.enet_coordinate_descent_gram(\n",
      "/Users/as3993/anaconda3/envs/plprob/lib/python3.12/site-packages/sklearn/covariance/_graph_lasso.py:139: ConvergenceWarning: Objective did not converge. You might want to increase the number of iterations. Duality gap: 0.004583423977280177, tolerance: 0.004107209595856291\n",
      "  coefs, _, _, _ = cd_fast.enet_coordinate_descent_gram(\n",
      "/Users/as3993/anaconda3/envs/plprob/lib/python3.12/site-packages/sklearn/covariance/_graph_lasso.py:139: ConvergenceWarning: Objective did not converge. You might want to increase the number of iterations. Duality gap: 0.008498594224519707, tolerance: 0.0037933300507402372\n",
      "  coefs, _, _, _ = cd_fast.enet_coordinate_descent_gram(\n",
      "/Users/as3993/anaconda3/envs/plprob/lib/python3.12/site-packages/sklearn/covariance/_graph_lasso.py:191: ConvergenceWarning: graphical_lasso: did not converge after 100 iteration: dual gap: 1.040e-01\n",
      "  warnings.warn(\n",
      "/Users/as3993/Amit/PLProb/plprob/predictor.py:548: FutureWarning: The default of observed=False is deprecated and will be changed to True in a future version of pandas. Pass observed=False to retain current behavior or observed=True to adopt the future default and silence this warning.\n",
      "  self.cp_prob = dict(cp_count.groupby(cp_count).count()[::-1].cumsum() / len(cp_count))\n"
     ]
    },
    {
     "name": "stdout",
     "output_type": "stream",
     "text": [
      "2023-08-25\n"
     ]
    },
    {
     "name": "stderr",
     "output_type": "stream",
     "text": [
      "/Users/as3993/Amit/PLProb/R/univariate.py:320: RuntimeWarning: invalid value encountered in power\n",
      "  val[upper_tail_x] = 1 - (1 - p_upper) * (1 + (k * (x[upper_tail_x] - b))/a)**(-1/k)\n",
      "/Users/as3993/Amit/PLProb/R/univariate.py:330: RuntimeWarning: invalid value encountered in power\n",
      "  val[lower_tail_x] = p_lower * (1 - (k * (x[lower_tail_x] - b))/a)**(-1/k)\n",
      "/Users/as3993/Amit/PLProb/R/univariate.py:330: RuntimeWarning: invalid value encountered in power\n",
      "  val[lower_tail_x] = p_lower * (1 - (k * (x[lower_tail_x] - b))/a)**(-1/k)\n",
      "/Users/as3993/anaconda3/envs/plprob/lib/python3.12/site-packages/sklearn/covariance/_graph_lasso.py:139: ConvergenceWarning: Objective did not converge. You might want to increase the number of iterations. Duality gap: 0.005086626489791968, tolerance: 0.0038130346998311326\n",
      "  coefs, _, _, _ = cd_fast.enet_coordinate_descent_gram(\n",
      "/Users/as3993/anaconda3/envs/plprob/lib/python3.12/site-packages/sklearn/covariance/_graph_lasso.py:139: ConvergenceWarning: Objective did not converge. You might want to increase the number of iterations. Duality gap: 0.013494158745245954, tolerance: 0.0037958194414615563\n",
      "  coefs, _, _, _ = cd_fast.enet_coordinate_descent_gram(\n",
      "/Users/as3993/anaconda3/envs/plprob/lib/python3.12/site-packages/sklearn/covariance/_graph_lasso.py:139: ConvergenceWarning: Objective did not converge. You might want to increase the number of iterations. Duality gap: 0.009505194639842784, tolerance: 0.0037807877134937843\n",
      "  coefs, _, _, _ = cd_fast.enet_coordinate_descent_gram(\n",
      "/Users/as3993/anaconda3/envs/plprob/lib/python3.12/site-packages/sklearn/covariance/_graph_lasso.py:139: ConvergenceWarning: Objective did not converge. You might want to increase the number of iterations. Duality gap: 0.017349050408689948, tolerance: 0.003965679478453961\n",
      "  coefs, _, _, _ = cd_fast.enet_coordinate_descent_gram(\n",
      "/Users/as3993/anaconda3/envs/plprob/lib/python3.12/site-packages/sklearn/covariance/_graph_lasso.py:139: ConvergenceWarning: Objective did not converge. You might want to increase the number of iterations. Duality gap: 0.008194793753077079, tolerance: 0.004076785327886698\n",
      "  coefs, _, _, _ = cd_fast.enet_coordinate_descent_gram(\n",
      "/Users/as3993/anaconda3/envs/plprob/lib/python3.12/site-packages/sklearn/covariance/_graph_lasso.py:139: ConvergenceWarning: Objective did not converge. You might want to increase the number of iterations. Duality gap: 0.004575784255820281, tolerance: 0.004107254652338306\n",
      "  coefs, _, _, _ = cd_fast.enet_coordinate_descent_gram(\n",
      "/Users/as3993/anaconda3/envs/plprob/lib/python3.12/site-packages/sklearn/covariance/_graph_lasso.py:139: ConvergenceWarning: Objective did not converge. You might want to increase the number of iterations. Duality gap: 0.008463427426626424, tolerance: 0.003793146961618642\n",
      "  coefs, _, _, _ = cd_fast.enet_coordinate_descent_gram(\n",
      "/Users/as3993/anaconda3/envs/plprob/lib/python3.12/site-packages/sklearn/covariance/_graph_lasso.py:191: ConvergenceWarning: graphical_lasso: did not converge after 100 iteration: dual gap: 1.112e-01\n",
      "  warnings.warn(\n",
      "/Users/as3993/Amit/PLProb/plprob/predictor.py:548: FutureWarning: The default of observed=False is deprecated and will be changed to True in a future version of pandas. Pass observed=False to retain current behavior or observed=True to adopt the future default and silence this warning.\n",
      "  self.cp_prob = dict(cp_count.groupby(cp_count).count()[::-1].cumsum() / len(cp_count))\n"
     ]
    },
    {
     "name": "stdout",
     "output_type": "stream",
     "text": [
      "2023-08-26\n"
     ]
    },
    {
     "name": "stderr",
     "output_type": "stream",
     "text": [
      "/Users/as3993/Amit/PLProb/R/univariate.py:320: RuntimeWarning: invalid value encountered in power\n",
      "  val[upper_tail_x] = 1 - (1 - p_upper) * (1 + (k * (x[upper_tail_x] - b))/a)**(-1/k)\n",
      "/Users/as3993/Amit/PLProb/R/univariate.py:330: RuntimeWarning: invalid value encountered in power\n",
      "  val[lower_tail_x] = p_lower * (1 - (k * (x[lower_tail_x] - b))/a)**(-1/k)\n",
      "/Users/as3993/Amit/PLProb/R/univariate.py:330: RuntimeWarning: invalid value encountered in power\n",
      "  val[lower_tail_x] = p_lower * (1 - (k * (x[lower_tail_x] - b))/a)**(-1/k)\n",
      "/Users/as3993/anaconda3/envs/plprob/lib/python3.12/site-packages/sklearn/covariance/_graph_lasso.py:139: ConvergenceWarning: Objective did not converge. You might want to increase the number of iterations. Duality gap: 0.005019969515707601, tolerance: 0.0038130605652335805\n",
      "  coefs, _, _, _ = cd_fast.enet_coordinate_descent_gram(\n",
      "/Users/as3993/anaconda3/envs/plprob/lib/python3.12/site-packages/sklearn/covariance/_graph_lasso.py:139: ConvergenceWarning: Objective did not converge. You might want to increase the number of iterations. Duality gap: 0.013411059752812093, tolerance: 0.0037958807558190095\n",
      "  coefs, _, _, _ = cd_fast.enet_coordinate_descent_gram(\n",
      "/Users/as3993/anaconda3/envs/plprob/lib/python3.12/site-packages/sklearn/covariance/_graph_lasso.py:139: ConvergenceWarning: Objective did not converge. You might want to increase the number of iterations. Duality gap: 0.009456079494455594, tolerance: 0.0037809218696129776\n",
      "  coefs, _, _, _ = cd_fast.enet_coordinate_descent_gram(\n",
      "/Users/as3993/anaconda3/envs/plprob/lib/python3.12/site-packages/sklearn/covariance/_graph_lasso.py:139: ConvergenceWarning: Objective did not converge. You might want to increase the number of iterations. Duality gap: 0.017259665086392317, tolerance: 0.003965764735450039\n",
      "  coefs, _, _, _ = cd_fast.enet_coordinate_descent_gram(\n",
      "/Users/as3993/anaconda3/envs/plprob/lib/python3.12/site-packages/sklearn/covariance/_graph_lasso.py:139: ConvergenceWarning: Objective did not converge. You might want to increase the number of iterations. Duality gap: 0.008197770245864433, tolerance: 0.004076831951333409\n",
      "  coefs, _, _, _ = cd_fast.enet_coordinate_descent_gram(\n",
      "/Users/as3993/anaconda3/envs/plprob/lib/python3.12/site-packages/sklearn/covariance/_graph_lasso.py:139: ConvergenceWarning: Objective did not converge. You might want to increase the number of iterations. Duality gap: 0.004597784369231306, tolerance: 0.004107295496113173\n",
      "  coefs, _, _, _ = cd_fast.enet_coordinate_descent_gram(\n",
      "/Users/as3993/anaconda3/envs/plprob/lib/python3.12/site-packages/sklearn/covariance/_graph_lasso.py:139: ConvergenceWarning: Objective did not converge. You might want to increase the number of iterations. Duality gap: 0.008476723213931336, tolerance: 0.0037932354846715727\n",
      "  coefs, _, _, _ = cd_fast.enet_coordinate_descent_gram(\n",
      "/Users/as3993/anaconda3/envs/plprob/lib/python3.12/site-packages/sklearn/covariance/_graph_lasso.py:191: ConvergenceWarning: graphical_lasso: did not converge after 100 iteration: dual gap: 1.124e-01\n",
      "  warnings.warn(\n",
      "/Users/as3993/Amit/PLProb/plprob/predictor.py:548: FutureWarning: The default of observed=False is deprecated and will be changed to True in a future version of pandas. Pass observed=False to retain current behavior or observed=True to adopt the future default and silence this warning.\n",
      "  self.cp_prob = dict(cp_count.groupby(cp_count).count()[::-1].cumsum() / len(cp_count))\n"
     ]
    },
    {
     "name": "stdout",
     "output_type": "stream",
     "text": [
      "2023-08-27\n"
     ]
    },
    {
     "name": "stderr",
     "output_type": "stream",
     "text": [
      "/Users/as3993/Amit/PLProb/R/univariate.py:320: RuntimeWarning: invalid value encountered in power\n",
      "  val[upper_tail_x] = 1 - (1 - p_upper) * (1 + (k * (x[upper_tail_x] - b))/a)**(-1/k)\n",
      "/Users/as3993/Amit/PLProb/R/univariate.py:330: RuntimeWarning: invalid value encountered in power\n",
      "  val[lower_tail_x] = p_lower * (1 - (k * (x[lower_tail_x] - b))/a)**(-1/k)\n",
      "/Users/as3993/anaconda3/envs/plprob/lib/python3.12/site-packages/sklearn/covariance/_graph_lasso.py:191: ConvergenceWarning: graphical_lasso: did not converge after 100 iteration: dual gap: 3.239e-03\n",
      "  warnings.warn(\n",
      "/Users/as3993/Amit/PLProb/R/univariate.py:330: RuntimeWarning: invalid value encountered in power\n",
      "  val[lower_tail_x] = p_lower * (1 - (k * (x[lower_tail_x] - b))/a)**(-1/k)\n",
      "/Users/as3993/anaconda3/envs/plprob/lib/python3.12/site-packages/sklearn/covariance/_graph_lasso.py:139: ConvergenceWarning: Objective did not converge. You might want to increase the number of iterations. Duality gap: 0.005005528919546975, tolerance: 0.003813038237530998\n",
      "  coefs, _, _, _ = cd_fast.enet_coordinate_descent_gram(\n",
      "/Users/as3993/anaconda3/envs/plprob/lib/python3.12/site-packages/sklearn/covariance/_graph_lasso.py:139: ConvergenceWarning: Objective did not converge. You might want to increase the number of iterations. Duality gap: 0.013404557601589318, tolerance: 0.0037957944420027537\n",
      "  coefs, _, _, _ = cd_fast.enet_coordinate_descent_gram(\n",
      "/Users/as3993/anaconda3/envs/plprob/lib/python3.12/site-packages/sklearn/covariance/_graph_lasso.py:139: ConvergenceWarning: Objective did not converge. You might want to increase the number of iterations. Duality gap: 0.009454350300998726, tolerance: 0.003780919738481783\n",
      "  coefs, _, _, _ = cd_fast.enet_coordinate_descent_gram(\n",
      "/Users/as3993/anaconda3/envs/plprob/lib/python3.12/site-packages/sklearn/covariance/_graph_lasso.py:139: ConvergenceWarning: Objective did not converge. You might want to increase the number of iterations. Duality gap: 0.017295048349616593, tolerance: 0.003965842932797662\n",
      "  coefs, _, _, _ = cd_fast.enet_coordinate_descent_gram(\n",
      "/Users/as3993/anaconda3/envs/plprob/lib/python3.12/site-packages/sklearn/covariance/_graph_lasso.py:139: ConvergenceWarning: Objective did not converge. You might want to increase the number of iterations. Duality gap: 0.008206942292659392, tolerance: 0.00407687960864866\n",
      "  coefs, _, _, _ = cd_fast.enet_coordinate_descent_gram(\n",
      "/Users/as3993/anaconda3/envs/plprob/lib/python3.12/site-packages/sklearn/covariance/_graph_lasso.py:139: ConvergenceWarning: Objective did not converge. You might want to increase the number of iterations. Duality gap: 0.0046063549197370435, tolerance: 0.0041073277184949806\n",
      "  coefs, _, _, _ = cd_fast.enet_coordinate_descent_gram(\n",
      "/Users/as3993/anaconda3/envs/plprob/lib/python3.12/site-packages/sklearn/covariance/_graph_lasso.py:139: ConvergenceWarning: Objective did not converge. You might want to increase the number of iterations. Duality gap: 0.008467038357025558, tolerance: 0.0037934141060008155\n",
      "  coefs, _, _, _ = cd_fast.enet_coordinate_descent_gram(\n",
      "/Users/as3993/anaconda3/envs/plprob/lib/python3.12/site-packages/sklearn/covariance/_graph_lasso.py:191: ConvergenceWarning: graphical_lasso: did not converge after 100 iteration: dual gap: 1.140e-01\n",
      "  warnings.warn(\n",
      "/Users/as3993/Amit/PLProb/plprob/predictor.py:548: FutureWarning: The default of observed=False is deprecated and will be changed to True in a future version of pandas. Pass observed=False to retain current behavior or observed=True to adopt the future default and silence this warning.\n",
      "  self.cp_prob = dict(cp_count.groupby(cp_count).count()[::-1].cumsum() / len(cp_count))\n"
     ]
    },
    {
     "name": "stdout",
     "output_type": "stream",
     "text": [
      "2023-08-28\n"
     ]
    },
    {
     "name": "stderr",
     "output_type": "stream",
     "text": [
      "/Users/as3993/Amit/PLProb/R/univariate.py:320: RuntimeWarning: invalid value encountered in power\n",
      "  val[upper_tail_x] = 1 - (1 - p_upper) * (1 + (k * (x[upper_tail_x] - b))/a)**(-1/k)\n",
      "/Users/as3993/Amit/PLProb/R/univariate.py:330: RuntimeWarning: invalid value encountered in power\n",
      "  val[lower_tail_x] = p_lower * (1 - (k * (x[lower_tail_x] - b))/a)**(-1/k)\n",
      "/Users/as3993/anaconda3/envs/plprob/lib/python3.12/site-packages/sklearn/covariance/_graph_lasso.py:191: ConvergenceWarning: graphical_lasso: did not converge after 100 iteration: dual gap: -1.175e-03\n",
      "  warnings.warn(\n",
      "/Users/as3993/Amit/PLProb/R/univariate.py:330: RuntimeWarning: invalid value encountered in power\n",
      "  val[lower_tail_x] = p_lower * (1 - (k * (x[lower_tail_x] - b))/a)**(-1/k)\n",
      "/Users/as3993/anaconda3/envs/plprob/lib/python3.12/site-packages/sklearn/covariance/_graph_lasso.py:139: ConvergenceWarning: Objective did not converge. You might want to increase the number of iterations. Duality gap: 0.005013107972487774, tolerance: 0.0038126275943909725\n",
      "  coefs, _, _, _ = cd_fast.enet_coordinate_descent_gram(\n",
      "/Users/as3993/anaconda3/envs/plprob/lib/python3.12/site-packages/sklearn/covariance/_graph_lasso.py:139: ConvergenceWarning: Objective did not converge. You might want to increase the number of iterations. Duality gap: 0.013401426032061181, tolerance: 0.003795455526423787\n",
      "  coefs, _, _, _ = cd_fast.enet_coordinate_descent_gram(\n",
      "/Users/as3993/anaconda3/envs/plprob/lib/python3.12/site-packages/sklearn/covariance/_graph_lasso.py:139: ConvergenceWarning: Objective did not converge. You might want to increase the number of iterations. Duality gap: 0.009445014503455695, tolerance: 0.0037806078856321593\n",
      "  coefs, _, _, _ = cd_fast.enet_coordinate_descent_gram(\n",
      "/Users/as3993/anaconda3/envs/plprob/lib/python3.12/site-packages/sklearn/covariance/_graph_lasso.py:139: ConvergenceWarning: Objective did not converge. You might want to increase the number of iterations. Duality gap: 0.01745739034161886, tolerance: 0.003965174739962139\n",
      "  coefs, _, _, _ = cd_fast.enet_coordinate_descent_gram(\n",
      "/Users/as3993/anaconda3/envs/plprob/lib/python3.12/site-packages/sklearn/covariance/_graph_lasso.py:139: ConvergenceWarning: Objective did not converge. You might want to increase the number of iterations. Duality gap: 0.008212395690392782, tolerance: 0.0040765622266108895\n",
      "  coefs, _, _, _ = cd_fast.enet_coordinate_descent_gram(\n",
      "/Users/as3993/anaconda3/envs/plprob/lib/python3.12/site-packages/sklearn/covariance/_graph_lasso.py:139: ConvergenceWarning: Objective did not converge. You might want to increase the number of iterations. Duality gap: 0.004620197846158192, tolerance: 0.004107111587781795\n",
      "  coefs, _, _, _ = cd_fast.enet_coordinate_descent_gram(\n",
      "/Users/as3993/anaconda3/envs/plprob/lib/python3.12/site-packages/sklearn/covariance/_graph_lasso.py:139: ConvergenceWarning: Objective did not converge. You might want to increase the number of iterations. Duality gap: 0.008432677095477459, tolerance: 0.003793116912813316\n",
      "  coefs, _, _, _ = cd_fast.enet_coordinate_descent_gram(\n",
      "/Users/as3993/anaconda3/envs/plprob/lib/python3.12/site-packages/sklearn/covariance/_graph_lasso.py:191: ConvergenceWarning: graphical_lasso: did not converge after 100 iteration: dual gap: 1.149e-01\n",
      "  warnings.warn(\n",
      "/Users/as3993/Amit/PLProb/plprob/predictor.py:548: FutureWarning: The default of observed=False is deprecated and will be changed to True in a future version of pandas. Pass observed=False to retain current behavior or observed=True to adopt the future default and silence this warning.\n",
      "  self.cp_prob = dict(cp_count.groupby(cp_count).count()[::-1].cumsum() / len(cp_count))\n"
     ]
    },
    {
     "name": "stdout",
     "output_type": "stream",
     "text": [
      "2023-08-29\n"
     ]
    },
    {
     "name": "stderr",
     "output_type": "stream",
     "text": [
      "/Users/as3993/Amit/PLProb/R/univariate.py:320: RuntimeWarning: invalid value encountered in power\n",
      "  val[upper_tail_x] = 1 - (1 - p_upper) * (1 + (k * (x[upper_tail_x] - b))/a)**(-1/k)\n",
      "/Users/as3993/Amit/PLProb/R/univariate.py:330: RuntimeWarning: invalid value encountered in power\n",
      "  val[lower_tail_x] = p_lower * (1 - (k * (x[lower_tail_x] - b))/a)**(-1/k)\n",
      "/Users/as3993/Amit/PLProb/R/univariate.py:330: RuntimeWarning: invalid value encountered in power\n",
      "  val[lower_tail_x] = p_lower * (1 - (k * (x[lower_tail_x] - b))/a)**(-1/k)\n",
      "/Users/as3993/anaconda3/envs/plprob/lib/python3.12/site-packages/sklearn/covariance/_graph_lasso.py:139: ConvergenceWarning: Objective did not converge. You might want to increase the number of iterations. Duality gap: 0.005032800310964092, tolerance: 0.0038125779319643787\n",
      "  coefs, _, _, _ = cd_fast.enet_coordinate_descent_gram(\n",
      "/Users/as3993/anaconda3/envs/plprob/lib/python3.12/site-packages/sklearn/covariance/_graph_lasso.py:139: ConvergenceWarning: Objective did not converge. You might want to increase the number of iterations. Duality gap: 0.013421966335855018, tolerance: 0.0037954405315700043\n",
      "  coefs, _, _, _ = cd_fast.enet_coordinate_descent_gram(\n",
      "/Users/as3993/anaconda3/envs/plprob/lib/python3.12/site-packages/sklearn/covariance/_graph_lasso.py:139: ConvergenceWarning: Objective did not converge. You might want to increase the number of iterations. Duality gap: 0.00945269201418597, tolerance: 0.003780611086284664\n",
      "  coefs, _, _, _ = cd_fast.enet_coordinate_descent_gram(\n",
      "/Users/as3993/anaconda3/envs/plprob/lib/python3.12/site-packages/sklearn/covariance/_graph_lasso.py:139: ConvergenceWarning: Objective did not converge. You might want to increase the number of iterations. Duality gap: 0.017465725451849323, tolerance: 0.003965072070326526\n",
      "  coefs, _, _, _ = cd_fast.enet_coordinate_descent_gram(\n",
      "/Users/as3993/anaconda3/envs/plprob/lib/python3.12/site-packages/sklearn/covariance/_graph_lasso.py:139: ConvergenceWarning: Objective did not converge. You might want to increase the number of iterations. Duality gap: 0.008223699058014233, tolerance: 0.004076521953216936\n",
      "  coefs, _, _, _ = cd_fast.enet_coordinate_descent_gram(\n",
      "/Users/as3993/anaconda3/envs/plprob/lib/python3.12/site-packages/sklearn/covariance/_graph_lasso.py:139: ConvergenceWarning: Objective did not converge. You might want to increase the number of iterations. Duality gap: 0.004626386724545739, tolerance: 0.004107135719249618\n",
      "  coefs, _, _, _ = cd_fast.enet_coordinate_descent_gram(\n",
      "/Users/as3993/anaconda3/envs/plprob/lib/python3.12/site-packages/sklearn/covariance/_graph_lasso.py:139: ConvergenceWarning: Objective did not converge. You might want to increase the number of iterations. Duality gap: 0.008407568333460347, tolerance: 0.0037929874800826284\n",
      "  coefs, _, _, _ = cd_fast.enet_coordinate_descent_gram(\n",
      "/Users/as3993/anaconda3/envs/plprob/lib/python3.12/site-packages/sklearn/covariance/_graph_lasso.py:191: ConvergenceWarning: graphical_lasso: did not converge after 100 iteration: dual gap: 1.058e-01\n",
      "  warnings.warn(\n",
      "/Users/as3993/Amit/PLProb/plprob/predictor.py:548: FutureWarning: The default of observed=False is deprecated and will be changed to True in a future version of pandas. Pass observed=False to retain current behavior or observed=True to adopt the future default and silence this warning.\n",
      "  self.cp_prob = dict(cp_count.groupby(cp_count).count()[::-1].cumsum() / len(cp_count))\n"
     ]
    },
    {
     "name": "stdout",
     "output_type": "stream",
     "text": [
      "2023-08-30\n"
     ]
    },
    {
     "name": "stderr",
     "output_type": "stream",
     "text": [
      "/Users/as3993/Amit/PLProb/R/univariate.py:320: RuntimeWarning: invalid value encountered in power\n",
      "  val[upper_tail_x] = 1 - (1 - p_upper) * (1 + (k * (x[upper_tail_x] - b))/a)**(-1/k)\n",
      "/Users/as3993/Amit/PLProb/R/univariate.py:330: RuntimeWarning: invalid value encountered in power\n",
      "  val[lower_tail_x] = p_lower * (1 - (k * (x[lower_tail_x] - b))/a)**(-1/k)\n",
      "/Users/as3993/Amit/PLProb/R/univariate.py:330: RuntimeWarning: invalid value encountered in power\n",
      "  val[lower_tail_x] = p_lower * (1 - (k * (x[lower_tail_x] - b))/a)**(-1/k)\n",
      "/Users/as3993/anaconda3/envs/plprob/lib/python3.12/site-packages/sklearn/covariance/_graph_lasso.py:139: ConvergenceWarning: Objective did not converge. You might want to increase the number of iterations. Duality gap: 0.0050145041242757316, tolerance: 0.0038126697983302807\n",
      "  coefs, _, _, _ = cd_fast.enet_coordinate_descent_gram(\n",
      "/Users/as3993/anaconda3/envs/plprob/lib/python3.12/site-packages/sklearn/covariance/_graph_lasso.py:139: ConvergenceWarning: Objective did not converge. You might want to increase the number of iterations. Duality gap: 0.013420062552391698, tolerance: 0.0037955558297246626\n",
      "  coefs, _, _, _ = cd_fast.enet_coordinate_descent_gram(\n",
      "/Users/as3993/anaconda3/envs/plprob/lib/python3.12/site-packages/sklearn/covariance/_graph_lasso.py:139: ConvergenceWarning: Objective did not converge. You might want to increase the number of iterations. Duality gap: 0.009449603094601855, tolerance: 0.0037807416140337277\n",
      "  coefs, _, _, _ = cd_fast.enet_coordinate_descent_gram(\n",
      "/Users/as3993/anaconda3/envs/plprob/lib/python3.12/site-packages/sklearn/covariance/_graph_lasso.py:139: ConvergenceWarning: Objective did not converge. You might want to increase the number of iterations. Duality gap: 0.017546711494674128, tolerance: 0.003965177078449927\n",
      "  coefs, _, _, _ = cd_fast.enet_coordinate_descent_gram(\n",
      "/Users/as3993/anaconda3/envs/plprob/lib/python3.12/site-packages/sklearn/covariance/_graph_lasso.py:139: ConvergenceWarning: Objective did not converge. You might want to increase the number of iterations. Duality gap: 0.008213858882790248, tolerance: 0.0040766566423522015\n",
      "  coefs, _, _, _ = cd_fast.enet_coordinate_descent_gram(\n",
      "/Users/as3993/anaconda3/envs/plprob/lib/python3.12/site-packages/sklearn/covariance/_graph_lasso.py:139: ConvergenceWarning: Objective did not converge. You might want to increase the number of iterations. Duality gap: 0.0046381550902481194, tolerance: 0.004107229929852751\n",
      "  coefs, _, _, _ = cd_fast.enet_coordinate_descent_gram(\n",
      "/Users/as3993/anaconda3/envs/plprob/lib/python3.12/site-packages/sklearn/covariance/_graph_lasso.py:139: ConvergenceWarning: Objective did not converge. You might want to increase the number of iterations. Duality gap: 0.008362436445921162, tolerance: 0.0037931029476935755\n",
      "  coefs, _, _, _ = cd_fast.enet_coordinate_descent_gram(\n",
      "/Users/as3993/anaconda3/envs/plprob/lib/python3.12/site-packages/sklearn/covariance/_graph_lasso.py:191: ConvergenceWarning: graphical_lasso: did not converge after 100 iteration: dual gap: 9.722e-02\n",
      "  warnings.warn(\n",
      "/Users/as3993/Amit/PLProb/plprob/predictor.py:548: FutureWarning: The default of observed=False is deprecated and will be changed to True in a future version of pandas. Pass observed=False to retain current behavior or observed=True to adopt the future default and silence this warning.\n",
      "  self.cp_prob = dict(cp_count.groupby(cp_count).count()[::-1].cumsum() / len(cp_count))\n"
     ]
    },
    {
     "name": "stdout",
     "output_type": "stream",
     "text": [
      "2023-08-31\n"
     ]
    },
    {
     "name": "stderr",
     "output_type": "stream",
     "text": [
      "/Users/as3993/Amit/PLProb/R/univariate.py:320: RuntimeWarning: invalid value encountered in power\n",
      "  val[upper_tail_x] = 1 - (1 - p_upper) * (1 + (k * (x[upper_tail_x] - b))/a)**(-1/k)\n",
      "/Users/as3993/Amit/PLProb/R/univariate.py:330: RuntimeWarning: invalid value encountered in power\n",
      "  val[lower_tail_x] = p_lower * (1 - (k * (x[lower_tail_x] - b))/a)**(-1/k)\n",
      "/Users/as3993/Amit/PLProb/R/univariate.py:330: RuntimeWarning: invalid value encountered in power\n",
      "  val[lower_tail_x] = p_lower * (1 - (k * (x[lower_tail_x] - b))/a)**(-1/k)\n",
      "/Users/as3993/anaconda3/envs/plprob/lib/python3.12/site-packages/sklearn/covariance/_graph_lasso.py:139: ConvergenceWarning: Objective did not converge. You might want to increase the number of iterations. Duality gap: 0.005551435067943089, tolerance: 0.003802373226198785\n",
      "  coefs, _, _, _ = cd_fast.enet_coordinate_descent_gram(\n",
      "/Users/as3993/anaconda3/envs/plprob/lib/python3.12/site-packages/sklearn/covariance/_graph_lasso.py:139: ConvergenceWarning: Objective did not converge. You might want to increase the number of iterations. Duality gap: 0.009939425265550028, tolerance: 0.0037850572800988236\n",
      "  coefs, _, _, _ = cd_fast.enet_coordinate_descent_gram(\n",
      "/Users/as3993/anaconda3/envs/plprob/lib/python3.12/site-packages/sklearn/covariance/_graph_lasso.py:139: ConvergenceWarning: Objective did not converge. You might want to increase the number of iterations. Duality gap: 0.005125081571691226, tolerance: 0.003536361950934678\n",
      "  coefs, _, _, _ = cd_fast.enet_coordinate_descent_gram(\n",
      "/Users/as3993/anaconda3/envs/plprob/lib/python3.12/site-packages/sklearn/covariance/_graph_lasso.py:139: ConvergenceWarning: Objective did not converge. You might want to increase the number of iterations. Duality gap: 0.01754472271813512, tolerance: 0.003956857289186207\n",
      "  coefs, _, _, _ = cd_fast.enet_coordinate_descent_gram(\n",
      "/Users/as3993/anaconda3/envs/plprob/lib/python3.12/site-packages/sklearn/covariance/_graph_lasso.py:139: ConvergenceWarning: Objective did not converge. You might want to increase the number of iterations. Duality gap: 0.008442361937014198, tolerance: 0.0040675861216392445\n",
      "  coefs, _, _, _ = cd_fast.enet_coordinate_descent_gram(\n",
      "/Users/as3993/anaconda3/envs/plprob/lib/python3.12/site-packages/sklearn/covariance/_graph_lasso.py:139: ConvergenceWarning: Objective did not converge. You might want to increase the number of iterations. Duality gap: 0.00466248403070324, tolerance: 0.004097154465182941\n",
      "  coefs, _, _, _ = cd_fast.enet_coordinate_descent_gram(\n",
      "/Users/as3993/anaconda3/envs/plprob/lib/python3.12/site-packages/sklearn/covariance/_graph_lasso.py:139: ConvergenceWarning: Objective did not converge. You might want to increase the number of iterations. Duality gap: 0.005517713135056113, tolerance: 0.003847238091448819\n",
      "  coefs, _, _, _ = cd_fast.enet_coordinate_descent_gram(\n",
      "/Users/as3993/anaconda3/envs/plprob/lib/python3.12/site-packages/sklearn/covariance/_graph_lasso.py:139: ConvergenceWarning: Objective did not converge. You might want to increase the number of iterations. Duality gap: 0.004577104116684438, tolerance: 0.0037873423428616314\n",
      "  coefs, _, _, _ = cd_fast.enet_coordinate_descent_gram(\n",
      "/Users/as3993/Amit/PLProb/plprob/predictor.py:548: FutureWarning: The default of observed=False is deprecated and will be changed to True in a future version of pandas. Pass observed=False to retain current behavior or observed=True to adopt the future default and silence this warning.\n",
      "  self.cp_prob = dict(cp_count.groupby(cp_count).count()[::-1].cumsum() / len(cp_count))\n"
     ]
    },
    {
     "name": "stdout",
     "output_type": "stream",
     "text": [
      "2023-09-01\n"
     ]
    },
    {
     "name": "stderr",
     "output_type": "stream",
     "text": [
      "/Users/as3993/Amit/PLProb/R/univariate.py:320: RuntimeWarning: invalid value encountered in power\n",
      "  val[upper_tail_x] = 1 - (1 - p_upper) * (1 + (k * (x[upper_tail_x] - b))/a)**(-1/k)\n",
      "/Users/as3993/Amit/PLProb/R/univariate.py:330: RuntimeWarning: invalid value encountered in power\n",
      "  val[lower_tail_x] = p_lower * (1 - (k * (x[lower_tail_x] - b))/a)**(-1/k)\n",
      "/Users/as3993/Amit/PLProb/R/univariate.py:330: RuntimeWarning: invalid value encountered in power\n",
      "  val[lower_tail_x] = p_lower * (1 - (k * (x[lower_tail_x] - b))/a)**(-1/k)\n",
      "/Users/as3993/anaconda3/envs/plprob/lib/python3.12/site-packages/sklearn/covariance/_graph_lasso.py:139: ConvergenceWarning: Objective did not converge. You might want to increase the number of iterations. Duality gap: 0.005565674597242776, tolerance: 0.0038026683493514167\n",
      "  coefs, _, _, _ = cd_fast.enet_coordinate_descent_gram(\n",
      "/Users/as3993/anaconda3/envs/plprob/lib/python3.12/site-packages/sklearn/covariance/_graph_lasso.py:139: ConvergenceWarning: Objective did not converge. You might want to increase the number of iterations. Duality gap: 0.009987604027820396, tolerance: 0.003785287327626488\n",
      "  coefs, _, _, _ = cd_fast.enet_coordinate_descent_gram(\n",
      "/Users/as3993/anaconda3/envs/plprob/lib/python3.12/site-packages/sklearn/covariance/_graph_lasso.py:139: ConvergenceWarning: Objective did not converge. You might want to increase the number of iterations. Duality gap: 0.00514162021108433, tolerance: 0.0035366776330469337\n",
      "  coefs, _, _, _ = cd_fast.enet_coordinate_descent_gram(\n",
      "/Users/as3993/anaconda3/envs/plprob/lib/python3.12/site-packages/sklearn/covariance/_graph_lasso.py:139: ConvergenceWarning: Objective did not converge. You might want to increase the number of iterations. Duality gap: 0.01757337838002826, tolerance: 0.003956995736543827\n",
      "  coefs, _, _, _ = cd_fast.enet_coordinate_descent_gram(\n",
      "/Users/as3993/anaconda3/envs/plprob/lib/python3.12/site-packages/sklearn/covariance/_graph_lasso.py:139: ConvergenceWarning: Objective did not converge. You might want to increase the number of iterations. Duality gap: 0.008430332512986638, tolerance: 0.004067607550099388\n",
      "  coefs, _, _, _ = cd_fast.enet_coordinate_descent_gram(\n",
      "/Users/as3993/anaconda3/envs/plprob/lib/python3.12/site-packages/sklearn/covariance/_graph_lasso.py:139: ConvergenceWarning: Objective did not converge. You might want to increase the number of iterations. Duality gap: 0.004629626339436754, tolerance: 0.004097069700773473\n",
      "  coefs, _, _, _ = cd_fast.enet_coordinate_descent_gram(\n",
      "/Users/as3993/anaconda3/envs/plprob/lib/python3.12/site-packages/sklearn/covariance/_graph_lasso.py:139: ConvergenceWarning: Objective did not converge. You might want to increase the number of iterations. Duality gap: 0.005527648916689998, tolerance: 0.003847481507502225\n",
      "  coefs, _, _, _ = cd_fast.enet_coordinate_descent_gram(\n",
      "/Users/as3993/anaconda3/envs/plprob/lib/python3.12/site-packages/sklearn/covariance/_graph_lasso.py:139: ConvergenceWarning: Objective did not converge. You might want to increase the number of iterations. Duality gap: 0.004570579677753983, tolerance: 0.003787652809130733\n",
      "  coefs, _, _, _ = cd_fast.enet_coordinate_descent_gram(\n",
      "/Users/as3993/anaconda3/envs/plprob/lib/python3.12/site-packages/sklearn/covariance/_graph_lasso.py:191: ConvergenceWarning: graphical_lasso: did not converge after 100 iteration: dual gap: -5.210e-02\n",
      "  warnings.warn(\n",
      "/Users/as3993/Amit/PLProb/plprob/predictor.py:548: FutureWarning: The default of observed=False is deprecated and will be changed to True in a future version of pandas. Pass observed=False to retain current behavior or observed=True to adopt the future default and silence this warning.\n",
      "  self.cp_prob = dict(cp_count.groupby(cp_count).count()[::-1].cumsum() / len(cp_count))\n"
     ]
    },
    {
     "name": "stdout",
     "output_type": "stream",
     "text": [
      "2023-09-02\n"
     ]
    },
    {
     "name": "stderr",
     "output_type": "stream",
     "text": [
      "/Users/as3993/Amit/PLProb/R/univariate.py:320: RuntimeWarning: invalid value encountered in power\n",
      "  val[upper_tail_x] = 1 - (1 - p_upper) * (1 + (k * (x[upper_tail_x] - b))/a)**(-1/k)\n",
      "/Users/as3993/Amit/PLProb/R/univariate.py:330: RuntimeWarning: invalid value encountered in power\n",
      "  val[lower_tail_x] = p_lower * (1 - (k * (x[lower_tail_x] - b))/a)**(-1/k)\n",
      "/Users/as3993/Amit/PLProb/R/univariate.py:330: RuntimeWarning: invalid value encountered in power\n",
      "  val[lower_tail_x] = p_lower * (1 - (k * (x[lower_tail_x] - b))/a)**(-1/k)\n",
      "/Users/as3993/anaconda3/envs/plprob/lib/python3.12/site-packages/sklearn/covariance/_graph_lasso.py:139: ConvergenceWarning: Objective did not converge. You might want to increase the number of iterations. Duality gap: 0.005567386952009201, tolerance: 0.0038031538790971485\n",
      "  coefs, _, _, _ = cd_fast.enet_coordinate_descent_gram(\n",
      "/Users/as3993/anaconda3/envs/plprob/lib/python3.12/site-packages/sklearn/covariance/_graph_lasso.py:139: ConvergenceWarning: Objective did not converge. You might want to increase the number of iterations. Duality gap: 0.01003673152976603, tolerance: 0.0037857023770084043\n",
      "  coefs, _, _, _ = cd_fast.enet_coordinate_descent_gram(\n",
      "/Users/as3993/anaconda3/envs/plprob/lib/python3.12/site-packages/sklearn/covariance/_graph_lasso.py:139: ConvergenceWarning: Objective did not converge. You might want to increase the number of iterations. Duality gap: 0.0051657802567959266, tolerance: 0.0035372654620698897\n",
      "  coefs, _, _, _ = cd_fast.enet_coordinate_descent_gram(\n",
      "/Users/as3993/anaconda3/envs/plprob/lib/python3.12/site-packages/sklearn/covariance/_graph_lasso.py:139: ConvergenceWarning: Objective did not converge. You might want to increase the number of iterations. Duality gap: 0.01760436409475119, tolerance: 0.003956931815037375\n",
      "  coefs, _, _, _ = cd_fast.enet_coordinate_descent_gram(\n",
      "/Users/as3993/anaconda3/envs/plprob/lib/python3.12/site-packages/sklearn/covariance/_graph_lasso.py:139: ConvergenceWarning: Objective did not converge. You might want to increase the number of iterations. Duality gap: 0.008421370831797503, tolerance: 0.004067552263691971\n",
      "  coefs, _, _, _ = cd_fast.enet_coordinate_descent_gram(\n",
      "/Users/as3993/anaconda3/envs/plprob/lib/python3.12/site-packages/sklearn/covariance/_graph_lasso.py:139: ConvergenceWarning: Objective did not converge. You might want to increase the number of iterations. Duality gap: 0.004619894798430835, tolerance: 0.0040971011352891554\n",
      "  coefs, _, _, _ = cd_fast.enet_coordinate_descent_gram(\n",
      "/Users/as3993/anaconda3/envs/plprob/lib/python3.12/site-packages/sklearn/covariance/_graph_lasso.py:139: ConvergenceWarning: Objective did not converge. You might want to increase the number of iterations. Duality gap: 0.005507863373267696, tolerance: 0.0038478806411229786\n",
      "  coefs, _, _, _ = cd_fast.enet_coordinate_descent_gram(\n",
      "/Users/as3993/anaconda3/envs/plprob/lib/python3.12/site-packages/sklearn/covariance/_graph_lasso.py:139: ConvergenceWarning: Objective did not converge. You might want to increase the number of iterations. Duality gap: 0.004544195482637292, tolerance: 0.0037880172141629203\n",
      "  coefs, _, _, _ = cd_fast.enet_coordinate_descent_gram(\n",
      "/Users/as3993/anaconda3/envs/plprob/lib/python3.12/site-packages/sklearn/covariance/_graph_lasso.py:191: ConvergenceWarning: graphical_lasso: did not converge after 100 iteration: dual gap: -3.912e-02\n",
      "  warnings.warn(\n",
      "/Users/as3993/Amit/PLProb/plprob/predictor.py:548: FutureWarning: The default of observed=False is deprecated and will be changed to True in a future version of pandas. Pass observed=False to retain current behavior or observed=True to adopt the future default and silence this warning.\n",
      "  self.cp_prob = dict(cp_count.groupby(cp_count).count()[::-1].cumsum() / len(cp_count))\n"
     ]
    },
    {
     "name": "stdout",
     "output_type": "stream",
     "text": [
      "2023-09-03\n"
     ]
    },
    {
     "name": "stderr",
     "output_type": "stream",
     "text": [
      "/Users/as3993/Amit/PLProb/R/univariate.py:320: RuntimeWarning: invalid value encountered in power\n",
      "  val[upper_tail_x] = 1 - (1 - p_upper) * (1 + (k * (x[upper_tail_x] - b))/a)**(-1/k)\n",
      "/Users/as3993/Amit/PLProb/R/univariate.py:330: RuntimeWarning: invalid value encountered in power\n",
      "  val[lower_tail_x] = p_lower * (1 - (k * (x[lower_tail_x] - b))/a)**(-1/k)\n",
      "/Users/as3993/Amit/PLProb/R/univariate.py:330: RuntimeWarning: invalid value encountered in power\n",
      "  val[lower_tail_x] = p_lower * (1 - (k * (x[lower_tail_x] - b))/a)**(-1/k)\n",
      "/Users/as3993/anaconda3/envs/plprob/lib/python3.12/site-packages/sklearn/covariance/_graph_lasso.py:139: ConvergenceWarning: Objective did not converge. You might want to increase the number of iterations. Duality gap: 0.005568748964186909, tolerance: 0.00380236122895768\n",
      "  coefs, _, _, _ = cd_fast.enet_coordinate_descent_gram(\n",
      "/Users/as3993/anaconda3/envs/plprob/lib/python3.12/site-packages/sklearn/covariance/_graph_lasso.py:139: ConvergenceWarning: Objective did not converge. You might want to increase the number of iterations. Duality gap: 0.01005047238047041, tolerance: 0.003785077047147645\n",
      "  coefs, _, _, _ = cd_fast.enet_coordinate_descent_gram(\n",
      "/Users/as3993/anaconda3/envs/plprob/lib/python3.12/site-packages/sklearn/covariance/_graph_lasso.py:139: ConvergenceWarning: Objective did not converge. You might want to increase the number of iterations. Duality gap: 0.0051775414909869255, tolerance: 0.003536750172141055\n",
      "  coefs, _, _, _ = cd_fast.enet_coordinate_descent_gram(\n",
      "/Users/as3993/anaconda3/envs/plprob/lib/python3.12/site-packages/sklearn/covariance/_graph_lasso.py:139: ConvergenceWarning: Objective did not converge. You might want to increase the number of iterations. Duality gap: 0.017747438830099327, tolerance: 0.003954331360403848\n",
      "  coefs, _, _, _ = cd_fast.enet_coordinate_descent_gram(\n",
      "/Users/as3993/anaconda3/envs/plprob/lib/python3.12/site-packages/sklearn/covariance/_graph_lasso.py:139: ConvergenceWarning: Objective did not converge. You might want to increase the number of iterations. Duality gap: 0.008372319642333537, tolerance: 0.004065712772587671\n",
      "  coefs, _, _, _ = cd_fast.enet_coordinate_descent_gram(\n",
      "/Users/as3993/anaconda3/envs/plprob/lib/python3.12/site-packages/sklearn/covariance/_graph_lasso.py:139: ConvergenceWarning: Objective did not converge. You might want to increase the number of iterations. Duality gap: 0.004636053539684326, tolerance: 0.004096174130047253\n",
      "  coefs, _, _, _ = cd_fast.enet_coordinate_descent_gram(\n",
      "/Users/as3993/anaconda3/envs/plprob/lib/python3.12/site-packages/sklearn/covariance/_graph_lasso.py:139: ConvergenceWarning: Objective did not converge. You might want to increase the number of iterations. Duality gap: 0.005099322428854691, tolerance: 0.003847395378132648\n",
      "  coefs, _, _, _ = cd_fast.enet_coordinate_descent_gram(\n",
      "/Users/as3993/anaconda3/envs/plprob/lib/python3.12/site-packages/sklearn/covariance/_graph_lasso.py:139: ConvergenceWarning: Objective did not converge. You might want to increase the number of iterations. Duality gap: 0.00453293147531042, tolerance: 0.0037873103113638274\n",
      "  coefs, _, _, _ = cd_fast.enet_coordinate_descent_gram(\n",
      "/Users/as3993/anaconda3/envs/plprob/lib/python3.12/site-packages/sklearn/covariance/_graph_lasso.py:191: ConvergenceWarning: graphical_lasso: did not converge after 100 iteration: dual gap: -3.488e-02\n",
      "  warnings.warn(\n",
      "/Users/as3993/Amit/PLProb/plprob/predictor.py:548: FutureWarning: The default of observed=False is deprecated and will be changed to True in a future version of pandas. Pass observed=False to retain current behavior or observed=True to adopt the future default and silence this warning.\n",
      "  self.cp_prob = dict(cp_count.groupby(cp_count).count()[::-1].cumsum() / len(cp_count))\n"
     ]
    },
    {
     "name": "stdout",
     "output_type": "stream",
     "text": [
      "2023-09-04\n"
     ]
    },
    {
     "name": "stderr",
     "output_type": "stream",
     "text": [
      "/Users/as3993/Amit/PLProb/R/univariate.py:320: RuntimeWarning: invalid value encountered in power\n",
      "  val[upper_tail_x] = 1 - (1 - p_upper) * (1 + (k * (x[upper_tail_x] - b))/a)**(-1/k)\n",
      "/Users/as3993/Amit/PLProb/R/univariate.py:330: RuntimeWarning: invalid value encountered in power\n",
      "  val[lower_tail_x] = p_lower * (1 - (k * (x[lower_tail_x] - b))/a)**(-1/k)\n",
      "/Users/as3993/Amit/PLProb/R/univariate.py:330: RuntimeWarning: invalid value encountered in power\n",
      "  val[lower_tail_x] = p_lower * (1 - (k * (x[lower_tail_x] - b))/a)**(-1/k)\n",
      "/Users/as3993/anaconda3/envs/plprob/lib/python3.12/site-packages/sklearn/covariance/_graph_lasso.py:139: ConvergenceWarning: Objective did not converge. You might want to increase the number of iterations. Duality gap: 0.005551852247435818, tolerance: 0.0037999569904415952\n",
      "  coefs, _, _, _ = cd_fast.enet_coordinate_descent_gram(\n",
      "/Users/as3993/anaconda3/envs/plprob/lib/python3.12/site-packages/sklearn/covariance/_graph_lasso.py:139: ConvergenceWarning: Objective did not converge. You might want to increase the number of iterations. Duality gap: 0.010016893268378624, tolerance: 0.003782892108149995\n",
      "  coefs, _, _, _ = cd_fast.enet_coordinate_descent_gram(\n",
      "/Users/as3993/anaconda3/envs/plprob/lib/python3.12/site-packages/sklearn/covariance/_graph_lasso.py:139: ConvergenceWarning: Objective did not converge. You might want to increase the number of iterations. Duality gap: 0.005176552217214692, tolerance: 0.0035348247952301662\n",
      "  coefs, _, _, _ = cd_fast.enet_coordinate_descent_gram(\n",
      "/Users/as3993/anaconda3/envs/plprob/lib/python3.12/site-packages/sklearn/covariance/_graph_lasso.py:139: ConvergenceWarning: Objective did not converge. You might want to increase the number of iterations. Duality gap: 0.0179744370880357, tolerance: 0.003951723813178107\n",
      "  coefs, _, _, _ = cd_fast.enet_coordinate_descent_gram(\n",
      "/Users/as3993/anaconda3/envs/plprob/lib/python3.12/site-packages/sklearn/covariance/_graph_lasso.py:139: ConvergenceWarning: Objective did not converge. You might want to increase the number of iterations. Duality gap: 0.008419122658260392, tolerance: 0.004064383025897935\n",
      "  coefs, _, _, _ = cd_fast.enet_coordinate_descent_gram(\n",
      "/Users/as3993/anaconda3/envs/plprob/lib/python3.12/site-packages/sklearn/covariance/_graph_lasso.py:139: ConvergenceWarning: Objective did not converge. You might want to increase the number of iterations. Duality gap: 0.004621292856199943, tolerance: 0.0040951100435525495\n",
      "  coefs, _, _, _ = cd_fast.enet_coordinate_descent_gram(\n",
      "/Users/as3993/anaconda3/envs/plprob/lib/python3.12/site-packages/sklearn/covariance/_graph_lasso.py:139: ConvergenceWarning: Objective did not converge. You might want to increase the number of iterations. Duality gap: 0.004998072795302733, tolerance: 0.0038455041099599136\n",
      "  coefs, _, _, _ = cd_fast.enet_coordinate_descent_gram(\n",
      "/Users/as3993/anaconda3/envs/plprob/lib/python3.12/site-packages/sklearn/covariance/_graph_lasso.py:139: ConvergenceWarning: Objective did not converge. You might want to increase the number of iterations. Duality gap: 0.004492521577802222, tolerance: 0.0037850300307343083\n",
      "  coefs, _, _, _ = cd_fast.enet_coordinate_descent_gram(\n",
      "/Users/as3993/anaconda3/envs/plprob/lib/python3.12/site-packages/sklearn/covariance/_graph_lasso.py:191: ConvergenceWarning: graphical_lasso: did not converge after 100 iteration: dual gap: -6.000e-02\n",
      "  warnings.warn(\n",
      "/Users/as3993/Amit/PLProb/plprob/predictor.py:548: FutureWarning: The default of observed=False is deprecated and will be changed to True in a future version of pandas. Pass observed=False to retain current behavior or observed=True to adopt the future default and silence this warning.\n",
      "  self.cp_prob = dict(cp_count.groupby(cp_count).count()[::-1].cumsum() / len(cp_count))\n"
     ]
    },
    {
     "name": "stdout",
     "output_type": "stream",
     "text": [
      "2023-09-05\n"
     ]
    },
    {
     "name": "stderr",
     "output_type": "stream",
     "text": [
      "/Users/as3993/Amit/PLProb/R/univariate.py:320: RuntimeWarning: invalid value encountered in power\n",
      "  val[upper_tail_x] = 1 - (1 - p_upper) * (1 + (k * (x[upper_tail_x] - b))/a)**(-1/k)\n",
      "/Users/as3993/Amit/PLProb/R/univariate.py:330: RuntimeWarning: invalid value encountered in power\n",
      "  val[lower_tail_x] = p_lower * (1 - (k * (x[lower_tail_x] - b))/a)**(-1/k)\n",
      "/Users/as3993/Amit/PLProb/R/univariate.py:330: RuntimeWarning: invalid value encountered in power\n",
      "  val[lower_tail_x] = p_lower * (1 - (k * (x[lower_tail_x] - b))/a)**(-1/k)\n",
      "/Users/as3993/anaconda3/envs/plprob/lib/python3.12/site-packages/sklearn/covariance/_graph_lasso.py:139: ConvergenceWarning: Objective did not converge. You might want to increase the number of iterations. Duality gap: 0.005564140292619868, tolerance: 0.0037986428946867813\n",
      "  coefs, _, _, _ = cd_fast.enet_coordinate_descent_gram(\n",
      "/Users/as3993/anaconda3/envs/plprob/lib/python3.12/site-packages/sklearn/covariance/_graph_lasso.py:139: ConvergenceWarning: Objective did not converge. You might want to increase the number of iterations. Duality gap: 0.01000356166830585, tolerance: 0.003781593890713871\n",
      "  coefs, _, _, _ = cd_fast.enet_coordinate_descent_gram(\n",
      "/Users/as3993/anaconda3/envs/plprob/lib/python3.12/site-packages/sklearn/covariance/_graph_lasso.py:139: ConvergenceWarning: Objective did not converge. You might want to increase the number of iterations. Duality gap: 0.005199477645291495, tolerance: 0.0035340155720338575\n",
      "  coefs, _, _, _ = cd_fast.enet_coordinate_descent_gram(\n",
      "/Users/as3993/anaconda3/envs/plprob/lib/python3.12/site-packages/sklearn/covariance/_graph_lasso.py:139: ConvergenceWarning: Objective did not converge. You might want to increase the number of iterations. Duality gap: 0.01808874339495503, tolerance: 0.003950319775184264\n",
      "  coefs, _, _, _ = cd_fast.enet_coordinate_descent_gram(\n",
      "/Users/as3993/anaconda3/envs/plprob/lib/python3.12/site-packages/sklearn/covariance/_graph_lasso.py:139: ConvergenceWarning: Objective did not converge. You might want to increase the number of iterations. Duality gap: 0.008448801746801848, tolerance: 0.004063422647920643\n",
      "  coefs, _, _, _ = cd_fast.enet_coordinate_descent_gram(\n",
      "/Users/as3993/anaconda3/envs/plprob/lib/python3.12/site-packages/sklearn/covariance/_graph_lasso.py:139: ConvergenceWarning: Objective did not converge. You might want to increase the number of iterations. Duality gap: 0.004640376943441993, tolerance: 0.004094525417061096\n",
      "  coefs, _, _, _ = cd_fast.enet_coordinate_descent_gram(\n",
      "/Users/as3993/anaconda3/envs/plprob/lib/python3.12/site-packages/sklearn/covariance/_graph_lasso.py:139: ConvergenceWarning: Objective did not converge. You might want to increase the number of iterations. Duality gap: 0.004952763654927139, tolerance: 0.003844638632951116\n",
      "  coefs, _, _, _ = cd_fast.enet_coordinate_descent_gram(\n",
      "/Users/as3993/anaconda3/envs/plprob/lib/python3.12/site-packages/sklearn/covariance/_graph_lasso.py:139: ConvergenceWarning: Objective did not converge. You might want to increase the number of iterations. Duality gap: 0.004495031528776394, tolerance: 0.003784351112201091\n",
      "  coefs, _, _, _ = cd_fast.enet_coordinate_descent_gram(\n",
      "/Users/as3993/anaconda3/envs/plprob/lib/python3.12/site-packages/sklearn/covariance/_graph_lasso.py:191: ConvergenceWarning: graphical_lasso: did not converge after 100 iteration: dual gap: -6.516e-02\n",
      "  warnings.warn(\n",
      "/Users/as3993/Amit/PLProb/R/univariate.py:320: RuntimeWarning: invalid value encountered in power\n",
      "  val[upper_tail_x] = 1 - (1 - p_upper) * (1 + (k * (x[upper_tail_x] - b))/a)**(-1/k)\n",
      "/Users/as3993/Amit/PLProb/plprob/predictor.py:548: FutureWarning: The default of observed=False is deprecated and will be changed to True in a future version of pandas. Pass observed=False to retain current behavior or observed=True to adopt the future default and silence this warning.\n",
      "  self.cp_prob = dict(cp_count.groupby(cp_count).count()[::-1].cumsum() / len(cp_count))\n"
     ]
    },
    {
     "name": "stdout",
     "output_type": "stream",
     "text": [
      "2023-09-06\n"
     ]
    },
    {
     "name": "stderr",
     "output_type": "stream",
     "text": [
      "/Users/as3993/Amit/PLProb/R/univariate.py:320: RuntimeWarning: invalid value encountered in power\n",
      "  val[upper_tail_x] = 1 - (1 - p_upper) * (1 + (k * (x[upper_tail_x] - b))/a)**(-1/k)\n",
      "/Users/as3993/Amit/PLProb/R/univariate.py:330: RuntimeWarning: invalid value encountered in power\n",
      "  val[lower_tail_x] = p_lower * (1 - (k * (x[lower_tail_x] - b))/a)**(-1/k)\n",
      "/Users/as3993/Amit/PLProb/R/univariate.py:330: RuntimeWarning: invalid value encountered in power\n",
      "  val[lower_tail_x] = p_lower * (1 - (k * (x[lower_tail_x] - b))/a)**(-1/k)\n",
      "/Users/as3993/anaconda3/envs/plprob/lib/python3.12/site-packages/sklearn/covariance/_graph_lasso.py:139: ConvergenceWarning: Objective did not converge. You might want to increase the number of iterations. Duality gap: 0.0056137615735067925, tolerance: 0.0037992648235665723\n",
      "  coefs, _, _, _ = cd_fast.enet_coordinate_descent_gram(\n",
      "/Users/as3993/anaconda3/envs/plprob/lib/python3.12/site-packages/sklearn/covariance/_graph_lasso.py:139: ConvergenceWarning: Objective did not converge. You might want to increase the number of iterations. Duality gap: 0.010076772453672334, tolerance: 0.003782354770466723\n",
      "  coefs, _, _, _ = cd_fast.enet_coordinate_descent_gram(\n",
      "/Users/as3993/anaconda3/envs/plprob/lib/python3.12/site-packages/sklearn/covariance/_graph_lasso.py:139: ConvergenceWarning: Objective did not converge. You might want to increase the number of iterations. Duality gap: 0.005226359047931339, tolerance: 0.0035351712493730918\n",
      "  coefs, _, _, _ = cd_fast.enet_coordinate_descent_gram(\n",
      "/Users/as3993/anaconda3/envs/plprob/lib/python3.12/site-packages/sklearn/covariance/_graph_lasso.py:139: ConvergenceWarning: Objective did not converge. You might want to increase the number of iterations. Duality gap: 0.01796975239534504, tolerance: 0.00395105952858199\n",
      "  coefs, _, _, _ = cd_fast.enet_coordinate_descent_gram(\n",
      "/Users/as3993/anaconda3/envs/plprob/lib/python3.12/site-packages/sklearn/covariance/_graph_lasso.py:139: ConvergenceWarning: Objective did not converge. You might want to increase the number of iterations. Duality gap: 0.008423543415787549, tolerance: 0.004064005936132077\n",
      "  coefs, _, _, _ = cd_fast.enet_coordinate_descent_gram(\n",
      "/Users/as3993/anaconda3/envs/plprob/lib/python3.12/site-packages/sklearn/covariance/_graph_lasso.py:139: ConvergenceWarning: Objective did not converge. You might want to increase the number of iterations. Duality gap: 0.004638052182755814, tolerance: 0.004095422105771481\n",
      "  coefs, _, _, _ = cd_fast.enet_coordinate_descent_gram(\n",
      "/Users/as3993/anaconda3/envs/plprob/lib/python3.12/site-packages/sklearn/covariance/_graph_lasso.py:139: ConvergenceWarning: Objective did not converge. You might want to increase the number of iterations. Duality gap: 0.00490439925140862, tolerance: 0.0038453254487369145\n",
      "  coefs, _, _, _ = cd_fast.enet_coordinate_descent_gram(\n",
      "/Users/as3993/anaconda3/envs/plprob/lib/python3.12/site-packages/sklearn/covariance/_graph_lasso.py:139: ConvergenceWarning: Objective did not converge. You might want to increase the number of iterations. Duality gap: 0.004467228277164281, tolerance: 0.0037849395597642373\n",
      "  coefs, _, _, _ = cd_fast.enet_coordinate_descent_gram(\n",
      "/Users/as3993/anaconda3/envs/plprob/lib/python3.12/site-packages/sklearn/covariance/_graph_lasso.py:191: ConvergenceWarning: graphical_lasso: did not converge after 100 iteration: dual gap: -4.469e-02\n",
      "  warnings.warn(\n",
      "/Users/as3993/Amit/PLProb/R/univariate.py:320: RuntimeWarning: invalid value encountered in power\n",
      "  val[upper_tail_x] = 1 - (1 - p_upper) * (1 + (k * (x[upper_tail_x] - b))/a)**(-1/k)\n",
      "/Users/as3993/Amit/PLProb/plprob/predictor.py:548: FutureWarning: The default of observed=False is deprecated and will be changed to True in a future version of pandas. Pass observed=False to retain current behavior or observed=True to adopt the future default and silence this warning.\n",
      "  self.cp_prob = dict(cp_count.groupby(cp_count).count()[::-1].cumsum() / len(cp_count))\n"
     ]
    },
    {
     "name": "stdout",
     "output_type": "stream",
     "text": [
      "2023-09-07\n"
     ]
    },
    {
     "name": "stderr",
     "output_type": "stream",
     "text": [
      "/Users/as3993/Amit/PLProb/R/univariate.py:320: RuntimeWarning: invalid value encountered in power\n",
      "  val[upper_tail_x] = 1 - (1 - p_upper) * (1 + (k * (x[upper_tail_x] - b))/a)**(-1/k)\n",
      "/Users/as3993/Amit/PLProb/R/univariate.py:330: RuntimeWarning: invalid value encountered in power\n",
      "  val[lower_tail_x] = p_lower * (1 - (k * (x[lower_tail_x] - b))/a)**(-1/k)\n",
      "/Users/as3993/Amit/PLProb/R/univariate.py:330: RuntimeWarning: invalid value encountered in power\n",
      "  val[lower_tail_x] = p_lower * (1 - (k * (x[lower_tail_x] - b))/a)**(-1/k)\n",
      "/Users/as3993/anaconda3/envs/plprob/lib/python3.12/site-packages/sklearn/covariance/_graph_lasso.py:139: ConvergenceWarning: Objective did not converge. You might want to increase the number of iterations. Duality gap: 0.007226576489067327, tolerance: 0.0038069242226836802\n",
      "  coefs, _, _, _ = cd_fast.enet_coordinate_descent_gram(\n",
      "/Users/as3993/anaconda3/envs/plprob/lib/python3.12/site-packages/sklearn/covariance/_graph_lasso.py:139: ConvergenceWarning: Objective did not converge. You might want to increase the number of iterations. Duality gap: 0.013813967923702819, tolerance: 0.003789788716561909\n",
      "  coefs, _, _, _ = cd_fast.enet_coordinate_descent_gram(\n",
      "/Users/as3993/anaconda3/envs/plprob/lib/python3.12/site-packages/sklearn/covariance/_graph_lasso.py:139: ConvergenceWarning: Objective did not converge. You might want to increase the number of iterations. Duality gap: 0.009065725721555395, tolerance: 0.003774029385194632\n",
      "  coefs, _, _, _ = cd_fast.enet_coordinate_descent_gram(\n",
      "/Users/as3993/anaconda3/envs/plprob/lib/python3.12/site-packages/sklearn/covariance/_graph_lasso.py:139: ConvergenceWarning: Objective did not converge. You might want to increase the number of iterations. Duality gap: 0.017693887822311183, tolerance: 0.003958365923823022\n",
      "  coefs, _, _, _ = cd_fast.enet_coordinate_descent_gram(\n",
      "/Users/as3993/anaconda3/envs/plprob/lib/python3.12/site-packages/sklearn/covariance/_graph_lasso.py:139: ConvergenceWarning: Objective did not converge. You might want to increase the number of iterations. Duality gap: 0.008230097663933122, tolerance: 0.004070841007901233\n",
      "  coefs, _, _, _ = cd_fast.enet_coordinate_descent_gram(\n",
      "/Users/as3993/anaconda3/envs/plprob/lib/python3.12/site-packages/sklearn/covariance/_graph_lasso.py:139: ConvergenceWarning: Objective did not converge. You might want to increase the number of iterations. Duality gap: 0.004605495572683083, tolerance: 0.004102022655720786\n",
      "  coefs, _, _, _ = cd_fast.enet_coordinate_descent_gram(\n",
      "/Users/as3993/anaconda3/envs/plprob/lib/python3.12/site-packages/sklearn/covariance/_graph_lasso.py:139: ConvergenceWarning: Objective did not converge. You might want to increase the number of iterations. Duality gap: 0.004924268862644965, tolerance: 0.0038571802653504556\n",
      "  coefs, _, _, _ = cd_fast.enet_coordinate_descent_gram(\n",
      "/Users/as3993/anaconda3/envs/plprob/lib/python3.12/site-packages/sklearn/covariance/_graph_lasso.py:139: ConvergenceWarning: Objective did not converge. You might want to increase the number of iterations. Duality gap: 0.005199475619825478, tolerance: 0.0037926343971571514\n",
      "  coefs, _, _, _ = cd_fast.enet_coordinate_descent_gram(\n",
      "/Users/as3993/anaconda3/envs/plprob/lib/python3.12/site-packages/sklearn/covariance/_graph_lasso.py:191: ConvergenceWarning: graphical_lasso: did not converge after 100 iteration: dual gap: 1.320e-01\n",
      "  warnings.warn(\n",
      "/Users/as3993/Amit/PLProb/R/univariate.py:320: RuntimeWarning: invalid value encountered in power\n",
      "  val[upper_tail_x] = 1 - (1 - p_upper) * (1 + (k * (x[upper_tail_x] - b))/a)**(-1/k)\n",
      "/Users/as3993/Amit/PLProb/plprob/predictor.py:548: FutureWarning: The default of observed=False is deprecated and will be changed to True in a future version of pandas. Pass observed=False to retain current behavior or observed=True to adopt the future default and silence this warning.\n",
      "  self.cp_prob = dict(cp_count.groupby(cp_count).count()[::-1].cumsum() / len(cp_count))\n"
     ]
    },
    {
     "name": "stdout",
     "output_type": "stream",
     "text": [
      "2023-09-08\n"
     ]
    },
    {
     "name": "stderr",
     "output_type": "stream",
     "text": [
      "/Users/as3993/Amit/PLProb/R/univariate.py:320: RuntimeWarning: invalid value encountered in power\n",
      "  val[upper_tail_x] = 1 - (1 - p_upper) * (1 + (k * (x[upper_tail_x] - b))/a)**(-1/k)\n",
      "/Users/as3993/Amit/PLProb/R/univariate.py:330: RuntimeWarning: invalid value encountered in power\n",
      "  val[lower_tail_x] = p_lower * (1 - (k * (x[lower_tail_x] - b))/a)**(-1/k)\n",
      "/Users/as3993/Amit/PLProb/R/univariate.py:330: RuntimeWarning: invalid value encountered in power\n",
      "  val[lower_tail_x] = p_lower * (1 - (k * (x[lower_tail_x] - b))/a)**(-1/k)\n",
      "/Users/as3993/anaconda3/envs/plprob/lib/python3.12/site-packages/sklearn/covariance/_graph_lasso.py:139: ConvergenceWarning: Objective did not converge. You might want to increase the number of iterations. Duality gap: 0.007002096314010942, tolerance: 0.0038080832611602383\n",
      "  coefs, _, _, _ = cd_fast.enet_coordinate_descent_gram(\n",
      "/Users/as3993/anaconda3/envs/plprob/lib/python3.12/site-packages/sklearn/covariance/_graph_lasso.py:139: ConvergenceWarning: Objective did not converge. You might want to increase the number of iterations. Duality gap: 0.01371443359600022, tolerance: 0.003790629547451667\n",
      "  coefs, _, _, _ = cd_fast.enet_coordinate_descent_gram(\n",
      "/Users/as3993/anaconda3/envs/plprob/lib/python3.12/site-packages/sklearn/covariance/_graph_lasso.py:139: ConvergenceWarning: Objective did not converge. You might want to increase the number of iterations. Duality gap: 0.008918339776919026, tolerance: 0.0037746470491286516\n",
      "  coefs, _, _, _ = cd_fast.enet_coordinate_descent_gram(\n",
      "/Users/as3993/anaconda3/envs/plprob/lib/python3.12/site-packages/sklearn/covariance/_graph_lasso.py:139: ConvergenceWarning: Objective did not converge. You might want to increase the number of iterations. Duality gap: 0.017600096688092037, tolerance: 0.003959049941713748\n",
      "  coefs, _, _, _ = cd_fast.enet_coordinate_descent_gram(\n",
      "/Users/as3993/anaconda3/envs/plprob/lib/python3.12/site-packages/sklearn/covariance/_graph_lasso.py:139: ConvergenceWarning: Objective did not converge. You might want to increase the number of iterations. Duality gap: 0.008228691814629485, tolerance: 0.004071105810418481\n",
      "  coefs, _, _, _ = cd_fast.enet_coordinate_descent_gram(\n",
      "/Users/as3993/anaconda3/envs/plprob/lib/python3.12/site-packages/sklearn/covariance/_graph_lasso.py:139: ConvergenceWarning: Objective did not converge. You might want to increase the number of iterations. Duality gap: 0.004554391190289664, tolerance: 0.004102275065753347\n",
      "  coefs, _, _, _ = cd_fast.enet_coordinate_descent_gram(\n",
      "/Users/as3993/anaconda3/envs/plprob/lib/python3.12/site-packages/sklearn/covariance/_graph_lasso.py:139: ConvergenceWarning: Objective did not converge. You might want to increase the number of iterations. Duality gap: 0.004979644905226621, tolerance: 0.003858093359921028\n",
      "  coefs, _, _, _ = cd_fast.enet_coordinate_descent_gram(\n",
      "/Users/as3993/anaconda3/envs/plprob/lib/python3.12/site-packages/sklearn/covariance/_graph_lasso.py:139: ConvergenceWarning: Objective did not converge. You might want to increase the number of iterations. Duality gap: 0.00537336489806961, tolerance: 0.0037935460627592393\n",
      "  coefs, _, _, _ = cd_fast.enet_coordinate_descent_gram(\n",
      "/Users/as3993/anaconda3/envs/plprob/lib/python3.12/site-packages/sklearn/covariance/_graph_lasso.py:191: ConvergenceWarning: graphical_lasso: did not converge after 100 iteration: dual gap: 1.620e-02\n",
      "  warnings.warn(\n",
      "/Users/as3993/Amit/PLProb/plprob/predictor.py:548: FutureWarning: The default of observed=False is deprecated and will be changed to True in a future version of pandas. Pass observed=False to retain current behavior or observed=True to adopt the future default and silence this warning.\n",
      "  self.cp_prob = dict(cp_count.groupby(cp_count).count()[::-1].cumsum() / len(cp_count))\n"
     ]
    },
    {
     "name": "stdout",
     "output_type": "stream",
     "text": [
      "2023-09-09\n"
     ]
    },
    {
     "name": "stderr",
     "output_type": "stream",
     "text": [
      "/Users/as3993/Amit/PLProb/R/univariate.py:320: RuntimeWarning: invalid value encountered in power\n",
      "  val[upper_tail_x] = 1 - (1 - p_upper) * (1 + (k * (x[upper_tail_x] - b))/a)**(-1/k)\n",
      "/Users/as3993/Amit/PLProb/R/univariate.py:330: RuntimeWarning: invalid value encountered in power\n",
      "  val[lower_tail_x] = p_lower * (1 - (k * (x[lower_tail_x] - b))/a)**(-1/k)\n",
      "/Users/as3993/Amit/PLProb/R/univariate.py:330: RuntimeWarning: invalid value encountered in power\n",
      "  val[lower_tail_x] = p_lower * (1 - (k * (x[lower_tail_x] - b))/a)**(-1/k)\n",
      "/Users/as3993/anaconda3/envs/plprob/lib/python3.12/site-packages/sklearn/covariance/_graph_lasso.py:139: ConvergenceWarning: Objective did not converge. You might want to increase the number of iterations. Duality gap: 0.006918781437477151, tolerance: 0.003806460056677034\n",
      "  coefs, _, _, _ = cd_fast.enet_coordinate_descent_gram(\n",
      "/Users/as3993/anaconda3/envs/plprob/lib/python3.12/site-packages/sklearn/covariance/_graph_lasso.py:139: ConvergenceWarning: Objective did not converge. You might want to increase the number of iterations. Duality gap: 0.013546541398461898, tolerance: 0.003788763383085536\n",
      "  coefs, _, _, _ = cd_fast.enet_coordinate_descent_gram(\n",
      "/Users/as3993/anaconda3/envs/plprob/lib/python3.12/site-packages/sklearn/covariance/_graph_lasso.py:139: ConvergenceWarning: Objective did not converge. You might want to increase the number of iterations. Duality gap: 0.008836384998090807, tolerance: 0.0037729008824379687\n",
      "  coefs, _, _, _ = cd_fast.enet_coordinate_descent_gram(\n",
      "/Users/as3993/anaconda3/envs/plprob/lib/python3.12/site-packages/sklearn/covariance/_graph_lasso.py:139: ConvergenceWarning: Objective did not converge. You might want to increase the number of iterations. Duality gap: 0.01721851837424282, tolerance: 0.003959108024848073\n",
      "  coefs, _, _, _ = cd_fast.enet_coordinate_descent_gram(\n",
      "/Users/as3993/anaconda3/envs/plprob/lib/python3.12/site-packages/sklearn/covariance/_graph_lasso.py:139: ConvergenceWarning: Objective did not converge. You might want to increase the number of iterations. Duality gap: 0.00823932489738155, tolerance: 0.004071081963327351\n",
      "  coefs, _, _, _ = cd_fast.enet_coordinate_descent_gram(\n",
      "/Users/as3993/anaconda3/envs/plprob/lib/python3.12/site-packages/sklearn/covariance/_graph_lasso.py:139: ConvergenceWarning: Objective did not converge. You might want to increase the number of iterations. Duality gap: 0.004677700469883916, tolerance: 0.004102279487728986\n",
      "  coefs, _, _, _ = cd_fast.enet_coordinate_descent_gram(\n",
      "/Users/as3993/anaconda3/envs/plprob/lib/python3.12/site-packages/sklearn/covariance/_graph_lasso.py:139: ConvergenceWarning: Objective did not converge. You might want to increase the number of iterations. Duality gap: 0.004674737086567404, tolerance: 0.003858424504256458\n",
      "  coefs, _, _, _ = cd_fast.enet_coordinate_descent_gram(\n",
      "/Users/as3993/anaconda3/envs/plprob/lib/python3.12/site-packages/sklearn/covariance/_graph_lasso.py:139: ConvergenceWarning: Objective did not converge. You might want to increase the number of iterations. Duality gap: 0.005278086020673811, tolerance: 0.003793818574369244\n",
      "  coefs, _, _, _ = cd_fast.enet_coordinate_descent_gram(\n",
      "/Users/as3993/anaconda3/envs/plprob/lib/python3.12/site-packages/sklearn/covariance/_graph_lasso.py:191: ConvergenceWarning: graphical_lasso: did not converge after 100 iteration: dual gap: 7.725e-02\n",
      "  warnings.warn(\n",
      "/Users/as3993/Amit/PLProb/plprob/predictor.py:548: FutureWarning: The default of observed=False is deprecated and will be changed to True in a future version of pandas. Pass observed=False to retain current behavior or observed=True to adopt the future default and silence this warning.\n",
      "  self.cp_prob = dict(cp_count.groupby(cp_count).count()[::-1].cumsum() / len(cp_count))\n"
     ]
    },
    {
     "name": "stdout",
     "output_type": "stream",
     "text": [
      "2023-09-10\n"
     ]
    },
    {
     "name": "stderr",
     "output_type": "stream",
     "text": [
      "/Users/as3993/Amit/PLProb/R/univariate.py:320: RuntimeWarning: invalid value encountered in power\n",
      "  val[upper_tail_x] = 1 - (1 - p_upper) * (1 + (k * (x[upper_tail_x] - b))/a)**(-1/k)\n",
      "/Users/as3993/Amit/PLProb/R/univariate.py:330: RuntimeWarning: invalid value encountered in power\n",
      "  val[lower_tail_x] = p_lower * (1 - (k * (x[lower_tail_x] - b))/a)**(-1/k)\n",
      "/Users/as3993/Amit/PLProb/R/univariate.py:330: RuntimeWarning: invalid value encountered in power\n",
      "  val[lower_tail_x] = p_lower * (1 - (k * (x[lower_tail_x] - b))/a)**(-1/k)\n",
      "/Users/as3993/anaconda3/envs/plprob/lib/python3.12/site-packages/sklearn/covariance/_graph_lasso.py:139: ConvergenceWarning: Objective did not converge. You might want to increase the number of iterations. Duality gap: 0.0069255295054375665, tolerance: 0.0038058693631280033\n",
      "  coefs, _, _, _ = cd_fast.enet_coordinate_descent_gram(\n",
      "/Users/as3993/anaconda3/envs/plprob/lib/python3.12/site-packages/sklearn/covariance/_graph_lasso.py:139: ConvergenceWarning: Objective did not converge. You might want to increase the number of iterations. Duality gap: 0.013513163063052502, tolerance: 0.003788258195764709\n",
      "  coefs, _, _, _ = cd_fast.enet_coordinate_descent_gram(\n",
      "/Users/as3993/anaconda3/envs/plprob/lib/python3.12/site-packages/sklearn/covariance/_graph_lasso.py:139: ConvergenceWarning: Objective did not converge. You might want to increase the number of iterations. Duality gap: 0.008764732377230189, tolerance: 0.0037725498728281076\n",
      "  coefs, _, _, _ = cd_fast.enet_coordinate_descent_gram(\n",
      "/Users/as3993/anaconda3/envs/plprob/lib/python3.12/site-packages/sklearn/covariance/_graph_lasso.py:139: ConvergenceWarning: Objective did not converge. You might want to increase the number of iterations. Duality gap: 0.017113974147257238, tolerance: 0.003958962814526284\n",
      "  coefs, _, _, _ = cd_fast.enet_coordinate_descent_gram(\n",
      "/Users/as3993/anaconda3/envs/plprob/lib/python3.12/site-packages/sklearn/covariance/_graph_lasso.py:139: ConvergenceWarning: Objective did not converge. You might want to increase the number of iterations. Duality gap: 0.008302213125951141, tolerance: 0.004070923599034426\n",
      "  coefs, _, _, _ = cd_fast.enet_coordinate_descent_gram(\n",
      "/Users/as3993/anaconda3/envs/plprob/lib/python3.12/site-packages/sklearn/covariance/_graph_lasso.py:139: ConvergenceWarning: Objective did not converge. You might want to increase the number of iterations. Duality gap: 0.004715165792831044, tolerance: 0.004102091651255212\n",
      "  coefs, _, _, _ = cd_fast.enet_coordinate_descent_gram(\n",
      "/Users/as3993/anaconda3/envs/plprob/lib/python3.12/site-packages/sklearn/covariance/_graph_lasso.py:139: ConvergenceWarning: Objective did not converge. You might want to increase the number of iterations. Duality gap: 0.00470622603666726, tolerance: 0.003858278777776677\n",
      "  coefs, _, _, _ = cd_fast.enet_coordinate_descent_gram(\n",
      "/Users/as3993/anaconda3/envs/plprob/lib/python3.12/site-packages/sklearn/covariance/_graph_lasso.py:139: ConvergenceWarning: Objective did not converge. You might want to increase the number of iterations. Duality gap: 0.005288281777772852, tolerance: 0.0037935605130263186\n",
      "  coefs, _, _, _ = cd_fast.enet_coordinate_descent_gram(\n",
      "/Users/as3993/anaconda3/envs/plprob/lib/python3.12/site-packages/sklearn/covariance/_graph_lasso.py:191: ConvergenceWarning: graphical_lasso: did not converge after 100 iteration: dual gap: 7.526e-02\n",
      "  warnings.warn(\n",
      "/Users/as3993/Amit/PLProb/plprob/predictor.py:548: FutureWarning: The default of observed=False is deprecated and will be changed to True in a future version of pandas. Pass observed=False to retain current behavior or observed=True to adopt the future default and silence this warning.\n",
      "  self.cp_prob = dict(cp_count.groupby(cp_count).count()[::-1].cumsum() / len(cp_count))\n"
     ]
    },
    {
     "name": "stdout",
     "output_type": "stream",
     "text": [
      "2023-09-11\n"
     ]
    },
    {
     "name": "stderr",
     "output_type": "stream",
     "text": [
      "/Users/as3993/Amit/PLProb/R/univariate.py:320: RuntimeWarning: invalid value encountered in power\n",
      "  val[upper_tail_x] = 1 - (1 - p_upper) * (1 + (k * (x[upper_tail_x] - b))/a)**(-1/k)\n",
      "/Users/as3993/Amit/PLProb/R/univariate.py:330: RuntimeWarning: invalid value encountered in power\n",
      "  val[lower_tail_x] = p_lower * (1 - (k * (x[lower_tail_x] - b))/a)**(-1/k)\n",
      "/Users/as3993/Amit/PLProb/R/univariate.py:330: RuntimeWarning: invalid value encountered in power\n",
      "  val[lower_tail_x] = p_lower * (1 - (k * (x[lower_tail_x] - b))/a)**(-1/k)\n",
      "/Users/as3993/anaconda3/envs/plprob/lib/python3.12/site-packages/sklearn/covariance/_graph_lasso.py:139: ConvergenceWarning: Objective did not converge. You might want to increase the number of iterations. Duality gap: 0.006935286913773098, tolerance: 0.0038059888676069452\n",
      "  coefs, _, _, _ = cd_fast.enet_coordinate_descent_gram(\n",
      "/Users/as3993/anaconda3/envs/plprob/lib/python3.12/site-packages/sklearn/covariance/_graph_lasso.py:139: ConvergenceWarning: Objective did not converge. You might want to increase the number of iterations. Duality gap: 0.013542136813683214, tolerance: 0.003788380006778482\n",
      "  coefs, _, _, _ = cd_fast.enet_coordinate_descent_gram(\n",
      "/Users/as3993/anaconda3/envs/plprob/lib/python3.12/site-packages/sklearn/covariance/_graph_lasso.py:139: ConvergenceWarning: Objective did not converge. You might want to increase the number of iterations. Duality gap: 0.008774895757682089, tolerance: 0.0037725544243359544\n",
      "  coefs, _, _, _ = cd_fast.enet_coordinate_descent_gram(\n",
      "/Users/as3993/anaconda3/envs/plprob/lib/python3.12/site-packages/sklearn/covariance/_graph_lasso.py:139: ConvergenceWarning: Objective did not converge. You might want to increase the number of iterations. Duality gap: 0.017235257405197046, tolerance: 0.003958857593529104\n",
      "  coefs, _, _, _ = cd_fast.enet_coordinate_descent_gram(\n",
      "/Users/as3993/anaconda3/envs/plprob/lib/python3.12/site-packages/sklearn/covariance/_graph_lasso.py:139: ConvergenceWarning: Objective did not converge. You might want to increase the number of iterations. Duality gap: 0.008299411342377994, tolerance: 0.004070856072093078\n",
      "  coefs, _, _, _ = cd_fast.enet_coordinate_descent_gram(\n",
      "/Users/as3993/anaconda3/envs/plprob/lib/python3.12/site-packages/sklearn/covariance/_graph_lasso.py:139: ConvergenceWarning: Objective did not converge. You might want to increase the number of iterations. Duality gap: 0.004719644401113499, tolerance: 0.004101981980435877\n",
      "  coefs, _, _, _ = cd_fast.enet_coordinate_descent_gram(\n",
      "/Users/as3993/anaconda3/envs/plprob/lib/python3.12/site-packages/sklearn/covariance/_graph_lasso.py:139: ConvergenceWarning: Objective did not converge. You might want to increase the number of iterations. Duality gap: 0.004714488142063544, tolerance: 0.003858450004073485\n",
      "  coefs, _, _, _ = cd_fast.enet_coordinate_descent_gram(\n",
      "/Users/as3993/anaconda3/envs/plprob/lib/python3.12/site-packages/sklearn/covariance/_graph_lasso.py:139: ConvergenceWarning: Objective did not converge. You might want to increase the number of iterations. Duality gap: 0.005285745764226135, tolerance: 0.003793820530368349\n",
      "  coefs, _, _, _ = cd_fast.enet_coordinate_descent_gram(\n",
      "/Users/as3993/Amit/PLProb/plprob/predictor.py:548: FutureWarning: The default of observed=False is deprecated and will be changed to True in a future version of pandas. Pass observed=False to retain current behavior or observed=True to adopt the future default and silence this warning.\n",
      "  self.cp_prob = dict(cp_count.groupby(cp_count).count()[::-1].cumsum() / len(cp_count))\n"
     ]
    },
    {
     "name": "stdout",
     "output_type": "stream",
     "text": [
      "2023-09-12\n"
     ]
    },
    {
     "name": "stderr",
     "output_type": "stream",
     "text": [
      "/Users/as3993/Amit/PLProb/R/univariate.py:320: RuntimeWarning: invalid value encountered in power\n",
      "  val[upper_tail_x] = 1 - (1 - p_upper) * (1 + (k * (x[upper_tail_x] - b))/a)**(-1/k)\n",
      "/Users/as3993/Amit/PLProb/R/univariate.py:330: RuntimeWarning: invalid value encountered in power\n",
      "  val[lower_tail_x] = p_lower * (1 - (k * (x[lower_tail_x] - b))/a)**(-1/k)\n",
      "/Users/as3993/Amit/PLProb/R/univariate.py:330: RuntimeWarning: invalid value encountered in power\n",
      "  val[lower_tail_x] = p_lower * (1 - (k * (x[lower_tail_x] - b))/a)**(-1/k)\n",
      "/Users/as3993/anaconda3/envs/plprob/lib/python3.12/site-packages/sklearn/covariance/_graph_lasso.py:139: ConvergenceWarning: Objective did not converge. You might want to increase the number of iterations. Duality gap: 0.006914706485950717, tolerance: 0.0038059374820296928\n",
      "  coefs, _, _, _ = cd_fast.enet_coordinate_descent_gram(\n",
      "/Users/as3993/anaconda3/envs/plprob/lib/python3.12/site-packages/sklearn/covariance/_graph_lasso.py:139: ConvergenceWarning: Objective did not converge. You might want to increase the number of iterations. Duality gap: 0.013539167609877722, tolerance: 0.00378836426491328\n",
      "  coefs, _, _, _ = cd_fast.enet_coordinate_descent_gram(\n",
      "/Users/as3993/anaconda3/envs/plprob/lib/python3.12/site-packages/sklearn/covariance/_graph_lasso.py:139: ConvergenceWarning: Objective did not converge. You might want to increase the number of iterations. Duality gap: 0.008772529839873755, tolerance: 0.0037725523963606372\n",
      "  coefs, _, _, _ = cd_fast.enet_coordinate_descent_gram(\n",
      "/Users/as3993/anaconda3/envs/plprob/lib/python3.12/site-packages/sklearn/covariance/_graph_lasso.py:139: ConvergenceWarning: Objective did not converge. You might want to increase the number of iterations. Duality gap: 0.017234809463751333, tolerance: 0.0039589389532308505\n",
      "  coefs, _, _, _ = cd_fast.enet_coordinate_descent_gram(\n",
      "/Users/as3993/anaconda3/envs/plprob/lib/python3.12/site-packages/sklearn/covariance/_graph_lasso.py:139: ConvergenceWarning: Objective did not converge. You might want to increase the number of iterations. Duality gap: 0.008330628799640749, tolerance: 0.004070890122737551\n",
      "  coefs, _, _, _ = cd_fast.enet_coordinate_descent_gram(\n",
      "/Users/as3993/anaconda3/envs/plprob/lib/python3.12/site-packages/sklearn/covariance/_graph_lasso.py:139: ConvergenceWarning: Objective did not converge. You might want to increase the number of iterations. Duality gap: 0.004711300497923787, tolerance: 0.00410198641436717\n",
      "  coefs, _, _, _ = cd_fast.enet_coordinate_descent_gram(\n",
      "/Users/as3993/anaconda3/envs/plprob/lib/python3.12/site-packages/sklearn/covariance/_graph_lasso.py:139: ConvergenceWarning: Objective did not converge. You might want to increase the number of iterations. Duality gap: 0.004760576706111408, tolerance: 0.0038585895042122604\n",
      "  coefs, _, _, _ = cd_fast.enet_coordinate_descent_gram(\n",
      "/Users/as3993/anaconda3/envs/plprob/lib/python3.12/site-packages/sklearn/covariance/_graph_lasso.py:139: ConvergenceWarning: Objective did not converge. You might want to increase the number of iterations. Duality gap: 0.005293425057971035, tolerance: 0.003793987618794455\n",
      "  coefs, _, _, _ = cd_fast.enet_coordinate_descent_gram(\n",
      "/Users/as3993/anaconda3/envs/plprob/lib/python3.12/site-packages/sklearn/covariance/_graph_lasso.py:191: ConvergenceWarning: graphical_lasso: did not converge after 100 iteration: dual gap: 1.186e-01\n",
      "  warnings.warn(\n",
      "/Users/as3993/Amit/PLProb/plprob/predictor.py:548: FutureWarning: The default of observed=False is deprecated and will be changed to True in a future version of pandas. Pass observed=False to retain current behavior or observed=True to adopt the future default and silence this warning.\n",
      "  self.cp_prob = dict(cp_count.groupby(cp_count).count()[::-1].cumsum() / len(cp_count))\n"
     ]
    },
    {
     "name": "stdout",
     "output_type": "stream",
     "text": [
      "2023-09-13\n"
     ]
    },
    {
     "name": "stderr",
     "output_type": "stream",
     "text": [
      "/Users/as3993/Amit/PLProb/R/univariate.py:320: RuntimeWarning: invalid value encountered in power\n",
      "  val[upper_tail_x] = 1 - (1 - p_upper) * (1 + (k * (x[upper_tail_x] - b))/a)**(-1/k)\n",
      "/Users/as3993/Amit/PLProb/R/univariate.py:330: RuntimeWarning: invalid value encountered in power\n",
      "  val[lower_tail_x] = p_lower * (1 - (k * (x[lower_tail_x] - b))/a)**(-1/k)\n",
      "/Users/as3993/Amit/PLProb/R/univariate.py:330: RuntimeWarning: invalid value encountered in power\n",
      "  val[lower_tail_x] = p_lower * (1 - (k * (x[lower_tail_x] - b))/a)**(-1/k)\n",
      "/Users/as3993/anaconda3/envs/plprob/lib/python3.12/site-packages/sklearn/covariance/_graph_lasso.py:139: ConvergenceWarning: Objective did not converge. You might want to increase the number of iterations. Duality gap: 0.00738336523586014, tolerance: 0.0038049138287632694\n",
      "  coefs, _, _, _ = cd_fast.enet_coordinate_descent_gram(\n",
      "/Users/as3993/anaconda3/envs/plprob/lib/python3.12/site-packages/sklearn/covariance/_graph_lasso.py:139: ConvergenceWarning: Objective did not converge. You might want to increase the number of iterations. Duality gap: 0.013910578810936158, tolerance: 0.0037870705735591195\n",
      "  coefs, _, _, _ = cd_fast.enet_coordinate_descent_gram(\n",
      "/Users/as3993/anaconda3/envs/plprob/lib/python3.12/site-packages/sklearn/covariance/_graph_lasso.py:139: ConvergenceWarning: Objective did not converge. You might want to increase the number of iterations. Duality gap: 0.008803755244329636, tolerance: 0.00377104562350274\n",
      "  coefs, _, _, _ = cd_fast.enet_coordinate_descent_gram(\n",
      "/Users/as3993/anaconda3/envs/plprob/lib/python3.12/site-packages/sklearn/covariance/_graph_lasso.py:139: ConvergenceWarning: Objective did not converge. You might want to increase the number of iterations. Duality gap: 0.017036525622280863, tolerance: 0.0039574578574177515\n",
      "  coefs, _, _, _ = cd_fast.enet_coordinate_descent_gram(\n",
      "/Users/as3993/anaconda3/envs/plprob/lib/python3.12/site-packages/sklearn/covariance/_graph_lasso.py:139: ConvergenceWarning: Objective did not converge. You might want to increase the number of iterations. Duality gap: 0.008262340936859403, tolerance: 0.0040694408021639495\n",
      "  coefs, _, _, _ = cd_fast.enet_coordinate_descent_gram(\n",
      "/Users/as3993/anaconda3/envs/plprob/lib/python3.12/site-packages/sklearn/covariance/_graph_lasso.py:139: ConvergenceWarning: Objective did not converge. You might want to increase the number of iterations. Duality gap: 0.0046306307298564775, tolerance: 0.004100760050901658\n",
      "  coefs, _, _, _ = cd_fast.enet_coordinate_descent_gram(\n",
      "/Users/as3993/anaconda3/envs/plprob/lib/python3.12/site-packages/sklearn/covariance/_graph_lasso.py:139: ConvergenceWarning: Objective did not converge. You might want to increase the number of iterations. Duality gap: 0.005233603671783271, tolerance: 0.0037916813818962697\n",
      "  coefs, _, _, _ = cd_fast.enet_coordinate_descent_gram(\n",
      "/Users/as3993/anaconda3/envs/plprob/lib/python3.12/site-packages/sklearn/covariance/_graph_lasso.py:191: ConvergenceWarning: graphical_lasso: did not converge after 100 iteration: dual gap: 8.779e-02\n",
      "  warnings.warn(\n",
      "/Users/as3993/Amit/PLProb/plprob/predictor.py:548: FutureWarning: The default of observed=False is deprecated and will be changed to True in a future version of pandas. Pass observed=False to retain current behavior or observed=True to adopt the future default and silence this warning.\n",
      "  self.cp_prob = dict(cp_count.groupby(cp_count).count()[::-1].cumsum() / len(cp_count))\n"
     ]
    },
    {
     "name": "stdout",
     "output_type": "stream",
     "text": [
      "2023-09-14\n"
     ]
    },
    {
     "name": "stderr",
     "output_type": "stream",
     "text": [
      "/Users/as3993/Amit/PLProb/R/univariate.py:320: RuntimeWarning: invalid value encountered in power\n",
      "  val[upper_tail_x] = 1 - (1 - p_upper) * (1 + (k * (x[upper_tail_x] - b))/a)**(-1/k)\n",
      "/Users/as3993/Amit/PLProb/R/univariate.py:330: RuntimeWarning: invalid value encountered in power\n",
      "  val[lower_tail_x] = p_lower * (1 - (k * (x[lower_tail_x] - b))/a)**(-1/k)\n",
      "/Users/as3993/Amit/PLProb/R/univariate.py:330: RuntimeWarning: invalid value encountered in power\n",
      "  val[lower_tail_x] = p_lower * (1 - (k * (x[lower_tail_x] - b))/a)**(-1/k)\n",
      "/Users/as3993/anaconda3/envs/plprob/lib/python3.12/site-packages/sklearn/covariance/_graph_lasso.py:139: ConvergenceWarning: Objective did not converge. You might want to increase the number of iterations. Duality gap: 0.007312264932089363, tolerance: 0.0038047167413542767\n",
      "  coefs, _, _, _ = cd_fast.enet_coordinate_descent_gram(\n",
      "/Users/as3993/anaconda3/envs/plprob/lib/python3.12/site-packages/sklearn/covariance/_graph_lasso.py:139: ConvergenceWarning: Objective did not converge. You might want to increase the number of iterations. Duality gap: 0.013904531804634246, tolerance: 0.003786803862653789\n",
      "  coefs, _, _, _ = cd_fast.enet_coordinate_descent_gram(\n",
      "/Users/as3993/anaconda3/envs/plprob/lib/python3.12/site-packages/sklearn/covariance/_graph_lasso.py:139: ConvergenceWarning: Objective did not converge. You might want to increase the number of iterations. Duality gap: 0.008801821981151647, tolerance: 0.0037708405496520467\n",
      "  coefs, _, _, _ = cd_fast.enet_coordinate_descent_gram(\n",
      "/Users/as3993/anaconda3/envs/plprob/lib/python3.12/site-packages/sklearn/covariance/_graph_lasso.py:139: ConvergenceWarning: Objective did not converge. You might want to increase the number of iterations. Duality gap: 0.016977703053662196, tolerance: 0.003957291032765842\n",
      "  coefs, _, _, _ = cd_fast.enet_coordinate_descent_gram(\n",
      "/Users/as3993/anaconda3/envs/plprob/lib/python3.12/site-packages/sklearn/covariance/_graph_lasso.py:139: ConvergenceWarning: Objective did not converge. You might want to increase the number of iterations. Duality gap: 0.008291322062753181, tolerance: 0.0040690956212211275\n",
      "  coefs, _, _, _ = cd_fast.enet_coordinate_descent_gram(\n",
      "/Users/as3993/anaconda3/envs/plprob/lib/python3.12/site-packages/sklearn/covariance/_graph_lasso.py:139: ConvergenceWarning: Objective did not converge. You might want to increase the number of iterations. Duality gap: 0.004600352541551445, tolerance: 0.00410030952240518\n",
      "  coefs, _, _, _ = cd_fast.enet_coordinate_descent_gram(\n",
      "/Users/as3993/anaconda3/envs/plprob/lib/python3.12/site-packages/sklearn/covariance/_graph_lasso.py:139: ConvergenceWarning: Objective did not converge. You might want to increase the number of iterations. Duality gap: 0.005222753070171393, tolerance: 0.0037914294018037325\n",
      "  coefs, _, _, _ = cd_fast.enet_coordinate_descent_gram(\n",
      "/Users/as3993/Amit/PLProb/plprob/predictor.py:548: FutureWarning: The default of observed=False is deprecated and will be changed to True in a future version of pandas. Pass observed=False to retain current behavior or observed=True to adopt the future default and silence this warning.\n",
      "  self.cp_prob = dict(cp_count.groupby(cp_count).count()[::-1].cumsum() / len(cp_count))\n"
     ]
    },
    {
     "name": "stdout",
     "output_type": "stream",
     "text": [
      "2023-09-15\n"
     ]
    },
    {
     "name": "stderr",
     "output_type": "stream",
     "text": [
      "/Users/as3993/Amit/PLProb/R/univariate.py:320: RuntimeWarning: invalid value encountered in power\n",
      "  val[upper_tail_x] = 1 - (1 - p_upper) * (1 + (k * (x[upper_tail_x] - b))/a)**(-1/k)\n",
      "/Users/as3993/Amit/PLProb/R/univariate.py:330: RuntimeWarning: invalid value encountered in power\n",
      "  val[lower_tail_x] = p_lower * (1 - (k * (x[lower_tail_x] - b))/a)**(-1/k)\n",
      "/Users/as3993/Amit/PLProb/R/univariate.py:330: RuntimeWarning: invalid value encountered in power\n",
      "  val[lower_tail_x] = p_lower * (1 - (k * (x[lower_tail_x] - b))/a)**(-1/k)\n",
      "/Users/as3993/anaconda3/envs/plprob/lib/python3.12/site-packages/sklearn/covariance/_graph_lasso.py:139: ConvergenceWarning: Objective did not converge. You might want to increase the number of iterations. Duality gap: 0.007299799046926125, tolerance: 0.0038049431189949552\n",
      "  coefs, _, _, _ = cd_fast.enet_coordinate_descent_gram(\n",
      "/Users/as3993/anaconda3/envs/plprob/lib/python3.12/site-packages/sklearn/covariance/_graph_lasso.py:139: ConvergenceWarning: Objective did not converge. You might want to increase the number of iterations. Duality gap: 0.013925774699870885, tolerance: 0.0037869708056469573\n",
      "  coefs, _, _, _ = cd_fast.enet_coordinate_descent_gram(\n",
      "/Users/as3993/anaconda3/envs/plprob/lib/python3.12/site-packages/sklearn/covariance/_graph_lasso.py:139: ConvergenceWarning: Objective did not converge. You might want to increase the number of iterations. Duality gap: 0.008805020206551717, tolerance: 0.003770870067604525\n",
      "  coefs, _, _, _ = cd_fast.enet_coordinate_descent_gram(\n",
      "/Users/as3993/anaconda3/envs/plprob/lib/python3.12/site-packages/sklearn/covariance/_graph_lasso.py:139: ConvergenceWarning: Objective did not converge. You might want to increase the number of iterations. Duality gap: 0.016990598783621635, tolerance: 0.003957330084834408\n",
      "  coefs, _, _, _ = cd_fast.enet_coordinate_descent_gram(\n",
      "/Users/as3993/anaconda3/envs/plprob/lib/python3.12/site-packages/sklearn/covariance/_graph_lasso.py:139: ConvergenceWarning: Objective did not converge. You might want to increase the number of iterations. Duality gap: 0.0082705024843861, tolerance: 0.004069068763122303\n",
      "  coefs, _, _, _ = cd_fast.enet_coordinate_descent_gram(\n",
      "/Users/as3993/anaconda3/envs/plprob/lib/python3.12/site-packages/sklearn/covariance/_graph_lasso.py:139: ConvergenceWarning: Objective did not converge. You might want to increase the number of iterations. Duality gap: 0.00457344820293315, tolerance: 0.004100277215973313\n",
      "  coefs, _, _, _ = cd_fast.enet_coordinate_descent_gram(\n",
      "/Users/as3993/anaconda3/envs/plprob/lib/python3.12/site-packages/sklearn/covariance/_graph_lasso.py:139: ConvergenceWarning: Objective did not converge. You might want to increase the number of iterations. Duality gap: 0.005232889516832984, tolerance: 0.0037917038721368428\n",
      "  coefs, _, _, _ = cd_fast.enet_coordinate_descent_gram(\n",
      "/Users/as3993/anaconda3/envs/plprob/lib/python3.12/site-packages/sklearn/covariance/_graph_lasso.py:191: ConvergenceWarning: graphical_lasso: did not converge after 100 iteration: dual gap: 7.253e-02\n",
      "  warnings.warn(\n",
      "/Users/as3993/Amit/PLProb/plprob/predictor.py:548: FutureWarning: The default of observed=False is deprecated and will be changed to True in a future version of pandas. Pass observed=False to retain current behavior or observed=True to adopt the future default and silence this warning.\n",
      "  self.cp_prob = dict(cp_count.groupby(cp_count).count()[::-1].cumsum() / len(cp_count))\n"
     ]
    },
    {
     "name": "stdout",
     "output_type": "stream",
     "text": [
      "2023-09-16\n"
     ]
    },
    {
     "name": "stderr",
     "output_type": "stream",
     "text": [
      "/Users/as3993/Amit/PLProb/R/univariate.py:320: RuntimeWarning: invalid value encountered in power\n",
      "  val[upper_tail_x] = 1 - (1 - p_upper) * (1 + (k * (x[upper_tail_x] - b))/a)**(-1/k)\n",
      "/Users/as3993/Amit/PLProb/R/univariate.py:330: RuntimeWarning: invalid value encountered in power\n",
      "  val[lower_tail_x] = p_lower * (1 - (k * (x[lower_tail_x] - b))/a)**(-1/k)\n",
      "/Users/as3993/Amit/PLProb/R/univariate.py:330: RuntimeWarning: invalid value encountered in power\n",
      "  val[lower_tail_x] = p_lower * (1 - (k * (x[lower_tail_x] - b))/a)**(-1/k)\n",
      "/Users/as3993/anaconda3/envs/plprob/lib/python3.12/site-packages/sklearn/covariance/_graph_lasso.py:139: ConvergenceWarning: Objective did not converge. You might want to increase the number of iterations. Duality gap: 0.007317491644528218, tolerance: 0.0038052517601843017\n",
      "  coefs, _, _, _ = cd_fast.enet_coordinate_descent_gram(\n",
      "/Users/as3993/anaconda3/envs/plprob/lib/python3.12/site-packages/sklearn/covariance/_graph_lasso.py:139: ConvergenceWarning: Objective did not converge. You might want to increase the number of iterations. Duality gap: 0.013950098442855108, tolerance: 0.0037872585339667995\n",
      "  coefs, _, _, _ = cd_fast.enet_coordinate_descent_gram(\n",
      "/Users/as3993/anaconda3/envs/plprob/lib/python3.12/site-packages/sklearn/covariance/_graph_lasso.py:139: ConvergenceWarning: Objective did not converge. You might want to increase the number of iterations. Duality gap: 0.008824581710747736, tolerance: 0.003771209432064189\n",
      "  coefs, _, _, _ = cd_fast.enet_coordinate_descent_gram(\n",
      "/Users/as3993/anaconda3/envs/plprob/lib/python3.12/site-packages/sklearn/covariance/_graph_lasso.py:139: ConvergenceWarning: Objective did not converge. You might want to increase the number of iterations. Duality gap: 0.01693955444579842, tolerance: 0.0039572019689567434\n",
      "  coefs, _, _, _ = cd_fast.enet_coordinate_descent_gram(\n",
      "/Users/as3993/anaconda3/envs/plprob/lib/python3.12/site-packages/sklearn/covariance/_graph_lasso.py:139: ConvergenceWarning: Objective did not converge. You might want to increase the number of iterations. Duality gap: 0.008220058215663073, tolerance: 0.004069204534938551\n",
      "  coefs, _, _, _ = cd_fast.enet_coordinate_descent_gram(\n",
      "/Users/as3993/anaconda3/envs/plprob/lib/python3.12/site-packages/sklearn/covariance/_graph_lasso.py:139: ConvergenceWarning: Objective did not converge. You might want to increase the number of iterations. Duality gap: 0.004533912291179831, tolerance: 0.004100113906224168\n",
      "  coefs, _, _, _ = cd_fast.enet_coordinate_descent_gram(\n",
      "/Users/as3993/anaconda3/envs/plprob/lib/python3.12/site-packages/sklearn/covariance/_graph_lasso.py:139: ConvergenceWarning: Objective did not converge. You might want to increase the number of iterations. Duality gap: 0.005226635060559204, tolerance: 0.003792061952554376\n",
      "  coefs, _, _, _ = cd_fast.enet_coordinate_descent_gram(\n",
      "/Users/as3993/anaconda3/envs/plprob/lib/python3.12/site-packages/sklearn/covariance/_graph_lasso.py:191: ConvergenceWarning: graphical_lasso: did not converge after 100 iteration: dual gap: 1.022e-01\n",
      "  warnings.warn(\n",
      "/Users/as3993/Amit/PLProb/R/univariate.py:330: RuntimeWarning: invalid value encountered in power\n",
      "  val[lower_tail_x] = p_lower * (1 - (k * (x[lower_tail_x] - b))/a)**(-1/k)\n",
      "/Users/as3993/Amit/PLProb/plprob/predictor.py:548: FutureWarning: The default of observed=False is deprecated and will be changed to True in a future version of pandas. Pass observed=False to retain current behavior or observed=True to adopt the future default and silence this warning.\n",
      "  self.cp_prob = dict(cp_count.groupby(cp_count).count()[::-1].cumsum() / len(cp_count))\n",
      "/Users/as3993/Amit/PLProb/plprob/predictor.py:551: FutureWarning: The behavior of DataFrame.idxmax with all-NA values, or any-NA and skipna=False, is deprecated. In a future version this will raise ValueError\n",
      "  peak_hour = self.cond_scenarios.droplevel(axis=1,level=0).idxmax(axis=1)\n"
     ]
    },
    {
     "name": "stdout",
     "output_type": "stream",
     "text": [
      "2023-09-17\n"
     ]
    },
    {
     "name": "stderr",
     "output_type": "stream",
     "text": [
      "/Users/as3993/Amit/PLProb/R/univariate.py:320: RuntimeWarning: invalid value encountered in power\n",
      "  val[upper_tail_x] = 1 - (1 - p_upper) * (1 + (k * (x[upper_tail_x] - b))/a)**(-1/k)\n",
      "/Users/as3993/Amit/PLProb/R/univariate.py:330: RuntimeWarning: invalid value encountered in power\n",
      "  val[lower_tail_x] = p_lower * (1 - (k * (x[lower_tail_x] - b))/a)**(-1/k)\n",
      "/Users/as3993/Amit/PLProb/R/univariate.py:330: RuntimeWarning: invalid value encountered in power\n",
      "  val[lower_tail_x] = p_lower * (1 - (k * (x[lower_tail_x] - b))/a)**(-1/k)\n",
      "/Users/as3993/anaconda3/envs/plprob/lib/python3.12/site-packages/sklearn/covariance/_graph_lasso.py:139: ConvergenceWarning: Objective did not converge. You might want to increase the number of iterations. Duality gap: 0.007306984206309153, tolerance: 0.0038054870389740707\n",
      "  coefs, _, _, _ = cd_fast.enet_coordinate_descent_gram(\n",
      "/Users/as3993/anaconda3/envs/plprob/lib/python3.12/site-packages/sklearn/covariance/_graph_lasso.py:139: ConvergenceWarning: Objective did not converge. You might want to increase the number of iterations. Duality gap: 0.014081628822644632, tolerance: 0.0037875324967518256\n",
      "  coefs, _, _, _ = cd_fast.enet_coordinate_descent_gram(\n",
      "/Users/as3993/anaconda3/envs/plprob/lib/python3.12/site-packages/sklearn/covariance/_graph_lasso.py:139: ConvergenceWarning: Objective did not converge. You might want to increase the number of iterations. Duality gap: 0.00885287397466783, tolerance: 0.0037713259423590418\n",
      "  coefs, _, _, _ = cd_fast.enet_coordinate_descent_gram(\n",
      "/Users/as3993/anaconda3/envs/plprob/lib/python3.12/site-packages/sklearn/covariance/_graph_lasso.py:139: ConvergenceWarning: Objective did not converge. You might want to increase the number of iterations. Duality gap: 0.016915243719353157, tolerance: 0.003956913825029198\n",
      "  coefs, _, _, _ = cd_fast.enet_coordinate_descent_gram(\n",
      "/Users/as3993/anaconda3/envs/plprob/lib/python3.12/site-packages/sklearn/covariance/_graph_lasso.py:139: ConvergenceWarning: Objective did not converge. You might want to increase the number of iterations. Duality gap: 0.008124542209927199, tolerance: 0.004068141861821645\n",
      "  coefs, _, _, _ = cd_fast.enet_coordinate_descent_gram(\n",
      "/Users/as3993/anaconda3/envs/plprob/lib/python3.12/site-packages/sklearn/covariance/_graph_lasso.py:139: ConvergenceWarning: Objective did not converge. You might want to increase the number of iterations. Duality gap: 0.004462973537975756, tolerance: 0.004099117223200971\n",
      "  coefs, _, _, _ = cd_fast.enet_coordinate_descent_gram(\n",
      "/Users/as3993/anaconda3/envs/plprob/lib/python3.12/site-packages/sklearn/covariance/_graph_lasso.py:139: ConvergenceWarning: Objective did not converge. You might want to increase the number of iterations. Duality gap: 0.0052948352688844125, tolerance: 0.003790315332199652\n",
      "  coefs, _, _, _ = cd_fast.enet_coordinate_descent_gram(\n",
      "/Users/as3993/anaconda3/envs/plprob/lib/python3.12/site-packages/sklearn/covariance/_graph_lasso.py:191: ConvergenceWarning: graphical_lasso: did not converge after 100 iteration: dual gap: 3.139e-02\n",
      "  warnings.warn(\n",
      "/Users/as3993/Amit/PLProb/R/univariate.py:330: RuntimeWarning: invalid value encountered in power\n",
      "  val[lower_tail_x] = p_lower * (1 - (k * (x[lower_tail_x] - b))/a)**(-1/k)\n",
      "/Users/as3993/Amit/PLProb/plprob/predictor.py:548: FutureWarning: The default of observed=False is deprecated and will be changed to True in a future version of pandas. Pass observed=False to retain current behavior or observed=True to adopt the future default and silence this warning.\n",
      "  self.cp_prob = dict(cp_count.groupby(cp_count).count()[::-1].cumsum() / len(cp_count))\n",
      "/Users/as3993/Amit/PLProb/plprob/predictor.py:551: FutureWarning: The behavior of DataFrame.idxmax with all-NA values, or any-NA and skipna=False, is deprecated. In a future version this will raise ValueError\n",
      "  peak_hour = self.cond_scenarios.droplevel(axis=1,level=0).idxmax(axis=1)\n"
     ]
    },
    {
     "name": "stdout",
     "output_type": "stream",
     "text": [
      "2023-09-18\n"
     ]
    },
    {
     "name": "stderr",
     "output_type": "stream",
     "text": [
      "/Users/as3993/Amit/PLProb/R/univariate.py:320: RuntimeWarning: invalid value encountered in power\n",
      "  val[upper_tail_x] = 1 - (1 - p_upper) * (1 + (k * (x[upper_tail_x] - b))/a)**(-1/k)\n",
      "/Users/as3993/Amit/PLProb/R/univariate.py:330: RuntimeWarning: invalid value encountered in power\n",
      "  val[lower_tail_x] = p_lower * (1 - (k * (x[lower_tail_x] - b))/a)**(-1/k)\n",
      "/Users/as3993/Amit/PLProb/R/univariate.py:330: RuntimeWarning: invalid value encountered in power\n",
      "  val[lower_tail_x] = p_lower * (1 - (k * (x[lower_tail_x] - b))/a)**(-1/k)\n",
      "/Users/as3993/anaconda3/envs/plprob/lib/python3.12/site-packages/sklearn/covariance/_graph_lasso.py:139: ConvergenceWarning: Objective did not converge. You might want to increase the number of iterations. Duality gap: 0.007463635206470087, tolerance: 0.003801022644530615\n",
      "  coefs, _, _, _ = cd_fast.enet_coordinate_descent_gram(\n",
      "/Users/as3993/anaconda3/envs/plprob/lib/python3.12/site-packages/sklearn/covariance/_graph_lasso.py:139: ConvergenceWarning: Objective did not converge. You might want to increase the number of iterations. Duality gap: 0.014449718777058251, tolerance: 0.0037832126838809837\n",
      "  coefs, _, _, _ = cd_fast.enet_coordinate_descent_gram(\n",
      "/Users/as3993/anaconda3/envs/plprob/lib/python3.12/site-packages/sklearn/covariance/_graph_lasso.py:139: ConvergenceWarning: Objective did not converge. You might want to increase the number of iterations. Duality gap: 0.008974887439322288, tolerance: 0.003766851569210917\n",
      "  coefs, _, _, _ = cd_fast.enet_coordinate_descent_gram(\n",
      "/Users/as3993/anaconda3/envs/plprob/lib/python3.12/site-packages/sklearn/covariance/_graph_lasso.py:139: ConvergenceWarning: Objective did not converge. You might want to increase the number of iterations. Duality gap: 0.016358152927615777, tolerance: 0.003950870944464573\n",
      "  coefs, _, _, _ = cd_fast.enet_coordinate_descent_gram(\n",
      "/Users/as3993/anaconda3/envs/plprob/lib/python3.12/site-packages/sklearn/covariance/_graph_lasso.py:139: ConvergenceWarning: Objective did not converge. You might want to increase the number of iterations. Duality gap: 0.008595299663099354, tolerance: 0.004062688385734456\n",
      "  coefs, _, _, _ = cd_fast.enet_coordinate_descent_gram(\n",
      "/Users/as3993/anaconda3/envs/plprob/lib/python3.12/site-packages/sklearn/covariance/_graph_lasso.py:139: ConvergenceWarning: Objective did not converge. You might want to increase the number of iterations. Duality gap: 0.004559242905081362, tolerance: 0.004094811539433156\n",
      "  coefs, _, _, _ = cd_fast.enet_coordinate_descent_gram(\n",
      "/Users/as3993/anaconda3/envs/plprob/lib/python3.12/site-packages/sklearn/covariance/_graph_lasso.py:139: ConvergenceWarning: Objective did not converge. You might want to increase the number of iterations. Duality gap: 0.005285613399976796, tolerance: 0.0037871392413825534\n",
      "  coefs, _, _, _ = cd_fast.enet_coordinate_descent_gram(\n",
      "/Users/as3993/anaconda3/envs/plprob/lib/python3.12/site-packages/sklearn/covariance/_graph_lasso.py:191: ConvergenceWarning: graphical_lasso: did not converge after 100 iteration: dual gap: 2.535e-02\n",
      "  warnings.warn(\n",
      "/Users/as3993/Amit/PLProb/R/univariate.py:330: RuntimeWarning: invalid value encountered in power\n",
      "  val[lower_tail_x] = p_lower * (1 - (k * (x[lower_tail_x] - b))/a)**(-1/k)\n",
      "/Users/as3993/Amit/PLProb/plprob/predictor.py:548: FutureWarning: The default of observed=False is deprecated and will be changed to True in a future version of pandas. Pass observed=False to retain current behavior or observed=True to adopt the future default and silence this warning.\n",
      "  self.cp_prob = dict(cp_count.groupby(cp_count).count()[::-1].cumsum() / len(cp_count))\n",
      "/Users/as3993/Amit/PLProb/plprob/predictor.py:551: FutureWarning: The behavior of DataFrame.idxmax with all-NA values, or any-NA and skipna=False, is deprecated. In a future version this will raise ValueError\n",
      "  peak_hour = self.cond_scenarios.droplevel(axis=1,level=0).idxmax(axis=1)\n"
     ]
    },
    {
     "name": "stdout",
     "output_type": "stream",
     "text": [
      "2023-09-19\n"
     ]
    },
    {
     "name": "stderr",
     "output_type": "stream",
     "text": [
      "/Users/as3993/Amit/PLProb/R/univariate.py:320: RuntimeWarning: invalid value encountered in power\n",
      "  val[upper_tail_x] = 1 - (1 - p_upper) * (1 + (k * (x[upper_tail_x] - b))/a)**(-1/k)\n",
      "/Users/as3993/Amit/PLProb/R/univariate.py:330: RuntimeWarning: invalid value encountered in power\n",
      "  val[lower_tail_x] = p_lower * (1 - (k * (x[lower_tail_x] - b))/a)**(-1/k)\n",
      "/Users/as3993/Amit/PLProb/R/univariate.py:330: RuntimeWarning: invalid value encountered in power\n",
      "  val[lower_tail_x] = p_lower * (1 - (k * (x[lower_tail_x] - b))/a)**(-1/k)\n",
      "/Users/as3993/anaconda3/envs/plprob/lib/python3.12/site-packages/sklearn/covariance/_graph_lasso.py:139: ConvergenceWarning: Objective did not converge. You might want to increase the number of iterations. Duality gap: 0.0074665613394060415, tolerance: 0.0038009920250945558\n",
      "  coefs, _, _, _ = cd_fast.enet_coordinate_descent_gram(\n",
      "/Users/as3993/anaconda3/envs/plprob/lib/python3.12/site-packages/sklearn/covariance/_graph_lasso.py:139: ConvergenceWarning: Objective did not converge. You might want to increase the number of iterations. Duality gap: 0.01442373150398879, tolerance: 0.003782910932664206\n",
      "  coefs, _, _, _ = cd_fast.enet_coordinate_descent_gram(\n",
      "/Users/as3993/anaconda3/envs/plprob/lib/python3.12/site-packages/sklearn/covariance/_graph_lasso.py:139: ConvergenceWarning: Objective did not converge. You might want to increase the number of iterations. Duality gap: 0.008979977927218386, tolerance: 0.0037665756531236392\n",
      "  coefs, _, _, _ = cd_fast.enet_coordinate_descent_gram(\n",
      "/Users/as3993/anaconda3/envs/plprob/lib/python3.12/site-packages/sklearn/covariance/_graph_lasso.py:139: ConvergenceWarning: Objective did not converge. You might want to increase the number of iterations. Duality gap: 0.01642098834146566, tolerance: 0.003950687520749747\n",
      "  coefs, _, _, _ = cd_fast.enet_coordinate_descent_gram(\n",
      "/Users/as3993/anaconda3/envs/plprob/lib/python3.12/site-packages/sklearn/covariance/_graph_lasso.py:139: ConvergenceWarning: Objective did not converge. You might want to increase the number of iterations. Duality gap: 0.00861644313426524, tolerance: 0.004062595786978844\n",
      "  coefs, _, _, _ = cd_fast.enet_coordinate_descent_gram(\n",
      "/Users/as3993/anaconda3/envs/plprob/lib/python3.12/site-packages/sklearn/covariance/_graph_lasso.py:139: ConvergenceWarning: Objective did not converge. You might want to increase the number of iterations. Duality gap: 0.004571000269201875, tolerance: 0.0040947318258786735\n",
      "  coefs, _, _, _ = cd_fast.enet_coordinate_descent_gram(\n",
      "/Users/as3993/anaconda3/envs/plprob/lib/python3.12/site-packages/sklearn/covariance/_graph_lasso.py:139: ConvergenceWarning: Objective did not converge. You might want to increase the number of iterations. Duality gap: 0.005280012455841643, tolerance: 0.0037870746633393354\n",
      "  coefs, _, _, _ = cd_fast.enet_coordinate_descent_gram(\n",
      "/Users/as3993/anaconda3/envs/plprob/lib/python3.12/site-packages/sklearn/covariance/_graph_lasso.py:191: ConvergenceWarning: graphical_lasso: did not converge after 100 iteration: dual gap: 1.482e-01\n",
      "  warnings.warn(\n",
      "/Users/as3993/Amit/PLProb/plprob/predictor.py:548: FutureWarning: The default of observed=False is deprecated and will be changed to True in a future version of pandas. Pass observed=False to retain current behavior or observed=True to adopt the future default and silence this warning.\n",
      "  self.cp_prob = dict(cp_count.groupby(cp_count).count()[::-1].cumsum() / len(cp_count))\n"
     ]
    },
    {
     "name": "stdout",
     "output_type": "stream",
     "text": [
      "2023-09-20\n"
     ]
    },
    {
     "name": "stderr",
     "output_type": "stream",
     "text": [
      "/Users/as3993/Amit/PLProb/R/univariate.py:320: RuntimeWarning: invalid value encountered in power\n",
      "  val[upper_tail_x] = 1 - (1 - p_upper) * (1 + (k * (x[upper_tail_x] - b))/a)**(-1/k)\n",
      "/Users/as3993/Amit/PLProb/R/univariate.py:330: RuntimeWarning: invalid value encountered in power\n",
      "  val[lower_tail_x] = p_lower * (1 - (k * (x[lower_tail_x] - b))/a)**(-1/k)\n",
      "/Users/as3993/Amit/PLProb/R/univariate.py:330: RuntimeWarning: invalid value encountered in power\n",
      "  val[lower_tail_x] = p_lower * (1 - (k * (x[lower_tail_x] - b))/a)**(-1/k)\n",
      "/Users/as3993/anaconda3/envs/plprob/lib/python3.12/site-packages/sklearn/covariance/_graph_lasso.py:139: ConvergenceWarning: Objective did not converge. You might want to increase the number of iterations. Duality gap: 0.006851297357385988, tolerance: 0.0038050352481704005\n",
      "  coefs, _, _, _ = cd_fast.enet_coordinate_descent_gram(\n",
      "/Users/as3993/anaconda3/envs/plprob/lib/python3.12/site-packages/sklearn/covariance/_graph_lasso.py:139: ConvergenceWarning: Objective did not converge. You might want to increase the number of iterations. Duality gap: 0.013757621224080196, tolerance: 0.0037875284306749723\n",
      "  coefs, _, _, _ = cd_fast.enet_coordinate_descent_gram(\n",
      "/Users/as3993/anaconda3/envs/plprob/lib/python3.12/site-packages/sklearn/covariance/_graph_lasso.py:139: ConvergenceWarning: Objective did not converge. You might want to increase the number of iterations. Duality gap: 0.008370928460223581, tolerance: 0.0037707867208892276\n",
      "  coefs, _, _, _ = cd_fast.enet_coordinate_descent_gram(\n",
      "/Users/as3993/anaconda3/envs/plprob/lib/python3.12/site-packages/sklearn/covariance/_graph_lasso.py:139: ConvergenceWarning: Objective did not converge. You might want to increase the number of iterations. Duality gap: 0.017100941456959617, tolerance: 0.003955924745510481\n",
      "  coefs, _, _, _ = cd_fast.enet_coordinate_descent_gram(\n",
      "/Users/as3993/anaconda3/envs/plprob/lib/python3.12/site-packages/sklearn/covariance/_graph_lasso.py:139: ConvergenceWarning: Objective did not converge. You might want to increase the number of iterations. Duality gap: 0.00821900633187056, tolerance: 0.004067143855085164\n",
      "  coefs, _, _, _ = cd_fast.enet_coordinate_descent_gram(\n",
      "/Users/as3993/anaconda3/envs/plprob/lib/python3.12/site-packages/sklearn/covariance/_graph_lasso.py:139: ConvergenceWarning: Objective did not converge. You might want to increase the number of iterations. Duality gap: 0.004604416493648955, tolerance: 0.004099020639033311\n",
      "  coefs, _, _, _ = cd_fast.enet_coordinate_descent_gram(\n",
      "/Users/as3993/anaconda3/envs/plprob/lib/python3.12/site-packages/sklearn/covariance/_graph_lasso.py:139: ConvergenceWarning: Objective did not converge. You might want to increase the number of iterations. Duality gap: 0.004931393787543925, tolerance: 0.003854079118611108\n",
      "  coefs, _, _, _ = cd_fast.enet_coordinate_descent_gram(\n",
      "/Users/as3993/anaconda3/envs/plprob/lib/python3.12/site-packages/sklearn/covariance/_graph_lasso.py:139: ConvergenceWarning: Objective did not converge. You might want to increase the number of iterations. Duality gap: 0.005476730534901719, tolerance: 0.0037950013208520265\n",
      "  coefs, _, _, _ = cd_fast.enet_coordinate_descent_gram(\n",
      "/Users/as3993/anaconda3/envs/plprob/lib/python3.12/site-packages/sklearn/covariance/_graph_lasso.py:191: ConvergenceWarning: graphical_lasso: did not converge after 100 iteration: dual gap: 5.927e-02\n",
      "  warnings.warn(\n",
      "/Users/as3993/Amit/PLProb/R/univariate.py:330: RuntimeWarning: invalid value encountered in power\n",
      "  val[lower_tail_x] = p_lower * (1 - (k * (x[lower_tail_x] - b))/a)**(-1/k)\n",
      "/Users/as3993/Amit/PLProb/plprob/predictor.py:548: FutureWarning: The default of observed=False is deprecated and will be changed to True in a future version of pandas. Pass observed=False to retain current behavior or observed=True to adopt the future default and silence this warning.\n",
      "  self.cp_prob = dict(cp_count.groupby(cp_count).count()[::-1].cumsum() / len(cp_count))\n",
      "/Users/as3993/Amit/PLProb/plprob/predictor.py:551: FutureWarning: The behavior of DataFrame.idxmax with all-NA values, or any-NA and skipna=False, is deprecated. In a future version this will raise ValueError\n",
      "  peak_hour = self.cond_scenarios.droplevel(axis=1,level=0).idxmax(axis=1)\n"
     ]
    },
    {
     "name": "stdout",
     "output_type": "stream",
     "text": [
      "2023-09-21\n"
     ]
    },
    {
     "name": "stderr",
     "output_type": "stream",
     "text": [
      "/Users/as3993/Amit/PLProb/R/univariate.py:320: RuntimeWarning: invalid value encountered in power\n",
      "  val[upper_tail_x] = 1 - (1 - p_upper) * (1 + (k * (x[upper_tail_x] - b))/a)**(-1/k)\n",
      "/Users/as3993/Amit/PLProb/R/univariate.py:330: RuntimeWarning: invalid value encountered in power\n",
      "  val[lower_tail_x] = p_lower * (1 - (k * (x[lower_tail_x] - b))/a)**(-1/k)\n",
      "/Users/as3993/Amit/PLProb/R/univariate.py:330: RuntimeWarning: invalid value encountered in power\n",
      "  val[lower_tail_x] = p_lower * (1 - (k * (x[lower_tail_x] - b))/a)**(-1/k)\n",
      "/Users/as3993/anaconda3/envs/plprob/lib/python3.12/site-packages/sklearn/covariance/_graph_lasso.py:139: ConvergenceWarning: Objective did not converge. You might want to increase the number of iterations. Duality gap: 0.006863169681821546, tolerance: 0.0038053057001963546\n",
      "  coefs, _, _, _ = cd_fast.enet_coordinate_descent_gram(\n",
      "/Users/as3993/anaconda3/envs/plprob/lib/python3.12/site-packages/sklearn/covariance/_graph_lasso.py:139: ConvergenceWarning: Objective did not converge. You might want to increase the number of iterations. Duality gap: 0.013802399859237369, tolerance: 0.0037879351621521724\n",
      "  coefs, _, _, _ = cd_fast.enet_coordinate_descent_gram(\n",
      "/Users/as3993/anaconda3/envs/plprob/lib/python3.12/site-packages/sklearn/covariance/_graph_lasso.py:139: ConvergenceWarning: Objective did not converge. You might want to increase the number of iterations. Duality gap: 0.008393520488652939, tolerance: 0.0037711895601716073\n",
      "  coefs, _, _, _ = cd_fast.enet_coordinate_descent_gram(\n",
      "/Users/as3993/anaconda3/envs/plprob/lib/python3.12/site-packages/sklearn/covariance/_graph_lasso.py:139: ConvergenceWarning: Objective did not converge. You might want to increase the number of iterations. Duality gap: 0.01723939177907141, tolerance: 0.003955961369432427\n",
      "  coefs, _, _, _ = cd_fast.enet_coordinate_descent_gram(\n",
      "/Users/as3993/anaconda3/envs/plprob/lib/python3.12/site-packages/sklearn/covariance/_graph_lasso.py:139: ConvergenceWarning: Objective did not converge. You might want to increase the number of iterations. Duality gap: 0.008181291781070854, tolerance: 0.0040670937494675895\n",
      "  coefs, _, _, _ = cd_fast.enet_coordinate_descent_gram(\n",
      "/Users/as3993/anaconda3/envs/plprob/lib/python3.12/site-packages/sklearn/covariance/_graph_lasso.py:139: ConvergenceWarning: Objective did not converge. You might want to increase the number of iterations. Duality gap: 0.0045740115717691765, tolerance: 0.004099038739941723\n",
      "  coefs, _, _, _ = cd_fast.enet_coordinate_descent_gram(\n",
      "/Users/as3993/anaconda3/envs/plprob/lib/python3.12/site-packages/sklearn/covariance/_graph_lasso.py:139: ConvergenceWarning: Objective did not converge. You might want to increase the number of iterations. Duality gap: 0.004869129208898926, tolerance: 0.0038545036873659775\n",
      "  coefs, _, _, _ = cd_fast.enet_coordinate_descent_gram(\n",
      "/Users/as3993/anaconda3/envs/plprob/lib/python3.12/site-packages/sklearn/covariance/_graph_lasso.py:139: ConvergenceWarning: Objective did not converge. You might want to increase the number of iterations. Duality gap: 0.005452126877848684, tolerance: 0.0037954141435351625\n",
      "  coefs, _, _, _ = cd_fast.enet_coordinate_descent_gram(\n",
      "/Users/as3993/anaconda3/envs/plprob/lib/python3.12/site-packages/sklearn/covariance/_graph_lasso.py:191: ConvergenceWarning: graphical_lasso: did not converge after 100 iteration: dual gap: 2.277e-03\n",
      "  warnings.warn(\n",
      "/Users/as3993/Amit/PLProb/R/univariate.py:330: RuntimeWarning: invalid value encountered in power\n",
      "  val[lower_tail_x] = p_lower * (1 - (k * (x[lower_tail_x] - b))/a)**(-1/k)\n",
      "/Users/as3993/Amit/PLProb/plprob/predictor.py:548: FutureWarning: The default of observed=False is deprecated and will be changed to True in a future version of pandas. Pass observed=False to retain current behavior or observed=True to adopt the future default and silence this warning.\n",
      "  self.cp_prob = dict(cp_count.groupby(cp_count).count()[::-1].cumsum() / len(cp_count))\n",
      "/Users/as3993/Amit/PLProb/plprob/predictor.py:551: FutureWarning: The behavior of DataFrame.idxmax with all-NA values, or any-NA and skipna=False, is deprecated. In a future version this will raise ValueError\n",
      "  peak_hour = self.cond_scenarios.droplevel(axis=1,level=0).idxmax(axis=1)\n"
     ]
    },
    {
     "name": "stdout",
     "output_type": "stream",
     "text": [
      "2023-09-22\n"
     ]
    },
    {
     "name": "stderr",
     "output_type": "stream",
     "text": [
      "/Users/as3993/Amit/PLProb/R/univariate.py:320: RuntimeWarning: invalid value encountered in power\n",
      "  val[upper_tail_x] = 1 - (1 - p_upper) * (1 + (k * (x[upper_tail_x] - b))/a)**(-1/k)\n",
      "/Users/as3993/Amit/PLProb/R/univariate.py:330: RuntimeWarning: invalid value encountered in power\n",
      "  val[lower_tail_x] = p_lower * (1 - (k * (x[lower_tail_x] - b))/a)**(-1/k)\n",
      "/Users/as3993/Amit/PLProb/R/univariate.py:330: RuntimeWarning: invalid value encountered in power\n",
      "  val[lower_tail_x] = p_lower * (1 - (k * (x[lower_tail_x] - b))/a)**(-1/k)\n",
      "/Users/as3993/anaconda3/envs/plprob/lib/python3.12/site-packages/sklearn/covariance/_graph_lasso.py:139: ConvergenceWarning: Objective did not converge. You might want to increase the number of iterations. Duality gap: 0.006897066500783922, tolerance: 0.0038056209313923933\n",
      "  coefs, _, _, _ = cd_fast.enet_coordinate_descent_gram(\n",
      "/Users/as3993/anaconda3/envs/plprob/lib/python3.12/site-packages/sklearn/covariance/_graph_lasso.py:139: ConvergenceWarning: Objective did not converge. You might want to increase the number of iterations. Duality gap: 0.013840515763419603, tolerance: 0.0037883121345199827\n",
      "  coefs, _, _, _ = cd_fast.enet_coordinate_descent_gram(\n",
      "/Users/as3993/anaconda3/envs/plprob/lib/python3.12/site-packages/sklearn/covariance/_graph_lasso.py:139: ConvergenceWarning: Objective did not converge. You might want to increase the number of iterations. Duality gap: 0.008418402373763456, tolerance: 0.0037715989784369423\n",
      "  coefs, _, _, _ = cd_fast.enet_coordinate_descent_gram(\n",
      "/Users/as3993/anaconda3/envs/plprob/lib/python3.12/site-packages/sklearn/covariance/_graph_lasso.py:139: ConvergenceWarning: Objective did not converge. You might want to increase the number of iterations. Duality gap: 0.01724624022134691, tolerance: 0.003955985672649198\n",
      "  coefs, _, _, _ = cd_fast.enet_coordinate_descent_gram(\n",
      "/Users/as3993/anaconda3/envs/plprob/lib/python3.12/site-packages/sklearn/covariance/_graph_lasso.py:139: ConvergenceWarning: Objective did not converge. You might want to increase the number of iterations. Duality gap: 0.008191989999311033, tolerance: 0.004067101526245805\n",
      "  coefs, _, _, _ = cd_fast.enet_coordinate_descent_gram(\n",
      "/Users/as3993/anaconda3/envs/plprob/lib/python3.12/site-packages/sklearn/covariance/_graph_lasso.py:139: ConvergenceWarning: Objective did not converge. You might want to increase the number of iterations. Duality gap: 0.004568913111981487, tolerance: 0.004099077252894435\n",
      "  coefs, _, _, _ = cd_fast.enet_coordinate_descent_gram(\n",
      "/Users/as3993/anaconda3/envs/plprob/lib/python3.12/site-packages/sklearn/covariance/_graph_lasso.py:139: ConvergenceWarning: Objective did not converge. You might want to increase the number of iterations. Duality gap: 0.004868069829527144, tolerance: 0.00385485360745332\n",
      "  coefs, _, _, _ = cd_fast.enet_coordinate_descent_gram(\n",
      "/Users/as3993/anaconda3/envs/plprob/lib/python3.12/site-packages/sklearn/covariance/_graph_lasso.py:139: ConvergenceWarning: Objective did not converge. You might want to increase the number of iterations. Duality gap: 0.005422912310663719, tolerance: 0.003795765090121468\n",
      "  coefs, _, _, _ = cd_fast.enet_coordinate_descent_gram(\n",
      "/Users/as3993/anaconda3/envs/plprob/lib/python3.12/site-packages/sklearn/covariance/_graph_lasso.py:191: ConvergenceWarning: graphical_lasso: did not converge after 100 iteration: dual gap: 3.150e-02\n",
      "  warnings.warn(\n",
      "/Users/as3993/Amit/PLProb/R/univariate.py:330: RuntimeWarning: invalid value encountered in power\n",
      "  val[lower_tail_x] = p_lower * (1 - (k * (x[lower_tail_x] - b))/a)**(-1/k)\n",
      "/Users/as3993/Amit/PLProb/plprob/predictor.py:548: FutureWarning: The default of observed=False is deprecated and will be changed to True in a future version of pandas. Pass observed=False to retain current behavior or observed=True to adopt the future default and silence this warning.\n",
      "  self.cp_prob = dict(cp_count.groupby(cp_count).count()[::-1].cumsum() / len(cp_count))\n",
      "/Users/as3993/Amit/PLProb/plprob/predictor.py:551: FutureWarning: The behavior of DataFrame.idxmax with all-NA values, or any-NA and skipna=False, is deprecated. In a future version this will raise ValueError\n",
      "  peak_hour = self.cond_scenarios.droplevel(axis=1,level=0).idxmax(axis=1)\n"
     ]
    },
    {
     "name": "stdout",
     "output_type": "stream",
     "text": [
      "2023-09-23\n"
     ]
    },
    {
     "name": "stderr",
     "output_type": "stream",
     "text": [
      "/Users/as3993/Amit/PLProb/R/univariate.py:320: RuntimeWarning: invalid value encountered in power\n",
      "  val[upper_tail_x] = 1 - (1 - p_upper) * (1 + (k * (x[upper_tail_x] - b))/a)**(-1/k)\n",
      "/Users/as3993/Amit/PLProb/R/univariate.py:330: RuntimeWarning: invalid value encountered in power\n",
      "  val[lower_tail_x] = p_lower * (1 - (k * (x[lower_tail_x] - b))/a)**(-1/k)\n",
      "/Users/as3993/anaconda3/envs/plprob/lib/python3.12/site-packages/sklearn/covariance/_graph_lasso.py:191: ConvergenceWarning: graphical_lasso: did not converge after 100 iteration: dual gap: -5.178e-04\n",
      "  warnings.warn(\n",
      "/Users/as3993/Amit/PLProb/R/univariate.py:330: RuntimeWarning: invalid value encountered in power\n",
      "  val[lower_tail_x] = p_lower * (1 - (k * (x[lower_tail_x] - b))/a)**(-1/k)\n",
      "/Users/as3993/anaconda3/envs/plprob/lib/python3.12/site-packages/sklearn/covariance/_graph_lasso.py:139: ConvergenceWarning: Objective did not converge. You might want to increase the number of iterations. Duality gap: 0.006891038738245925, tolerance: 0.003807049002920948\n",
      "  coefs, _, _, _ = cd_fast.enet_coordinate_descent_gram(\n",
      "/Users/as3993/anaconda3/envs/plprob/lib/python3.12/site-packages/sklearn/covariance/_graph_lasso.py:139: ConvergenceWarning: Objective did not converge. You might want to increase the number of iterations. Duality gap: 0.013750767670245523, tolerance: 0.0037891958901755305\n",
      "  coefs, _, _, _ = cd_fast.enet_coordinate_descent_gram(\n",
      "/Users/as3993/anaconda3/envs/plprob/lib/python3.12/site-packages/sklearn/covariance/_graph_lasso.py:139: ConvergenceWarning: Objective did not converge. You might want to increase the number of iterations. Duality gap: 0.008369567276140799, tolerance: 0.0037726958115137294\n",
      "  coefs, _, _, _ = cd_fast.enet_coordinate_descent_gram(\n",
      "/Users/as3993/anaconda3/envs/plprob/lib/python3.12/site-packages/sklearn/covariance/_graph_lasso.py:139: ConvergenceWarning: Objective did not converge. You might want to increase the number of iterations. Duality gap: 0.017335211602599543, tolerance: 0.003956253890687454\n",
      "  coefs, _, _, _ = cd_fast.enet_coordinate_descent_gram(\n",
      "/Users/as3993/anaconda3/envs/plprob/lib/python3.12/site-packages/sklearn/covariance/_graph_lasso.py:139: ConvergenceWarning: Objective did not converge. You might want to increase the number of iterations. Duality gap: 0.008246718585859014, tolerance: 0.004067473270033803\n",
      "  coefs, _, _, _ = cd_fast.enet_coordinate_descent_gram(\n",
      "/Users/as3993/anaconda3/envs/plprob/lib/python3.12/site-packages/sklearn/covariance/_graph_lasso.py:139: ConvergenceWarning: Objective did not converge. You might want to increase the number of iterations. Duality gap: 0.004565858302179038, tolerance: 0.004099510570133684\n",
      "  coefs, _, _, _ = cd_fast.enet_coordinate_descent_gram(\n",
      "/Users/as3993/anaconda3/envs/plprob/lib/python3.12/site-packages/sklearn/covariance/_graph_lasso.py:139: ConvergenceWarning: Objective did not converge. You might want to increase the number of iterations. Duality gap: 0.005467081485861058, tolerance: 0.0038560828685719807\n",
      "  coefs, _, _, _ = cd_fast.enet_coordinate_descent_gram(\n",
      "/Users/as3993/anaconda3/envs/plprob/lib/python3.12/site-packages/sklearn/covariance/_graph_lasso.py:139: ConvergenceWarning: Objective did not converge. You might want to increase the number of iterations. Duality gap: 0.005659481096515151, tolerance: 0.003795615625956834\n",
      "  coefs, _, _, _ = cd_fast.enet_coordinate_descent_gram(\n",
      "/Users/as3993/anaconda3/envs/plprob/lib/python3.12/site-packages/sklearn/covariance/_graph_lasso.py:191: ConvergenceWarning: graphical_lasso: did not converge after 100 iteration: dual gap: 5.413e-02\n",
      "  warnings.warn(\n",
      "/Users/as3993/Amit/PLProb/R/univariate.py:330: RuntimeWarning: invalid value encountered in power\n",
      "  val[lower_tail_x] = p_lower * (1 - (k * (x[lower_tail_x] - b))/a)**(-1/k)\n",
      "/Users/as3993/Amit/PLProb/plprob/predictor.py:548: FutureWarning: The default of observed=False is deprecated and will be changed to True in a future version of pandas. Pass observed=False to retain current behavior or observed=True to adopt the future default and silence this warning.\n",
      "  self.cp_prob = dict(cp_count.groupby(cp_count).count()[::-1].cumsum() / len(cp_count))\n",
      "/Users/as3993/Amit/PLProb/plprob/predictor.py:551: FutureWarning: The behavior of DataFrame.idxmax with all-NA values, or any-NA and skipna=False, is deprecated. In a future version this will raise ValueError\n",
      "  peak_hour = self.cond_scenarios.droplevel(axis=1,level=0).idxmax(axis=1)\n"
     ]
    },
    {
     "name": "stdout",
     "output_type": "stream",
     "text": [
      "2023-09-24\n"
     ]
    },
    {
     "name": "stderr",
     "output_type": "stream",
     "text": [
      "/Users/as3993/Amit/PLProb/R/univariate.py:320: RuntimeWarning: invalid value encountered in power\n",
      "  val[upper_tail_x] = 1 - (1 - p_upper) * (1 + (k * (x[upper_tail_x] - b))/a)**(-1/k)\n",
      "/Users/as3993/Amit/PLProb/R/univariate.py:330: RuntimeWarning: invalid value encountered in power\n",
      "  val[lower_tail_x] = p_lower * (1 - (k * (x[lower_tail_x] - b))/a)**(-1/k)\n",
      "/Users/as3993/Amit/PLProb/R/univariate.py:330: RuntimeWarning: invalid value encountered in power\n",
      "  val[lower_tail_x] = p_lower * (1 - (k * (x[lower_tail_x] - b))/a)**(-1/k)\n",
      "/Users/as3993/anaconda3/envs/plprob/lib/python3.12/site-packages/sklearn/covariance/_graph_lasso.py:139: ConvergenceWarning: Objective did not converge. You might want to increase the number of iterations. Duality gap: 0.006884750106479487, tolerance: 0.0038033448004694643\n",
      "  coefs, _, _, _ = cd_fast.enet_coordinate_descent_gram(\n",
      "/Users/as3993/anaconda3/envs/plprob/lib/python3.12/site-packages/sklearn/covariance/_graph_lasso.py:139: ConvergenceWarning: Objective did not converge. You might want to increase the number of iterations. Duality gap: 0.014061149322238009, tolerance: 0.003785594709777396\n",
      "  coefs, _, _, _ = cd_fast.enet_coordinate_descent_gram(\n",
      "/Users/as3993/anaconda3/envs/plprob/lib/python3.12/site-packages/sklearn/covariance/_graph_lasso.py:139: ConvergenceWarning: Objective did not converge. You might want to increase the number of iterations. Duality gap: 0.008628239673910798, tolerance: 0.003769756298481263\n",
      "  coefs, _, _, _ = cd_fast.enet_coordinate_descent_gram(\n",
      "/Users/as3993/anaconda3/envs/plprob/lib/python3.12/site-packages/sklearn/covariance/_graph_lasso.py:139: ConvergenceWarning: Objective did not converge. You might want to increase the number of iterations. Duality gap: 0.016790160960098888, tolerance: 0.00395218648040392\n",
      "  coefs, _, _, _ = cd_fast.enet_coordinate_descent_gram(\n",
      "/Users/as3993/anaconda3/envs/plprob/lib/python3.12/site-packages/sklearn/covariance/_graph_lasso.py:139: ConvergenceWarning: Objective did not converge. You might want to increase the number of iterations. Duality gap: 0.008657038328685474, tolerance: 0.004063489948776391\n",
      "  coefs, _, _, _ = cd_fast.enet_coordinate_descent_gram(\n",
      "/Users/as3993/anaconda3/envs/plprob/lib/python3.12/site-packages/sklearn/covariance/_graph_lasso.py:139: ConvergenceWarning: Objective did not converge. You might want to increase the number of iterations. Duality gap: 0.004598391095250065, tolerance: 0.004095895781196254\n",
      "  coefs, _, _, _ = cd_fast.enet_coordinate_descent_gram(\n",
      "/Users/as3993/anaconda3/envs/plprob/lib/python3.12/site-packages/sklearn/covariance/_graph_lasso.py:139: ConvergenceWarning: Objective did not converge. You might want to increase the number of iterations. Duality gap: 0.004555970456209479, tolerance: 0.0038523640356340097\n",
      "  coefs, _, _, _ = cd_fast.enet_coordinate_descent_gram(\n",
      "/Users/as3993/anaconda3/envs/plprob/lib/python3.12/site-packages/sklearn/covariance/_graph_lasso.py:139: ConvergenceWarning: Objective did not converge. You might want to increase the number of iterations. Duality gap: 0.005330815526527033, tolerance: 0.00379269000650691\n",
      "  coefs, _, _, _ = cd_fast.enet_coordinate_descent_gram(\n",
      "/Users/as3993/anaconda3/envs/plprob/lib/python3.12/site-packages/sklearn/covariance/_graph_lasso.py:191: ConvergenceWarning: graphical_lasso: did not converge after 100 iteration: dual gap: 9.045e-02\n",
      "  warnings.warn(\n",
      "/Users/as3993/Amit/PLProb/R/univariate.py:330: RuntimeWarning: invalid value encountered in power\n",
      "  val[lower_tail_x] = p_lower * (1 - (k * (x[lower_tail_x] - b))/a)**(-1/k)\n",
      "/Users/as3993/Amit/PLProb/plprob/predictor.py:548: FutureWarning: The default of observed=False is deprecated and will be changed to True in a future version of pandas. Pass observed=False to retain current behavior or observed=True to adopt the future default and silence this warning.\n",
      "  self.cp_prob = dict(cp_count.groupby(cp_count).count()[::-1].cumsum() / len(cp_count))\n",
      "/Users/as3993/Amit/PLProb/plprob/predictor.py:551: FutureWarning: The behavior of DataFrame.idxmax with all-NA values, or any-NA and skipna=False, is deprecated. In a future version this will raise ValueError\n",
      "  peak_hour = self.cond_scenarios.droplevel(axis=1,level=0).idxmax(axis=1)\n"
     ]
    },
    {
     "name": "stdout",
     "output_type": "stream",
     "text": [
      "2023-09-25\n"
     ]
    },
    {
     "name": "stderr",
     "output_type": "stream",
     "text": [
      "/Users/as3993/Amit/PLProb/R/univariate.py:320: RuntimeWarning: invalid value encountered in power\n",
      "  val[upper_tail_x] = 1 - (1 - p_upper) * (1 + (k * (x[upper_tail_x] - b))/a)**(-1/k)\n",
      "/Users/as3993/Amit/PLProb/R/univariate.py:330: RuntimeWarning: invalid value encountered in power\n",
      "  val[lower_tail_x] = p_lower * (1 - (k * (x[lower_tail_x] - b))/a)**(-1/k)\n",
      "/Users/as3993/Amit/PLProb/R/univariate.py:330: RuntimeWarning: invalid value encountered in power\n",
      "  val[lower_tail_x] = p_lower * (1 - (k * (x[lower_tail_x] - b))/a)**(-1/k)\n",
      "/Users/as3993/anaconda3/envs/plprob/lib/python3.12/site-packages/sklearn/covariance/_graph_lasso.py:139: ConvergenceWarning: Objective did not converge. You might want to increase the number of iterations. Duality gap: 0.006049852360810348, tolerance: 0.0037983694498802253\n",
      "  coefs, _, _, _ = cd_fast.enet_coordinate_descent_gram(\n",
      "/Users/as3993/anaconda3/envs/plprob/lib/python3.12/site-packages/sklearn/covariance/_graph_lasso.py:139: ConvergenceWarning: Objective did not converge. You might want to increase the number of iterations. Duality gap: 0.009728072421189893, tolerance: 0.0037801245695966127\n",
      "  coefs, _, _, _ = cd_fast.enet_coordinate_descent_gram(\n",
      "/Users/as3993/anaconda3/envs/plprob/lib/python3.12/site-packages/sklearn/covariance/_graph_lasso.py:139: ConvergenceWarning: Objective did not converge. You might want to increase the number of iterations. Duality gap: 0.005147427882299382, tolerance: 0.0037643773580737384\n",
      "  coefs, _, _, _ = cd_fast.enet_coordinate_descent_gram(\n",
      "/Users/as3993/anaconda3/envs/plprob/lib/python3.12/site-packages/sklearn/covariance/_graph_lasso.py:139: ConvergenceWarning: Objective did not converge. You might want to increase the number of iterations. Duality gap: 0.007001637430185781, tolerance: 0.0035638484771539866\n",
      "  coefs, _, _, _ = cd_fast.enet_coordinate_descent_gram(\n",
      "/Users/as3993/anaconda3/envs/plprob/lib/python3.12/site-packages/sklearn/covariance/_graph_lasso.py:139: ConvergenceWarning: Objective did not converge. You might want to increase the number of iterations. Duality gap: 0.015967751279553966, tolerance: 0.0039476789664904515\n",
      "  coefs, _, _, _ = cd_fast.enet_coordinate_descent_gram(\n",
      "/Users/as3993/anaconda3/envs/plprob/lib/python3.12/site-packages/sklearn/covariance/_graph_lasso.py:139: ConvergenceWarning: Objective did not converge. You might want to increase the number of iterations. Duality gap: 0.00841476602351321, tolerance: 0.004058801975337408\n",
      "  coefs, _, _, _ = cd_fast.enet_coordinate_descent_gram(\n",
      "/Users/as3993/anaconda3/envs/plprob/lib/python3.12/site-packages/sklearn/covariance/_graph_lasso.py:139: ConvergenceWarning: Objective did not converge. You might want to increase the number of iterations. Duality gap: 0.004527091760913038, tolerance: 0.004090720592727507\n",
      "  coefs, _, _, _ = cd_fast.enet_coordinate_descent_gram(\n",
      "/Users/as3993/anaconda3/envs/plprob/lib/python3.12/site-packages/sklearn/covariance/_graph_lasso.py:139: ConvergenceWarning: Objective did not converge. You might want to increase the number of iterations. Duality gap: 0.00909418888248581, tolerance: 0.0037892911337234405\n",
      "  coefs, _, _, _ = cd_fast.enet_coordinate_descent_gram(\n",
      "/Users/as3993/anaconda3/envs/plprob/lib/python3.12/site-packages/sklearn/covariance/_graph_lasso.py:191: ConvergenceWarning: graphical_lasso: did not converge after 100 iteration: dual gap: 4.905e-02\n",
      "  warnings.warn(\n",
      "/Users/as3993/Amit/PLProb/R/univariate.py:330: RuntimeWarning: invalid value encountered in power\n",
      "  val[lower_tail_x] = p_lower * (1 - (k * (x[lower_tail_x] - b))/a)**(-1/k)\n",
      "/Users/as3993/Amit/PLProb/plprob/predictor.py:548: FutureWarning: The default of observed=False is deprecated and will be changed to True in a future version of pandas. Pass observed=False to retain current behavior or observed=True to adopt the future default and silence this warning.\n",
      "  self.cp_prob = dict(cp_count.groupby(cp_count).count()[::-1].cumsum() / len(cp_count))\n",
      "/Users/as3993/Amit/PLProb/plprob/predictor.py:551: FutureWarning: The behavior of DataFrame.idxmax with all-NA values, or any-NA and skipna=False, is deprecated. In a future version this will raise ValueError\n",
      "  peak_hour = self.cond_scenarios.droplevel(axis=1,level=0).idxmax(axis=1)\n"
     ]
    },
    {
     "name": "stdout",
     "output_type": "stream",
     "text": [
      "2023-09-26\n"
     ]
    },
    {
     "name": "stderr",
     "output_type": "stream",
     "text": [
      "/Users/as3993/Amit/PLProb/R/univariate.py:320: RuntimeWarning: invalid value encountered in power\n",
      "  val[upper_tail_x] = 1 - (1 - p_upper) * (1 + (k * (x[upper_tail_x] - b))/a)**(-1/k)\n",
      "/Users/as3993/Amit/PLProb/R/univariate.py:330: RuntimeWarning: invalid value encountered in power\n",
      "  val[lower_tail_x] = p_lower * (1 - (k * (x[lower_tail_x] - b))/a)**(-1/k)\n",
      "/Users/as3993/Amit/PLProb/R/univariate.py:330: RuntimeWarning: invalid value encountered in power\n",
      "  val[lower_tail_x] = p_lower * (1 - (k * (x[lower_tail_x] - b))/a)**(-1/k)\n",
      "/Users/as3993/anaconda3/envs/plprob/lib/python3.12/site-packages/sklearn/covariance/_graph_lasso.py:139: ConvergenceWarning: Objective did not converge. You might want to increase the number of iterations. Duality gap: 0.004396075922926457, tolerance: 0.003808922050106094\n",
      "  coefs, _, _, _ = cd_fast.enet_coordinate_descent_gram(\n",
      "/Users/as3993/anaconda3/envs/plprob/lib/python3.12/site-packages/sklearn/covariance/_graph_lasso.py:139: ConvergenceWarning: Objective did not converge. You might want to increase the number of iterations. Duality gap: 0.00988348263301475, tolerance: 0.0037910768042707234\n",
      "  coefs, _, _, _ = cd_fast.enet_coordinate_descent_gram(\n",
      "/Users/as3993/anaconda3/envs/plprob/lib/python3.12/site-packages/sklearn/covariance/_graph_lasso.py:139: ConvergenceWarning: Objective did not converge. You might want to increase the number of iterations. Duality gap: 0.008034501225452573, tolerance: 0.0037761022625199207\n",
      "  coefs, _, _, _ = cd_fast.enet_coordinate_descent_gram(\n",
      "/Users/as3993/anaconda3/envs/plprob/lib/python3.12/site-packages/sklearn/covariance/_graph_lasso.py:139: ConvergenceWarning: Objective did not converge. You might want to increase the number of iterations. Duality gap: 0.01599765439011236, tolerance: 0.003956366057095804\n",
      "  coefs, _, _, _ = cd_fast.enet_coordinate_descent_gram(\n",
      "/Users/as3993/anaconda3/envs/plprob/lib/python3.12/site-packages/sklearn/covariance/_graph_lasso.py:139: ConvergenceWarning: Objective did not converge. You might want to increase the number of iterations. Duality gap: 0.00802164740614586, tolerance: 0.0040681745403765325\n",
      "  coefs, _, _, _ = cd_fast.enet_coordinate_descent_gram(\n",
      "/Users/as3993/Amit/PLProb/R/univariate.py:330: RuntimeWarning: invalid value encountered in power\n",
      "  val[lower_tail_x] = p_lower * (1 - (k * (x[lower_tail_x] - b))/a)**(-1/k)\n",
      "/Users/as3993/Amit/PLProb/plprob/predictor.py:548: FutureWarning: The default of observed=False is deprecated and will be changed to True in a future version of pandas. Pass observed=False to retain current behavior or observed=True to adopt the future default and silence this warning.\n",
      "  self.cp_prob = dict(cp_count.groupby(cp_count).count()[::-1].cumsum() / len(cp_count))\n",
      "/Users/as3993/Amit/PLProb/plprob/predictor.py:551: FutureWarning: The behavior of DataFrame.idxmax with all-NA values, or any-NA and skipna=False, is deprecated. In a future version this will raise ValueError\n",
      "  peak_hour = self.cond_scenarios.droplevel(axis=1,level=0).idxmax(axis=1)\n"
     ]
    },
    {
     "name": "stdout",
     "output_type": "stream",
     "text": [
      "2023-09-27\n"
     ]
    },
    {
     "name": "stderr",
     "output_type": "stream",
     "text": [
      "/Users/as3993/Amit/PLProb/R/univariate.py:320: RuntimeWarning: invalid value encountered in power\n",
      "  val[upper_tail_x] = 1 - (1 - p_upper) * (1 + (k * (x[upper_tail_x] - b))/a)**(-1/k)\n",
      "/Users/as3993/Amit/PLProb/R/univariate.py:330: RuntimeWarning: invalid value encountered in power\n",
      "  val[lower_tail_x] = p_lower * (1 - (k * (x[lower_tail_x] - b))/a)**(-1/k)\n",
      "/Users/as3993/Amit/PLProb/R/univariate.py:330: RuntimeWarning: invalid value encountered in power\n",
      "  val[lower_tail_x] = p_lower * (1 - (k * (x[lower_tail_x] - b))/a)**(-1/k)\n",
      "/Users/as3993/anaconda3/envs/plprob/lib/python3.12/site-packages/sklearn/covariance/_graph_lasso.py:139: ConvergenceWarning: Objective did not converge. You might want to increase the number of iterations. Duality gap: 0.004428348188739051, tolerance: 0.0038229928131958595\n",
      "  coefs, _, _, _ = cd_fast.enet_coordinate_descent_gram(\n",
      "/Users/as3993/anaconda3/envs/plprob/lib/python3.12/site-packages/sklearn/covariance/_graph_lasso.py:139: ConvergenceWarning: Objective did not converge. You might want to increase the number of iterations. Duality gap: 0.01250714265418651, tolerance: 0.003805261575857915\n",
      "  coefs, _, _, _ = cd_fast.enet_coordinate_descent_gram(\n",
      "/Users/as3993/anaconda3/envs/plprob/lib/python3.12/site-packages/sklearn/covariance/_graph_lasso.py:139: ConvergenceWarning: Objective did not converge. You might want to increase the number of iterations. Duality gap: 0.011023146814920892, tolerance: 0.0037899481078681593\n",
      "  coefs, _, _, _ = cd_fast.enet_coordinate_descent_gram(\n",
      "/Users/as3993/anaconda3/envs/plprob/lib/python3.12/site-packages/sklearn/covariance/_graph_lasso.py:139: ConvergenceWarning: Objective did not converge. You might want to increase the number of iterations. Duality gap: 0.016286350852176668, tolerance: 0.003965933043008485\n",
      "  coefs, _, _, _ = cd_fast.enet_coordinate_descent_gram(\n",
      "/Users/as3993/anaconda3/envs/plprob/lib/python3.12/site-packages/sklearn/covariance/_graph_lasso.py:139: ConvergenceWarning: Objective did not converge. You might want to increase the number of iterations. Duality gap: 0.00857414434764081, tolerance: 0.004078833740423346\n",
      "  coefs, _, _, _ = cd_fast.enet_coordinate_descent_gram(\n",
      "/Users/as3993/anaconda3/envs/plprob/lib/python3.12/site-packages/sklearn/covariance/_graph_lasso.py:139: ConvergenceWarning: Objective did not converge. You might want to increase the number of iterations. Duality gap: 0.0042182915703321555, tolerance: 0.004112333924844389\n",
      "  coefs, _, _, _ = cd_fast.enet_coordinate_descent_gram(\n",
      "/Users/as3993/anaconda3/envs/plprob/lib/python3.12/site-packages/sklearn/covariance/_graph_lasso.py:139: ConvergenceWarning: Objective did not converge. You might want to increase the number of iterations. Duality gap: 0.0047882639812328875, tolerance: 0.003867516872199863\n",
      "  coefs, _, _, _ = cd_fast.enet_coordinate_descent_gram(\n",
      "/Users/as3993/anaconda3/envs/plprob/lib/python3.12/site-packages/sklearn/covariance/_graph_lasso.py:191: ConvergenceWarning: graphical_lasso: did not converge after 100 iteration: dual gap: 4.026e-03\n",
      "  warnings.warn(\n",
      "/Users/as3993/Amit/PLProb/R/univariate.py:330: RuntimeWarning: invalid value encountered in power\n",
      "  val[lower_tail_x] = p_lower * (1 - (k * (x[lower_tail_x] - b))/a)**(-1/k)\n",
      "/Users/as3993/Amit/PLProb/plprob/predictor.py:548: FutureWarning: The default of observed=False is deprecated and will be changed to True in a future version of pandas. Pass observed=False to retain current behavior or observed=True to adopt the future default and silence this warning.\n",
      "  self.cp_prob = dict(cp_count.groupby(cp_count).count()[::-1].cumsum() / len(cp_count))\n",
      "/Users/as3993/Amit/PLProb/plprob/predictor.py:551: FutureWarning: The behavior of DataFrame.idxmax with all-NA values, or any-NA and skipna=False, is deprecated. In a future version this will raise ValueError\n",
      "  peak_hour = self.cond_scenarios.droplevel(axis=1,level=0).idxmax(axis=1)\n"
     ]
    },
    {
     "name": "stdout",
     "output_type": "stream",
     "text": [
      "2023-09-28\n"
     ]
    },
    {
     "name": "stderr",
     "output_type": "stream",
     "text": [
      "/Users/as3993/Amit/PLProb/R/univariate.py:320: RuntimeWarning: invalid value encountered in power\n",
      "  val[upper_tail_x] = 1 - (1 - p_upper) * (1 + (k * (x[upper_tail_x] - b))/a)**(-1/k)\n",
      "/Users/as3993/Amit/PLProb/R/univariate.py:330: RuntimeWarning: invalid value encountered in power\n",
      "  val[lower_tail_x] = p_lower * (1 - (k * (x[lower_tail_x] - b))/a)**(-1/k)\n",
      "/Users/as3993/Amit/PLProb/R/univariate.py:330: RuntimeWarning: invalid value encountered in power\n",
      "  val[lower_tail_x] = p_lower * (1 - (k * (x[lower_tail_x] - b))/a)**(-1/k)\n",
      "/Users/as3993/anaconda3/envs/plprob/lib/python3.12/site-packages/sklearn/covariance/_graph_lasso.py:139: ConvergenceWarning: Objective did not converge. You might want to increase the number of iterations. Duality gap: 0.006990012546786772, tolerance: 0.003826435838589096\n",
      "  coefs, _, _, _ = cd_fast.enet_coordinate_descent_gram(\n",
      "/Users/as3993/anaconda3/envs/plprob/lib/python3.12/site-packages/sklearn/covariance/_graph_lasso.py:139: ConvergenceWarning: Objective did not converge. You might want to increase the number of iterations. Duality gap: 0.013400913916640889, tolerance: 0.0038086633788589133\n",
      "  coefs, _, _, _ = cd_fast.enet_coordinate_descent_gram(\n",
      "/Users/as3993/anaconda3/envs/plprob/lib/python3.12/site-packages/sklearn/covariance/_graph_lasso.py:139: ConvergenceWarning: Objective did not converge. You might want to increase the number of iterations. Duality gap: 0.011736849250695514, tolerance: 0.003793748249152907\n",
      "  coefs, _, _, _ = cd_fast.enet_coordinate_descent_gram(\n",
      "/Users/as3993/anaconda3/envs/plprob/lib/python3.12/site-packages/sklearn/covariance/_graph_lasso.py:139: ConvergenceWarning: Objective did not converge. You might want to increase the number of iterations. Duality gap: 0.015930727194707117, tolerance: 0.0039679822737255475\n",
      "  coefs, _, _, _ = cd_fast.enet_coordinate_descent_gram(\n",
      "/Users/as3993/anaconda3/envs/plprob/lib/python3.12/site-packages/sklearn/covariance/_graph_lasso.py:139: ConvergenceWarning: Objective did not converge. You might want to increase the number of iterations. Duality gap: 0.008237094766890607, tolerance: 0.004081440003143634\n",
      "  coefs, _, _, _ = cd_fast.enet_coordinate_descent_gram(\n",
      "/Users/as3993/anaconda3/envs/plprob/lib/python3.12/site-packages/sklearn/covariance/_graph_lasso.py:139: ConvergenceWarning: Objective did not converge. You might want to increase the number of iterations. Duality gap: 0.004527873986205577, tolerance: 0.004114540953402726\n",
      "  coefs, _, _, _ = cd_fast.enet_coordinate_descent_gram(\n",
      "/Users/as3993/anaconda3/envs/plprob/lib/python3.12/site-packages/sklearn/covariance/_graph_lasso.py:139: ConvergenceWarning: Objective did not converge. You might want to increase the number of iterations. Duality gap: 0.0063460539184632125, tolerance: 0.003864497707188216\n",
      "  coefs, _, _, _ = cd_fast.enet_coordinate_descent_gram(\n",
      "/Users/as3993/Amit/PLProb/R/univariate.py:330: RuntimeWarning: invalid value encountered in power\n",
      "  val[lower_tail_x] = p_lower * (1 - (k * (x[lower_tail_x] - b))/a)**(-1/k)\n",
      "/Users/as3993/Amit/PLProb/plprob/predictor.py:548: FutureWarning: The default of observed=False is deprecated and will be changed to True in a future version of pandas. Pass observed=False to retain current behavior or observed=True to adopt the future default and silence this warning.\n",
      "  self.cp_prob = dict(cp_count.groupby(cp_count).count()[::-1].cumsum() / len(cp_count))\n",
      "/Users/as3993/Amit/PLProb/plprob/predictor.py:551: FutureWarning: The behavior of DataFrame.idxmax with all-NA values, or any-NA and skipna=False, is deprecated. In a future version this will raise ValueError\n",
      "  peak_hour = self.cond_scenarios.droplevel(axis=1,level=0).idxmax(axis=1)\n"
     ]
    },
    {
     "name": "stdout",
     "output_type": "stream",
     "text": [
      "2023-09-29\n"
     ]
    },
    {
     "name": "stderr",
     "output_type": "stream",
     "text": [
      "/Users/as3993/Amit/PLProb/R/univariate.py:320: RuntimeWarning: invalid value encountered in power\n",
      "  val[upper_tail_x] = 1 - (1 - p_upper) * (1 + (k * (x[upper_tail_x] - b))/a)**(-1/k)\n",
      "/Users/as3993/Amit/PLProb/R/univariate.py:330: RuntimeWarning: invalid value encountered in power\n",
      "  val[lower_tail_x] = p_lower * (1 - (k * (x[lower_tail_x] - b))/a)**(-1/k)\n",
      "/Users/as3993/Amit/PLProb/R/univariate.py:330: RuntimeWarning: invalid value encountered in power\n",
      "  val[lower_tail_x] = p_lower * (1 - (k * (x[lower_tail_x] - b))/a)**(-1/k)\n",
      "/Users/as3993/anaconda3/envs/plprob/lib/python3.12/site-packages/sklearn/covariance/_graph_lasso.py:139: ConvergenceWarning: Objective did not converge. You might want to increase the number of iterations. Duality gap: 0.007617531003702993, tolerance: 0.003824528972648272\n",
      "  coefs, _, _, _ = cd_fast.enet_coordinate_descent_gram(\n",
      "/Users/as3993/anaconda3/envs/plprob/lib/python3.12/site-packages/sklearn/covariance/_graph_lasso.py:139: ConvergenceWarning: Objective did not converge. You might want to increase the number of iterations. Duality gap: 0.015513799075776546, tolerance: 0.0038064194164162636\n",
      "  coefs, _, _, _ = cd_fast.enet_coordinate_descent_gram(\n",
      "/Users/as3993/anaconda3/envs/plprob/lib/python3.12/site-packages/sklearn/covariance/_graph_lasso.py:139: ConvergenceWarning: Objective did not converge. You might want to increase the number of iterations. Duality gap: 0.012890225006707112, tolerance: 0.003791661686900446\n",
      "  coefs, _, _, _ = cd_fast.enet_coordinate_descent_gram(\n",
      "/Users/as3993/anaconda3/envs/plprob/lib/python3.12/site-packages/sklearn/covariance/_graph_lasso.py:139: ConvergenceWarning: Objective did not converge. You might want to increase the number of iterations. Duality gap: 0.015942595918524205, tolerance: 0.0039657888557172154\n",
      "  coefs, _, _, _ = cd_fast.enet_coordinate_descent_gram(\n",
      "/Users/as3993/anaconda3/envs/plprob/lib/python3.12/site-packages/sklearn/covariance/_graph_lasso.py:139: ConvergenceWarning: Objective did not converge. You might want to increase the number of iterations. Duality gap: 0.008036494413481421, tolerance: 0.004079233382192083\n",
      "  coefs, _, _, _ = cd_fast.enet_coordinate_descent_gram(\n",
      "/Users/as3993/anaconda3/envs/plprob/lib/python3.12/site-packages/sklearn/covariance/_graph_lasso.py:139: ConvergenceWarning: Objective did not converge. You might want to increase the number of iterations. Duality gap: 0.00459581717223756, tolerance: 0.0041122689778078534\n",
      "  coefs, _, _, _ = cd_fast.enet_coordinate_descent_gram(\n",
      "/Users/as3993/anaconda3/envs/plprob/lib/python3.12/site-packages/sklearn/covariance/_graph_lasso.py:139: ConvergenceWarning: Objective did not converge. You might want to increase the number of iterations. Duality gap: 0.00413341724185301, tolerance: 0.0039324513352714825\n",
      "  coefs, _, _, _ = cd_fast.enet_coordinate_descent_gram(\n",
      "/Users/as3993/anaconda3/envs/plprob/lib/python3.12/site-packages/sklearn/covariance/_graph_lasso.py:191: ConvergenceWarning: graphical_lasso: did not converge after 100 iteration: dual gap: 9.532e-03\n",
      "  warnings.warn(\n",
      "/Users/as3993/Amit/PLProb/R/univariate.py:330: RuntimeWarning: invalid value encountered in power\n",
      "  val[lower_tail_x] = p_lower * (1 - (k * (x[lower_tail_x] - b))/a)**(-1/k)\n",
      "/Users/as3993/Amit/PLProb/plprob/predictor.py:548: FutureWarning: The default of observed=False is deprecated and will be changed to True in a future version of pandas. Pass observed=False to retain current behavior or observed=True to adopt the future default and silence this warning.\n",
      "  self.cp_prob = dict(cp_count.groupby(cp_count).count()[::-1].cumsum() / len(cp_count))\n",
      "/Users/as3993/Amit/PLProb/plprob/predictor.py:551: FutureWarning: The behavior of DataFrame.idxmax with all-NA values, or any-NA and skipna=False, is deprecated. In a future version this will raise ValueError\n",
      "  peak_hour = self.cond_scenarios.droplevel(axis=1,level=0).idxmax(axis=1)\n"
     ]
    },
    {
     "name": "stdout",
     "output_type": "stream",
     "text": [
      "2023-09-30\n"
     ]
    },
    {
     "name": "stderr",
     "output_type": "stream",
     "text": [
      "/Users/as3993/Amit/PLProb/R/univariate.py:320: RuntimeWarning: invalid value encountered in power\n",
      "  val[upper_tail_x] = 1 - (1 - p_upper) * (1 + (k * (x[upper_tail_x] - b))/a)**(-1/k)\n",
      "/Users/as3993/Amit/PLProb/R/univariate.py:330: RuntimeWarning: invalid value encountered in power\n",
      "  val[lower_tail_x] = p_lower * (1 - (k * (x[lower_tail_x] - b))/a)**(-1/k)\n",
      "/Users/as3993/anaconda3/envs/plprob/lib/python3.12/site-packages/sklearn/covariance/_graph_lasso.py:191: ConvergenceWarning: graphical_lasso: did not converge after 100 iteration: dual gap: -5.082e-04\n",
      "  warnings.warn(\n",
      "/Users/as3993/Amit/PLProb/R/univariate.py:330: RuntimeWarning: invalid value encountered in power\n",
      "  val[lower_tail_x] = p_lower * (1 - (k * (x[lower_tail_x] - b))/a)**(-1/k)\n",
      "/Users/as3993/anaconda3/envs/plprob/lib/python3.12/site-packages/sklearn/covariance/_graph_lasso.py:139: ConvergenceWarning: Objective did not converge. You might want to increase the number of iterations. Duality gap: 0.007858665317478142, tolerance: 0.0038142809259797583\n",
      "  coefs, _, _, _ = cd_fast.enet_coordinate_descent_gram(\n",
      "/Users/as3993/anaconda3/envs/plprob/lib/python3.12/site-packages/sklearn/covariance/_graph_lasso.py:139: ConvergenceWarning: Objective did not converge. You might want to increase the number of iterations. Duality gap: 0.017606593297948336, tolerance: 0.0037818620638510126\n",
      "  coefs, _, _, _ = cd_fast.enet_coordinate_descent_gram(\n",
      "/Users/as3993/anaconda3/envs/plprob/lib/python3.12/site-packages/sklearn/covariance/_graph_lasso.py:139: ConvergenceWarning: Objective did not converge. You might want to increase the number of iterations. Duality gap: 0.01588267246288666, tolerance: 0.003958246408756095\n",
      "  coefs, _, _, _ = cd_fast.enet_coordinate_descent_gram(\n",
      "/Users/as3993/anaconda3/envs/plprob/lib/python3.12/site-packages/sklearn/covariance/_graph_lasso.py:139: ConvergenceWarning: Objective did not converge. You might want to increase the number of iterations. Duality gap: 0.007788599053043299, tolerance: 0.0040711471009661345\n",
      "  coefs, _, _, _ = cd_fast.enet_coordinate_descent_gram(\n",
      "/Users/as3993/anaconda3/envs/plprob/lib/python3.12/site-packages/sklearn/covariance/_graph_lasso.py:139: ConvergenceWarning: Objective did not converge. You might want to increase the number of iterations. Duality gap: 0.0043474269054755155, tolerance: 0.0041037355013461875\n",
      "  coefs, _, _, _ = cd_fast.enet_coordinate_descent_gram(\n",
      "/Users/as3993/anaconda3/envs/plprob/lib/python3.12/site-packages/sklearn/covariance/_graph_lasso.py:139: ConvergenceWarning: Objective did not converge. You might want to increase the number of iterations. Duality gap: 0.005093144183511811, tolerance: 0.003928209741760673\n",
      "  coefs, _, _, _ = cd_fast.enet_coordinate_descent_gram(\n",
      "/Users/as3993/anaconda3/envs/plprob/lib/python3.12/site-packages/sklearn/covariance/_graph_lasso.py:191: ConvergenceWarning: graphical_lasso: did not converge after 100 iteration: dual gap: -2.039e-02\n",
      "  warnings.warn(\n",
      "/Users/as3993/Amit/PLProb/R/univariate.py:330: RuntimeWarning: invalid value encountered in power\n",
      "  val[lower_tail_x] = p_lower * (1 - (k * (x[lower_tail_x] - b))/a)**(-1/k)\n",
      "/Users/as3993/Amit/PLProb/plprob/predictor.py:548: FutureWarning: The default of observed=False is deprecated and will be changed to True in a future version of pandas. Pass observed=False to retain current behavior or observed=True to adopt the future default and silence this warning.\n",
      "  self.cp_prob = dict(cp_count.groupby(cp_count).count()[::-1].cumsum() / len(cp_count))\n",
      "/Users/as3993/Amit/PLProb/plprob/predictor.py:551: FutureWarning: The behavior of DataFrame.idxmax with all-NA values, or any-NA and skipna=False, is deprecated. In a future version this will raise ValueError\n",
      "  peak_hour = self.cond_scenarios.droplevel(axis=1,level=0).idxmax(axis=1)\n"
     ]
    }
   ],
   "source": [
    "cp_probs = dict()\n",
    "intraday_probs = dict()\n",
    "daily_peaks = dict()\n",
    "new_cp_days = []\n",
    "\n",
    "num_of_cps = 1\n",
    "hist_cps = []\n",
    "\n",
    "for day in pd.date_range(start='2023-06-01', periods=122, freq='D'):\n",
    "    \n",
    "    start_date = day.strftime('%Y-%m-%d')\n",
    "\n",
    "    print(start_date)\n",
    "    \n",
    "    start_time = pd.to_datetime(start_date).tz_localize('US/Eastern')\n",
    "    timesteps = pd.date_range(start=start_time, periods=24, freq='h')\n",
    "\n",
    "    # Separate historical and future data\n",
    "    (midatl_load_actual_hists,\n",
    "         midatl_load_actual_futures) = split_actuals_hist_future(\n",
    "                midatl_actual_df, timesteps)\n",
    "    \n",
    "    (midatl_load_forecast_hists,\n",
    "         midatl_load_forecast_futures) = split_forecasts_hist_future(\n",
    "                midatl_forecast_df, timesteps)\n",
    "\n",
    "    (ps_load_actual_hists,\n",
    "         ps_load_actual_futures) = split_actuals_hist_future(\n",
    "                ps_actual_df, timesteps)\n",
    "    \n",
    "    # Fit model and compute probability\n",
    "    \n",
    "    cond_predictor = ConPlPredictor(ps_load_actual_hists, midatl_load_actual_hists, \n",
    "                               midatl_load_forecast_hists, start_time, \n",
    "                               num_of_cps, hist_cps, forecast_lead_time_in_hour=1, seed=seed)\n",
    "    cond_predictor.fit_model(0.05)\n",
    "    cond_predictor.create_scenario(1000, midatl_load_forecast_futures)\n",
    "    cond_predictor.fit_generate_cond_scenario(0.05, 1000)\n",
    "    \n",
    "    cond_predictor.compute_cp_probs()\n",
    "\n",
    "    # Update historical CPs\n",
    "    today_peak = ps_load_actual_futures.loc[timesteps, 'PS'].max()\n",
    "    cond_predictor.update_cp(today_peak)\n",
    "    if hist_cps != cond_predictor.hist_cps:\n",
    "        new_cp_days.append(start_date)\n",
    "        hist_cps = cond_predictor.hist_cps\n",
    "\n",
    "    # Save CP and hour probability\n",
    "    cp_probs[start_date] = cond_predictor.cp_prob\n",
    "    n = 0\n",
    "    while n < num_of_cps + 1:\n",
    "        if n not in cp_probs[start_date]:\n",
    "            cp_probs[start_date][n] = cp_probs[start_date][n-1]\n",
    "        n += 1\n",
    "\n",
    "    daily_peaks[start_date] = today_peak\n",
    "    intraday_probs[start_date] = cond_predictor.peak_hour_prob\n",
    "    "
   ]
  },
  {
   "cell_type": "markdown",
   "id": "2c30f6a4-7d2a-4481-ba64-04f441f90c63",
   "metadata": {},
   "source": [
    "### Collect results"
   ]
  },
  {
   "cell_type": "code",
   "execution_count": 4,
   "id": "dd5cb3f8-3648-4244-a9d1-50a26d93d89a",
   "metadata": {},
   "outputs": [
    {
     "name": "stderr",
     "output_type": "stream",
     "text": [
      "/var/folders/p_/cgtqpk9j7kq74n_ft0y8yvxr0000gp/T/ipykernel_37680/4126058961.py:2: FutureWarning: 'H' is deprecated and will be removed in a future version, please use 'h' instead.\n",
      "  'PS': daily_peaks.values()}).set_index('Time').resample('H').ffill()\n"
     ]
    }
   ],
   "source": [
    "daily_peak_df = pd.DataFrame({'Time': pd.to_datetime(list(daily_peaks.keys())), \n",
    "                              'PS': daily_peaks.values()}).set_index('Time').resample('h').ffill()"
   ]
  },
  {
   "cell_type": "code",
   "execution_count": 5,
   "id": "dffd8658-3acb-4942-aec1-c4953090725c",
   "metadata": {},
   "outputs": [
    {
     "name": "stderr",
     "output_type": "stream",
     "text": [
      "/var/folders/p_/cgtqpk9j7kq74n_ft0y8yvxr0000gp/T/ipykernel_37680/2497321910.py:8: FutureWarning: 'H' is deprecated and will be removed in a future version, please use 'h' instead.\n",
      "  cp_prob_df = pd.DataFrame(cp_prob_dict).set_index('Time').resample('H').ffill()\n"
     ]
    }
   ],
   "source": [
    "cp_prob_dict = {'Time':pd.to_datetime(list(cp_probs.keys()))}\n",
    "\n",
    "for n in range(num_of_cps):\n",
    "    n_cp_prob = []\n",
    "    for day, probs in cp_probs.items():\n",
    "        n_cp_prob.append(probs[n])\n",
    "    cp_prob_dict[n] = n_cp_prob\n",
    "cp_prob_df = pd.DataFrame(cp_prob_dict).set_index('Time').resample('h').ffill()"
   ]
  },
  {
   "cell_type": "code",
   "execution_count": 6,
   "id": "abf9301a-ab68-4081-b6f0-764007c606d1",
   "metadata": {},
   "outputs": [
    {
     "name": "stderr",
     "output_type": "stream",
     "text": [
      "/var/folders/p_/cgtqpk9j7kq74n_ft0y8yvxr0000gp/T/ipykernel_37680/3808061064.py:6: FutureWarning: 'H' is deprecated and will be removed in a future version. Please use 'h' instead of 'H'.\n",
      "  new_cp_hours = pd.to_datetime(new_cp_days) + pd.Timedelta(12,unit='H')\n"
     ]
    },
    {
     "data": {
      "text/plain": [
       "<matplotlib.legend.Legend at 0x15f928830>"
      ]
     },
     "execution_count": 6,
     "metadata": {},
     "output_type": "execute_result"
    },
    {
     "data": {
      "image/png": "[encoded data removed]",
      "text/plain": [
       "<Figure size 1500x500 with 2 Axes>"
      ]
     },
     "metadata": {},
     "output_type": "display_data"
    }
   ],
   "source": [
    "fig = plt.figure(figsize=(15, 5))\n",
    "\n",
    "ax = fig.add_subplot(111)\n",
    "ax.plot(daily_peak_df, label='Daily peak')\n",
    "\n",
    "new_cp_hours = pd.to_datetime(new_cp_days) + pd.Timedelta(12,unit='H')\n",
    "ax.scatter(new_cp_hours, \n",
    "              daily_peak_df.loc[new_cp_hours], color='green', label='New CP')\n",
    "\n",
    "ax2 = ax.twinx()\n",
    "ax2.plot(cp_prob_df[0], color='red', linestyle='dashed', label='Prob of being new CP')\n",
    "\n",
    "\n",
    "h1, l1 = ax.get_legend_handles_labels()\n",
    "h2, l2 = ax2.get_legend_handles_labels()\n",
    "ax.legend(h1+h2, l1+l2, loc=1, prop={'size': 10})"
   ]
  },
  {
   "cell_type": "code",
   "execution_count": 7,
   "id": "c48df218-1d54-40cc-9b2f-88d2a9dca54a",
   "metadata": {},
   "outputs": [
    {
     "name": "stderr",
     "output_type": "stream",
     "text": [
      "/var/folders/p_/cgtqpk9j7kq74n_ft0y8yvxr0000gp/T/ipykernel_37680/3432523970.py:5: FutureWarning: 'H' is deprecated and will be removed in a future version, please use 'h' instead.\n",
      "  timesteps = pd.date_range(start=day, periods=24, freq='H', tz='US/Eastern')\n"
     ]
    },
    {
     "data": {
      "image/png": "[encoded data removed]",
      "text/plain": [
       "<Figure size 2000x1600 with 18 Axes>"
      ]
     },
     "metadata": {},
     "output_type": "display_data"
    }
   ],
   "source": [
    "fig = plt.figure(figsize=(ceil(len(new_cp_days) / 2) * 4, 16))\n",
    "\n",
    "for i, day in enumerate(new_cp_days):\n",
    "    \n",
    "    timesteps = pd.date_range(start=day, periods=24, freq='H', tz='US/Eastern')\n",
    "\n",
    "    a_df = ps_actual_df.loc[timesteps]\n",
    "\n",
    "    ax = fig.add_subplot(ceil(len(new_cp_days) / 2), 2, i + 1)\n",
    "\n",
    "    probs = intraday_probs[day]\n",
    "    p = [probs[t] if t in probs else 0 for t in timesteps]\n",
    "    \n",
    "    ax.bar(range(24), p, width=0.5, alpha=0.5,\n",
    "           color='blue',edgecolor='black',label='Daily peak prob')\n",
    "\n",
    "\n",
    "    ax2 = ax.twinx()\n",
    "    ax2.plot(range(24), a_df,\n",
    "             '-r', label='Load')\n",
    "    ax2.scatter(a_df.idxmax().dt.hour, a_df.max(), c = 'green', marker='o', s=200, label='CP')\n",
    "    \n",
    "    h1, l1 = ax.get_legend_handles_labels()\n",
    "    h2, l2 = ax2.get_legend_handles_labels()\n",
    "    ax.legend(h1+h2, l1+l2, loc=2)\n",
    "    \n",
    "\n",
    "    ax.set_title(day, fontsize=10)\n"
   ]
  }
 ],
 "metadata": {
  "kernelspec": {
   "display_name": "Python 3 (ipykernel)",
   "language": "python",
   "name": "python3"
  },
  "language_info": {
   "codemirror_mode": {
    "name": "ipython",
    "version": 3
   },
   "file_extension": ".py",
   "mimetype": "text/x-python",
   "name": "python",
   "nbconvert_exporter": "python",
   "pygments_lexer": "ipython3",
   "version": "3.12.1"
  }
 },
 "nbformat": 4,
 "nbformat_minor": 5
}
