{
 "cells": [
  {
   "cell_type": "code",
   "execution_count": null,
   "id": "2016b725-2a83-4107-a3c4-32fdbfeee95b",
   "metadata": {},
   "outputs": [],
   "source": [
    "import pandas as pd\n",
    "import numpy as np\n",
    "from plprob.utils import (split_actuals_hist_future, split_forecasts_hist_future)\n",
    "from plprob.predictor import ConPlPredictor\n",
    "import matplotlib.pyplot as plt\n",
    "from math import ceil"
   ]
  },
  {
   "cell_type": "markdown",
   "id": "53826af8-6439-4f36-8c58-804d13449396",
   "metadata": {},
   "source": [
    "### Load data"
   ]
  },
  {
   "cell_type": "code",
   "execution_count": null,
   "id": "f418d7a7-e067-42f9-8430-31d50f8ac214",
   "metadata": {},
   "outputs": [],
   "source": [
    "seed = 1234\n",
    "midatl_actual_df = pd.read_csv('../data/PJM/MIDATL_ACT.csv', parse_dates=['Time'], index_col='Time')\n",
    "midatl_forecast_df = pd.read_csv('../data/PJM/MIDATL_FCST.csv', parse_dates=['Issue_time', 'Forecast_time'])\n",
    "\n",
    "ps_actual_df = pd.read_csv('../data/PJM/PS_ACT.csv', parse_dates=['Time'], index_col='Time')"
   ]
  },
  {
   "cell_type": "code",
   "execution_count": null,
   "id": "115662a1-535b-4f7e-8a7b-a210784afa78",
   "metadata": {},
   "outputs": [],
   "source": [
    "cp_probs = dict()\n",
    "intraday_probs = dict()\n",
    "daily_peaks = dict()\n",
    "new_cp_days = []\n",
    "\n",
    "num_of_cps = 1\n",
    "hist_cps = []\n",
    "\n",
    "for day in pd.date_range(start='2023-06-01', periods=122, freq='D'):\n",
    "    \n",
    "    start_date = day.strftime('%Y-%m-%d')\n",
    "\n",
    "    print(start_date)\n",
    "    \n",
    "    start_time = pd.to_datetime(start_date).tz_localize('US/Eastern')\n",
    "    timesteps = pd.date_range(start=start_time, periods=24, freq='h')\n",
    "\n",
    "    # Separate historical and future data\n",
    "    (midatl_load_actual_hists,\n",
    "         midatl_load_actual_futures) = split_actuals_hist_future(\n",
    "                midatl_actual_df, timesteps)\n",
    "    \n",
    "    (midatl_load_forecast_hists,\n",
    "         midatl_load_forecast_futures) = split_forecasts_hist_future(\n",
    "                midatl_forecast_df, timesteps)\n",
    "\n",
    "    (ps_load_actual_hists,\n",
    "         ps_load_actual_futures) = split_actuals_hist_future(\n",
    "                ps_actual_df, timesteps)\n",
    "    \n",
    "    # Fit model and compute probability\n",
    "    \n",
    "    cond_predictor = ConPlPredictor(ps_load_actual_hists, midatl_load_actual_hists, \n",
    "                               midatl_load_forecast_hists, start_time, \n",
    "                               num_of_cps, hist_cps, forecast_lead_time_in_hour=1, seed=seed)\n",
    "    cond_predictor.fit_model(0.05)\n",
    "    cond_predictor.create_scenario(1000, midatl_load_forecast_futures)\n",
    "    cond_predictor.fit_generate_cond_scenario(0.05, 1000)\n",
    "    \n",
    "    cond_predictor.compute_cp_probs()\n",
    "\n",
    "    # Update historical CPs\n",
    "    today_peak = ps_load_actual_futures.loc[timesteps, 'PS'].max()\n",
    "    cond_predictor.update_cp(today_peak)\n",
    "    if hist_cps != cond_predictor.hist_cps:\n",
    "        new_cp_days.append(start_date)\n",
    "        hist_cps = cond_predictor.hist_cps\n",
    "\n",
    "    # Save CP and hour probability\n",
    "    cp_probs[start_date] = cond_predictor.cp_prob\n",
    "    n = 0\n",
    "    while n < num_of_cps + 1:\n",
    "        if n not in cp_probs[start_date]:\n",
    "            cp_probs[start_date][n] = cp_probs[start_date][n-1]\n",
    "        n += 1\n",
    "\n",
    "    daily_peaks[start_date] = today_peak\n",
    "    intraday_probs[start_date] = cond_predictor.peak_hour_prob\n",
    "    "
   ]
  },
  {
   "cell_type": "markdown",
   "id": "2c30f6a4-7d2a-4481-ba64-04f441f90c63",
   "metadata": {},
   "source": [
    "### Collect results"
   ]
  },
  {
   "cell_type": "code",
   "execution_count": null,
   "id": "dd5cb3f8-3648-4244-a9d1-50a26d93d89a",
   "metadata": {},
   "outputs": [],
   "source": [
    "daily_peak_df = pd.DataFrame({'Time': pd.to_datetime(list(daily_peaks.keys())), \n",
    "                              'PS': daily_peaks.values()}).set_index('Time').resample('H').ffill()"
   ]
  },
  {
   "cell_type": "code",
   "execution_count": null,
   "id": "dffd8658-3acb-4942-aec1-c4953090725c",
   "metadata": {},
   "outputs": [],
   "source": [
    "cp_prob_dict = {'Time':pd.to_datetime(list(cp_probs.keys()))}\n",
    "\n",
    "for n in range(num_of_cps):\n",
    "    n_cp_prob = []\n",
    "    for day, probs in cp_probs.items():\n",
    "        n_cp_prob.append(probs[n])\n",
    "    cp_prob_dict[n] = n_cp_prob\n",
    "cp_prob_df = pd.DataFrame(cp_prob_dict).set_index('Time').resample('H').ffill()"
   ]
  },
  {
   "cell_type": "code",
   "execution_count": null,
   "id": "abf9301a-ab68-4081-b6f0-764007c606d1",
   "metadata": {},
   "outputs": [],
   "source": [
    "fig = plt.figure(figsize=(15, 5))\n",
    "\n",
    "ax = fig.add_subplot(111)\n",
    "ax.plot(daily_peak_df, label='Daily peak')\n",
    "\n",
    "new_cp_hours = pd.to_datetime(new_cp_days) + pd.Timedelta(12,unit='H')\n",
    "ax.scatter(new_cp_hours, \n",
    "              daily_peak_df.loc[new_cp_hours], color='green', label='New CP')\n",
    "\n",
    "ax2 = ax.twinx()\n",
    "ax2.plot(cp_prob_df[0], color='red', linestyle='dashed', label='Prob of being new CP')\n",
    "\n",
    "\n",
    "h1, l1 = ax.get_legend_handles_labels()\n",
    "h2, l2 = ax2.get_legend_handles_labels()\n",
    "ax.legend(h1+h2, l1+l2, loc=1, prop={'size': 10})"
   ]
  },
  {
   "cell_type": "code",
   "execution_count": null,
   "id": "c48df218-1d54-40cc-9b2f-88d2a9dca54a",
   "metadata": {},
   "outputs": [],
   "source": [
    "fig = plt.figure(figsize=(ceil(len(new_cp_days) / 2) * 4, 16))\n",
    "\n",
    "for i, day in enumerate(new_cp_days):\n",
    "    \n",
    "    timesteps = pd.date_range(start=day, periods=24, freq='H', tz='US/Eastern')\n",
    "\n",
    "    a_df = ps_actual_df.loc[timesteps]\n",
    "\n",
    "    ax = fig.add_subplot(ceil(len(new_cp_days) / 2), 2, i + 1)\n",
    "\n",
    "    probs = intraday_probs[day]\n",
    "    p = [probs[t] if t in probs else 0 for t in timesteps]\n",
    "    \n",
    "    ax.bar(range(24), p, width=0.5, alpha=0.5,\n",
    "           color='blue',edgecolor='black',label='Daily peak prob')\n",
    "\n",
    "\n",
    "    ax2 = ax.twinx()\n",
    "    ax2.plot(range(24), a_df,\n",
    "             '-r', label='Load')\n",
    "    ax2.scatter(a_df.idxmax().dt.hour, a_df.max(), c = 'green', marker='o', s=200, label='CP')\n",
    "    \n",
    "    h1, l1 = ax.get_legend_handles_labels()\n",
    "    h2, l2 = ax2.get_legend_handles_labels()\n",
    "    ax.legend(h1+h2, l1+l2, loc=2)\n",
    "    \n",
    "\n",
    "    ax.set_title(day, fontsize=10)\n"
   ]
  },
  {
   "cell_type": "code",
   "execution_count": null,
   "id": "1329aa14-9c67-450a-827c-c0292f9aaac3",
   "metadata": {},
   "outputs": [],
   "source": []
  }
 ],
 "metadata": {
  "kernelspec": {
   "display_name": "Python 3 (ipykernel)",
   "language": "python",
   "name": "python3"
  },
  "language_info": {
   "codemirror_mode": {
    "name": "ipython",
    "version": 3
   },
   "file_extension": ".py",
   "mimetype": "text/x-python",
   "name": "python",
   "nbconvert_exporter": "python",
   "pygments_lexer": "ipython3",
   "version": "3.8.19"
  }
 },
 "nbformat": 4,
 "nbformat_minor": 5
}
