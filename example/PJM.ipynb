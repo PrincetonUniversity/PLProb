{
 "cells": [
  {
   "cell_type": "code",
   "execution_count": 1,
   "id": "aebd11a4-577c-4d20-8cf9-9e71a6492392",
   "metadata": {},
   "outputs": [],
   "source": [
    "import pandas as pd\n",
    "import numpy as np\n",
    "from plprob.utils import (split_actuals_hist_future, split_forecasts_hist_future)\n",
    "from plprob.predictor import PlPredictor\n",
    "import matplotlib.pyplot as plt"
   ]
  },
  {
   "cell_type": "markdown",
   "id": "ed0db092-12a1-4832-b8df-7e3e7a0bec82",
   "metadata": {},
   "source": [
    "### Load data"
   ]
  },
  {
   "cell_type": "code",
   "execution_count": 2,
   "id": "d03ec307-3567-4948-93da-109cc7eec92a",
   "metadata": {},
   "outputs": [],
   "source": [
    "seed = 1234\n",
    "rto_actual_df = pd.read_csv('../data/PJM/RTO_ACT.csv', parse_dates=['Time'], index_col='Time')\n",
    "rto_forecast_df = pd.read_csv('../data/PJM/RTO_FCST.csv', parse_dates=['Issue_time', 'Forecast_time'])"
   ]
  },
  {
   "cell_type": "markdown",
   "id": "9901ad49-6fb1-42d4-8b67-310fa26f3850",
   "metadata": {},
   "source": [
    "### Predict CP"
   ]
  },
  {
   "cell_type": "code",
   "execution_count": 3,
   "id": "76d9b4fc-1300-45b0-89c2-33c918569ace",
   "metadata": {},
   "outputs": [
    {
     "name": "stdout",
     "output_type": "stream",
     "text": [
      "2023-06-01\n",
      "training predictor...\n"
     ]
    },
    {
     "name": "stderr",
     "output_type": "stream",
     "text": [
      "/Users/as3993/anaconda3/envs/plprob/lib/python3.12/site-packages/R/univariate.py:320: RuntimeWarning: invalid value encountered in power\n",
      "  val[upper_tail_x] = 1 - (1 - p_upper) * (1 + (k * (x[upper_tail_x] - b))/a)**(-1/k)\n"
     ]
    },
    {
     "name": "stdout",
     "output_type": "stream",
     "text": [
      "making predictions...\n",
      "2023-06-02\n",
      "training predictor...\n"
     ]
    },
    {
     "name": "stderr",
     "output_type": "stream",
     "text": [
      "/Users/as3993/anaconda3/envs/plprob/lib/python3.12/site-packages/R/univariate.py:320: RuntimeWarning: invalid value encountered in power\n",
      "  val[upper_tail_x] = 1 - (1 - p_upper) * (1 + (k * (x[upper_tail_x] - b))/a)**(-1/k)\n"
     ]
    },
    {
     "name": "stdout",
     "output_type": "stream",
     "text": [
      "making predictions...\n",
      "2023-06-03\n",
      "training predictor...\n"
     ]
    },
    {
     "name": "stderr",
     "output_type": "stream",
     "text": [
      "/Users/as3993/anaconda3/envs/plprob/lib/python3.12/site-packages/R/univariate.py:320: RuntimeWarning: invalid value encountered in power\n",
      "  val[upper_tail_x] = 1 - (1 - p_upper) * (1 + (k * (x[upper_tail_x] - b))/a)**(-1/k)\n"
     ]
    },
    {
     "name": "stdout",
     "output_type": "stream",
     "text": [
      "making predictions...\n",
      "2023-06-04\n",
      "training predictor...\n"
     ]
    },
    {
     "name": "stderr",
     "output_type": "stream",
     "text": [
      "/Users/as3993/anaconda3/envs/plprob/lib/python3.12/site-packages/R/univariate.py:320: RuntimeWarning: invalid value encountered in power\n",
      "  val[upper_tail_x] = 1 - (1 - p_upper) * (1 + (k * (x[upper_tail_x] - b))/a)**(-1/k)\n"
     ]
    },
    {
     "name": "stdout",
     "output_type": "stream",
     "text": [
      "making predictions...\n",
      "2023-06-05\n",
      "training predictor...\n"
     ]
    },
    {
     "name": "stderr",
     "output_type": "stream",
     "text": [
      "/Users/as3993/anaconda3/envs/plprob/lib/python3.12/site-packages/R/univariate.py:320: RuntimeWarning: invalid value encountered in power\n",
      "  val[upper_tail_x] = 1 - (1 - p_upper) * (1 + (k * (x[upper_tail_x] - b))/a)**(-1/k)\n",
      "/Users/as3993/anaconda3/envs/plprob/lib/python3.12/site-packages/sklearn/covariance/_graph_lasso.py:191: ConvergenceWarning: graphical_lasso: did not converge after 100 iteration: dual gap: 4.660e-04\n",
      "  warnings.warn(\n"
     ]
    },
    {
     "name": "stdout",
     "output_type": "stream",
     "text": [
      "making predictions...\n",
      "2023-06-06\n",
      "training predictor...\n"
     ]
    },
    {
     "name": "stderr",
     "output_type": "stream",
     "text": [
      "/Users/as3993/anaconda3/envs/plprob/lib/python3.12/site-packages/R/univariate.py:320: RuntimeWarning: invalid value encountered in power\n",
      "  val[upper_tail_x] = 1 - (1 - p_upper) * (1 + (k * (x[upper_tail_x] - b))/a)**(-1/k)\n"
     ]
    },
    {
     "name": "stdout",
     "output_type": "stream",
     "text": [
      "making predictions...\n",
      "2023-06-07\n",
      "training predictor...\n"
     ]
    },
    {
     "name": "stderr",
     "output_type": "stream",
     "text": [
      "/Users/as3993/anaconda3/envs/plprob/lib/python3.12/site-packages/R/univariate.py:320: RuntimeWarning: invalid value encountered in power\n",
      "  val[upper_tail_x] = 1 - (1 - p_upper) * (1 + (k * (x[upper_tail_x] - b))/a)**(-1/k)\n"
     ]
    },
    {
     "name": "stdout",
     "output_type": "stream",
     "text": [
      "making predictions...\n",
      "2023-06-08\n",
      "training predictor...\n"
     ]
    },
    {
     "name": "stderr",
     "output_type": "stream",
     "text": [
      "/Users/as3993/anaconda3/envs/plprob/lib/python3.12/site-packages/R/univariate.py:320: RuntimeWarning: invalid value encountered in power\n",
      "  val[upper_tail_x] = 1 - (1 - p_upper) * (1 + (k * (x[upper_tail_x] - b))/a)**(-1/k)\n"
     ]
    },
    {
     "name": "stdout",
     "output_type": "stream",
     "text": [
      "making predictions...\n",
      "2023-06-09\n",
      "training predictor...\n"
     ]
    },
    {
     "name": "stderr",
     "output_type": "stream",
     "text": [
      "/Users/as3993/anaconda3/envs/plprob/lib/python3.12/site-packages/R/univariate.py:320: RuntimeWarning: invalid value encountered in power\n",
      "  val[upper_tail_x] = 1 - (1 - p_upper) * (1 + (k * (x[upper_tail_x] - b))/a)**(-1/k)\n"
     ]
    },
    {
     "name": "stdout",
     "output_type": "stream",
     "text": [
      "making predictions...\n",
      "2023-06-10\n",
      "training predictor...\n"
     ]
    },
    {
     "name": "stderr",
     "output_type": "stream",
     "text": [
      "/Users/as3993/anaconda3/envs/plprob/lib/python3.12/site-packages/R/univariate.py:320: RuntimeWarning: invalid value encountered in power\n",
      "  val[upper_tail_x] = 1 - (1 - p_upper) * (1 + (k * (x[upper_tail_x] - b))/a)**(-1/k)\n"
     ]
    },
    {
     "name": "stdout",
     "output_type": "stream",
     "text": [
      "making predictions...\n",
      "2023-06-11\n",
      "training predictor...\n"
     ]
    },
    {
     "name": "stderr",
     "output_type": "stream",
     "text": [
      "/Users/as3993/anaconda3/envs/plprob/lib/python3.12/site-packages/R/univariate.py:320: RuntimeWarning: invalid value encountered in power\n",
      "  val[upper_tail_x] = 1 - (1 - p_upper) * (1 + (k * (x[upper_tail_x] - b))/a)**(-1/k)\n"
     ]
    },
    {
     "name": "stdout",
     "output_type": "stream",
     "text": [
      "making predictions...\n",
      "2023-06-12\n",
      "training predictor...\n"
     ]
    },
    {
     "name": "stderr",
     "output_type": "stream",
     "text": [
      "/Users/as3993/anaconda3/envs/plprob/lib/python3.12/site-packages/R/univariate.py:320: RuntimeWarning: invalid value encountered in power\n",
      "  val[upper_tail_x] = 1 - (1 - p_upper) * (1 + (k * (x[upper_tail_x] - b))/a)**(-1/k)\n"
     ]
    },
    {
     "name": "stdout",
     "output_type": "stream",
     "text": [
      "making predictions...\n",
      "2023-06-13\n",
      "training predictor...\n"
     ]
    },
    {
     "name": "stderr",
     "output_type": "stream",
     "text": [
      "/Users/as3993/anaconda3/envs/plprob/lib/python3.12/site-packages/R/univariate.py:320: RuntimeWarning: invalid value encountered in power\n",
      "  val[upper_tail_x] = 1 - (1 - p_upper) * (1 + (k * (x[upper_tail_x] - b))/a)**(-1/k)\n"
     ]
    },
    {
     "name": "stdout",
     "output_type": "stream",
     "text": [
      "making predictions...\n",
      "2023-06-14\n",
      "training predictor...\n"
     ]
    },
    {
     "name": "stderr",
     "output_type": "stream",
     "text": [
      "/Users/as3993/anaconda3/envs/plprob/lib/python3.12/site-packages/R/univariate.py:320: RuntimeWarning: invalid value encountered in power\n",
      "  val[upper_tail_x] = 1 - (1 - p_upper) * (1 + (k * (x[upper_tail_x] - b))/a)**(-1/k)\n"
     ]
    },
    {
     "name": "stdout",
     "output_type": "stream",
     "text": [
      "making predictions...\n",
      "2023-06-15\n",
      "training predictor...\n"
     ]
    },
    {
     "name": "stderr",
     "output_type": "stream",
     "text": [
      "/Users/as3993/anaconda3/envs/plprob/lib/python3.12/site-packages/R/univariate.py:320: RuntimeWarning: invalid value encountered in power\n",
      "  val[upper_tail_x] = 1 - (1 - p_upper) * (1 + (k * (x[upper_tail_x] - b))/a)**(-1/k)\n"
     ]
    },
    {
     "name": "stdout",
     "output_type": "stream",
     "text": [
      "making predictions...\n",
      "2023-06-16\n",
      "training predictor...\n"
     ]
    },
    {
     "name": "stderr",
     "output_type": "stream",
     "text": [
      "/Users/as3993/anaconda3/envs/plprob/lib/python3.12/site-packages/R/univariate.py:320: RuntimeWarning: invalid value encountered in power\n",
      "  val[upper_tail_x] = 1 - (1 - p_upper) * (1 + (k * (x[upper_tail_x] - b))/a)**(-1/k)\n"
     ]
    },
    {
     "name": "stdout",
     "output_type": "stream",
     "text": [
      "making predictions...\n",
      "2023-06-17\n",
      "training predictor...\n"
     ]
    },
    {
     "name": "stderr",
     "output_type": "stream",
     "text": [
      "/Users/as3993/anaconda3/envs/plprob/lib/python3.12/site-packages/R/univariate.py:320: RuntimeWarning: invalid value encountered in power\n",
      "  val[upper_tail_x] = 1 - (1 - p_upper) * (1 + (k * (x[upper_tail_x] - b))/a)**(-1/k)\n"
     ]
    },
    {
     "name": "stdout",
     "output_type": "stream",
     "text": [
      "making predictions...\n",
      "2023-06-18\n",
      "training predictor...\n"
     ]
    },
    {
     "name": "stderr",
     "output_type": "stream",
     "text": [
      "/Users/as3993/anaconda3/envs/plprob/lib/python3.12/site-packages/R/univariate.py:320: RuntimeWarning: invalid value encountered in power\n",
      "  val[upper_tail_x] = 1 - (1 - p_upper) * (1 + (k * (x[upper_tail_x] - b))/a)**(-1/k)\n"
     ]
    },
    {
     "name": "stdout",
     "output_type": "stream",
     "text": [
      "making predictions...\n",
      "2023-06-19\n",
      "training predictor...\n"
     ]
    },
    {
     "name": "stderr",
     "output_type": "stream",
     "text": [
      "/Users/as3993/anaconda3/envs/plprob/lib/python3.12/site-packages/R/univariate.py:320: RuntimeWarning: invalid value encountered in power\n",
      "  val[upper_tail_x] = 1 - (1 - p_upper) * (1 + (k * (x[upper_tail_x] - b))/a)**(-1/k)\n"
     ]
    },
    {
     "name": "stdout",
     "output_type": "stream",
     "text": [
      "making predictions...\n",
      "2023-06-20\n",
      "training predictor...\n"
     ]
    },
    {
     "name": "stderr",
     "output_type": "stream",
     "text": [
      "/Users/as3993/anaconda3/envs/plprob/lib/python3.12/site-packages/R/univariate.py:320: RuntimeWarning: invalid value encountered in power\n",
      "  val[upper_tail_x] = 1 - (1 - p_upper) * (1 + (k * (x[upper_tail_x] - b))/a)**(-1/k)\n"
     ]
    },
    {
     "name": "stdout",
     "output_type": "stream",
     "text": [
      "making predictions...\n",
      "2023-06-21\n",
      "training predictor...\n"
     ]
    },
    {
     "name": "stderr",
     "output_type": "stream",
     "text": [
      "/Users/as3993/anaconda3/envs/plprob/lib/python3.12/site-packages/R/univariate.py:320: RuntimeWarning: invalid value encountered in power\n",
      "  val[upper_tail_x] = 1 - (1 - p_upper) * (1 + (k * (x[upper_tail_x] - b))/a)**(-1/k)\n"
     ]
    },
    {
     "name": "stdout",
     "output_type": "stream",
     "text": [
      "making predictions...\n",
      "2023-06-22\n",
      "training predictor...\n"
     ]
    },
    {
     "name": "stderr",
     "output_type": "stream",
     "text": [
      "/Users/as3993/anaconda3/envs/plprob/lib/python3.12/site-packages/R/univariate.py:320: RuntimeWarning: invalid value encountered in power\n",
      "  val[upper_tail_x] = 1 - (1 - p_upper) * (1 + (k * (x[upper_tail_x] - b))/a)**(-1/k)\n"
     ]
    },
    {
     "name": "stdout",
     "output_type": "stream",
     "text": [
      "making predictions...\n",
      "2023-06-23\n",
      "training predictor...\n"
     ]
    },
    {
     "name": "stderr",
     "output_type": "stream",
     "text": [
      "/Users/as3993/anaconda3/envs/plprob/lib/python3.12/site-packages/R/univariate.py:320: RuntimeWarning: invalid value encountered in power\n",
      "  val[upper_tail_x] = 1 - (1 - p_upper) * (1 + (k * (x[upper_tail_x] - b))/a)**(-1/k)\n"
     ]
    },
    {
     "name": "stdout",
     "output_type": "stream",
     "text": [
      "making predictions...\n",
      "2023-06-24\n",
      "training predictor...\n"
     ]
    },
    {
     "name": "stderr",
     "output_type": "stream",
     "text": [
      "/Users/as3993/anaconda3/envs/plprob/lib/python3.12/site-packages/R/univariate.py:320: RuntimeWarning: invalid value encountered in power\n",
      "  val[upper_tail_x] = 1 - (1 - p_upper) * (1 + (k * (x[upper_tail_x] - b))/a)**(-1/k)\n"
     ]
    },
    {
     "name": "stdout",
     "output_type": "stream",
     "text": [
      "making predictions...\n",
      "2023-06-25\n",
      "training predictor...\n"
     ]
    },
    {
     "name": "stderr",
     "output_type": "stream",
     "text": [
      "/Users/as3993/anaconda3/envs/plprob/lib/python3.12/site-packages/R/univariate.py:320: RuntimeWarning: invalid value encountered in power\n",
      "  val[upper_tail_x] = 1 - (1 - p_upper) * (1 + (k * (x[upper_tail_x] - b))/a)**(-1/k)\n",
      "/Users/as3993/anaconda3/envs/plprob/lib/python3.12/site-packages/sklearn/covariance/_graph_lasso.py:191: ConvergenceWarning: graphical_lasso: did not converge after 100 iteration: dual gap: 3.551e-03\n",
      "  warnings.warn(\n"
     ]
    },
    {
     "name": "stdout",
     "output_type": "stream",
     "text": [
      "making predictions...\n",
      "2023-06-26\n",
      "training predictor...\n"
     ]
    },
    {
     "name": "stderr",
     "output_type": "stream",
     "text": [
      "/Users/as3993/anaconda3/envs/plprob/lib/python3.12/site-packages/R/univariate.py:320: RuntimeWarning: invalid value encountered in power\n",
      "  val[upper_tail_x] = 1 - (1 - p_upper) * (1 + (k * (x[upper_tail_x] - b))/a)**(-1/k)\n"
     ]
    },
    {
     "name": "stdout",
     "output_type": "stream",
     "text": [
      "making predictions...\n",
      "2023-06-27\n",
      "training predictor...\n"
     ]
    },
    {
     "name": "stderr",
     "output_type": "stream",
     "text": [
      "/Users/as3993/anaconda3/envs/plprob/lib/python3.12/site-packages/R/univariate.py:320: RuntimeWarning: invalid value encountered in power\n",
      "  val[upper_tail_x] = 1 - (1 - p_upper) * (1 + (k * (x[upper_tail_x] - b))/a)**(-1/k)\n"
     ]
    },
    {
     "name": "stdout",
     "output_type": "stream",
     "text": [
      "making predictions...\n",
      "2023-06-28\n",
      "training predictor...\n"
     ]
    },
    {
     "name": "stderr",
     "output_type": "stream",
     "text": [
      "/Users/as3993/anaconda3/envs/plprob/lib/python3.12/site-packages/R/univariate.py:320: RuntimeWarning: invalid value encountered in power\n",
      "  val[upper_tail_x] = 1 - (1 - p_upper) * (1 + (k * (x[upper_tail_x] - b))/a)**(-1/k)\n",
      "/Users/as3993/anaconda3/envs/plprob/lib/python3.12/site-packages/sklearn/covariance/_graph_lasso.py:191: ConvergenceWarning: graphical_lasso: did not converge after 100 iteration: dual gap: 1.020e-03\n",
      "  warnings.warn(\n"
     ]
    },
    {
     "name": "stdout",
     "output_type": "stream",
     "text": [
      "making predictions...\n",
      "2023-06-29\n",
      "training predictor...\n"
     ]
    },
    {
     "name": "stderr",
     "output_type": "stream",
     "text": [
      "/Users/as3993/anaconda3/envs/plprob/lib/python3.12/site-packages/R/univariate.py:320: RuntimeWarning: invalid value encountered in power\n",
      "  val[upper_tail_x] = 1 - (1 - p_upper) * (1 + (k * (x[upper_tail_x] - b))/a)**(-1/k)\n"
     ]
    },
    {
     "name": "stdout",
     "output_type": "stream",
     "text": [
      "making predictions...\n",
      "2023-06-30\n",
      "training predictor...\n"
     ]
    },
    {
     "name": "stderr",
     "output_type": "stream",
     "text": [
      "/Users/as3993/anaconda3/envs/plprob/lib/python3.12/site-packages/R/univariate.py:320: RuntimeWarning: invalid value encountered in power\n",
      "  val[upper_tail_x] = 1 - (1 - p_upper) * (1 + (k * (x[upper_tail_x] - b))/a)**(-1/k)\n"
     ]
    },
    {
     "name": "stdout",
     "output_type": "stream",
     "text": [
      "making predictions...\n",
      "2023-07-01\n",
      "training predictor...\n"
     ]
    },
    {
     "name": "stderr",
     "output_type": "stream",
     "text": [
      "/Users/as3993/anaconda3/envs/plprob/lib/python3.12/site-packages/R/univariate.py:320: RuntimeWarning: invalid value encountered in power\n",
      "  val[upper_tail_x] = 1 - (1 - p_upper) * (1 + (k * (x[upper_tail_x] - b))/a)**(-1/k)\n"
     ]
    },
    {
     "name": "stdout",
     "output_type": "stream",
     "text": [
      "making predictions...\n",
      "2023-07-02\n",
      "training predictor...\n"
     ]
    },
    {
     "name": "stderr",
     "output_type": "stream",
     "text": [
      "/Users/as3993/anaconda3/envs/plprob/lib/python3.12/site-packages/R/univariate.py:320: RuntimeWarning: invalid value encountered in power\n",
      "  val[upper_tail_x] = 1 - (1 - p_upper) * (1 + (k * (x[upper_tail_x] - b))/a)**(-1/k)\n"
     ]
    },
    {
     "name": "stdout",
     "output_type": "stream",
     "text": [
      "making predictions...\n",
      "2023-07-03\n",
      "training predictor...\n"
     ]
    },
    {
     "name": "stderr",
     "output_type": "stream",
     "text": [
      "/Users/as3993/anaconda3/envs/plprob/lib/python3.12/site-packages/R/univariate.py:320: RuntimeWarning: invalid value encountered in power\n",
      "  val[upper_tail_x] = 1 - (1 - p_upper) * (1 + (k * (x[upper_tail_x] - b))/a)**(-1/k)\n"
     ]
    },
    {
     "name": "stdout",
     "output_type": "stream",
     "text": [
      "making predictions...\n",
      "2023-07-04\n",
      "training predictor...\n"
     ]
    },
    {
     "name": "stderr",
     "output_type": "stream",
     "text": [
      "/Users/as3993/anaconda3/envs/plprob/lib/python3.12/site-packages/R/univariate.py:320: RuntimeWarning: invalid value encountered in power\n",
      "  val[upper_tail_x] = 1 - (1 - p_upper) * (1 + (k * (x[upper_tail_x] - b))/a)**(-1/k)\n"
     ]
    },
    {
     "name": "stdout",
     "output_type": "stream",
     "text": [
      "making predictions...\n",
      "2023-07-05\n",
      "training predictor...\n"
     ]
    },
    {
     "name": "stderr",
     "output_type": "stream",
     "text": [
      "/Users/as3993/anaconda3/envs/plprob/lib/python3.12/site-packages/R/univariate.py:320: RuntimeWarning: invalid value encountered in power\n",
      "  val[upper_tail_x] = 1 - (1 - p_upper) * (1 + (k * (x[upper_tail_x] - b))/a)**(-1/k)\n"
     ]
    },
    {
     "name": "stdout",
     "output_type": "stream",
     "text": [
      "making predictions...\n",
      "2023-07-06\n",
      "training predictor...\n"
     ]
    },
    {
     "name": "stderr",
     "output_type": "stream",
     "text": [
      "/Users/as3993/anaconda3/envs/plprob/lib/python3.12/site-packages/R/univariate.py:320: RuntimeWarning: invalid value encountered in power\n",
      "  val[upper_tail_x] = 1 - (1 - p_upper) * (1 + (k * (x[upper_tail_x] - b))/a)**(-1/k)\n"
     ]
    },
    {
     "name": "stdout",
     "output_type": "stream",
     "text": [
      "making predictions...\n",
      "2023-07-07\n",
      "training predictor...\n"
     ]
    },
    {
     "name": "stderr",
     "output_type": "stream",
     "text": [
      "/Users/as3993/anaconda3/envs/plprob/lib/python3.12/site-packages/R/univariate.py:320: RuntimeWarning: invalid value encountered in power\n",
      "  val[upper_tail_x] = 1 - (1 - p_upper) * (1 + (k * (x[upper_tail_x] - b))/a)**(-1/k)\n"
     ]
    },
    {
     "name": "stdout",
     "output_type": "stream",
     "text": [
      "making predictions...\n",
      "2023-07-08\n",
      "training predictor...\n"
     ]
    },
    {
     "name": "stderr",
     "output_type": "stream",
     "text": [
      "/Users/as3993/anaconda3/envs/plprob/lib/python3.12/site-packages/R/univariate.py:320: RuntimeWarning: invalid value encountered in power\n",
      "  val[upper_tail_x] = 1 - (1 - p_upper) * (1 + (k * (x[upper_tail_x] - b))/a)**(-1/k)\n"
     ]
    },
    {
     "name": "stdout",
     "output_type": "stream",
     "text": [
      "making predictions...\n",
      "2023-07-09\n",
      "training predictor...\n"
     ]
    },
    {
     "name": "stderr",
     "output_type": "stream",
     "text": [
      "/Users/as3993/anaconda3/envs/plprob/lib/python3.12/site-packages/R/univariate.py:320: RuntimeWarning: invalid value encountered in power\n",
      "  val[upper_tail_x] = 1 - (1 - p_upper) * (1 + (k * (x[upper_tail_x] - b))/a)**(-1/k)\n"
     ]
    },
    {
     "name": "stdout",
     "output_type": "stream",
     "text": [
      "making predictions...\n",
      "2023-07-10\n",
      "training predictor...\n"
     ]
    },
    {
     "name": "stderr",
     "output_type": "stream",
     "text": [
      "/Users/as3993/anaconda3/envs/plprob/lib/python3.12/site-packages/R/univariate.py:320: RuntimeWarning: invalid value encountered in power\n",
      "  val[upper_tail_x] = 1 - (1 - p_upper) * (1 + (k * (x[upper_tail_x] - b))/a)**(-1/k)\n"
     ]
    },
    {
     "name": "stdout",
     "output_type": "stream",
     "text": [
      "making predictions...\n",
      "2023-07-11\n",
      "training predictor...\n"
     ]
    },
    {
     "name": "stderr",
     "output_type": "stream",
     "text": [
      "/Users/as3993/anaconda3/envs/plprob/lib/python3.12/site-packages/R/univariate.py:320: RuntimeWarning: invalid value encountered in power\n",
      "  val[upper_tail_x] = 1 - (1 - p_upper) * (1 + (k * (x[upper_tail_x] - b))/a)**(-1/k)\n"
     ]
    },
    {
     "name": "stdout",
     "output_type": "stream",
     "text": [
      "making predictions...\n",
      "2023-07-12\n",
      "training predictor...\n"
     ]
    },
    {
     "name": "stderr",
     "output_type": "stream",
     "text": [
      "/Users/as3993/anaconda3/envs/plprob/lib/python3.12/site-packages/R/univariate.py:320: RuntimeWarning: invalid value encountered in power\n",
      "  val[upper_tail_x] = 1 - (1 - p_upper) * (1 + (k * (x[upper_tail_x] - b))/a)**(-1/k)\n"
     ]
    },
    {
     "name": "stdout",
     "output_type": "stream",
     "text": [
      "making predictions...\n",
      "2023-07-13\n",
      "training predictor...\n"
     ]
    },
    {
     "name": "stderr",
     "output_type": "stream",
     "text": [
      "/Users/as3993/anaconda3/envs/plprob/lib/python3.12/site-packages/R/univariate.py:320: RuntimeWarning: invalid value encountered in power\n",
      "  val[upper_tail_x] = 1 - (1 - p_upper) * (1 + (k * (x[upper_tail_x] - b))/a)**(-1/k)\n"
     ]
    },
    {
     "name": "stdout",
     "output_type": "stream",
     "text": [
      "making predictions...\n",
      "2023-07-14\n",
      "training predictor...\n"
     ]
    },
    {
     "name": "stderr",
     "output_type": "stream",
     "text": [
      "/Users/as3993/anaconda3/envs/plprob/lib/python3.12/site-packages/R/univariate.py:320: RuntimeWarning: invalid value encountered in power\n",
      "  val[upper_tail_x] = 1 - (1 - p_upper) * (1 + (k * (x[upper_tail_x] - b))/a)**(-1/k)\n"
     ]
    },
    {
     "name": "stdout",
     "output_type": "stream",
     "text": [
      "making predictions...\n",
      "2023-07-15\n",
      "training predictor...\n"
     ]
    },
    {
     "name": "stderr",
     "output_type": "stream",
     "text": [
      "/Users/as3993/anaconda3/envs/plprob/lib/python3.12/site-packages/R/univariate.py:320: RuntimeWarning: invalid value encountered in power\n",
      "  val[upper_tail_x] = 1 - (1 - p_upper) * (1 + (k * (x[upper_tail_x] - b))/a)**(-1/k)\n"
     ]
    },
    {
     "name": "stdout",
     "output_type": "stream",
     "text": [
      "making predictions...\n",
      "2023-07-16\n",
      "training predictor...\n"
     ]
    },
    {
     "name": "stderr",
     "output_type": "stream",
     "text": [
      "/Users/as3993/anaconda3/envs/plprob/lib/python3.12/site-packages/R/univariate.py:320: RuntimeWarning: invalid value encountered in power\n",
      "  val[upper_tail_x] = 1 - (1 - p_upper) * (1 + (k * (x[upper_tail_x] - b))/a)**(-1/k)\n"
     ]
    },
    {
     "name": "stdout",
     "output_type": "stream",
     "text": [
      "making predictions...\n",
      "2023-07-17\n",
      "training predictor...\n"
     ]
    },
    {
     "name": "stderr",
     "output_type": "stream",
     "text": [
      "/Users/as3993/anaconda3/envs/plprob/lib/python3.12/site-packages/R/univariate.py:320: RuntimeWarning: invalid value encountered in power\n",
      "  val[upper_tail_x] = 1 - (1 - p_upper) * (1 + (k * (x[upper_tail_x] - b))/a)**(-1/k)\n"
     ]
    },
    {
     "name": "stdout",
     "output_type": "stream",
     "text": [
      "making predictions...\n",
      "2023-07-18\n",
      "training predictor...\n"
     ]
    },
    {
     "name": "stderr",
     "output_type": "stream",
     "text": [
      "/Users/as3993/anaconda3/envs/plprob/lib/python3.12/site-packages/R/univariate.py:320: RuntimeWarning: invalid value encountered in power\n",
      "  val[upper_tail_x] = 1 - (1 - p_upper) * (1 + (k * (x[upper_tail_x] - b))/a)**(-1/k)\n"
     ]
    },
    {
     "name": "stdout",
     "output_type": "stream",
     "text": [
      "making predictions...\n",
      "2023-07-19\n",
      "training predictor...\n"
     ]
    },
    {
     "name": "stderr",
     "output_type": "stream",
     "text": [
      "/Users/as3993/anaconda3/envs/plprob/lib/python3.12/site-packages/R/univariate.py:320: RuntimeWarning: invalid value encountered in power\n",
      "  val[upper_tail_x] = 1 - (1 - p_upper) * (1 + (k * (x[upper_tail_x] - b))/a)**(-1/k)\n"
     ]
    },
    {
     "name": "stdout",
     "output_type": "stream",
     "text": [
      "making predictions...\n",
      "2023-07-20\n",
      "training predictor...\n"
     ]
    },
    {
     "name": "stderr",
     "output_type": "stream",
     "text": [
      "/Users/as3993/anaconda3/envs/plprob/lib/python3.12/site-packages/R/univariate.py:320: RuntimeWarning: invalid value encountered in power\n",
      "  val[upper_tail_x] = 1 - (1 - p_upper) * (1 + (k * (x[upper_tail_x] - b))/a)**(-1/k)\n"
     ]
    },
    {
     "name": "stdout",
     "output_type": "stream",
     "text": [
      "making predictions...\n",
      "2023-07-21\n",
      "training predictor...\n"
     ]
    },
    {
     "name": "stderr",
     "output_type": "stream",
     "text": [
      "/Users/as3993/anaconda3/envs/plprob/lib/python3.12/site-packages/R/univariate.py:320: RuntimeWarning: invalid value encountered in power\n",
      "  val[upper_tail_x] = 1 - (1 - p_upper) * (1 + (k * (x[upper_tail_x] - b))/a)**(-1/k)\n"
     ]
    },
    {
     "name": "stdout",
     "output_type": "stream",
     "text": [
      "making predictions...\n",
      "2023-07-22\n",
      "training predictor...\n"
     ]
    },
    {
     "name": "stderr",
     "output_type": "stream",
     "text": [
      "/Users/as3993/anaconda3/envs/plprob/lib/python3.12/site-packages/R/univariate.py:320: RuntimeWarning: invalid value encountered in power\n",
      "  val[upper_tail_x] = 1 - (1 - p_upper) * (1 + (k * (x[upper_tail_x] - b))/a)**(-1/k)\n"
     ]
    },
    {
     "name": "stdout",
     "output_type": "stream",
     "text": [
      "making predictions...\n",
      "2023-07-23\n",
      "training predictor...\n"
     ]
    },
    {
     "name": "stderr",
     "output_type": "stream",
     "text": [
      "/Users/as3993/anaconda3/envs/plprob/lib/python3.12/site-packages/R/univariate.py:320: RuntimeWarning: invalid value encountered in power\n",
      "  val[upper_tail_x] = 1 - (1 - p_upper) * (1 + (k * (x[upper_tail_x] - b))/a)**(-1/k)\n"
     ]
    },
    {
     "name": "stdout",
     "output_type": "stream",
     "text": [
      "making predictions...\n",
      "2023-07-24\n",
      "training predictor...\n"
     ]
    },
    {
     "name": "stderr",
     "output_type": "stream",
     "text": [
      "/Users/as3993/anaconda3/envs/plprob/lib/python3.12/site-packages/R/univariate.py:320: RuntimeWarning: invalid value encountered in power\n",
      "  val[upper_tail_x] = 1 - (1 - p_upper) * (1 + (k * (x[upper_tail_x] - b))/a)**(-1/k)\n"
     ]
    },
    {
     "name": "stdout",
     "output_type": "stream",
     "text": [
      "making predictions...\n",
      "2023-07-25\n",
      "training predictor...\n"
     ]
    },
    {
     "name": "stderr",
     "output_type": "stream",
     "text": [
      "/Users/as3993/anaconda3/envs/plprob/lib/python3.12/site-packages/R/univariate.py:320: RuntimeWarning: invalid value encountered in power\n",
      "  val[upper_tail_x] = 1 - (1 - p_upper) * (1 + (k * (x[upper_tail_x] - b))/a)**(-1/k)\n"
     ]
    },
    {
     "name": "stdout",
     "output_type": "stream",
     "text": [
      "making predictions...\n",
      "2023-07-26\n",
      "training predictor...\n"
     ]
    },
    {
     "name": "stderr",
     "output_type": "stream",
     "text": [
      "/Users/as3993/anaconda3/envs/plprob/lib/python3.12/site-packages/R/univariate.py:320: RuntimeWarning: invalid value encountered in power\n",
      "  val[upper_tail_x] = 1 - (1 - p_upper) * (1 + (k * (x[upper_tail_x] - b))/a)**(-1/k)\n"
     ]
    },
    {
     "name": "stdout",
     "output_type": "stream",
     "text": [
      "making predictions...\n",
      "2023-07-27\n",
      "training predictor...\n"
     ]
    },
    {
     "name": "stderr",
     "output_type": "stream",
     "text": [
      "/Users/as3993/anaconda3/envs/plprob/lib/python3.12/site-packages/R/univariate.py:320: RuntimeWarning: invalid value encountered in power\n",
      "  val[upper_tail_x] = 1 - (1 - p_upper) * (1 + (k * (x[upper_tail_x] - b))/a)**(-1/k)\n"
     ]
    },
    {
     "name": "stdout",
     "output_type": "stream",
     "text": [
      "making predictions...\n",
      "2023-07-28\n",
      "training predictor...\n"
     ]
    },
    {
     "name": "stderr",
     "output_type": "stream",
     "text": [
      "/Users/as3993/anaconda3/envs/plprob/lib/python3.12/site-packages/R/univariate.py:320: RuntimeWarning: invalid value encountered in power\n",
      "  val[upper_tail_x] = 1 - (1 - p_upper) * (1 + (k * (x[upper_tail_x] - b))/a)**(-1/k)\n"
     ]
    },
    {
     "name": "stdout",
     "output_type": "stream",
     "text": [
      "making predictions...\n",
      "2023-07-29\n",
      "training predictor...\n"
     ]
    },
    {
     "name": "stderr",
     "output_type": "stream",
     "text": [
      "/Users/as3993/anaconda3/envs/plprob/lib/python3.12/site-packages/R/univariate.py:320: RuntimeWarning: invalid value encountered in power\n",
      "  val[upper_tail_x] = 1 - (1 - p_upper) * (1 + (k * (x[upper_tail_x] - b))/a)**(-1/k)\n"
     ]
    },
    {
     "name": "stdout",
     "output_type": "stream",
     "text": [
      "making predictions...\n",
      "2023-07-30\n",
      "training predictor...\n"
     ]
    },
    {
     "name": "stderr",
     "output_type": "stream",
     "text": [
      "/Users/as3993/anaconda3/envs/plprob/lib/python3.12/site-packages/R/univariate.py:320: RuntimeWarning: invalid value encountered in power\n",
      "  val[upper_tail_x] = 1 - (1 - p_upper) * (1 + (k * (x[upper_tail_x] - b))/a)**(-1/k)\n"
     ]
    },
    {
     "name": "stdout",
     "output_type": "stream",
     "text": [
      "making predictions...\n",
      "2023-07-31\n",
      "training predictor...\n"
     ]
    },
    {
     "name": "stderr",
     "output_type": "stream",
     "text": [
      "/Users/as3993/anaconda3/envs/plprob/lib/python3.12/site-packages/R/univariate.py:320: RuntimeWarning: invalid value encountered in power\n",
      "  val[upper_tail_x] = 1 - (1 - p_upper) * (1 + (k * (x[upper_tail_x] - b))/a)**(-1/k)\n"
     ]
    },
    {
     "name": "stdout",
     "output_type": "stream",
     "text": [
      "making predictions...\n",
      "2023-08-01\n",
      "training predictor...\n"
     ]
    },
    {
     "name": "stderr",
     "output_type": "stream",
     "text": [
      "/Users/as3993/anaconda3/envs/plprob/lib/python3.12/site-packages/R/univariate.py:320: RuntimeWarning: invalid value encountered in power\n",
      "  val[upper_tail_x] = 1 - (1 - p_upper) * (1 + (k * (x[upper_tail_x] - b))/a)**(-1/k)\n"
     ]
    },
    {
     "name": "stdout",
     "output_type": "stream",
     "text": [
      "making predictions...\n",
      "2023-08-02\n",
      "training predictor...\n"
     ]
    },
    {
     "name": "stderr",
     "output_type": "stream",
     "text": [
      "/Users/as3993/anaconda3/envs/plprob/lib/python3.12/site-packages/R/univariate.py:320: RuntimeWarning: invalid value encountered in power\n",
      "  val[upper_tail_x] = 1 - (1 - p_upper) * (1 + (k * (x[upper_tail_x] - b))/a)**(-1/k)\n"
     ]
    },
    {
     "name": "stdout",
     "output_type": "stream",
     "text": [
      "making predictions...\n",
      "2023-08-03\n",
      "training predictor...\n"
     ]
    },
    {
     "name": "stderr",
     "output_type": "stream",
     "text": [
      "/Users/as3993/anaconda3/envs/plprob/lib/python3.12/site-packages/R/univariate.py:320: RuntimeWarning: invalid value encountered in power\n",
      "  val[upper_tail_x] = 1 - (1 - p_upper) * (1 + (k * (x[upper_tail_x] - b))/a)**(-1/k)\n"
     ]
    },
    {
     "name": "stdout",
     "output_type": "stream",
     "text": [
      "making predictions...\n",
      "2023-08-04\n",
      "training predictor...\n"
     ]
    },
    {
     "name": "stderr",
     "output_type": "stream",
     "text": [
      "/Users/as3993/anaconda3/envs/plprob/lib/python3.12/site-packages/R/univariate.py:320: RuntimeWarning: invalid value encountered in power\n",
      "  val[upper_tail_x] = 1 - (1 - p_upper) * (1 + (k * (x[upper_tail_x] - b))/a)**(-1/k)\n"
     ]
    },
    {
     "name": "stdout",
     "output_type": "stream",
     "text": [
      "making predictions...\n",
      "2023-08-05\n",
      "training predictor...\n"
     ]
    },
    {
     "name": "stderr",
     "output_type": "stream",
     "text": [
      "/Users/as3993/anaconda3/envs/plprob/lib/python3.12/site-packages/R/univariate.py:320: RuntimeWarning: invalid value encountered in power\n",
      "  val[upper_tail_x] = 1 - (1 - p_upper) * (1 + (k * (x[upper_tail_x] - b))/a)**(-1/k)\n"
     ]
    },
    {
     "name": "stdout",
     "output_type": "stream",
     "text": [
      "making predictions...\n",
      "2023-08-06\n",
      "training predictor...\n"
     ]
    },
    {
     "name": "stderr",
     "output_type": "stream",
     "text": [
      "/Users/as3993/anaconda3/envs/plprob/lib/python3.12/site-packages/R/univariate.py:320: RuntimeWarning: invalid value encountered in power\n",
      "  val[upper_tail_x] = 1 - (1 - p_upper) * (1 + (k * (x[upper_tail_x] - b))/a)**(-1/k)\n"
     ]
    },
    {
     "name": "stdout",
     "output_type": "stream",
     "text": [
      "making predictions...\n",
      "2023-08-07\n",
      "training predictor...\n"
     ]
    },
    {
     "name": "stderr",
     "output_type": "stream",
     "text": [
      "/Users/as3993/anaconda3/envs/plprob/lib/python3.12/site-packages/R/univariate.py:320: RuntimeWarning: invalid value encountered in power\n",
      "  val[upper_tail_x] = 1 - (1 - p_upper) * (1 + (k * (x[upper_tail_x] - b))/a)**(-1/k)\n"
     ]
    },
    {
     "name": "stdout",
     "output_type": "stream",
     "text": [
      "making predictions...\n",
      "2023-08-08\n",
      "training predictor...\n"
     ]
    },
    {
     "name": "stderr",
     "output_type": "stream",
     "text": [
      "/Users/as3993/anaconda3/envs/plprob/lib/python3.12/site-packages/R/univariate.py:320: RuntimeWarning: invalid value encountered in power\n",
      "  val[upper_tail_x] = 1 - (1 - p_upper) * (1 + (k * (x[upper_tail_x] - b))/a)**(-1/k)\n"
     ]
    },
    {
     "name": "stdout",
     "output_type": "stream",
     "text": [
      "making predictions...\n",
      "2023-08-09\n",
      "training predictor...\n"
     ]
    },
    {
     "name": "stderr",
     "output_type": "stream",
     "text": [
      "/Users/as3993/anaconda3/envs/plprob/lib/python3.12/site-packages/R/univariate.py:320: RuntimeWarning: invalid value encountered in power\n",
      "  val[upper_tail_x] = 1 - (1 - p_upper) * (1 + (k * (x[upper_tail_x] - b))/a)**(-1/k)\n"
     ]
    },
    {
     "name": "stdout",
     "output_type": "stream",
     "text": [
      "making predictions...\n",
      "2023-08-10\n",
      "training predictor...\n"
     ]
    },
    {
     "name": "stderr",
     "output_type": "stream",
     "text": [
      "/Users/as3993/anaconda3/envs/plprob/lib/python3.12/site-packages/R/univariate.py:320: RuntimeWarning: invalid value encountered in power\n",
      "  val[upper_tail_x] = 1 - (1 - p_upper) * (1 + (k * (x[upper_tail_x] - b))/a)**(-1/k)\n"
     ]
    },
    {
     "name": "stdout",
     "output_type": "stream",
     "text": [
      "making predictions...\n",
      "2023-08-11\n",
      "training predictor...\n"
     ]
    },
    {
     "name": "stderr",
     "output_type": "stream",
     "text": [
      "/Users/as3993/anaconda3/envs/plprob/lib/python3.12/site-packages/R/univariate.py:320: RuntimeWarning: invalid value encountered in power\n",
      "  val[upper_tail_x] = 1 - (1 - p_upper) * (1 + (k * (x[upper_tail_x] - b))/a)**(-1/k)\n"
     ]
    },
    {
     "name": "stdout",
     "output_type": "stream",
     "text": [
      "making predictions...\n",
      "2023-08-12\n",
      "training predictor...\n"
     ]
    },
    {
     "name": "stderr",
     "output_type": "stream",
     "text": [
      "/Users/as3993/anaconda3/envs/plprob/lib/python3.12/site-packages/R/univariate.py:320: RuntimeWarning: invalid value encountered in power\n",
      "  val[upper_tail_x] = 1 - (1 - p_upper) * (1 + (k * (x[upper_tail_x] - b))/a)**(-1/k)\n"
     ]
    },
    {
     "name": "stdout",
     "output_type": "stream",
     "text": [
      "making predictions...\n",
      "2023-08-13\n",
      "training predictor...\n"
     ]
    },
    {
     "name": "stderr",
     "output_type": "stream",
     "text": [
      "/Users/as3993/anaconda3/envs/plprob/lib/python3.12/site-packages/R/univariate.py:320: RuntimeWarning: invalid value encountered in power\n",
      "  val[upper_tail_x] = 1 - (1 - p_upper) * (1 + (k * (x[upper_tail_x] - b))/a)**(-1/k)\n"
     ]
    },
    {
     "name": "stdout",
     "output_type": "stream",
     "text": [
      "making predictions...\n",
      "2023-08-14\n",
      "training predictor...\n"
     ]
    },
    {
     "name": "stderr",
     "output_type": "stream",
     "text": [
      "/Users/as3993/anaconda3/envs/plprob/lib/python3.12/site-packages/R/univariate.py:320: RuntimeWarning: invalid value encountered in power\n",
      "  val[upper_tail_x] = 1 - (1 - p_upper) * (1 + (k * (x[upper_tail_x] - b))/a)**(-1/k)\n"
     ]
    },
    {
     "name": "stdout",
     "output_type": "stream",
     "text": [
      "making predictions...\n",
      "2023-08-15\n",
      "training predictor...\n"
     ]
    },
    {
     "name": "stderr",
     "output_type": "stream",
     "text": [
      "/Users/as3993/anaconda3/envs/plprob/lib/python3.12/site-packages/R/univariate.py:320: RuntimeWarning: invalid value encountered in power\n",
      "  val[upper_tail_x] = 1 - (1 - p_upper) * (1 + (k * (x[upper_tail_x] - b))/a)**(-1/k)\n"
     ]
    },
    {
     "name": "stdout",
     "output_type": "stream",
     "text": [
      "making predictions...\n",
      "2023-08-16\n",
      "training predictor...\n"
     ]
    },
    {
     "name": "stderr",
     "output_type": "stream",
     "text": [
      "/Users/as3993/anaconda3/envs/plprob/lib/python3.12/site-packages/R/univariate.py:320: RuntimeWarning: invalid value encountered in power\n",
      "  val[upper_tail_x] = 1 - (1 - p_upper) * (1 + (k * (x[upper_tail_x] - b))/a)**(-1/k)\n"
     ]
    },
    {
     "name": "stdout",
     "output_type": "stream",
     "text": [
      "making predictions...\n",
      "2023-08-17\n",
      "training predictor...\n"
     ]
    },
    {
     "name": "stderr",
     "output_type": "stream",
     "text": [
      "/Users/as3993/anaconda3/envs/plprob/lib/python3.12/site-packages/R/univariate.py:320: RuntimeWarning: invalid value encountered in power\n",
      "  val[upper_tail_x] = 1 - (1 - p_upper) * (1 + (k * (x[upper_tail_x] - b))/a)**(-1/k)\n"
     ]
    },
    {
     "name": "stdout",
     "output_type": "stream",
     "text": [
      "making predictions...\n",
      "2023-08-18\n",
      "training predictor...\n"
     ]
    },
    {
     "name": "stderr",
     "output_type": "stream",
     "text": [
      "/Users/as3993/anaconda3/envs/plprob/lib/python3.12/site-packages/R/univariate.py:320: RuntimeWarning: invalid value encountered in power\n",
      "  val[upper_tail_x] = 1 - (1 - p_upper) * (1 + (k * (x[upper_tail_x] - b))/a)**(-1/k)\n"
     ]
    },
    {
     "name": "stdout",
     "output_type": "stream",
     "text": [
      "making predictions...\n",
      "2023-08-19\n",
      "training predictor...\n"
     ]
    },
    {
     "name": "stderr",
     "output_type": "stream",
     "text": [
      "/Users/as3993/anaconda3/envs/plprob/lib/python3.12/site-packages/R/univariate.py:320: RuntimeWarning: invalid value encountered in power\n",
      "  val[upper_tail_x] = 1 - (1 - p_upper) * (1 + (k * (x[upper_tail_x] - b))/a)**(-1/k)\n"
     ]
    },
    {
     "name": "stdout",
     "output_type": "stream",
     "text": [
      "making predictions...\n",
      "2023-08-20\n",
      "training predictor...\n"
     ]
    },
    {
     "name": "stderr",
     "output_type": "stream",
     "text": [
      "/Users/as3993/anaconda3/envs/plprob/lib/python3.12/site-packages/R/univariate.py:320: RuntimeWarning: invalid value encountered in power\n",
      "  val[upper_tail_x] = 1 - (1 - p_upper) * (1 + (k * (x[upper_tail_x] - b))/a)**(-1/k)\n"
     ]
    },
    {
     "name": "stdout",
     "output_type": "stream",
     "text": [
      "making predictions...\n",
      "2023-08-21\n",
      "training predictor...\n"
     ]
    },
    {
     "name": "stderr",
     "output_type": "stream",
     "text": [
      "/Users/as3993/anaconda3/envs/plprob/lib/python3.12/site-packages/R/univariate.py:320: RuntimeWarning: invalid value encountered in power\n",
      "  val[upper_tail_x] = 1 - (1 - p_upper) * (1 + (k * (x[upper_tail_x] - b))/a)**(-1/k)\n"
     ]
    },
    {
     "name": "stdout",
     "output_type": "stream",
     "text": [
      "making predictions...\n",
      "2023-08-22\n",
      "training predictor...\n"
     ]
    },
    {
     "name": "stderr",
     "output_type": "stream",
     "text": [
      "/Users/as3993/anaconda3/envs/plprob/lib/python3.12/site-packages/R/univariate.py:320: RuntimeWarning: invalid value encountered in power\n",
      "  val[upper_tail_x] = 1 - (1 - p_upper) * (1 + (k * (x[upper_tail_x] - b))/a)**(-1/k)\n"
     ]
    },
    {
     "name": "stdout",
     "output_type": "stream",
     "text": [
      "making predictions...\n",
      "2023-08-23\n",
      "training predictor...\n"
     ]
    },
    {
     "name": "stderr",
     "output_type": "stream",
     "text": [
      "/Users/as3993/anaconda3/envs/plprob/lib/python3.12/site-packages/R/univariate.py:320: RuntimeWarning: invalid value encountered in power\n",
      "  val[upper_tail_x] = 1 - (1 - p_upper) * (1 + (k * (x[upper_tail_x] - b))/a)**(-1/k)\n"
     ]
    },
    {
     "name": "stdout",
     "output_type": "stream",
     "text": [
      "making predictions...\n",
      "2023-08-24\n",
      "training predictor...\n"
     ]
    },
    {
     "name": "stderr",
     "output_type": "stream",
     "text": [
      "/Users/as3993/anaconda3/envs/plprob/lib/python3.12/site-packages/R/univariate.py:320: RuntimeWarning: invalid value encountered in power\n",
      "  val[upper_tail_x] = 1 - (1 - p_upper) * (1 + (k * (x[upper_tail_x] - b))/a)**(-1/k)\n"
     ]
    },
    {
     "name": "stdout",
     "output_type": "stream",
     "text": [
      "making predictions...\n",
      "2023-08-25\n",
      "training predictor...\n"
     ]
    },
    {
     "name": "stderr",
     "output_type": "stream",
     "text": [
      "/Users/as3993/anaconda3/envs/plprob/lib/python3.12/site-packages/R/univariate.py:320: RuntimeWarning: invalid value encountered in power\n",
      "  val[upper_tail_x] = 1 - (1 - p_upper) * (1 + (k * (x[upper_tail_x] - b))/a)**(-1/k)\n"
     ]
    },
    {
     "name": "stdout",
     "output_type": "stream",
     "text": [
      "making predictions...\n",
      "2023-08-26\n",
      "training predictor...\n"
     ]
    },
    {
     "name": "stderr",
     "output_type": "stream",
     "text": [
      "/Users/as3993/anaconda3/envs/plprob/lib/python3.12/site-packages/R/univariate.py:320: RuntimeWarning: invalid value encountered in power\n",
      "  val[upper_tail_x] = 1 - (1 - p_upper) * (1 + (k * (x[upper_tail_x] - b))/a)**(-1/k)\n"
     ]
    },
    {
     "name": "stdout",
     "output_type": "stream",
     "text": [
      "making predictions...\n",
      "2023-08-27\n",
      "training predictor...\n"
     ]
    },
    {
     "name": "stderr",
     "output_type": "stream",
     "text": [
      "/Users/as3993/anaconda3/envs/plprob/lib/python3.12/site-packages/R/univariate.py:320: RuntimeWarning: invalid value encountered in power\n",
      "  val[upper_tail_x] = 1 - (1 - p_upper) * (1 + (k * (x[upper_tail_x] - b))/a)**(-1/k)\n"
     ]
    },
    {
     "name": "stdout",
     "output_type": "stream",
     "text": [
      "making predictions...\n",
      "2023-08-28\n",
      "training predictor...\n"
     ]
    },
    {
     "name": "stderr",
     "output_type": "stream",
     "text": [
      "/Users/as3993/anaconda3/envs/plprob/lib/python3.12/site-packages/R/univariate.py:320: RuntimeWarning: invalid value encountered in power\n",
      "  val[upper_tail_x] = 1 - (1 - p_upper) * (1 + (k * (x[upper_tail_x] - b))/a)**(-1/k)\n"
     ]
    },
    {
     "name": "stdout",
     "output_type": "stream",
     "text": [
      "making predictions...\n",
      "2023-08-29\n",
      "training predictor...\n"
     ]
    },
    {
     "name": "stderr",
     "output_type": "stream",
     "text": [
      "/Users/as3993/anaconda3/envs/plprob/lib/python3.12/site-packages/R/univariate.py:320: RuntimeWarning: invalid value encountered in power\n",
      "  val[upper_tail_x] = 1 - (1 - p_upper) * (1 + (k * (x[upper_tail_x] - b))/a)**(-1/k)\n"
     ]
    },
    {
     "name": "stdout",
     "output_type": "stream",
     "text": [
      "making predictions...\n",
      "2023-08-30\n",
      "training predictor...\n"
     ]
    },
    {
     "name": "stderr",
     "output_type": "stream",
     "text": [
      "/Users/as3993/anaconda3/envs/plprob/lib/python3.12/site-packages/R/univariate.py:320: RuntimeWarning: invalid value encountered in power\n",
      "  val[upper_tail_x] = 1 - (1 - p_upper) * (1 + (k * (x[upper_tail_x] - b))/a)**(-1/k)\n"
     ]
    },
    {
     "name": "stdout",
     "output_type": "stream",
     "text": [
      "making predictions...\n",
      "2023-08-31\n",
      "training predictor...\n"
     ]
    },
    {
     "name": "stderr",
     "output_type": "stream",
     "text": [
      "/Users/as3993/anaconda3/envs/plprob/lib/python3.12/site-packages/R/univariate.py:320: RuntimeWarning: invalid value encountered in power\n",
      "  val[upper_tail_x] = 1 - (1 - p_upper) * (1 + (k * (x[upper_tail_x] - b))/a)**(-1/k)\n"
     ]
    },
    {
     "name": "stdout",
     "output_type": "stream",
     "text": [
      "making predictions...\n",
      "2023-09-01\n",
      "training predictor...\n"
     ]
    },
    {
     "name": "stderr",
     "output_type": "stream",
     "text": [
      "/Users/as3993/anaconda3/envs/plprob/lib/python3.12/site-packages/R/univariate.py:320: RuntimeWarning: invalid value encountered in power\n",
      "  val[upper_tail_x] = 1 - (1 - p_upper) * (1 + (k * (x[upper_tail_x] - b))/a)**(-1/k)\n"
     ]
    },
    {
     "name": "stdout",
     "output_type": "stream",
     "text": [
      "making predictions...\n",
      "2023-09-02\n",
      "training predictor...\n"
     ]
    },
    {
     "name": "stderr",
     "output_type": "stream",
     "text": [
      "/Users/as3993/anaconda3/envs/plprob/lib/python3.12/site-packages/R/univariate.py:320: RuntimeWarning: invalid value encountered in power\n",
      "  val[upper_tail_x] = 1 - (1 - p_upper) * (1 + (k * (x[upper_tail_x] - b))/a)**(-1/k)\n",
      "/Users/as3993/anaconda3/envs/plprob/lib/python3.12/site-packages/sklearn/covariance/_graph_lasso.py:191: ConvergenceWarning: graphical_lasso: did not converge after 100 iteration: dual gap: 3.878e-03\n",
      "  warnings.warn(\n"
     ]
    },
    {
     "name": "stdout",
     "output_type": "stream",
     "text": [
      "making predictions...\n",
      "2023-09-03\n",
      "training predictor...\n"
     ]
    },
    {
     "name": "stderr",
     "output_type": "stream",
     "text": [
      "/Users/as3993/anaconda3/envs/plprob/lib/python3.12/site-packages/R/univariate.py:320: RuntimeWarning: invalid value encountered in power\n",
      "  val[upper_tail_x] = 1 - (1 - p_upper) * (1 + (k * (x[upper_tail_x] - b))/a)**(-1/k)\n"
     ]
    },
    {
     "name": "stdout",
     "output_type": "stream",
     "text": [
      "making predictions...\n",
      "2023-09-04\n",
      "training predictor...\n"
     ]
    },
    {
     "name": "stderr",
     "output_type": "stream",
     "text": [
      "/Users/as3993/anaconda3/envs/plprob/lib/python3.12/site-packages/R/univariate.py:320: RuntimeWarning: invalid value encountered in power\n",
      "  val[upper_tail_x] = 1 - (1 - p_upper) * (1 + (k * (x[upper_tail_x] - b))/a)**(-1/k)\n",
      "/Users/as3993/anaconda3/envs/plprob/lib/python3.12/site-packages/sklearn/covariance/_graph_lasso.py:191: ConvergenceWarning: graphical_lasso: did not converge after 100 iteration: dual gap: 2.578e-03\n",
      "  warnings.warn(\n"
     ]
    },
    {
     "name": "stdout",
     "output_type": "stream",
     "text": [
      "making predictions...\n",
      "2023-09-05\n",
      "training predictor...\n"
     ]
    },
    {
     "name": "stderr",
     "output_type": "stream",
     "text": [
      "/Users/as3993/anaconda3/envs/plprob/lib/python3.12/site-packages/R/univariate.py:320: RuntimeWarning: invalid value encountered in power\n",
      "  val[upper_tail_x] = 1 - (1 - p_upper) * (1 + (k * (x[upper_tail_x] - b))/a)**(-1/k)\n"
     ]
    },
    {
     "name": "stdout",
     "output_type": "stream",
     "text": [
      "making predictions...\n",
      "2023-09-06\n",
      "training predictor...\n"
     ]
    },
    {
     "name": "stderr",
     "output_type": "stream",
     "text": [
      "/Users/as3993/anaconda3/envs/plprob/lib/python3.12/site-packages/R/univariate.py:320: RuntimeWarning: invalid value encountered in power\n",
      "  val[upper_tail_x] = 1 - (1 - p_upper) * (1 + (k * (x[upper_tail_x] - b))/a)**(-1/k)\n"
     ]
    },
    {
     "name": "stdout",
     "output_type": "stream",
     "text": [
      "making predictions...\n",
      "2023-09-07\n",
      "training predictor...\n"
     ]
    },
    {
     "name": "stderr",
     "output_type": "stream",
     "text": [
      "/Users/as3993/anaconda3/envs/plprob/lib/python3.12/site-packages/R/univariate.py:320: RuntimeWarning: invalid value encountered in power\n",
      "  val[upper_tail_x] = 1 - (1 - p_upper) * (1 + (k * (x[upper_tail_x] - b))/a)**(-1/k)\n"
     ]
    },
    {
     "name": "stdout",
     "output_type": "stream",
     "text": [
      "making predictions...\n",
      "2023-09-08\n",
      "training predictor...\n"
     ]
    },
    {
     "name": "stderr",
     "output_type": "stream",
     "text": [
      "/Users/as3993/anaconda3/envs/plprob/lib/python3.12/site-packages/R/univariate.py:320: RuntimeWarning: invalid value encountered in power\n",
      "  val[upper_tail_x] = 1 - (1 - p_upper) * (1 + (k * (x[upper_tail_x] - b))/a)**(-1/k)\n"
     ]
    },
    {
     "name": "stdout",
     "output_type": "stream",
     "text": [
      "making predictions...\n",
      "2023-09-09\n",
      "training predictor...\n"
     ]
    },
    {
     "name": "stderr",
     "output_type": "stream",
     "text": [
      "/Users/as3993/anaconda3/envs/plprob/lib/python3.12/site-packages/R/univariate.py:320: RuntimeWarning: invalid value encountered in power\n",
      "  val[upper_tail_x] = 1 - (1 - p_upper) * (1 + (k * (x[upper_tail_x] - b))/a)**(-1/k)\n"
     ]
    },
    {
     "name": "stdout",
     "output_type": "stream",
     "text": [
      "making predictions...\n",
      "2023-09-10\n",
      "training predictor...\n"
     ]
    },
    {
     "name": "stderr",
     "output_type": "stream",
     "text": [
      "/Users/as3993/anaconda3/envs/plprob/lib/python3.12/site-packages/R/univariate.py:320: RuntimeWarning: invalid value encountered in power\n",
      "  val[upper_tail_x] = 1 - (1 - p_upper) * (1 + (k * (x[upper_tail_x] - b))/a)**(-1/k)\n"
     ]
    },
    {
     "name": "stdout",
     "output_type": "stream",
     "text": [
      "making predictions...\n",
      "2023-09-11\n",
      "training predictor...\n"
     ]
    },
    {
     "name": "stderr",
     "output_type": "stream",
     "text": [
      "/Users/as3993/anaconda3/envs/plprob/lib/python3.12/site-packages/R/univariate.py:320: RuntimeWarning: invalid value encountered in power\n",
      "  val[upper_tail_x] = 1 - (1 - p_upper) * (1 + (k * (x[upper_tail_x] - b))/a)**(-1/k)\n"
     ]
    },
    {
     "name": "stdout",
     "output_type": "stream",
     "text": [
      "making predictions...\n",
      "2023-09-12\n",
      "training predictor...\n"
     ]
    },
    {
     "name": "stderr",
     "output_type": "stream",
     "text": [
      "/Users/as3993/anaconda3/envs/plprob/lib/python3.12/site-packages/R/univariate.py:320: RuntimeWarning: invalid value encountered in power\n",
      "  val[upper_tail_x] = 1 - (1 - p_upper) * (1 + (k * (x[upper_tail_x] - b))/a)**(-1/k)\n"
     ]
    },
    {
     "name": "stdout",
     "output_type": "stream",
     "text": [
      "making predictions...\n",
      "2023-09-13\n",
      "training predictor...\n"
     ]
    },
    {
     "name": "stderr",
     "output_type": "stream",
     "text": [
      "/Users/as3993/anaconda3/envs/plprob/lib/python3.12/site-packages/R/univariate.py:320: RuntimeWarning: invalid value encountered in power\n",
      "  val[upper_tail_x] = 1 - (1 - p_upper) * (1 + (k * (x[upper_tail_x] - b))/a)**(-1/k)\n"
     ]
    },
    {
     "name": "stdout",
     "output_type": "stream",
     "text": [
      "making predictions...\n",
      "2023-09-14\n",
      "training predictor...\n"
     ]
    },
    {
     "name": "stderr",
     "output_type": "stream",
     "text": [
      "/Users/as3993/anaconda3/envs/plprob/lib/python3.12/site-packages/R/univariate.py:320: RuntimeWarning: invalid value encountered in power\n",
      "  val[upper_tail_x] = 1 - (1 - p_upper) * (1 + (k * (x[upper_tail_x] - b))/a)**(-1/k)\n"
     ]
    },
    {
     "name": "stdout",
     "output_type": "stream",
     "text": [
      "making predictions...\n",
      "2023-09-15\n",
      "training predictor...\n"
     ]
    },
    {
     "name": "stderr",
     "output_type": "stream",
     "text": [
      "/Users/as3993/anaconda3/envs/plprob/lib/python3.12/site-packages/R/univariate.py:320: RuntimeWarning: invalid value encountered in power\n",
      "  val[upper_tail_x] = 1 - (1 - p_upper) * (1 + (k * (x[upper_tail_x] - b))/a)**(-1/k)\n"
     ]
    },
    {
     "name": "stdout",
     "output_type": "stream",
     "text": [
      "making predictions...\n",
      "2023-09-16\n",
      "training predictor...\n"
     ]
    },
    {
     "name": "stderr",
     "output_type": "stream",
     "text": [
      "/Users/as3993/anaconda3/envs/plprob/lib/python3.12/site-packages/R/univariate.py:320: RuntimeWarning: invalid value encountered in power\n",
      "  val[upper_tail_x] = 1 - (1 - p_upper) * (1 + (k * (x[upper_tail_x] - b))/a)**(-1/k)\n"
     ]
    },
    {
     "name": "stdout",
     "output_type": "stream",
     "text": [
      "making predictions...\n",
      "2023-09-17\n",
      "training predictor...\n"
     ]
    },
    {
     "name": "stderr",
     "output_type": "stream",
     "text": [
      "/Users/as3993/anaconda3/envs/plprob/lib/python3.12/site-packages/R/univariate.py:320: RuntimeWarning: invalid value encountered in power\n",
      "  val[upper_tail_x] = 1 - (1 - p_upper) * (1 + (k * (x[upper_tail_x] - b))/a)**(-1/k)\n"
     ]
    },
    {
     "name": "stdout",
     "output_type": "stream",
     "text": [
      "making predictions...\n",
      "2023-09-18\n",
      "training predictor...\n"
     ]
    },
    {
     "name": "stderr",
     "output_type": "stream",
     "text": [
      "/Users/as3993/anaconda3/envs/plprob/lib/python3.12/site-packages/R/univariate.py:320: RuntimeWarning: invalid value encountered in power\n",
      "  val[upper_tail_x] = 1 - (1 - p_upper) * (1 + (k * (x[upper_tail_x] - b))/a)**(-1/k)\n"
     ]
    },
    {
     "name": "stdout",
     "output_type": "stream",
     "text": [
      "making predictions...\n",
      "2023-09-19\n",
      "training predictor...\n"
     ]
    },
    {
     "name": "stderr",
     "output_type": "stream",
     "text": [
      "/Users/as3993/anaconda3/envs/plprob/lib/python3.12/site-packages/R/univariate.py:320: RuntimeWarning: invalid value encountered in power\n",
      "  val[upper_tail_x] = 1 - (1 - p_upper) * (1 + (k * (x[upper_tail_x] - b))/a)**(-1/k)\n"
     ]
    },
    {
     "name": "stdout",
     "output_type": "stream",
     "text": [
      "making predictions...\n",
      "2023-09-20\n",
      "training predictor...\n"
     ]
    },
    {
     "name": "stderr",
     "output_type": "stream",
     "text": [
      "/Users/as3993/anaconda3/envs/plprob/lib/python3.12/site-packages/R/univariate.py:320: RuntimeWarning: invalid value encountered in power\n",
      "  val[upper_tail_x] = 1 - (1 - p_upper) * (1 + (k * (x[upper_tail_x] - b))/a)**(-1/k)\n"
     ]
    },
    {
     "name": "stdout",
     "output_type": "stream",
     "text": [
      "making predictions...\n",
      "2023-09-21\n",
      "training predictor...\n"
     ]
    },
    {
     "name": "stderr",
     "output_type": "stream",
     "text": [
      "/Users/as3993/anaconda3/envs/plprob/lib/python3.12/site-packages/R/univariate.py:320: RuntimeWarning: invalid value encountered in power\n",
      "  val[upper_tail_x] = 1 - (1 - p_upper) * (1 + (k * (x[upper_tail_x] - b))/a)**(-1/k)\n"
     ]
    },
    {
     "name": "stdout",
     "output_type": "stream",
     "text": [
      "making predictions...\n",
      "2023-09-22\n",
      "training predictor...\n"
     ]
    },
    {
     "name": "stderr",
     "output_type": "stream",
     "text": [
      "/Users/as3993/anaconda3/envs/plprob/lib/python3.12/site-packages/R/univariate.py:320: RuntimeWarning: invalid value encountered in power\n",
      "  val[upper_tail_x] = 1 - (1 - p_upper) * (1 + (k * (x[upper_tail_x] - b))/a)**(-1/k)\n"
     ]
    },
    {
     "name": "stdout",
     "output_type": "stream",
     "text": [
      "making predictions...\n",
      "2023-09-23\n",
      "training predictor...\n"
     ]
    },
    {
     "name": "stderr",
     "output_type": "stream",
     "text": [
      "/Users/as3993/anaconda3/envs/plprob/lib/python3.12/site-packages/R/univariate.py:320: RuntimeWarning: invalid value encountered in power\n",
      "  val[upper_tail_x] = 1 - (1 - p_upper) * (1 + (k * (x[upper_tail_x] - b))/a)**(-1/k)\n"
     ]
    },
    {
     "name": "stdout",
     "output_type": "stream",
     "text": [
      "making predictions...\n",
      "2023-09-24\n",
      "training predictor...\n"
     ]
    },
    {
     "name": "stderr",
     "output_type": "stream",
     "text": [
      "/Users/as3993/anaconda3/envs/plprob/lib/python3.12/site-packages/R/univariate.py:320: RuntimeWarning: invalid value encountered in power\n",
      "  val[upper_tail_x] = 1 - (1 - p_upper) * (1 + (k * (x[upper_tail_x] - b))/a)**(-1/k)\n"
     ]
    },
    {
     "name": "stdout",
     "output_type": "stream",
     "text": [
      "making predictions...\n",
      "2023-09-25\n",
      "training predictor...\n"
     ]
    },
    {
     "name": "stderr",
     "output_type": "stream",
     "text": [
      "/Users/as3993/anaconda3/envs/plprob/lib/python3.12/site-packages/R/univariate.py:320: RuntimeWarning: invalid value encountered in power\n",
      "  val[upper_tail_x] = 1 - (1 - p_upper) * (1 + (k * (x[upper_tail_x] - b))/a)**(-1/k)\n"
     ]
    },
    {
     "name": "stdout",
     "output_type": "stream",
     "text": [
      "making predictions...\n",
      "2023-09-26\n",
      "training predictor...\n"
     ]
    },
    {
     "name": "stderr",
     "output_type": "stream",
     "text": [
      "/Users/as3993/anaconda3/envs/plprob/lib/python3.12/site-packages/R/univariate.py:320: RuntimeWarning: invalid value encountered in power\n",
      "  val[upper_tail_x] = 1 - (1 - p_upper) * (1 + (k * (x[upper_tail_x] - b))/a)**(-1/k)\n"
     ]
    },
    {
     "name": "stdout",
     "output_type": "stream",
     "text": [
      "making predictions...\n",
      "2023-09-27\n",
      "training predictor...\n"
     ]
    },
    {
     "name": "stderr",
     "output_type": "stream",
     "text": [
      "/Users/as3993/anaconda3/envs/plprob/lib/python3.12/site-packages/R/univariate.py:320: RuntimeWarning: invalid value encountered in power\n",
      "  val[upper_tail_x] = 1 - (1 - p_upper) * (1 + (k * (x[upper_tail_x] - b))/a)**(-1/k)\n"
     ]
    },
    {
     "name": "stdout",
     "output_type": "stream",
     "text": [
      "making predictions...\n",
      "2023-09-28\n",
      "training predictor...\n"
     ]
    },
    {
     "name": "stderr",
     "output_type": "stream",
     "text": [
      "/Users/as3993/anaconda3/envs/plprob/lib/python3.12/site-packages/R/univariate.py:320: RuntimeWarning: invalid value encountered in power\n",
      "  val[upper_tail_x] = 1 - (1 - p_upper) * (1 + (k * (x[upper_tail_x] - b))/a)**(-1/k)\n"
     ]
    },
    {
     "name": "stdout",
     "output_type": "stream",
     "text": [
      "making predictions...\n",
      "2023-09-29\n",
      "training predictor...\n"
     ]
    },
    {
     "name": "stderr",
     "output_type": "stream",
     "text": [
      "/Users/as3993/anaconda3/envs/plprob/lib/python3.12/site-packages/R/univariate.py:320: RuntimeWarning: invalid value encountered in power\n",
      "  val[upper_tail_x] = 1 - (1 - p_upper) * (1 + (k * (x[upper_tail_x] - b))/a)**(-1/k)\n"
     ]
    },
    {
     "name": "stdout",
     "output_type": "stream",
     "text": [
      "making predictions...\n",
      "2023-09-30\n",
      "training predictor...\n"
     ]
    },
    {
     "name": "stderr",
     "output_type": "stream",
     "text": [
      "/Users/as3993/anaconda3/envs/plprob/lib/python3.12/site-packages/R/univariate.py:320: RuntimeWarning: invalid value encountered in power\n",
      "  val[upper_tail_x] = 1 - (1 - p_upper) * (1 + (k * (x[upper_tail_x] - b))/a)**(-1/k)\n"
     ]
    },
    {
     "name": "stdout",
     "output_type": "stream",
     "text": [
      "making predictions...\n"
     ]
    }
   ],
   "source": [
    "cp_probs = dict()\n",
    "intraday_probs = dict()\n",
    "daily_peaks = dict()\n",
    "new_cp_days = []\n",
    "\n",
    "num_of_cps = 5\n",
    "hist_cps = []\n",
    "for day in pd.date_range(start='2023-06-01', periods=122, freq='D'):\n",
    "    \n",
    "    start_date = day.strftime('%Y-%m-%d')\n",
    "\n",
    "    print(start_date)\n",
    "    \n",
    "    start_time = pd.to_datetime(start_date).tz_localize('US/Eastern')\n",
    "    timesteps = pd.date_range(start=start_time, periods=24, freq='h')\n",
    "\n",
    "    # Separate historical and future data\n",
    "    (load_actual_hists,\n",
    "         load_actual_futures) = split_actuals_hist_future(\n",
    "                rto_actual_df, timesteps)\n",
    "    \n",
    "    (load_forecast_hists,\n",
    "         load_forecast_futures) = split_forecasts_hist_future(\n",
    "                rto_forecast_df, timesteps)\n",
    "\n",
    "    # Fit model and compute probability\n",
    "    print(f'training predictor...')\n",
    "    predictor = PlPredictor(load_actual_hists, load_forecast_hists, start_time, \n",
    "                            num_of_cps, hist_cps, forecast_lead_time_in_hour=1, seed=seed)\n",
    "    predictor.fit(0.05, 0.05)\n",
    "\n",
    "    print(f'making predictions...')\n",
    "    predictor.create_scenario(1000, load_forecast_futures)\n",
    "    predictor.compute_cp_probs()\n",
    "\n",
    "    # Update historical CPs\n",
    "    today_peak = load_actual_futures.loc[timesteps, 'RTO'].max()\n",
    "    predictor.update_cp(today_peak)\n",
    "    if hist_cps != predictor.hist_cps:\n",
    "        new_cp_days.append(start_date)\n",
    "        hist_cps = predictor.hist_cps\n",
    "\n",
    "    # Save CP and hour probability\n",
    "    cp_probs[start_date] = predictor.cp_prob\n",
    "    n = 0\n",
    "    while n < num_of_cps + 1:\n",
    "        if n not in cp_probs[start_date]:\n",
    "            cp_probs[start_date][n] = cp_probs[start_date][n-1]\n",
    "        n += 1\n",
    "\n",
    "    daily_peaks[start_date] = today_peak\n",
    "    intraday_probs[start_date] = predictor.peak_hour_prob\n",
    "    "
   ]
  },
  {
   "cell_type": "markdown",
   "id": "aca92727-b7ac-4d13-b67c-07bcac1fc97e",
   "metadata": {},
   "source": [
    "### Collect results "
   ]
  },
  {
   "cell_type": "code",
   "execution_count": 4,
   "id": "4da0954c-aef8-444c-9468-7fd0d60cd24c",
   "metadata": {},
   "outputs": [
    {
     "name": "stderr",
     "output_type": "stream",
     "text": [
      "/var/folders/p_/cgtqpk9j7kq74n_ft0y8yvxr0000gp/T/ipykernel_35476/1157706400.py:2: FutureWarning: 'H' is deprecated and will be removed in a future version, please use 'h' instead.\n",
      "  'RTO': daily_peaks.values()}).set_index('Time').resample('H').ffill()\n"
     ]
    }
   ],
   "source": [
    "daily_peak_df = pd.DataFrame({'Time': pd.to_datetime(list(daily_peaks.keys())), \n",
    "                              'RTO': daily_peaks.values()}).set_index('Time').resample('H').ffill()"
   ]
  },
  {
   "cell_type": "code",
   "execution_count": 5,
   "id": "d69d02a6-b62e-42d6-8cd6-5b8193948f67",
   "metadata": {},
   "outputs": [
    {
     "name": "stderr",
     "output_type": "stream",
     "text": [
      "/var/folders/p_/cgtqpk9j7kq74n_ft0y8yvxr0000gp/T/ipykernel_35476/369200516.py:11: FutureWarning: 'H' is deprecated and will be removed in a future version, please use 'h' instead.\n",
      "  how='left', left_index=True, right_index=True).fillna(0).resample('H').ffill()\n"
     ]
    }
   ],
   "source": [
    "cp_prob_dict = {'Time':pd.to_datetime(list(cp_probs.keys()))}\n",
    "\n",
    "for n in range(num_of_cps):\n",
    "    n_cp_prob = []\n",
    "    for day, probs in cp_probs.items():\n",
    "        n_cp_prob.append(probs[n])\n",
    "    cp_prob_dict[n] = n_cp_prob\n",
    "cp_prob_df = pd.DataFrame(cp_prob_dict).set_index('Time')\n",
    "\n",
    "cp_prob_df = cp_prob_df.merge(pd.DataFrame({'Time': pd.to_datetime(new_cp_days), 'New CP': 1}).set_index('Time'), \n",
    "                 how='left', left_index=True, right_index=True).fillna(0).resample('H').ffill()"
   ]
  },
  {
   "cell_type": "code",
   "execution_count": 6,
   "id": "b2293209-703f-4c67-8fa9-3e05de375472",
   "metadata": {},
   "outputs": [
    {
     "data": {
      "text/plain": [
       "<matplotlib.legend.Legend at 0x17f9790d0>"
      ]
     },
     "execution_count": 6,
     "metadata": {},
     "output_type": "execute_result"
    },
    {
     "data": {
      "image/png": "[encoded data removed]",
      "text/plain": [
       "<Figure size 1500x500 with 2 Axes>"
      ]
     },
     "metadata": {},
     "output_type": "display_data"
    }
   ],
   "source": [
    "fig = plt.figure(figsize=(15, 5))\n",
    "\n",
    "ax = fig.add_subplot(111)\n",
    "ln1 = ax.plot(daily_peak_df, label='Daily peak')\n",
    "\n",
    "ax2 = ax.twinx()\n",
    "ln2 = ax2.plot(cp_prob_df[4], color='red', linestyle='dashed', label='Prob of being new CP')\n",
    "ln3 = ax2.plot(cp_prob_df['New CP'], color='green', linestyle='dotted', label='New CP')\n",
    "\n",
    "lns = ln1+ln2+ln3\n",
    "labs = [l.get_label() for l in lns]\n",
    "ax.legend(lns, labs, loc=0)"
   ]
  }
 ],
 "metadata": {
  "kernelspec": {
   "display_name": "Python 3 (ipykernel)",
   "language": "python",
   "name": "python3"
  },
  "language_info": {
   "codemirror_mode": {
    "name": "ipython",
    "version": 3
   },
   "file_extension": ".py",
   "mimetype": "text/x-python",
   "name": "python",
   "nbconvert_exporter": "python",
   "pygments_lexer": "ipython3",
   "version": "3.12.1"
  }
 },
 "nbformat": 4,
 "nbformat_minor": 5
}
