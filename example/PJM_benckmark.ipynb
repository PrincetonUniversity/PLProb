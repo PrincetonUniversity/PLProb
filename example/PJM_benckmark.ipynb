{
 "cells": [
  {
   "cell_type": "code",
   "execution_count": null,
   "id": "91d1dfce-65ca-494c-b29b-01e0f898adec",
   "metadata": {},
   "outputs": [],
   "source": [
    "import pandas as pd\n",
    "import numpy as np\n",
    "from plprob.utils import (split_actuals_hist_future, split_forecasts_hist_future)\n",
    "from plprob.predictor import PlPredictor\n",
    "import matplotlib.pyplot as plt\n",
    "from math import ceil\n",
    "from pandas.tseries.holiday import USFederalHolidayCalendar\n",
    "from pandas.tseries.offsets import CustomBusinessDay"
   ]
  },
  {
   "cell_type": "markdown",
   "id": "11d06b32-8ac2-4f3f-9bfa-493d62c1a0bf",
   "metadata": {},
   "source": [
    "# Load data with forecast issued at 23:00"
   ]
  },
  {
   "cell_type": "code",
   "execution_count": null,
   "id": "2d07954b-366c-47f4-9f20-18e785d8afff",
   "metadata": {},
   "outputs": [],
   "source": [
    "rto_actual_df = pd.read_csv('../data/PJM/RTO_ACT.csv', parse_dates=['Time'], index_col='Time')\n",
    "rto_forecast_df = pd.read_csv('../data/PJM/RTO_FCST.csv', parse_dates=['Issue_time', 'Forecast_time'])"
   ]
  },
  {
   "cell_type": "markdown",
   "id": "1afe650f-34f6-4980-bd43-0f49d954014c",
   "metadata": {},
   "source": [
    "### Remove weekends and holidays"
   ]
  },
  {
   "cell_type": "code",
   "execution_count": null,
   "id": "da77256c-f2d6-408e-bc9d-3ff3f17a29b4",
   "metadata": {},
   "outputs": [],
   "source": [
    "us_bd = CustomBusinessDay(calendar=USFederalHolidayCalendar())\n",
    "business_days = pd.bdate_range(start='2011-01-01',end='2023-12-31', freq=us_bd, tz='US/Eastern')\n",
    "\n",
    "rto_actual_df = rto_actual_df.loc[rto_actual_df.index.floor('D').isin(business_days)]\n",
    "rto_forecast_df = rto_forecast_df[rto_forecast_df['Forecast_time'].dt.floor('D').isin(business_days)]"
   ]
  },
  {
   "cell_type": "markdown",
   "id": "c12ae7b2-902b-4d6c-9383-ed0716b4003a",
   "metadata": {},
   "source": [
    "### Run simulations from 2012 to 2022"
   ]
  },
  {
   "cell_type": "code",
   "execution_count": null,
   "id": "b6183571-962c-4d77-b357-a66df50c33c0",
   "metadata": {},
   "outputs": [],
   "source": [
    "hist_peak = sorted(rto_actual_df[rto_actual_df.index<='2012-01-01'].sort_values('RTO', ascending=False).values[0:5].ravel().tolist())[0]\n",
    "alerts = dict()\n",
    "thres = 0.8\n",
    "num_of_cps = 5\n",
    "\n",
    "for y in range(2012, 2023):\n",
    "    \n",
    "    cp_probs = dict()\n",
    "    daily_peaks = dict()\n",
    "    this_year_cps = []\n",
    "\n",
    "    start = str(y) + '-06-01'\n",
    "    end = str(y) + '-09-30'\n",
    "        \n",
    "    for day in pd.bdate_range(start=start,end=end, freq=us_bd, tz='US/Eastern'):\n",
    "        \n",
    "        start_date = day.strftime('%Y-%m-%d')\n",
    "        print(start_date)\n",
    "        \n",
    "        start_time = pd.to_datetime(start_date).tz_localize('US/Eastern')\n",
    "        timesteps = pd.date_range(start=start_time, periods=24, freq='H')\n",
    "    \n",
    "        # Separate historical and future data\n",
    "        (load_actual_hists,\n",
    "             load_actual_futures) = split_actuals_hist_future(\n",
    "                    rto_actual_df, timesteps)\n",
    "        \n",
    "        (load_forecast_hists,\n",
    "             load_forecast_futures) = split_forecasts_hist_future(\n",
    "                    rto_forecast_df, timesteps)\n",
    "    \n",
    "        # Fit model and compute probability\n",
    "        predictor = PlPredictor(load_actual_hists, load_forecast_hists, start_time, \n",
    "                                num_of_cps, this_year_cps, forecast_lead_time_in_hour=1)\n",
    "        predictor.fit(0.05, 0.05)\n",
    "    \n",
    "        predictor.create_scenario(1000, load_forecast_futures)\n",
    "        predictor.compute_cp_probs()\n",
    "    \n",
    "        # Update historical CPs\n",
    "        today_peak = load_actual_futures.loc[timesteps, 'RTO'].max()\n",
    "        predictor.update_cp(today_peak)\n",
    "        if this_year_cps != predictor.hist_cps:\n",
    "            this_year_cps = predictor.hist_cps\n",
    "\n",
    "        if load_forecast_futures[load_forecast_futures['Forecast_time'].isin(timesteps)]['RTO'].max() > thres * hist_peak:\n",
    "            alerts[start_date] = predictor.cp_prob\n",
    "    \n",
    "    hist_peak = min(hist_peak, sorted(this_year_cps)[0])"
   ]
  },
  {
   "cell_type": "code",
   "execution_count": null,
   "id": "8caafd71-fc84-4f62-8656-db2ad99173a4",
   "metadata": {},
   "outputs": [],
   "source": [
    "alert_days = set()\n",
    "for d, prob in alerts.items():\n",
    "    k = 4\n",
    "    while k >= 0:\n",
    "        if k in prob and prob[k] > 0.6:\n",
    "            alert_days.add(d)\n",
    "            break\n",
    "        else:\n",
    "            k -= 1"
   ]
  },
  {
   "cell_type": "code",
   "execution_count": null,
   "id": "2785f16b-4454-42c9-acd2-927a13f73a28",
   "metadata": {},
   "outputs": [],
   "source": [
    "true_cps = set()\n",
    "for y in range(2012, 2023):\n",
    "    cps = rto_actual_df[rto_actual_df.index.year==y].sort_values('RTO', ascending=False).index.floor('D').unique()[0:5]\n",
    "    for cp in cps:\n",
    "        true_cps.add(cp.strftime('%Y-%m-%d'))"
   ]
  },
  {
   "cell_type": "markdown",
   "id": "341b278d-9a17-446a-8e1a-76b3062cebcb",
   "metadata": {},
   "source": [
    "### Capture all CPs?"
   ]
  },
  {
   "cell_type": "code",
   "execution_count": null,
   "id": "f2a5047a-68a0-49bb-a78f-47ff4a9a7418",
   "metadata": {},
   "outputs": [],
   "source": [
    "true_cps.issubset(alert_days)"
   ]
  },
  {
   "cell_type": "code",
   "execution_count": null,
   "id": "c450e0aa-7309-4cc9-b399-08e342500392",
   "metadata": {},
   "outputs": [],
   "source": [
    "print(f\"missing CP days are {true_cps.difference(alert_days)}\")\n",
    "print(f\"number of alerts is {len(alert_days)}\")\n",
    "print(f\"number of false alerts is {len(alert_days) - len(true_cps) + len(true_cps.difference(alert_days))}\")"
   ]
  },
  {
   "cell_type": "markdown",
   "id": "e6387f99-b35c-4cd6-af80-5e103205ecca",
   "metadata": {},
   "source": [
    "# Load data with forecast issued at 11:00"
   ]
  },
  {
   "cell_type": "code",
   "execution_count": null,
   "id": "4246f29e-79ac-4c4a-a2aa-35baeaa6f304",
   "metadata": {},
   "outputs": [],
   "source": [
    "rto_actual_df = pd.read_csv('../data/PJM/RTO_ACT.csv', parse_dates=['Time'], index_col='Time')\n",
    "rto_forecast_df = pd.read_csv('../data/PJM/RTO_FCST_HORI_12.csv', parse_dates=['Issue_time', 'Forecast_time'])"
   ]
  },
  {
   "cell_type": "markdown",
   "id": "08f4f1bf-5770-432a-b919-0f097bbb792d",
   "metadata": {},
   "source": [
    "### Remove weekends and holidays"
   ]
  },
  {
   "cell_type": "code",
   "execution_count": null,
   "id": "322293f6-81a7-42eb-84ab-d028ba96a3ba",
   "metadata": {},
   "outputs": [],
   "source": [
    "us_bd = CustomBusinessDay(calendar=USFederalHolidayCalendar())\n",
    "business_days = pd.bdate_range(start='2011-01-01',end='2023-12-31', freq=us_bd, tz='US/Eastern')\n",
    "\n",
    "rto_actual_df = rto_actual_df.loc[rto_actual_df.index.floor('D').isin(business_days)]\n",
    "rto_forecast_df = rto_forecast_df[rto_forecast_df['Forecast_time'].dt.floor('D').isin(business_days)]"
   ]
  },
  {
   "cell_type": "markdown",
   "id": "7db67754-4ec7-46b1-b623-89740bd8d3d0",
   "metadata": {},
   "source": [
    "### Run simulations from 2012 to 2022"
   ]
  },
  {
   "cell_type": "code",
   "execution_count": null,
   "id": "935c3c39-bfb0-481f-ada9-4e4b77701ebb",
   "metadata": {},
   "outputs": [],
   "source": [
    "hist_peak = sorted(rto_actual_df[rto_actual_df.index<='2012-01-01'].sort_values('RTO', ascending=False).values[0:5].ravel().tolist())[0]\n",
    "alerts = dict()\n",
    "thres = 0.8\n",
    "num_of_cps = 5\n",
    "\n",
    "for y in range(2012, 2023):\n",
    "    \n",
    "    cp_probs = dict()\n",
    "    daily_peaks = dict()\n",
    "    this_year_cps = []\n",
    "\n",
    "    start = str(y) + '-06-01'\n",
    "    end = str(y) + '-09-30'\n",
    "        \n",
    "    for day in pd.bdate_range(start=start,end=end, freq=us_bd, tz='US/Eastern'):\n",
    "        \n",
    "        start_date = day.strftime('%Y-%m-%d')\n",
    "        print(start_date)\n",
    "\n",
    "        if start_date == '2022-08-05':\n",
    "            # Forecast data missing on 2022-08-05\n",
    "            continue\n",
    "        else:\n",
    "            start_time = pd.to_datetime(start_date).tz_localize('US/Eastern') + pd.Timedelta(12, unit='H')\n",
    "            timesteps = pd.date_range(start=start_time, periods=12, freq='H')\n",
    "        \n",
    "            # Separate historical and future data\n",
    "            (load_actual_hists,\n",
    "                 load_actual_futures) = split_actuals_hist_future(\n",
    "                        rto_actual_df, timesteps)\n",
    "            \n",
    "            (load_forecast_hists,\n",
    "                 load_forecast_futures) = split_forecasts_hist_future(\n",
    "                        rto_forecast_df, timesteps)\n",
    "        \n",
    "            # Fit model and compute probability\n",
    "            predictor = PlPredictor(load_actual_hists, load_forecast_hists, start_time, \n",
    "                                    num_of_cps, this_year_cps, num_of_horizons=12, forecast_lead_time_in_hour=1)\n",
    "            predictor.fit(0.05, 0.05)\n",
    "        \n",
    "            predictor.create_scenario(1000, load_forecast_futures)\n",
    "            predictor.compute_cp_probs()\n",
    "        \n",
    "            # Update historical CPs\n",
    "            today_peak = load_actual_futures.loc[timesteps, 'RTO'].max()\n",
    "            predictor.update_cp(today_peak)\n",
    "            if this_year_cps != predictor.hist_cps:\n",
    "                this_year_cps = predictor.hist_cps\n",
    "    \n",
    "            if load_forecast_futures[load_forecast_futures['Forecast_time'].isin(timesteps)]['RTO'].max() > thres * hist_peak:\n",
    "                alerts[start_date] = predictor.cp_prob\n",
    "    \n",
    "    hist_peak = min(hist_peak, sorted(this_year_cps)[0])"
   ]
  },
  {
   "cell_type": "code",
   "execution_count": null,
   "id": "ae8e5841-fdeb-4b21-b633-47b4b306a6e9",
   "metadata": {},
   "outputs": [],
   "source": [
    "alert_days = set()\n",
    "for d, prob in alerts.items():\n",
    "    k = 4\n",
    "    while k >= 0:\n",
    "        if k in prob and prob[k] > 0.6:\n",
    "            alert_days.add(d)\n",
    "            break\n",
    "        else:\n",
    "            k -= 1"
   ]
  },
  {
   "cell_type": "code",
   "execution_count": null,
   "id": "e7f23bad-a10c-4eb5-b36b-8018c59c127f",
   "metadata": {},
   "outputs": [],
   "source": [
    "true_cps = set()\n",
    "for y in range(2012, 2023):\n",
    "    cps = rto_actual_df[rto_actual_df.index.year==y].sort_values('RTO', ascending=False).index.floor('D').unique()[0:5]\n",
    "    for cp in cps:\n",
    "        true_cps.add(cp.strftime('%Y-%m-%d'))"
   ]
  },
  {
   "cell_type": "markdown",
   "id": "122d89ad-c293-44b0-a019-9bb23bd85312",
   "metadata": {},
   "source": [
    "### Capture all CPs?"
   ]
  },
  {
   "cell_type": "code",
   "execution_count": null,
   "id": "51998a56-76f8-4403-9b9d-c31060fe96ba",
   "metadata": {},
   "outputs": [],
   "source": [
    "true_cps.issubset(alert_days)"
   ]
  },
  {
   "cell_type": "code",
   "execution_count": null,
   "id": "e991b73e-1f27-4d5c-bbca-0de84e795e0d",
   "metadata": {},
   "outputs": [],
   "source": [
    "print(f\"missing CP days are {true_cps.difference(alert_days)}\")\n",
    "print(f\"number of alerts is {len(alert_days)}\")\n",
    "print(f\"number of false alerts is {len(alert_days) - len(true_cps) + len(true_cps.difference(alert_days))}\")"
   ]
  },
  {
   "cell_type": "code",
   "execution_count": null,
   "id": "e4375049-c75e-4970-a4dc-5d9900a0e664",
   "metadata": {},
   "outputs": [],
   "source": []
  }
 ],
 "metadata": {
  "kernelspec": {
   "display_name": "Python 3 (ipykernel)",
   "language": "python",
   "name": "python3"
  },
  "language_info": {
   "codemirror_mode": {
    "name": "ipython",
    "version": 3
   },
   "file_extension": ".py",
   "mimetype": "text/x-python",
   "name": "python",
   "nbconvert_exporter": "python",
   "pygments_lexer": "ipython3",
   "version": "3.8.19"
  }
 },
 "nbformat": 4,
 "nbformat_minor": 5
}
