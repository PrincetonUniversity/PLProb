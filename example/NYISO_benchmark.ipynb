{
 "cells": [
  {
   "cell_type": "code",
   "execution_count": null,
   "id": "71038c68-e3fe-4c9c-9e4c-277c1689d290",
   "metadata": {},
   "outputs": [],
   "source": [
    "import pandas as pd\n",
    "import numpy as np\n",
    "from plprob.utils import (split_actuals_hist_future, split_forecasts_hist_future)\n",
    "from plprob.predictor import PlPredictor\n",
    "import matplotlib.pyplot as plt\n",
    "from math import ceil\n",
    "from pandas.tseries.holiday import USFederalHolidayCalendar\n",
    "from pandas.tseries.offsets import CustomBusinessDay"
   ]
  },
  {
   "cell_type": "markdown",
   "id": "1939c7cd-6726-41a1-ac66-523eb2ff7862",
   "metadata": {},
   "source": [
    "### Load data"
   ]
  },
  {
   "cell_type": "code",
   "execution_count": null,
   "id": "457c29d5-7db4-4d9d-9cbb-11dfd526e19e",
   "metadata": {},
   "outputs": [],
   "source": [
    "rto_actual_df = pd.read_csv('../data/NYISO/rto_act.csv', parse_dates=['Time'], index_col='Time')\n",
    "rto_forecast_df = pd.read_csv('../data/NYISO/rto_fcst.csv', parse_dates=['Issue_time', 'Forecast_time'])"
   ]
  },
  {
   "cell_type": "markdown",
   "id": "19c1573f-1790-469c-a98a-222551e53b1c",
   "metadata": {},
   "source": [
    "### Remove weekends and holidays"
   ]
  },
  {
   "cell_type": "code",
   "execution_count": null,
   "id": "a4baedc7-ebb4-4844-a596-b9ecc35053ab",
   "metadata": {},
   "outputs": [],
   "source": [
    "us_bd = CustomBusinessDay(calendar=USFederalHolidayCalendar())\n",
    "business_days = pd.bdate_range(start='2011-01-01',end='2023-12-31', freq=us_bd, tz='US/Eastern')\n",
    "\n",
    "rto_actual_df = rto_actual_df.loc[rto_actual_df.index.floor('D').isin(business_days)]\n",
    "rto_forecast_df = rto_forecast_df[rto_forecast_df['Forecast_time'].dt.floor('D').isin(business_days)]"
   ]
  },
  {
   "cell_type": "markdown",
   "id": "78fa8cd0-162c-4275-a48e-1011decacafe",
   "metadata": {},
   "source": [
    "### Run simulations from 2015 to 2022"
   ]
  },
  {
   "cell_type": "code",
   "execution_count": null,
   "id": "f3058c80-dcc0-444e-baaa-95189c62ed3a",
   "metadata": {},
   "outputs": [],
   "source": [
    "hist_peak = rto_actual_df.iloc[rto_actual_df.index<='2015-01-01'].max()[0]\n",
    "alerts = dict()\n",
    "thres = 0.8\n",
    "\n",
    "for y in range(2015, 2023):\n",
    "    \n",
    "    num_of_cps = 1\n",
    "    this_year_cps = []\n",
    "\n",
    "    start = str(y) + '-07-01'\n",
    "    end = str(y) + '-08-31'\n",
    "    \n",
    "    for day in pd.bdate_range(start=start,end=end, freq=us_bd, tz='US/Eastern'):\n",
    "        \n",
    "        start_date = day.strftime('%Y-%m-%d')\n",
    "    \n",
    "        print(start_date)\n",
    "        \n",
    "        start_time = pd.to_datetime(start_date).tz_localize('US/Eastern')\n",
    "        timesteps = pd.date_range(start=start_time, periods=24, freq='h')\n",
    "    \n",
    "        # Separate historical and future data\n",
    "        (load_actual_hists,\n",
    "             load_actual_futures) = split_actuals_hist_future(\n",
    "                    rto_actual_df, timesteps)\n",
    "        \n",
    "        (load_forecast_hists,\n",
    "             load_forecast_futures) = split_forecasts_hist_future(\n",
    "                    rto_forecast_df, timesteps)\n",
    "    \n",
    "        # Fit model and compute probability\n",
    "        predictor = PlPredictor(load_actual_hists, load_forecast_hists, start_time, \n",
    "                                num_of_cps, this_year_cps, forecast_lead_time_in_hour=12)\n",
    "        predictor.fit(0.05, 0.05)\n",
    "    \n",
    "        predictor.create_scenario(1000, load_forecast_futures)\n",
    "        predictor.compute_cp_probs()\n",
    "    \n",
    "        # Update historical CPs\n",
    "        today_peak = load_actual_futures.loc[timesteps, 'NYISO'].max()\n",
    "        predictor.update_cp(today_peak)\n",
    "        if this_year_cps != predictor.hist_cps:\n",
    "            this_year_cps = predictor.hist_cps\n",
    "\n",
    "        if load_forecast_futures[load_forecast_futures['Forecast_time'].isin(timesteps)]['NYISO'].max() > thres * hist_peak:\n",
    "            alerts[start_date] = predictor.cp_prob\n",
    "\n",
    "    hist_peak = max(hist_peak, this_year_cps)\n"
   ]
  },
  {
   "cell_type": "markdown",
   "id": "5e76b2e0-8cda-4ad8-bed2-1451b1da6aa3",
   "metadata": {},
   "source": [
    "### Select alerts whose probability >= 0.4"
   ]
  },
  {
   "cell_type": "code",
   "execution_count": null,
   "id": "10353202-06a5-405f-85e5-d7c82cd66081",
   "metadata": {},
   "outputs": [],
   "source": [
    "alert_days = set()\n",
    "for d, prob in alerts.items():\n",
    "    if prob[0] > 0.4:\n",
    "        alert_days.add(d)"
   ]
  },
  {
   "cell_type": "code",
   "execution_count": null,
   "id": "83983830-e6fc-499b-8944-a5e8e547d849",
   "metadata": {},
   "outputs": [],
   "source": [
    "true_cps = {rto_actual_df[rto_actual_df.index.year==y].sort_values('NYISO', \n",
    "                ascending=False).index[0].strftime('%Y-%m-%d') for y in range(2015, 2023)}"
   ]
  },
  {
   "cell_type": "markdown",
   "id": "f253f848-2004-4e91-b740-781028bc1d3b",
   "metadata": {},
   "source": [
    "### Capture all CPs?"
   ]
  },
  {
   "cell_type": "code",
   "execution_count": null,
   "id": "c6e5642f-ed36-4fa3-8bf9-3007a46026b8",
   "metadata": {},
   "outputs": [],
   "source": [
    "true_cps.issubset(alert_days)"
   ]
  },
  {
   "cell_type": "code",
   "execution_count": null,
   "id": "552b60e4-df95-4c04-9a69-2d8edbd38d2f",
   "metadata": {},
   "outputs": [],
   "source": [
    "print(f\"number of alerts is {len(alert_days)}\")\n",
    "print(f\"number of false alerts is {len(alert_days) - len(true_cps)}\")"
   ]
  },
  {
   "cell_type": "code",
   "execution_count": null,
   "id": "751d66a1-17c6-45e3-b665-01d523ddc41d",
   "metadata": {},
   "outputs": [],
   "source": []
  }
 ],
 "metadata": {
  "kernelspec": {
   "display_name": "Python 3 (ipykernel)",
   "language": "python",
   "name": "python3"
  },
  "language_info": {
   "codemirror_mode": {
    "name": "ipython",
    "version": 3
   },
   "file_extension": ".py",
   "mimetype": "text/x-python",
   "name": "python",
   "nbconvert_exporter": "python",
   "pygments_lexer": "ipython3",
   "version": "3.12.1"
  }
 },
 "nbformat": 4,
 "nbformat_minor": 5
}
