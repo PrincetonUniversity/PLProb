{
 "cells": [
  {
   "cell_type": "code",
   "execution_count": 1,
   "id": "741420cd-e675-4a90-990e-bc372b30fdcd",
   "metadata": {},
   "outputs": [],
   "source": [
    "import pandas as pd\n",
    "import numpy as np\n",
    "from plprob.utils import (split_actuals_hist_future, split_forecasts_hist_future)\n",
    "from plprob.predictor import PlPredictor\n",
    "import matplotlib.pyplot as plt"
   ]
  },
  {
   "cell_type": "markdown",
   "id": "837f74ec-8a59-4c43-94be-07fad9462bdc",
   "metadata": {},
   "source": [
    "### Load data"
   ]
  },
  {
   "cell_type": "code",
   "execution_count": 2,
   "id": "a146d70a-eff8-4899-8a59-e617901d82b9",
   "metadata": {},
   "outputs": [],
   "source": [
    "seed = 1234\n",
    "rto_actual_df = pd.read_csv('../data/NYISO/rto_act.csv', parse_dates=['Time'], index_col='Time')\n",
    "rto_forecast_df = pd.read_csv('../data/NYISO/rto_fcst.csv', parse_dates=['Issue_time', 'Forecast_time'])"
   ]
  },
  {
   "cell_type": "markdown",
   "id": "ce904ebe-e0b8-4d66-8c78-0185c00943ee",
   "metadata": {},
   "source": [
    "### Predict 1 CP"
   ]
  },
  {
   "cell_type": "code",
   "execution_count": 3,
   "id": "8ba7ee7f-ff02-4614-a73e-83b25a6eacfa",
   "metadata": {},
   "outputs": [
    {
     "name": "stdout",
     "output_type": "stream",
     "text": [
      "2023-07-01\n",
      "training predictor...\n"
     ]
    },
    {
     "name": "stderr",
     "output_type": "stream",
     "text": [
      "/Users/as3993/anaconda3/envs/plprob/lib/python3.12/site-packages/R/univariate.py:330: RuntimeWarning: invalid value encountered in power\n",
      "  val[lower_tail_x] = p_lower * (1 - (k * (x[lower_tail_x] - b))/a)**(-1/k)\n"
     ]
    },
    {
     "name": "stdout",
     "output_type": "stream",
     "text": [
      "making predictions...\n",
      "2023-07-02\n",
      "training predictor...\n"
     ]
    },
    {
     "name": "stderr",
     "output_type": "stream",
     "text": [
      "/Users/as3993/anaconda3/envs/plprob/lib/python3.12/site-packages/R/univariate.py:330: RuntimeWarning: invalid value encountered in power\n",
      "  val[lower_tail_x] = p_lower * (1 - (k * (x[lower_tail_x] - b))/a)**(-1/k)\n"
     ]
    },
    {
     "name": "stdout",
     "output_type": "stream",
     "text": [
      "making predictions...\n",
      "2023-07-03\n",
      "training predictor...\n"
     ]
    },
    {
     "name": "stderr",
     "output_type": "stream",
     "text": [
      "/Users/as3993/anaconda3/envs/plprob/lib/python3.12/site-packages/R/univariate.py:330: RuntimeWarning: invalid value encountered in power\n",
      "  val[lower_tail_x] = p_lower * (1 - (k * (x[lower_tail_x] - b))/a)**(-1/k)\n"
     ]
    },
    {
     "name": "stdout",
     "output_type": "stream",
     "text": [
      "making predictions...\n",
      "2023-07-04\n",
      "training predictor...\n"
     ]
    },
    {
     "name": "stderr",
     "output_type": "stream",
     "text": [
      "/Users/as3993/anaconda3/envs/plprob/lib/python3.12/site-packages/R/univariate.py:330: RuntimeWarning: invalid value encountered in power\n",
      "  val[lower_tail_x] = p_lower * (1 - (k * (x[lower_tail_x] - b))/a)**(-1/k)\n",
      "/Users/as3993/anaconda3/envs/plprob/lib/python3.12/site-packages/sklearn/covariance/_graph_lasso.py:191: ConvergenceWarning: graphical_lasso: did not converge after 100 iteration: dual gap: 3.934e-03\n",
      "  warnings.warn(\n"
     ]
    },
    {
     "name": "stdout",
     "output_type": "stream",
     "text": [
      "making predictions...\n",
      "2023-07-05\n",
      "training predictor...\n"
     ]
    },
    {
     "name": "stderr",
     "output_type": "stream",
     "text": [
      "/Users/as3993/anaconda3/envs/plprob/lib/python3.12/site-packages/R/univariate.py:330: RuntimeWarning: invalid value encountered in power\n",
      "  val[lower_tail_x] = p_lower * (1 - (k * (x[lower_tail_x] - b))/a)**(-1/k)\n",
      "/Users/as3993/anaconda3/envs/plprob/lib/python3.12/site-packages/sklearn/covariance/_graph_lasso.py:191: ConvergenceWarning: graphical_lasso: did not converge after 100 iteration: dual gap: 1.283e-03\n",
      "  warnings.warn(\n"
     ]
    },
    {
     "name": "stdout",
     "output_type": "stream",
     "text": [
      "making predictions...\n",
      "2023-07-06\n",
      "training predictor...\n"
     ]
    },
    {
     "name": "stderr",
     "output_type": "stream",
     "text": [
      "/Users/as3993/anaconda3/envs/plprob/lib/python3.12/site-packages/R/univariate.py:330: RuntimeWarning: invalid value encountered in power\n",
      "  val[lower_tail_x] = p_lower * (1 - (k * (x[lower_tail_x] - b))/a)**(-1/k)\n",
      "/Users/as3993/anaconda3/envs/plprob/lib/python3.12/site-packages/sklearn/covariance/_graph_lasso.py:191: ConvergenceWarning: graphical_lasso: did not converge after 100 iteration: dual gap: -3.723e-03\n",
      "  warnings.warn(\n"
     ]
    },
    {
     "name": "stdout",
     "output_type": "stream",
     "text": [
      "making predictions...\n",
      "2023-07-07\n",
      "training predictor...\n"
     ]
    },
    {
     "name": "stderr",
     "output_type": "stream",
     "text": [
      "/Users/as3993/anaconda3/envs/plprob/lib/python3.12/site-packages/R/univariate.py:330: RuntimeWarning: invalid value encountered in power\n",
      "  val[lower_tail_x] = p_lower * (1 - (k * (x[lower_tail_x] - b))/a)**(-1/k)\n"
     ]
    },
    {
     "name": "stdout",
     "output_type": "stream",
     "text": [
      "making predictions...\n",
      "2023-07-08\n",
      "training predictor...\n"
     ]
    },
    {
     "name": "stderr",
     "output_type": "stream",
     "text": [
      "/Users/as3993/anaconda3/envs/plprob/lib/python3.12/site-packages/R/univariate.py:330: RuntimeWarning: invalid value encountered in power\n",
      "  val[lower_tail_x] = p_lower * (1 - (k * (x[lower_tail_x] - b))/a)**(-1/k)\n"
     ]
    },
    {
     "name": "stdout",
     "output_type": "stream",
     "text": [
      "making predictions...\n",
      "2023-07-09\n",
      "training predictor...\n"
     ]
    },
    {
     "name": "stderr",
     "output_type": "stream",
     "text": [
      "/Users/as3993/anaconda3/envs/plprob/lib/python3.12/site-packages/R/univariate.py:330: RuntimeWarning: invalid value encountered in power\n",
      "  val[lower_tail_x] = p_lower * (1 - (k * (x[lower_tail_x] - b))/a)**(-1/k)\n"
     ]
    },
    {
     "name": "stdout",
     "output_type": "stream",
     "text": [
      "making predictions...\n",
      "2023-07-10\n",
      "training predictor...\n"
     ]
    },
    {
     "name": "stderr",
     "output_type": "stream",
     "text": [
      "/Users/as3993/anaconda3/envs/plprob/lib/python3.12/site-packages/R/univariate.py:330: RuntimeWarning: invalid value encountered in power\n",
      "  val[lower_tail_x] = p_lower * (1 - (k * (x[lower_tail_x] - b))/a)**(-1/k)\n",
      "/Users/as3993/anaconda3/envs/plprob/lib/python3.12/site-packages/sklearn/covariance/_graph_lasso.py:191: ConvergenceWarning: graphical_lasso: did not converge after 100 iteration: dual gap: -3.466e-03\n",
      "  warnings.warn(\n"
     ]
    },
    {
     "name": "stdout",
     "output_type": "stream",
     "text": [
      "making predictions...\n",
      "2023-07-11\n",
      "training predictor...\n"
     ]
    },
    {
     "name": "stderr",
     "output_type": "stream",
     "text": [
      "/Users/as3993/anaconda3/envs/plprob/lib/python3.12/site-packages/R/univariate.py:330: RuntimeWarning: invalid value encountered in power\n",
      "  val[lower_tail_x] = p_lower * (1 - (k * (x[lower_tail_x] - b))/a)**(-1/k)\n"
     ]
    },
    {
     "name": "stdout",
     "output_type": "stream",
     "text": [
      "making predictions...\n",
      "2023-07-12\n",
      "training predictor...\n"
     ]
    },
    {
     "name": "stderr",
     "output_type": "stream",
     "text": [
      "/Users/as3993/anaconda3/envs/plprob/lib/python3.12/site-packages/R/univariate.py:330: RuntimeWarning: invalid value encountered in power\n",
      "  val[lower_tail_x] = p_lower * (1 - (k * (x[lower_tail_x] - b))/a)**(-1/k)\n"
     ]
    },
    {
     "name": "stdout",
     "output_type": "stream",
     "text": [
      "making predictions...\n",
      "2023-07-13\n",
      "training predictor...\n"
     ]
    },
    {
     "name": "stderr",
     "output_type": "stream",
     "text": [
      "/Users/as3993/anaconda3/envs/plprob/lib/python3.12/site-packages/R/univariate.py:330: RuntimeWarning: invalid value encountered in power\n",
      "  val[lower_tail_x] = p_lower * (1 - (k * (x[lower_tail_x] - b))/a)**(-1/k)\n"
     ]
    },
    {
     "name": "stdout",
     "output_type": "stream",
     "text": [
      "making predictions...\n",
      "2023-07-14\n",
      "training predictor...\n"
     ]
    },
    {
     "name": "stderr",
     "output_type": "stream",
     "text": [
      "/Users/as3993/anaconda3/envs/plprob/lib/python3.12/site-packages/R/univariate.py:330: RuntimeWarning: invalid value encountered in power\n",
      "  val[lower_tail_x] = p_lower * (1 - (k * (x[lower_tail_x] - b))/a)**(-1/k)\n"
     ]
    },
    {
     "name": "stdout",
     "output_type": "stream",
     "text": [
      "making predictions...\n",
      "2023-07-15\n",
      "training predictor...\n"
     ]
    },
    {
     "name": "stderr",
     "output_type": "stream",
     "text": [
      "/Users/as3993/anaconda3/envs/plprob/lib/python3.12/site-packages/R/univariate.py:330: RuntimeWarning: invalid value encountered in power\n",
      "  val[lower_tail_x] = p_lower * (1 - (k * (x[lower_tail_x] - b))/a)**(-1/k)\n"
     ]
    },
    {
     "name": "stdout",
     "output_type": "stream",
     "text": [
      "making predictions...\n",
      "2023-07-16\n",
      "training predictor...\n"
     ]
    },
    {
     "name": "stderr",
     "output_type": "stream",
     "text": [
      "/Users/as3993/anaconda3/envs/plprob/lib/python3.12/site-packages/R/univariate.py:330: RuntimeWarning: invalid value encountered in power\n",
      "  val[lower_tail_x] = p_lower * (1 - (k * (x[lower_tail_x] - b))/a)**(-1/k)\n",
      "/Users/as3993/anaconda3/envs/plprob/lib/python3.12/site-packages/sklearn/covariance/_graph_lasso.py:191: ConvergenceWarning: graphical_lasso: did not converge after 100 iteration: dual gap: 5.181e-03\n",
      "  warnings.warn(\n"
     ]
    },
    {
     "name": "stdout",
     "output_type": "stream",
     "text": [
      "making predictions...\n",
      "2023-07-17\n",
      "training predictor...\n"
     ]
    },
    {
     "name": "stderr",
     "output_type": "stream",
     "text": [
      "/Users/as3993/anaconda3/envs/plprob/lib/python3.12/site-packages/R/univariate.py:330: RuntimeWarning: invalid value encountered in power\n",
      "  val[lower_tail_x] = p_lower * (1 - (k * (x[lower_tail_x] - b))/a)**(-1/k)\n",
      "/Users/as3993/anaconda3/envs/plprob/lib/python3.12/site-packages/sklearn/covariance/_graph_lasso.py:191: ConvergenceWarning: graphical_lasso: did not converge after 100 iteration: dual gap: 4.194e-03\n",
      "  warnings.warn(\n"
     ]
    },
    {
     "name": "stdout",
     "output_type": "stream",
     "text": [
      "making predictions...\n",
      "2023-07-18\n",
      "training predictor...\n"
     ]
    },
    {
     "name": "stderr",
     "output_type": "stream",
     "text": [
      "/Users/as3993/anaconda3/envs/plprob/lib/python3.12/site-packages/R/univariate.py:330: RuntimeWarning: invalid value encountered in power\n",
      "  val[lower_tail_x] = p_lower * (1 - (k * (x[lower_tail_x] - b))/a)**(-1/k)\n"
     ]
    },
    {
     "name": "stdout",
     "output_type": "stream",
     "text": [
      "making predictions...\n",
      "2023-07-19\n",
      "training predictor...\n"
     ]
    },
    {
     "name": "stderr",
     "output_type": "stream",
     "text": [
      "/Users/as3993/anaconda3/envs/plprob/lib/python3.12/site-packages/R/univariate.py:330: RuntimeWarning: invalid value encountered in power\n",
      "  val[lower_tail_x] = p_lower * (1 - (k * (x[lower_tail_x] - b))/a)**(-1/k)\n"
     ]
    },
    {
     "name": "stdout",
     "output_type": "stream",
     "text": [
      "making predictions...\n",
      "2023-07-20\n",
      "training predictor...\n"
     ]
    },
    {
     "name": "stderr",
     "output_type": "stream",
     "text": [
      "/Users/as3993/anaconda3/envs/plprob/lib/python3.12/site-packages/R/univariate.py:330: RuntimeWarning: invalid value encountered in power\n",
      "  val[lower_tail_x] = p_lower * (1 - (k * (x[lower_tail_x] - b))/a)**(-1/k)\n"
     ]
    },
    {
     "name": "stdout",
     "output_type": "stream",
     "text": [
      "making predictions...\n",
      "2023-07-21\n",
      "training predictor...\n"
     ]
    },
    {
     "name": "stderr",
     "output_type": "stream",
     "text": [
      "/Users/as3993/anaconda3/envs/plprob/lib/python3.12/site-packages/R/univariate.py:330: RuntimeWarning: invalid value encountered in power\n",
      "  val[lower_tail_x] = p_lower * (1 - (k * (x[lower_tail_x] - b))/a)**(-1/k)\n"
     ]
    },
    {
     "name": "stdout",
     "output_type": "stream",
     "text": [
      "making predictions...\n",
      "2023-07-22\n",
      "training predictor...\n"
     ]
    },
    {
     "name": "stderr",
     "output_type": "stream",
     "text": [
      "/Users/as3993/anaconda3/envs/plprob/lib/python3.12/site-packages/R/univariate.py:330: RuntimeWarning: invalid value encountered in power\n",
      "  val[lower_tail_x] = p_lower * (1 - (k * (x[lower_tail_x] - b))/a)**(-1/k)\n"
     ]
    },
    {
     "name": "stdout",
     "output_type": "stream",
     "text": [
      "making predictions...\n",
      "2023-07-23\n",
      "training predictor...\n"
     ]
    },
    {
     "name": "stderr",
     "output_type": "stream",
     "text": [
      "/Users/as3993/anaconda3/envs/plprob/lib/python3.12/site-packages/R/univariate.py:330: RuntimeWarning: invalid value encountered in power\n",
      "  val[lower_tail_x] = p_lower * (1 - (k * (x[lower_tail_x] - b))/a)**(-1/k)\n"
     ]
    },
    {
     "name": "stdout",
     "output_type": "stream",
     "text": [
      "making predictions...\n",
      "2023-07-24\n",
      "training predictor...\n"
     ]
    },
    {
     "name": "stderr",
     "output_type": "stream",
     "text": [
      "/Users/as3993/anaconda3/envs/plprob/lib/python3.12/site-packages/R/univariate.py:330: RuntimeWarning: invalid value encountered in power\n",
      "  val[lower_tail_x] = p_lower * (1 - (k * (x[lower_tail_x] - b))/a)**(-1/k)\n"
     ]
    },
    {
     "name": "stdout",
     "output_type": "stream",
     "text": [
      "making predictions...\n",
      "2023-07-25\n",
      "training predictor...\n"
     ]
    },
    {
     "name": "stderr",
     "output_type": "stream",
     "text": [
      "/Users/as3993/anaconda3/envs/plprob/lib/python3.12/site-packages/R/univariate.py:330: RuntimeWarning: invalid value encountered in power\n",
      "  val[lower_tail_x] = p_lower * (1 - (k * (x[lower_tail_x] - b))/a)**(-1/k)\n"
     ]
    },
    {
     "name": "stdout",
     "output_type": "stream",
     "text": [
      "making predictions...\n",
      "2023-07-26\n",
      "training predictor...\n"
     ]
    },
    {
     "name": "stderr",
     "output_type": "stream",
     "text": [
      "/Users/as3993/anaconda3/envs/plprob/lib/python3.12/site-packages/R/univariate.py:330: RuntimeWarning: invalid value encountered in power\n",
      "  val[lower_tail_x] = p_lower * (1 - (k * (x[lower_tail_x] - b))/a)**(-1/k)\n"
     ]
    },
    {
     "name": "stdout",
     "output_type": "stream",
     "text": [
      "making predictions...\n",
      "2023-07-27\n",
      "training predictor...\n"
     ]
    },
    {
     "name": "stderr",
     "output_type": "stream",
     "text": [
      "/Users/as3993/anaconda3/envs/plprob/lib/python3.12/site-packages/R/univariate.py:330: RuntimeWarning: invalid value encountered in power\n",
      "  val[lower_tail_x] = p_lower * (1 - (k * (x[lower_tail_x] - b))/a)**(-1/k)\n"
     ]
    },
    {
     "name": "stdout",
     "output_type": "stream",
     "text": [
      "making predictions...\n",
      "2023-07-28\n",
      "training predictor...\n"
     ]
    },
    {
     "name": "stderr",
     "output_type": "stream",
     "text": [
      "/Users/as3993/anaconda3/envs/plprob/lib/python3.12/site-packages/R/univariate.py:330: RuntimeWarning: invalid value encountered in power\n",
      "  val[lower_tail_x] = p_lower * (1 - (k * (x[lower_tail_x] - b))/a)**(-1/k)\n"
     ]
    },
    {
     "name": "stdout",
     "output_type": "stream",
     "text": [
      "making predictions...\n",
      "2023-07-29\n",
      "training predictor...\n"
     ]
    },
    {
     "name": "stderr",
     "output_type": "stream",
     "text": [
      "/Users/as3993/anaconda3/envs/plprob/lib/python3.12/site-packages/R/univariate.py:330: RuntimeWarning: invalid value encountered in power\n",
      "  val[lower_tail_x] = p_lower * (1 - (k * (x[lower_tail_x] - b))/a)**(-1/k)\n",
      "/Users/as3993/anaconda3/envs/plprob/lib/python3.12/site-packages/sklearn/covariance/_graph_lasso.py:191: ConvergenceWarning: graphical_lasso: did not converge after 100 iteration: dual gap: 7.027e-03\n",
      "  warnings.warn(\n"
     ]
    },
    {
     "name": "stdout",
     "output_type": "stream",
     "text": [
      "making predictions...\n",
      "2023-07-30\n",
      "training predictor...\n"
     ]
    },
    {
     "name": "stderr",
     "output_type": "stream",
     "text": [
      "/Users/as3993/anaconda3/envs/plprob/lib/python3.12/site-packages/R/univariate.py:330: RuntimeWarning: invalid value encountered in power\n",
      "  val[lower_tail_x] = p_lower * (1 - (k * (x[lower_tail_x] - b))/a)**(-1/k)\n"
     ]
    },
    {
     "name": "stdout",
     "output_type": "stream",
     "text": [
      "making predictions...\n",
      "2023-07-31\n",
      "training predictor...\n"
     ]
    },
    {
     "name": "stderr",
     "output_type": "stream",
     "text": [
      "/Users/as3993/anaconda3/envs/plprob/lib/python3.12/site-packages/R/univariate.py:330: RuntimeWarning: invalid value encountered in power\n",
      "  val[lower_tail_x] = p_lower * (1 - (k * (x[lower_tail_x] - b))/a)**(-1/k)\n"
     ]
    },
    {
     "name": "stdout",
     "output_type": "stream",
     "text": [
      "making predictions...\n",
      "2023-08-01\n",
      "training predictor...\n"
     ]
    },
    {
     "name": "stderr",
     "output_type": "stream",
     "text": [
      "/Users/as3993/anaconda3/envs/plprob/lib/python3.12/site-packages/R/univariate.py:330: RuntimeWarning: invalid value encountered in power\n",
      "  val[lower_tail_x] = p_lower * (1 - (k * (x[lower_tail_x] - b))/a)**(-1/k)\n",
      "/Users/as3993/anaconda3/envs/plprob/lib/python3.12/site-packages/sklearn/covariance/_graph_lasso.py:191: ConvergenceWarning: graphical_lasso: did not converge after 100 iteration: dual gap: 2.426e-03\n",
      "  warnings.warn(\n"
     ]
    },
    {
     "name": "stdout",
     "output_type": "stream",
     "text": [
      "making predictions...\n",
      "2023-08-02\n",
      "training predictor...\n"
     ]
    },
    {
     "name": "stderr",
     "output_type": "stream",
     "text": [
      "/Users/as3993/anaconda3/envs/plprob/lib/python3.12/site-packages/R/univariate.py:330: RuntimeWarning: invalid value encountered in power\n",
      "  val[lower_tail_x] = p_lower * (1 - (k * (x[lower_tail_x] - b))/a)**(-1/k)\n",
      "/Users/as3993/anaconda3/envs/plprob/lib/python3.12/site-packages/sklearn/covariance/_graph_lasso.py:191: ConvergenceWarning: graphical_lasso: did not converge after 100 iteration: dual gap: 1.354e-03\n",
      "  warnings.warn(\n"
     ]
    },
    {
     "name": "stdout",
     "output_type": "stream",
     "text": [
      "making predictions...\n",
      "2023-08-03\n",
      "training predictor...\n"
     ]
    },
    {
     "name": "stderr",
     "output_type": "stream",
     "text": [
      "/Users/as3993/anaconda3/envs/plprob/lib/python3.12/site-packages/R/univariate.py:330: RuntimeWarning: invalid value encountered in power\n",
      "  val[lower_tail_x] = p_lower * (1 - (k * (x[lower_tail_x] - b))/a)**(-1/k)\n"
     ]
    },
    {
     "name": "stdout",
     "output_type": "stream",
     "text": [
      "making predictions...\n",
      "2023-08-04\n",
      "training predictor...\n"
     ]
    },
    {
     "name": "stderr",
     "output_type": "stream",
     "text": [
      "/Users/as3993/anaconda3/envs/plprob/lib/python3.12/site-packages/R/univariate.py:330: RuntimeWarning: invalid value encountered in power\n",
      "  val[lower_tail_x] = p_lower * (1 - (k * (x[lower_tail_x] - b))/a)**(-1/k)\n"
     ]
    },
    {
     "name": "stdout",
     "output_type": "stream",
     "text": [
      "making predictions...\n",
      "2023-08-05\n",
      "training predictor...\n"
     ]
    },
    {
     "name": "stderr",
     "output_type": "stream",
     "text": [
      "/Users/as3993/anaconda3/envs/plprob/lib/python3.12/site-packages/R/univariate.py:330: RuntimeWarning: invalid value encountered in power\n",
      "  val[lower_tail_x] = p_lower * (1 - (k * (x[lower_tail_x] - b))/a)**(-1/k)\n"
     ]
    },
    {
     "name": "stdout",
     "output_type": "stream",
     "text": [
      "making predictions...\n",
      "2023-08-06\n",
      "training predictor...\n"
     ]
    },
    {
     "name": "stderr",
     "output_type": "stream",
     "text": [
      "/Users/as3993/anaconda3/envs/plprob/lib/python3.12/site-packages/R/univariate.py:330: RuntimeWarning: invalid value encountered in power\n",
      "  val[lower_tail_x] = p_lower * (1 - (k * (x[lower_tail_x] - b))/a)**(-1/k)\n",
      "/Users/as3993/anaconda3/envs/plprob/lib/python3.12/site-packages/sklearn/covariance/_graph_lasso.py:191: ConvergenceWarning: graphical_lasso: did not converge after 100 iteration: dual gap: 4.208e-03\n",
      "  warnings.warn(\n"
     ]
    },
    {
     "name": "stdout",
     "output_type": "stream",
     "text": [
      "making predictions...\n",
      "2023-08-07\n",
      "training predictor...\n"
     ]
    },
    {
     "name": "stderr",
     "output_type": "stream",
     "text": [
      "/Users/as3993/anaconda3/envs/plprob/lib/python3.12/site-packages/R/univariate.py:330: RuntimeWarning: invalid value encountered in power\n",
      "  val[lower_tail_x] = p_lower * (1 - (k * (x[lower_tail_x] - b))/a)**(-1/k)\n"
     ]
    },
    {
     "name": "stdout",
     "output_type": "stream",
     "text": [
      "making predictions...\n",
      "2023-08-08\n",
      "training predictor...\n"
     ]
    },
    {
     "name": "stderr",
     "output_type": "stream",
     "text": [
      "/Users/as3993/anaconda3/envs/plprob/lib/python3.12/site-packages/R/univariate.py:330: RuntimeWarning: invalid value encountered in power\n",
      "  val[lower_tail_x] = p_lower * (1 - (k * (x[lower_tail_x] - b))/a)**(-1/k)\n"
     ]
    },
    {
     "name": "stdout",
     "output_type": "stream",
     "text": [
      "making predictions...\n",
      "2023-08-09\n",
      "training predictor...\n"
     ]
    },
    {
     "name": "stderr",
     "output_type": "stream",
     "text": [
      "/Users/as3993/anaconda3/envs/plprob/lib/python3.12/site-packages/R/univariate.py:330: RuntimeWarning: invalid value encountered in power\n",
      "  val[lower_tail_x] = p_lower * (1 - (k * (x[lower_tail_x] - b))/a)**(-1/k)\n"
     ]
    },
    {
     "name": "stdout",
     "output_type": "stream",
     "text": [
      "making predictions...\n",
      "2023-08-10\n",
      "training predictor...\n"
     ]
    },
    {
     "name": "stderr",
     "output_type": "stream",
     "text": [
      "/Users/as3993/anaconda3/envs/plprob/lib/python3.12/site-packages/R/univariate.py:330: RuntimeWarning: invalid value encountered in power\n",
      "  val[lower_tail_x] = p_lower * (1 - (k * (x[lower_tail_x] - b))/a)**(-1/k)\n"
     ]
    },
    {
     "name": "stdout",
     "output_type": "stream",
     "text": [
      "making predictions...\n",
      "2023-08-11\n",
      "training predictor...\n"
     ]
    },
    {
     "name": "stderr",
     "output_type": "stream",
     "text": [
      "/Users/as3993/anaconda3/envs/plprob/lib/python3.12/site-packages/R/univariate.py:330: RuntimeWarning: invalid value encountered in power\n",
      "  val[lower_tail_x] = p_lower * (1 - (k * (x[lower_tail_x] - b))/a)**(-1/k)\n"
     ]
    },
    {
     "name": "stdout",
     "output_type": "stream",
     "text": [
      "making predictions...\n",
      "2023-08-12\n",
      "training predictor...\n"
     ]
    },
    {
     "name": "stderr",
     "output_type": "stream",
     "text": [
      "/Users/as3993/anaconda3/envs/plprob/lib/python3.12/site-packages/R/univariate.py:330: RuntimeWarning: invalid value encountered in power\n",
      "  val[lower_tail_x] = p_lower * (1 - (k * (x[lower_tail_x] - b))/a)**(-1/k)\n"
     ]
    },
    {
     "name": "stdout",
     "output_type": "stream",
     "text": [
      "making predictions...\n",
      "2023-08-13\n",
      "training predictor...\n"
     ]
    },
    {
     "name": "stderr",
     "output_type": "stream",
     "text": [
      "/Users/as3993/anaconda3/envs/plprob/lib/python3.12/site-packages/R/univariate.py:330: RuntimeWarning: invalid value encountered in power\n",
      "  val[lower_tail_x] = p_lower * (1 - (k * (x[lower_tail_x] - b))/a)**(-1/k)\n"
     ]
    },
    {
     "name": "stdout",
     "output_type": "stream",
     "text": [
      "making predictions...\n",
      "2023-08-14\n",
      "training predictor...\n"
     ]
    },
    {
     "name": "stderr",
     "output_type": "stream",
     "text": [
      "/Users/as3993/anaconda3/envs/plprob/lib/python3.12/site-packages/R/univariate.py:330: RuntimeWarning: invalid value encountered in power\n",
      "  val[lower_tail_x] = p_lower * (1 - (k * (x[lower_tail_x] - b))/a)**(-1/k)\n"
     ]
    },
    {
     "name": "stdout",
     "output_type": "stream",
     "text": [
      "making predictions...\n",
      "2023-08-15\n",
      "training predictor...\n"
     ]
    },
    {
     "name": "stderr",
     "output_type": "stream",
     "text": [
      "/Users/as3993/anaconda3/envs/plprob/lib/python3.12/site-packages/R/univariate.py:330: RuntimeWarning: invalid value encountered in power\n",
      "  val[lower_tail_x] = p_lower * (1 - (k * (x[lower_tail_x] - b))/a)**(-1/k)\n"
     ]
    },
    {
     "name": "stdout",
     "output_type": "stream",
     "text": [
      "making predictions...\n",
      "2023-08-16\n",
      "training predictor...\n"
     ]
    },
    {
     "name": "stderr",
     "output_type": "stream",
     "text": [
      "/Users/as3993/anaconda3/envs/plprob/lib/python3.12/site-packages/R/univariate.py:330: RuntimeWarning: invalid value encountered in power\n",
      "  val[lower_tail_x] = p_lower * (1 - (k * (x[lower_tail_x] - b))/a)**(-1/k)\n"
     ]
    },
    {
     "name": "stdout",
     "output_type": "stream",
     "text": [
      "making predictions...\n",
      "2023-08-17\n",
      "training predictor...\n"
     ]
    },
    {
     "name": "stderr",
     "output_type": "stream",
     "text": [
      "/Users/as3993/anaconda3/envs/plprob/lib/python3.12/site-packages/R/univariate.py:330: RuntimeWarning: invalid value encountered in power\n",
      "  val[lower_tail_x] = p_lower * (1 - (k * (x[lower_tail_x] - b))/a)**(-1/k)\n"
     ]
    },
    {
     "name": "stdout",
     "output_type": "stream",
     "text": [
      "making predictions...\n",
      "2023-08-18\n",
      "training predictor...\n"
     ]
    },
    {
     "name": "stderr",
     "output_type": "stream",
     "text": [
      "/Users/as3993/anaconda3/envs/plprob/lib/python3.12/site-packages/R/univariate.py:330: RuntimeWarning: invalid value encountered in power\n",
      "  val[lower_tail_x] = p_lower * (1 - (k * (x[lower_tail_x] - b))/a)**(-1/k)\n"
     ]
    },
    {
     "name": "stdout",
     "output_type": "stream",
     "text": [
      "making predictions...\n",
      "2023-08-19\n",
      "training predictor...\n"
     ]
    },
    {
     "name": "stderr",
     "output_type": "stream",
     "text": [
      "/Users/as3993/anaconda3/envs/plprob/lib/python3.12/site-packages/R/univariate.py:330: RuntimeWarning: invalid value encountered in power\n",
      "  val[lower_tail_x] = p_lower * (1 - (k * (x[lower_tail_x] - b))/a)**(-1/k)\n"
     ]
    },
    {
     "name": "stdout",
     "output_type": "stream",
     "text": [
      "making predictions...\n",
      "2023-08-20\n",
      "training predictor...\n"
     ]
    },
    {
     "name": "stderr",
     "output_type": "stream",
     "text": [
      "/Users/as3993/anaconda3/envs/plprob/lib/python3.12/site-packages/R/univariate.py:330: RuntimeWarning: invalid value encountered in power\n",
      "  val[lower_tail_x] = p_lower * (1 - (k * (x[lower_tail_x] - b))/a)**(-1/k)\n"
     ]
    },
    {
     "name": "stdout",
     "output_type": "stream",
     "text": [
      "making predictions...\n",
      "2023-08-21\n",
      "training predictor...\n"
     ]
    },
    {
     "name": "stderr",
     "output_type": "stream",
     "text": [
      "/Users/as3993/anaconda3/envs/plprob/lib/python3.12/site-packages/R/univariate.py:330: RuntimeWarning: invalid value encountered in power\n",
      "  val[lower_tail_x] = p_lower * (1 - (k * (x[lower_tail_x] - b))/a)**(-1/k)\n"
     ]
    },
    {
     "name": "stdout",
     "output_type": "stream",
     "text": [
      "making predictions...\n",
      "2023-08-22\n",
      "training predictor...\n"
     ]
    },
    {
     "name": "stderr",
     "output_type": "stream",
     "text": [
      "/Users/as3993/anaconda3/envs/plprob/lib/python3.12/site-packages/R/univariate.py:330: RuntimeWarning: invalid value encountered in power\n",
      "  val[lower_tail_x] = p_lower * (1 - (k * (x[lower_tail_x] - b))/a)**(-1/k)\n",
      "/Users/as3993/anaconda3/envs/plprob/lib/python3.12/site-packages/sklearn/covariance/_graph_lasso.py:191: ConvergenceWarning: graphical_lasso: did not converge after 100 iteration: dual gap: -2.200e-03\n",
      "  warnings.warn(\n"
     ]
    },
    {
     "name": "stdout",
     "output_type": "stream",
     "text": [
      "making predictions...\n",
      "2023-08-23\n",
      "training predictor...\n"
     ]
    },
    {
     "name": "stderr",
     "output_type": "stream",
     "text": [
      "/Users/as3993/anaconda3/envs/plprob/lib/python3.12/site-packages/R/univariate.py:330: RuntimeWarning: invalid value encountered in power\n",
      "  val[lower_tail_x] = p_lower * (1 - (k * (x[lower_tail_x] - b))/a)**(-1/k)\n"
     ]
    },
    {
     "name": "stdout",
     "output_type": "stream",
     "text": [
      "making predictions...\n",
      "2023-08-24\n",
      "training predictor...\n"
     ]
    },
    {
     "name": "stderr",
     "output_type": "stream",
     "text": [
      "/Users/as3993/anaconda3/envs/plprob/lib/python3.12/site-packages/R/univariate.py:330: RuntimeWarning: invalid value encountered in power\n",
      "  val[lower_tail_x] = p_lower * (1 - (k * (x[lower_tail_x] - b))/a)**(-1/k)\n"
     ]
    },
    {
     "name": "stdout",
     "output_type": "stream",
     "text": [
      "making predictions...\n",
      "2023-08-25\n",
      "training predictor...\n"
     ]
    },
    {
     "name": "stderr",
     "output_type": "stream",
     "text": [
      "/Users/as3993/anaconda3/envs/plprob/lib/python3.12/site-packages/R/univariate.py:330: RuntimeWarning: invalid value encountered in power\n",
      "  val[lower_tail_x] = p_lower * (1 - (k * (x[lower_tail_x] - b))/a)**(-1/k)\n"
     ]
    },
    {
     "name": "stdout",
     "output_type": "stream",
     "text": [
      "making predictions...\n",
      "2023-08-26\n",
      "training predictor...\n"
     ]
    },
    {
     "name": "stderr",
     "output_type": "stream",
     "text": [
      "/Users/as3993/anaconda3/envs/plprob/lib/python3.12/site-packages/R/univariate.py:330: RuntimeWarning: invalid value encountered in power\n",
      "  val[lower_tail_x] = p_lower * (1 - (k * (x[lower_tail_x] - b))/a)**(-1/k)\n"
     ]
    },
    {
     "name": "stdout",
     "output_type": "stream",
     "text": [
      "making predictions...\n",
      "2023-08-27\n",
      "training predictor...\n"
     ]
    },
    {
     "name": "stderr",
     "output_type": "stream",
     "text": [
      "/Users/as3993/anaconda3/envs/plprob/lib/python3.12/site-packages/R/univariate.py:330: RuntimeWarning: invalid value encountered in power\n",
      "  val[lower_tail_x] = p_lower * (1 - (k * (x[lower_tail_x] - b))/a)**(-1/k)\n"
     ]
    },
    {
     "name": "stdout",
     "output_type": "stream",
     "text": [
      "making predictions...\n",
      "2023-08-28\n",
      "training predictor...\n"
     ]
    },
    {
     "name": "stderr",
     "output_type": "stream",
     "text": [
      "/Users/as3993/anaconda3/envs/plprob/lib/python3.12/site-packages/R/univariate.py:330: RuntimeWarning: invalid value encountered in power\n",
      "  val[lower_tail_x] = p_lower * (1 - (k * (x[lower_tail_x] - b))/a)**(-1/k)\n"
     ]
    },
    {
     "name": "stdout",
     "output_type": "stream",
     "text": [
      "making predictions...\n",
      "2023-08-29\n",
      "training predictor...\n"
     ]
    },
    {
     "name": "stderr",
     "output_type": "stream",
     "text": [
      "/Users/as3993/anaconda3/envs/plprob/lib/python3.12/site-packages/R/univariate.py:330: RuntimeWarning: invalid value encountered in power\n",
      "  val[lower_tail_x] = p_lower * (1 - (k * (x[lower_tail_x] - b))/a)**(-1/k)\n"
     ]
    },
    {
     "name": "stdout",
     "output_type": "stream",
     "text": [
      "making predictions...\n",
      "2023-08-30\n",
      "training predictor...\n"
     ]
    },
    {
     "name": "stderr",
     "output_type": "stream",
     "text": [
      "/Users/as3993/anaconda3/envs/plprob/lib/python3.12/site-packages/R/univariate.py:330: RuntimeWarning: invalid value encountered in power\n",
      "  val[lower_tail_x] = p_lower * (1 - (k * (x[lower_tail_x] - b))/a)**(-1/k)\n"
     ]
    },
    {
     "name": "stdout",
     "output_type": "stream",
     "text": [
      "making predictions...\n",
      "2023-08-31\n",
      "training predictor...\n",
      "making predictions...\n"
     ]
    },
    {
     "name": "stderr",
     "output_type": "stream",
     "text": [
      "/Users/as3993/anaconda3/envs/plprob/lib/python3.12/site-packages/R/univariate.py:330: RuntimeWarning: invalid value encountered in power\n",
      "  val[lower_tail_x] = p_lower * (1 - (k * (x[lower_tail_x] - b))/a)**(-1/k)\n"
     ]
    }
   ],
   "source": [
    "cp_probs = dict()\n",
    "intraday_probs = dict()\n",
    "daily_peaks = dict()\n",
    "new_cp_days = []\n",
    "\n",
    "num_of_cps = 1\n",
    "hist_cps = []\n",
    "for day in pd.date_range(start='2023-07-01', periods=62, freq='D'):\n",
    "    \n",
    "    start_date = day.strftime('%Y-%m-%d')\n",
    "\n",
    "    print(start_date)\n",
    "    \n",
    "    start_time = pd.to_datetime(start_date).tz_localize('US/Eastern')\n",
    "    timesteps = pd.date_range(start=start_time, periods=24, freq='h')\n",
    "\n",
    "    # Separate historical and future data\n",
    "    (load_actual_hists,\n",
    "         load_actual_futures) = split_actuals_hist_future(\n",
    "                rto_actual_df, timesteps)\n",
    "    \n",
    "    (load_forecast_hists,\n",
    "         load_forecast_futures) = split_forecasts_hist_future(\n",
    "                rto_forecast_df, timesteps)\n",
    "\n",
    "    # Fit model and compute probability\n",
    "    print(f'training predictor...')\n",
    "    predictor = PlPredictor(load_actual_hists, load_forecast_hists, start_time, \n",
    "                            num_of_cps, hist_cps, forecast_lead_time_in_hour=12, seed=seed)\n",
    "    predictor.fit(0.05, 0.05)\n",
    "\n",
    "    print(f'making predictions...')\n",
    "    predictor.create_scenario(1000, load_forecast_futures)\n",
    "    predictor.compute_cp_probs()\n",
    "\n",
    "    # Update historical CPs\n",
    "    today_peak = load_actual_futures.loc[timesteps, 'NYISO'].max()\n",
    "    predictor.update_cp(today_peak)\n",
    "    if hist_cps != predictor.hist_cps:\n",
    "        new_cp_days.append(start_date)\n",
    "        hist_cps = predictor.hist_cps\n",
    "\n",
    "    # Save CP and hour probability\n",
    "    cp_probs[start_date] = predictor.cp_prob\n",
    "    n = 0\n",
    "    while n < num_of_cps + 1:\n",
    "        if n not in cp_probs[start_date]:\n",
    "            cp_probs[start_date][n] = cp_probs[start_date][n-1]\n",
    "        n += 1\n",
    "\n",
    "    daily_peaks[start_date] = today_peak\n",
    "    intraday_probs[start_date] = predictor.peak_hour_prob\n",
    "    "
   ]
  },
  {
   "cell_type": "markdown",
   "id": "411dc863-0daf-482d-acca-ba4b2f736392",
   "metadata": {},
   "source": [
    "### Collect results"
   ]
  },
  {
   "cell_type": "code",
   "execution_count": 4,
   "id": "721ffa55-db59-4e37-a0b1-5c7f964ee7dc",
   "metadata": {},
   "outputs": [],
   "source": [
    "daily_peak_df = pd.DataFrame({'Time': pd.to_datetime(list(daily_peaks.keys())), \n",
    "                              'NYISO': daily_peaks.values()}).set_index('Time').resample('h').ffill()"
   ]
  },
  {
   "cell_type": "code",
   "execution_count": 5,
   "id": "b49487d9-43d2-40a6-839f-e5cb3cf40167",
   "metadata": {},
   "outputs": [],
   "source": [
    "cp_prob_dict = {'Time':pd.to_datetime(list(cp_probs.keys()))}\n",
    "\n",
    "for n in range(num_of_cps):\n",
    "    n_cp_prob = []\n",
    "    for day, probs in cp_probs.items():\n",
    "        n_cp_prob.append(probs[n])\n",
    "    cp_prob_dict[n] = n_cp_prob\n",
    "cp_prob_df = pd.DataFrame(cp_prob_dict).set_index('Time')\n",
    "\n",
    "cp_prob_df = cp_prob_df.merge(pd.DataFrame({'Time': pd.to_datetime(new_cp_days), 'New CP': 1}).set_index('Time'), \n",
    "                 how='left', left_index=True, right_index=True).fillna(0).resample('h').ffill()"
   ]
  },
  {
   "cell_type": "code",
   "execution_count": 6,
   "id": "8a21851a-0f02-4f3c-9f3d-dbcc5f00da01",
   "metadata": {},
   "outputs": [
    {
     "data": {
      "text/plain": [
       "<matplotlib.legend.Legend at 0x15f4228d0>"
      ]
     },
     "execution_count": 6,
     "metadata": {},
     "output_type": "execute_result"
    },
    {
     "data": {
      "image/png": "[encoded data removed]",
      "text/plain": [
       "<Figure size 1500x500 with 2 Axes>"
      ]
     },
     "metadata": {},
     "output_type": "display_data"
    }
   ],
   "source": [
    "fig = plt.figure(figsize=(15, 5))\n",
    "\n",
    "ax = fig.add_subplot(111)\n",
    "ln1 = ax.plot(daily_peak_df, label='Daily peak')\n",
    "\n",
    "ax2 = ax.twinx()\n",
    "ln2 = ax2.plot(cp_prob_df[0], color='red', linestyle='dashed', label='Prob of being new CP')\n",
    "ln3 = ax2.plot(cp_prob_df['New CP'], color='green', linestyle='dotted', label='New CP')\n",
    "\n",
    "lns = ln1+ln2+ln3\n",
    "labs = [l.get_label() for l in lns]\n",
    "ax.legend(lns, labs, loc=0)"
   ]
  }
 ],
 "metadata": {
  "kernelspec": {
   "display_name": "Python 3 (ipykernel)",
   "language": "python",
   "name": "python3"
  },
  "language_info": {
   "codemirror_mode": {
    "name": "ipython",
    "version": 3
   },
   "file_extension": ".py",
   "mimetype": "text/x-python",
   "name": "python",
   "nbconvert_exporter": "python",
   "pygments_lexer": "ipython3",
   "version": "3.12.1"
  }
 },
 "nbformat": 4,
 "nbformat_minor": 5
}
