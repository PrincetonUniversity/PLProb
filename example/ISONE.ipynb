{
 "cells": [
  {
   "cell_type": "code",
   "execution_count": null,
   "id": "741420cd-e675-4a90-990e-bc372b30fdcd",
   "metadata": {},
   "outputs": [],
   "source": [
    "import pandas as pd\n",
    "import numpy as np\n",
    "from plprob.utils import (split_actuals_hist_future, split_forecasts_hist_future)\n",
    "from plprob.predictor import PlPredictor\n",
    "import matplotlib.pyplot as plt"
   ]
  },
  {
   "cell_type": "markdown",
   "id": "837f74ec-8a59-4c43-94be-07fad9462bdc",
   "metadata": {},
   "source": [
    "### Load data"
   ]
  },
  {
   "cell_type": "code",
   "execution_count": null,
   "id": "a146d70a-eff8-4899-8a59-e617901d82b9",
   "metadata": {},
   "outputs": [],
   "source": [
    "seed = 1234\n",
    "rto_actual_df = pd.read_csv('../data/ISONE/rto_act.csv', parse_dates=['Time'], index_col='Time')\n",
    "rto_forecast_df = pd.read_csv('../data/ISONE/rto_fcst.csv', parse_dates=['Issue_time', 'Forecast_time'])"
   ]
  },
  {
   "cell_type": "code",
   "execution_count": null,
   "id": "d8eb6dc2-f98e-430c-bd70-c35e398be409",
   "metadata": {},
   "outputs": [],
   "source": [
    "rto_forecast_df['Issue_time'] = rto_forecast_df['Forecast_time'].dt.floor('D') - pd.Timedelta(12, unit='H')"
   ]
  },
  {
   "cell_type": "markdown",
   "id": "ce904ebe-e0b8-4d66-8c78-0185c00943ee",
   "metadata": {},
   "source": [
    "### Predict 1 CP"
   ]
  },
  {
   "cell_type": "code",
   "execution_count": null,
   "id": "8ba7ee7f-ff02-4614-a73e-83b25a6eacfa",
   "metadata": {},
   "outputs": [],
   "source": [
    "cp_probs = dict()\n",
    "intraday_probs = dict()\n",
    "daily_peaks = dict()\n",
    "new_cp_days = []\n",
    "\n",
    "num_of_cps = 1\n",
    "hist_cps = []\n",
    "for day in pd.date_range(start='2022-06-01', periods=122, freq='D'):\n",
    "    \n",
    "    start_date = day.strftime('%Y-%m-%d')\n",
    "\n",
    "    print(start_date)\n",
    "    \n",
    "    start_time = pd.to_datetime(start_date).tz_localize('US/Eastern')\n",
    "    timesteps = pd.date_range(start=start_time, periods=24, freq='H')\n",
    "\n",
    "    # Separate historical and future data\n",
    "    (load_actual_hists,\n",
    "         load_actual_futures) = split_actuals_hist_future(\n",
    "                rto_actual_df, timesteps)\n",
    "    \n",
    "    (load_forecast_hists,\n",
    "         load_forecast_futures) = split_forecasts_hist_future(\n",
    "                rto_forecast_df, timesteps)\n",
    "\n",
    "    # Fit model and compute probability\n",
    "    print(f'training predictor...')\n",
    "    predictor = PlPredictor(load_actual_hists, load_forecast_hists, start_time, \n",
    "                            num_of_cps, hist_cps, forecast_lead_time_in_hour=12, seed=seed)\n",
    "    predictor.fit(0.05, 0.05)\n",
    "\n",
    "    print(f'making predictions...')\n",
    "    predictor.create_scenario(1000, load_forecast_futures)\n",
    "    predictor.compute_cp_probs()\n",
    "\n",
    "    # Update historical CPs\n",
    "    today_peak = load_actual_futures.loc[timesteps, 'RTO'].max()\n",
    "    predictor.update_cp(today_peak)\n",
    "    if hist_cps != predictor.hist_cps:\n",
    "        new_cp_days.append(start_date)\n",
    "        hist_cps = predictor.hist_cps\n",
    "\n",
    "    # Save CP and hour probability\n",
    "    cp_probs[start_date] = predictor.cp_prob\n",
    "    n = 0\n",
    "    while n < num_of_cps + 1:\n",
    "        if n not in cp_probs[start_date]:\n",
    "            cp_probs[start_date][n] = cp_probs[start_date][n-1]\n",
    "        n += 1\n",
    "\n",
    "    daily_peaks[start_date] = today_peak\n",
    "    intraday_probs[start_date] = predictor.peak_hour_prob\n",
    "    "
   ]
  },
  {
   "cell_type": "markdown",
   "id": "411dc863-0daf-482d-acca-ba4b2f736392",
   "metadata": {},
   "source": [
    "### Collect results"
   ]
  },
  {
   "cell_type": "code",
   "execution_count": null,
   "id": "721ffa55-db59-4e37-a0b1-5c7f964ee7dc",
   "metadata": {},
   "outputs": [],
   "source": [
    "daily_peak_df = pd.DataFrame({'Time': pd.to_datetime(list(daily_peaks.keys())), \n",
    "                              'RTO': daily_peaks.values()}).set_index('Time').resample('H').ffill()"
   ]
  },
  {
   "cell_type": "code",
   "execution_count": null,
   "id": "b49487d9-43d2-40a6-839f-e5cb3cf40167",
   "metadata": {},
   "outputs": [],
   "source": [
    "cp_prob_dict = {'Time':pd.to_datetime(list(cp_probs.keys()))}\n",
    "\n",
    "for n in range(num_of_cps):\n",
    "    n_cp_prob = []\n",
    "    for day, probs in cp_probs.items():\n",
    "        n_cp_prob.append(probs[n])\n",
    "    cp_prob_dict[n] = n_cp_prob\n",
    "cp_prob_df = pd.DataFrame(cp_prob_dict).set_index('Time')\n",
    "\n",
    "cp_prob_df = cp_prob_df.merge(pd.DataFrame({'Time': pd.to_datetime(new_cp_days), 'New CP': 1}).set_index('Time'), \n",
    "                 how='left', left_index=True, right_index=True).fillna(0).resample('H').ffill()"
   ]
  },
  {
   "cell_type": "code",
   "execution_count": null,
   "id": "8a21851a-0f02-4f3c-9f3d-dbcc5f00da01",
   "metadata": {},
   "outputs": [],
   "source": [
    "fig = plt.figure(figsize=(15, 5))\n",
    "\n",
    "ax = fig.add_subplot(111)\n",
    "ln1 = ax.plot(daily_peak_df, label='Daily peak')\n",
    "\n",
    "ax2 = ax.twinx()\n",
    "ln2 = ax2.plot(cp_prob_df[0], color='red', linestyle='dashed', label='Prob of being new CP')\n",
    "ln3 = ax2.plot(cp_prob_df['New CP'], color='green', linestyle='dotted', label='New CP')\n",
    "\n",
    "lns = ln1+ln2+ln3\n",
    "labs = [l.get_label() for l in lns]\n",
    "ax.legend(lns, labs, loc=0)"
   ]
  },
  {
   "cell_type": "code",
   "execution_count": null,
   "id": "dc7c4bd7-3ae3-4ec5-ad32-2f277f11307d",
   "metadata": {},
   "outputs": [],
   "source": []
  }
 ],
 "metadata": {
  "kernelspec": {
   "display_name": "Python 3 (ipykernel)",
   "language": "python",
   "name": "python3"
  },
  "language_info": {
   "codemirror_mode": {
    "name": "ipython",
    "version": 3
   },
   "file_extension": ".py",
   "mimetype": "text/x-python",
   "name": "python",
   "nbconvert_exporter": "python",
   "pygments_lexer": "ipython3",
   "version": "3.8.19"
  }
 },
 "nbformat": 4,
 "nbformat_minor": 5
}
